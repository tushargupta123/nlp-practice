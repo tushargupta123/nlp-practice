{
 "cells": [
  {
   "cell_type": "code",
   "execution_count": 3,
   "metadata": {},
   "outputs": [],
   "source": [
    "import numpy as np\n",
    "import pandas as pd\n",
    "import os\n",
    "import gensim\n",
    "from gensim.models import Word2Vec,keyedvectors\n",
    "from nltk import sent_tokenize\n",
    "from gensim.utils import simple_preprocess"
   ]
  },
  {
   "cell_type": "code",
   "execution_count": 12,
   "metadata": {},
   "outputs": [],
   "source": [
    "story = []\n",
    "for filename in os.listdir('got-data'):\n",
    "    f = open(os.path.join('got-data',filename))\n",
    "    corpus = f.read()\n",
    "    raw_sent = sent_tokenize(corpus)\n",
    "    for sent in raw_sent:\n",
    "        story.append(simple_preprocess(sent))"
   ]
  },
  {
   "cell_type": "code",
   "execution_count": 13,
   "metadata": {},
   "outputs": [
    {
     "data": {
      "text/plain": [
       "158874"
      ]
     },
     "execution_count": 13,
     "metadata": {},
     "output_type": "execute_result"
    }
   ],
   "source": [
    "len(story)"
   ]
  },
  {
   "cell_type": "code",
   "execution_count": 14,
   "metadata": {},
   "outputs": [
    {
     "data": {
      "text/plain": [
       "[['game',\n",
       "  'of',\n",
       "  'thrones',\n",
       "  'book',\n",
       "  'one',\n",
       "  'of',\n",
       "  'song',\n",
       "  'of',\n",
       "  'ice',\n",
       "  'and',\n",
       "  'fire',\n",
       "  'by',\n",
       "  'george',\n",
       "  'martin',\n",
       "  'prologue',\n",
       "  'we',\n",
       "  'should',\n",
       "  'start',\n",
       "  'back',\n",
       "  'gared',\n",
       "  'urged',\n",
       "  'as',\n",
       "  'the',\n",
       "  'woods',\n",
       "  'began',\n",
       "  'to',\n",
       "  'grow',\n",
       "  'dark',\n",
       "  'around',\n",
       "  'them'],\n",
       " ['the', 'wildlings', 'are', 'dead'],\n",
       " ['do', 'the', 'dead', 'frighten', 'you'],\n",
       " ['ser',\n",
       "  'waymar',\n",
       "  'royce',\n",
       "  'asked',\n",
       "  'with',\n",
       "  'just',\n",
       "  'the',\n",
       "  'hint',\n",
       "  'of',\n",
       "  'smile'],\n",
       " ['gared', 'did', 'not', 'rise', 'to', 'the', 'bait'],\n",
       " ['he',\n",
       "  'was',\n",
       "  'an',\n",
       "  'old',\n",
       "  'man',\n",
       "  'past',\n",
       "  'fifty',\n",
       "  'and',\n",
       "  'he',\n",
       "  'had',\n",
       "  'seen',\n",
       "  'the',\n",
       "  'lordlings',\n",
       "  'come',\n",
       "  'and',\n",
       "  'go'],\n",
       " ['dead', 'is', 'dead', 'he', 'said'],\n",
       " ['we', 'have', 'no', 'business', 'with', 'the', 'dead'],\n",
       " ['are', 'they', 'dead'],\n",
       " ['royce', 'asked', 'softly'],\n",
       " ['what', 'proof', 'have', 'we'],\n",
       " ['will', 'saw', 'them', 'gared', 'said'],\n",
       " ['if',\n",
       "  'he',\n",
       "  'says',\n",
       "  'they',\n",
       "  'are',\n",
       "  'dead',\n",
       "  'that',\n",
       "  'proof',\n",
       "  'enough',\n",
       "  'for',\n",
       "  'me'],\n",
       " ['will',\n",
       "  'had',\n",
       "  'known',\n",
       "  'they',\n",
       "  'would',\n",
       "  'drag',\n",
       "  'him',\n",
       "  'into',\n",
       "  'the',\n",
       "  'quarrel',\n",
       "  'sooner',\n",
       "  'or',\n",
       "  'later'],\n",
       " ['he', 'wished', 'it', 'had', 'been', 'later', 'rather', 'than', 'sooner'],\n",
       " ['my',\n",
       "  'mother',\n",
       "  'told',\n",
       "  'me',\n",
       "  'that',\n",
       "  'dead',\n",
       "  'men',\n",
       "  'sing',\n",
       "  'no',\n",
       "  'songs',\n",
       "  'he',\n",
       "  'put',\n",
       "  'in'],\n",
       " ['my',\n",
       "  'wet',\n",
       "  'nurse',\n",
       "  'said',\n",
       "  'the',\n",
       "  'same',\n",
       "  'thing',\n",
       "  'will',\n",
       "  'royce',\n",
       "  'replied'],\n",
       " ['never', 'believe', 'anything', 'you', 'hear', 'at', 'woman', 'tit'],\n",
       " ['there',\n",
       "  'are',\n",
       "  'things',\n",
       "  'to',\n",
       "  'be',\n",
       "  'learned',\n",
       "  'even',\n",
       "  'from',\n",
       "  'the',\n",
       "  'dead'],\n",
       " ['his', 'voice', 'echoed', 'too', 'loud', 'in', 'the', 'twilit', 'forest'],\n",
       " ['page',\n",
       "  'we',\n",
       "  'have',\n",
       "  'long',\n",
       "  'ride',\n",
       "  'before',\n",
       "  'us',\n",
       "  'gared',\n",
       "  'pointed',\n",
       "  'out'],\n",
       " ['eight', 'days', 'maybe', 'nine'],\n",
       " ['and', 'night', 'is', 'falling'],\n",
       " ['ser',\n",
       "  'waymar',\n",
       "  'royce',\n",
       "  'glanced',\n",
       "  'at',\n",
       "  'the',\n",
       "  'sky',\n",
       "  'with',\n",
       "  'disinterest'],\n",
       " ['it', 'does', 'that', 'every', 'day', 'about', 'this', 'time'],\n",
       " ['are', 'you', 'unmanned', 'by', 'the', 'dark', 'gared'],\n",
       " ['will',\n",
       "  'could',\n",
       "  'see',\n",
       "  'the',\n",
       "  'tightness',\n",
       "  'around',\n",
       "  'gared',\n",
       "  'mouth',\n",
       "  'the',\n",
       "  'barely',\n",
       "  'sup',\n",
       "  'pressed',\n",
       "  'anger',\n",
       "  'in',\n",
       "  'his',\n",
       "  'eyes',\n",
       "  'under',\n",
       "  'the',\n",
       "  'thick',\n",
       "  'black',\n",
       "  'hood',\n",
       "  'of',\n",
       "  'his',\n",
       "  'cloak'],\n",
       " ['gared',\n",
       "  'had',\n",
       "  'spent',\n",
       "  'forty',\n",
       "  'years',\n",
       "  'in',\n",
       "  'the',\n",
       "  'night',\n",
       "  'watch',\n",
       "  'man',\n",
       "  'and',\n",
       "  'boy',\n",
       "  'and',\n",
       "  'he',\n",
       "  'was',\n",
       "  'not',\n",
       "  'accustomed',\n",
       "  'to',\n",
       "  'being',\n",
       "  'made',\n",
       "  'light',\n",
       "  'of'],\n",
       " ['yet', 'it', 'was', 'more', 'than', 'that'],\n",
       " ['under',\n",
       "  'the',\n",
       "  'wounded',\n",
       "  'pride',\n",
       "  'will',\n",
       "  'could',\n",
       "  'sense',\n",
       "  'something',\n",
       "  'else',\n",
       "  'in',\n",
       "  'the',\n",
       "  'older',\n",
       "  'man'],\n",
       " ['you',\n",
       "  'could',\n",
       "  'taste',\n",
       "  'it',\n",
       "  'nervous',\n",
       "  'tension',\n",
       "  'that',\n",
       "  'came',\n",
       "  'perilous',\n",
       "  'close',\n",
       "  'to',\n",
       "  'fear'],\n",
       " ['will', 'shared', 'his', 'unease'],\n",
       " ['he', 'had', 'been', 'four', 'years', 'on', 'the', 'wall'],\n",
       " ['the',\n",
       "  'first',\n",
       "  'time',\n",
       "  'he',\n",
       "  'had',\n",
       "  'been',\n",
       "  'sent',\n",
       "  'beyond',\n",
       "  'all',\n",
       "  'the',\n",
       "  'old',\n",
       "  'stories',\n",
       "  'had',\n",
       "  'come',\n",
       "  'rushing',\n",
       "  'back',\n",
       "  'and',\n",
       "  'his',\n",
       "  'bowels',\n",
       "  'had',\n",
       "  'turned',\n",
       "  'to',\n",
       "  'water'],\n",
       " ['he', 'had', 'laughed', 'about', 'it', 'afterward'],\n",
       " ['he',\n",
       "  'was',\n",
       "  'veteran',\n",
       "  'of',\n",
       "  'hundred',\n",
       "  'rangings',\n",
       "  'by',\n",
       "  'now',\n",
       "  'and',\n",
       "  'the',\n",
       "  'endless',\n",
       "  'dark',\n",
       "  'wilderness',\n",
       "  'that',\n",
       "  'the',\n",
       "  'southron',\n",
       "  'called',\n",
       "  'the',\n",
       "  'haunted',\n",
       "  'forest',\n",
       "  'had',\n",
       "  'no',\n",
       "  'more',\n",
       "  'terrors',\n",
       "  'for',\n",
       "  'him'],\n",
       " ['until', 'tonight'],\n",
       " ['something', 'was', 'different', 'tonight'],\n",
       " ['there',\n",
       "  'was',\n",
       "  'an',\n",
       "  'edge',\n",
       "  'to',\n",
       "  'this',\n",
       "  'darkness',\n",
       "  'that',\n",
       "  'made',\n",
       "  'his',\n",
       "  'hackles',\n",
       "  'rise'],\n",
       " ['nine',\n",
       "  'days',\n",
       "  'they',\n",
       "  'had',\n",
       "  'been',\n",
       "  'riding',\n",
       "  'north',\n",
       "  'and',\n",
       "  'northwest',\n",
       "  'and',\n",
       "  'then',\n",
       "  'north',\n",
       "  'again',\n",
       "  'farther',\n",
       "  'and',\n",
       "  'farther',\n",
       "  'from',\n",
       "  'the',\n",
       "  'wall',\n",
       "  'hard',\n",
       "  'on',\n",
       "  'the',\n",
       "  'track',\n",
       "  'of',\n",
       "  'band',\n",
       "  'of',\n",
       "  'wildling',\n",
       "  'raiders'],\n",
       " ['each',\n",
       "  'day',\n",
       "  'had',\n",
       "  'been',\n",
       "  'worse',\n",
       "  'than',\n",
       "  'the',\n",
       "  'day',\n",
       "  'that',\n",
       "  'had',\n",
       "  'come',\n",
       "  'before',\n",
       "  'it'],\n",
       " ['today', 'was', 'the', 'worst', 'of', 'all'],\n",
       " ['cold',\n",
       "  'wind',\n",
       "  'was',\n",
       "  'blowing',\n",
       "  'out',\n",
       "  'of',\n",
       "  'the',\n",
       "  'north',\n",
       "  'and',\n",
       "  'it',\n",
       "  'made',\n",
       "  'the',\n",
       "  'trees',\n",
       "  'rustle',\n",
       "  'like',\n",
       "  'living',\n",
       "  'things'],\n",
       " ['all',\n",
       "  'day',\n",
       "  'will',\n",
       "  'had',\n",
       "  'felt',\n",
       "  'as',\n",
       "  'though',\n",
       "  'something',\n",
       "  'were',\n",
       "  'watching',\n",
       "  'him',\n",
       "  'something',\n",
       "  'cold',\n",
       "  'and',\n",
       "  'implacable',\n",
       "  'that',\n",
       "  'loved',\n",
       "  'him',\n",
       "  'not'],\n",
       " ['gared', 'had', 'felt', 'it', 'too'],\n",
       " ['will',\n",
       "  'wanted',\n",
       "  'nothing',\n",
       "  'so',\n",
       "  'much',\n",
       "  'as',\n",
       "  'to',\n",
       "  'ride',\n",
       "  'hellbent',\n",
       "  'for',\n",
       "  'the',\n",
       "  'safety',\n",
       "  'of',\n",
       "  'the',\n",
       "  'wall',\n",
       "  'but',\n",
       "  'that',\n",
       "  'was',\n",
       "  'not',\n",
       "  'feeling',\n",
       "  'to',\n",
       "  'share',\n",
       "  'with',\n",
       "  'your',\n",
       "  'commander'],\n",
       " ['especially', 'not', 'commander', 'like', 'this', 'one'],\n",
       " ['ser',\n",
       "  'waymar',\n",
       "  'royce',\n",
       "  'was',\n",
       "  'the',\n",
       "  'youngest',\n",
       "  'son',\n",
       "  'of',\n",
       "  'an',\n",
       "  'ancient',\n",
       "  'house',\n",
       "  'with',\n",
       "  'too',\n",
       "  'many',\n",
       "  'heirs'],\n",
       " ['he',\n",
       "  'was',\n",
       "  'handsome',\n",
       "  'youth',\n",
       "  'of',\n",
       "  'eighteen',\n",
       "  'grey',\n",
       "  'eyed',\n",
       "  'and',\n",
       "  'graceful',\n",
       "  'and',\n",
       "  'slender',\n",
       "  'as',\n",
       "  'knife'],\n",
       " ['mounted',\n",
       "  'on',\n",
       "  'his',\n",
       "  'huge',\n",
       "  'black',\n",
       "  'destrier',\n",
       "  'the',\n",
       "  'knight',\n",
       "  'towered',\n",
       "  'above',\n",
       "  'will',\n",
       "  'and',\n",
       "  'gared',\n",
       "  'on',\n",
       "  'their',\n",
       "  'smaller',\n",
       "  'garrons'],\n",
       " ['he',\n",
       "  'wore',\n",
       "  'black',\n",
       "  'leather',\n",
       "  'boots',\n",
       "  'black',\n",
       "  'woolen',\n",
       "  'pants',\n",
       "  'black',\n",
       "  'moleskin',\n",
       "  'gloves',\n",
       "  'and',\n",
       "  'fine',\n",
       "  'supple',\n",
       "  'coat',\n",
       "  'of',\n",
       "  'gleaming',\n",
       "  'black',\n",
       "  'ringmail',\n",
       "  'over',\n",
       "  'layers',\n",
       "  'of',\n",
       "  'black',\n",
       "  'wool',\n",
       "  'and',\n",
       "  'boiled',\n",
       "  'leather'],\n",
       " ['ser',\n",
       "  'waymar',\n",
       "  'had',\n",
       "  'been',\n",
       "  'sworn',\n",
       "  'brother',\n",
       "  'of',\n",
       "  'the',\n",
       "  'night',\n",
       "  'watch',\n",
       "  'for',\n",
       "  'less',\n",
       "  'than',\n",
       "  'half',\n",
       "  'year',\n",
       "  'but',\n",
       "  'no',\n",
       "  'one',\n",
       "  'could',\n",
       "  'say',\n",
       "  'he',\n",
       "  'had',\n",
       "  'not',\n",
       "  'prepared',\n",
       "  'for',\n",
       "  'his',\n",
       "  'vocation'],\n",
       " ['at', 'least', 'insofar', 'as', 'his', 'wardrobe', 'was', 'concerned'],\n",
       " ['his',\n",
       "  'cloak',\n",
       "  'was',\n",
       "  'his',\n",
       "  'crowning',\n",
       "  'glory',\n",
       "  'sable',\n",
       "  'thick',\n",
       "  'and',\n",
       "  'black',\n",
       "  'and',\n",
       "  'soft',\n",
       "  'as',\n",
       "  'sin'],\n",
       " ['bet',\n",
       "  'he',\n",
       "  'killed',\n",
       "  'them',\n",
       "  'all',\n",
       "  'himself',\n",
       "  'he',\n",
       "  'did',\n",
       "  'gared',\n",
       "  'told',\n",
       "  'the',\n",
       "  'barracks',\n",
       "  'over',\n",
       "  'wine',\n",
       "  'twisted',\n",
       "  'their',\n",
       "  'little',\n",
       "  'heads',\n",
       "  'off',\n",
       "  'our',\n",
       "  'mighty',\n",
       "  'warrior'],\n",
       " ['they', 'had', 'all', 'shared', 'the', 'laugh'],\n",
       " ['it',\n",
       "  'is',\n",
       "  'hard',\n",
       "  'to',\n",
       "  'take',\n",
       "  'orders',\n",
       "  'from',\n",
       "  'man',\n",
       "  'you',\n",
       "  'laughed',\n",
       "  'at',\n",
       "  'in',\n",
       "  'your',\n",
       "  'cups',\n",
       "  'will',\n",
       "  'reflected',\n",
       "  'as',\n",
       "  'he',\n",
       "  'sat',\n",
       "  'shivering',\n",
       "  'atop',\n",
       "  'his',\n",
       "  'garron'],\n",
       " ['gared', 'must', 'have', 'felt', 'the', 'same'],\n",
       " ['mormont',\n",
       "  'said',\n",
       "  'as',\n",
       "  'we',\n",
       "  'should',\n",
       "  'track',\n",
       "  'them',\n",
       "  'and',\n",
       "  'we',\n",
       "  'did',\n",
       "  'gared',\n",
       "  'said'],\n",
       " ['they', 're', 'dead'],\n",
       " ['they', 'shan', 'trouble', 'us', 'no', 'more'],\n",
       " ['there', 'hard', 'riding', 'before', 'us'],\n",
       " ['don', 'like', 'this', 'weather'],\n",
       " ['if',\n",
       "  'it',\n",
       "  'snows',\n",
       "  'we',\n",
       "  'could',\n",
       "  'be',\n",
       "  'fortnight',\n",
       "  'getting',\n",
       "  'back',\n",
       "  'and',\n",
       "  'snow',\n",
       "  'the',\n",
       "  'best',\n",
       "  'we',\n",
       "  'can',\n",
       "  'hope',\n",
       "  'for'],\n",
       " ['ever', 'seen', 'an', 'ice', 'storm', 'my', 'lord'],\n",
       " ['the', 'lordling', 'seemed', 'not', 'to', 'hear', 'him'],\n",
       " ['he',\n",
       "  'studied',\n",
       "  'the',\n",
       "  'deepening',\n",
       "  'twilight',\n",
       "  'in',\n",
       "  'that',\n",
       "  'half',\n",
       "  'bored',\n",
       "  'half',\n",
       "  'distracted',\n",
       "  'page',\n",
       "  'way',\n",
       "  'he',\n",
       "  'had'],\n",
       " ['will',\n",
       "  'had',\n",
       "  'ridden',\n",
       "  'with',\n",
       "  'the',\n",
       "  'knight',\n",
       "  'long',\n",
       "  'enough',\n",
       "  'to',\n",
       "  'understand',\n",
       "  'that',\n",
       "  'it',\n",
       "  'was',\n",
       "  'best',\n",
       "  'not',\n",
       "  'to',\n",
       "  'interrupt',\n",
       "  'him',\n",
       "  'when',\n",
       "  'he',\n",
       "  'looked',\n",
       "  'like',\n",
       "  'that'],\n",
       " ['tell', 'me', 'again', 'what', 'you', 'saw', 'will'],\n",
       " ['all', 'the', 'details'],\n",
       " ['leave', 'nothing', 'out'],\n",
       " ['will',\n",
       "  'had',\n",
       "  'been',\n",
       "  'hunter',\n",
       "  'before',\n",
       "  'he',\n",
       "  'joined',\n",
       "  'the',\n",
       "  'night',\n",
       "  'watch'],\n",
       " ['well', 'poacher', 'in', 'truth'],\n",
       " ['mallister',\n",
       "  'freeriders',\n",
       "  'had',\n",
       "  'caught',\n",
       "  'him',\n",
       "  'red',\n",
       "  'handed',\n",
       "  'in',\n",
       "  'the',\n",
       "  'mallisters',\n",
       "  'own',\n",
       "  'woods',\n",
       "  'skinning',\n",
       "  'one',\n",
       "  'of',\n",
       "  'the',\n",
       "  'mallisters',\n",
       "  'own',\n",
       "  'bucks',\n",
       "  'and',\n",
       "  'it',\n",
       "  'had',\n",
       "  'been',\n",
       "  'choice',\n",
       "  'of',\n",
       "  'putting',\n",
       "  'on',\n",
       "  'the',\n",
       "  'black',\n",
       "  'or',\n",
       "  'losing',\n",
       "  'hand'],\n",
       " ['no',\n",
       "  'one',\n",
       "  'could',\n",
       "  'move',\n",
       "  'through',\n",
       "  'the',\n",
       "  'woods',\n",
       "  'as',\n",
       "  'silent',\n",
       "  'as',\n",
       "  'will',\n",
       "  'and',\n",
       "  'it',\n",
       "  'had',\n",
       "  'not',\n",
       "  'taken',\n",
       "  'the',\n",
       "  'black',\n",
       "  'brothers',\n",
       "  'long',\n",
       "  'to',\n",
       "  'discover',\n",
       "  'his',\n",
       "  'talent'],\n",
       " ['the',\n",
       "  'camp',\n",
       "  'is',\n",
       "  'two',\n",
       "  'miles',\n",
       "  'farther',\n",
       "  'on',\n",
       "  'over',\n",
       "  'that',\n",
       "  'ridge',\n",
       "  'hard',\n",
       "  'beside',\n",
       "  'stream',\n",
       "  'will',\n",
       "  'said'],\n",
       " ['got', 'close', 'as', 'dared'],\n",
       " ['there', 'eight', 'of', 'them', 'men', 'and', 'women', 'both'],\n",
       " ['no', 'children', 'could', 'see'],\n",
       " ['they', 'put', 'up', 'lean', 'to', 'against', 'the', 'rock'],\n",
       " ['the',\n",
       "  'snow',\n",
       "  'pretty',\n",
       "  'well',\n",
       "  'covered',\n",
       "  'it',\n",
       "  'now',\n",
       "  'but',\n",
       "  'could',\n",
       "  'still',\n",
       "  'make',\n",
       "  'it',\n",
       "  'out'],\n",
       " ['no',\n",
       "  'fire',\n",
       "  'burning',\n",
       "  'but',\n",
       "  'the',\n",
       "  'firepit',\n",
       "  'was',\n",
       "  'still',\n",
       "  'plain',\n",
       "  'as',\n",
       "  'day'],\n",
       " ['no', 'one', 'moving'],\n",
       " ['watched', 'long', 'time'],\n",
       " ['no', 'living', 'man', 'ever', 'lay', 'so', 'still'],\n",
       " ['did', 'you', 'see', 'any', 'blood'],\n",
       " ['well', 'no', 'will', 'admitted'],\n",
       " ['did', 'you', 'see', 'any', 'weapons'],\n",
       " ['some', 'swords', 'few', 'bows'],\n",
       " ['one', 'man', 'had', 'an', 'axe'],\n",
       " ['heavy', 'looking', 'double', 'bladed', 'cruel', 'piece', 'of', 'iron'],\n",
       " ['it',\n",
       "  'was',\n",
       "  'on',\n",
       "  'the',\n",
       "  'ground',\n",
       "  'beside',\n",
       "  'him',\n",
       "  'right',\n",
       "  'by',\n",
       "  'his',\n",
       "  'hand'],\n",
       " ['did',\n",
       "  'you',\n",
       "  'make',\n",
       "  'note',\n",
       "  'of',\n",
       "  'the',\n",
       "  'position',\n",
       "  'of',\n",
       "  'the',\n",
       "  'bodies'],\n",
       " ['will', 'shrugged'],\n",
       " ['couple', 'are', 'sitting', 'up', 'against', 'the', 'rock'],\n",
       " ['most', 'of', 'them', 'on', 'the', 'ground'],\n",
       " ['fallen', 'like'],\n",
       " ['or', 'sleeping', 'royce', 'suggested'],\n",
       " ['fallen', 'will', 'insisted'],\n",
       " ['there',\n",
       "  'one',\n",
       "  'woman',\n",
       "  'up',\n",
       "  'an',\n",
       "  'ironwood',\n",
       "  'halfhid',\n",
       "  'in',\n",
       "  'the',\n",
       "  'branches'],\n",
       " ['far', 'eyes'],\n",
       " ['he', 'smiled', 'thinly'],\n",
       " ['took', 'care', 'she', 'never', 'saw', 'me'],\n",
       " ['when', 'got', 'closer', 'saw', 'that', 'she', 'wasn', 'moving', 'neither'],\n",
       " ['despite', 'himself', 'he', 'shivered'],\n",
       " ['you', 'have', 'chill'],\n",
       " ['royce', 'asked'],\n",
       " ['some', 'will', 'muttered'],\n",
       " ['the', 'wind', 'lord'],\n",
       " ['the',\n",
       "  'young',\n",
       "  'knight',\n",
       "  'turned',\n",
       "  'back',\n",
       "  'to',\n",
       "  'his',\n",
       "  'grizzled',\n",
       "  'man',\n",
       "  'at',\n",
       "  'arms'],\n",
       " ['frostfallen',\n",
       "  'leaves',\n",
       "  'whispered',\n",
       "  'past',\n",
       "  'them',\n",
       "  'and',\n",
       "  'royce',\n",
       "  'destrier',\n",
       "  'moved',\n",
       "  'restlessly'],\n",
       " ['what',\n",
       "  'do',\n",
       "  'you',\n",
       "  'think',\n",
       "  'might',\n",
       "  'have',\n",
       "  'killed',\n",
       "  'these',\n",
       "  'men',\n",
       "  'gared'],\n",
       " ['ser', 'waymar', 'asked', 'casually'],\n",
       " ['he', 'adjusted', 'the', 'drape', 'of', 'his', 'long', 'sable', 'cloak'],\n",
       " ['it', 'was', 'the', 'cold', 'gared', 'said', 'with', 'iron', 'certainty'],\n",
       " ['saw',\n",
       "  'men',\n",
       "  'freeze',\n",
       "  'last',\n",
       "  'winter',\n",
       "  'and',\n",
       "  'the',\n",
       "  'one',\n",
       "  'before',\n",
       "  'when',\n",
       "  'was',\n",
       "  'half',\n",
       "  'boy'],\n",
       " ['everyone',\n",
       "  'talks',\n",
       "  'about',\n",
       "  'snows',\n",
       "  'forty',\n",
       "  'foot',\n",
       "  'deep',\n",
       "  'and',\n",
       "  'how',\n",
       "  'the',\n",
       "  'ice',\n",
       "  'wind',\n",
       "  'comes',\n",
       "  'howling',\n",
       "  'out',\n",
       "  'of',\n",
       "  'the',\n",
       "  'north',\n",
       "  'but',\n",
       "  'the',\n",
       "  'real',\n",
       "  'enemy',\n",
       "  'is',\n",
       "  'the',\n",
       "  'cold'],\n",
       " ['it',\n",
       "  'steals',\n",
       "  'up',\n",
       "  'on',\n",
       "  'you',\n",
       "  'quieter',\n",
       "  'than',\n",
       "  'will',\n",
       "  'and',\n",
       "  'at',\n",
       "  'first',\n",
       "  'you',\n",
       "  'shiver',\n",
       "  'and',\n",
       "  'your',\n",
       "  'teeth',\n",
       "  'chatter',\n",
       "  'and',\n",
       "  'you',\n",
       "  'stamp',\n",
       "  'your',\n",
       "  'feet',\n",
       "  'and',\n",
       "  'dream',\n",
       "  'of',\n",
       "  'mulled',\n",
       "  'wine',\n",
       "  'and',\n",
       "  'nice',\n",
       "  'hot',\n",
       "  'fires'],\n",
       " ['it', 'burns', 'it', 'does'],\n",
       " ['nothing', 'burns', 'like', 'the', 'cold'],\n",
       " ['but', 'only', 'for', 'while'],\n",
       " ['then',\n",
       "  'it',\n",
       "  'gets',\n",
       "  'inside',\n",
       "  'you',\n",
       "  'and',\n",
       "  'starts',\n",
       "  'to',\n",
       "  'fill',\n",
       "  'you',\n",
       "  'up',\n",
       "  'and',\n",
       "  'after',\n",
       "  'while',\n",
       "  'you',\n",
       "  'don',\n",
       "  'have',\n",
       "  'the',\n",
       "  'strength',\n",
       "  'to',\n",
       "  'fight',\n",
       "  'it'],\n",
       " ['it', 'easier', 'just', 'to', 'sit', 'down', 'or', 'go', 'to', 'sleep'],\n",
       " ['they', 'say', 'you', 'don', 'feel', 'any', 'pain', 'toward', 'the', 'end'],\n",
       " ['first',\n",
       "  'you',\n",
       "  'go',\n",
       "  'weak',\n",
       "  'and',\n",
       "  'drowsy',\n",
       "  'and',\n",
       "  'everything',\n",
       "  'starts',\n",
       "  'to',\n",
       "  'fade',\n",
       "  'and',\n",
       "  'then',\n",
       "  'it',\n",
       "  'like',\n",
       "  'sinking',\n",
       "  'into',\n",
       "  'sea',\n",
       "  'of',\n",
       "  'warm',\n",
       "  'milk'],\n",
       " ['peaceful', 'like'],\n",
       " ['such', 'eloquence', 'gared', 'ser', 'waymar', 'observed'],\n",
       " ['never', 'suspected', 'you', 'had', 'it', 'in', 'you'],\n",
       " ['page', 've', 'had', 'the', 'cold', 'in', 'me', 'too', 'lordling'],\n",
       " ['gared',\n",
       "  'pulled',\n",
       "  'back',\n",
       "  'his',\n",
       "  'hood',\n",
       "  'giving',\n",
       "  'ser',\n",
       "  'waymar',\n",
       "  'good',\n",
       "  'long',\n",
       "  'look',\n",
       "  'at',\n",
       "  'the',\n",
       "  'stumps',\n",
       "  'where',\n",
       "  'his',\n",
       "  'ears',\n",
       "  'had',\n",
       "  'been'],\n",
       " ['two',\n",
       "  'ears',\n",
       "  'three',\n",
       "  'toes',\n",
       "  'and',\n",
       "  'the',\n",
       "  'little',\n",
       "  'finger',\n",
       "  'off',\n",
       "  'my',\n",
       "  'left',\n",
       "  'hand'],\n",
       " ['got', 'off', 'light'],\n",
       " ['we',\n",
       "  'found',\n",
       "  'my',\n",
       "  'brother',\n",
       "  'frozen',\n",
       "  'at',\n",
       "  'his',\n",
       "  'watch',\n",
       "  'with',\n",
       "  'smile',\n",
       "  'on',\n",
       "  'his',\n",
       "  'face'],\n",
       " ['ser', 'waymar', 'shrugged'],\n",
       " ['you', 'ought', 'dress', 'more', 'warmly', 'gared'],\n",
       " ['gared',\n",
       "  'glared',\n",
       "  'at',\n",
       "  'the',\n",
       "  'lordling',\n",
       "  'the',\n",
       "  'scars',\n",
       "  'around',\n",
       "  'his',\n",
       "  'ear',\n",
       "  'holes',\n",
       "  'flushed',\n",
       "  'red',\n",
       "  'with',\n",
       "  'anger',\n",
       "  'where',\n",
       "  'maester',\n",
       "  'aemon',\n",
       "  'had',\n",
       "  'cut',\n",
       "  'the',\n",
       "  'ears',\n",
       "  'away'],\n",
       " ['we',\n",
       "  'll',\n",
       "  'see',\n",
       "  'how',\n",
       "  'warm',\n",
       "  'you',\n",
       "  'can',\n",
       "  'dress',\n",
       "  'when',\n",
       "  'the',\n",
       "  'winter',\n",
       "  'comes'],\n",
       " ['he',\n",
       "  'pulled',\n",
       "  'up',\n",
       "  'his',\n",
       "  'hood',\n",
       "  'and',\n",
       "  'hunched',\n",
       "  'over',\n",
       "  'his',\n",
       "  'garron',\n",
       "  'silent',\n",
       "  'and',\n",
       "  'sullen'],\n",
       " ['if', 'gared', 'said', 'it', 'was', 'the', 'cold'],\n",
       " [],\n",
       " [],\n",
       " ['will', 'began'],\n",
       " ['have', 'you', 'drawn', 'any', 'watches', 'this', 'past', 'week', 'will'],\n",
       " ['yes', 'lord'],\n",
       " ['there',\n",
       "  'never',\n",
       "  'was',\n",
       "  'week',\n",
       "  'when',\n",
       "  'he',\n",
       "  'did',\n",
       "  'not',\n",
       "  'draw',\n",
       "  'dozen',\n",
       "  'bloody',\n",
       "  'watches'],\n",
       " ['what', 'was', 'the', 'man', 'driving', 'at'],\n",
       " ['and', 'how', 'did', 'you', 'find', 'the', 'wall'],\n",
       " ['weeping', 'will', 'said', 'frowning'],\n",
       " ['he',\n",
       "  'saw',\n",
       "  'it',\n",
       "  'clear',\n",
       "  'enough',\n",
       "  'now',\n",
       "  'that',\n",
       "  'the',\n",
       "  'lordling',\n",
       "  'had',\n",
       "  'pointed',\n",
       "  'it',\n",
       "  'out'],\n",
       " ['they', 'couldn', 'have', 'froze'],\n",
       " ['not', 'if', 'the', 'wall', 'was', 'weeping'],\n",
       " ['it', 'wasn', 'cold', 'enough'],\n",
       " ['royce', 'nodded'],\n",
       " ['bright', 'lad'],\n",
       " ['we',\n",
       "  've',\n",
       "  'had',\n",
       "  'few',\n",
       "  'light',\n",
       "  'frosts',\n",
       "  'this',\n",
       "  'past',\n",
       "  'week',\n",
       "  'and',\n",
       "  'quick',\n",
       "  'flurry',\n",
       "  'of',\n",
       "  'snow',\n",
       "  'now',\n",
       "  'and',\n",
       "  'then',\n",
       "  'but',\n",
       "  'surely',\n",
       "  'no',\n",
       "  'cold',\n",
       "  'fierce',\n",
       "  'enough',\n",
       "  'to',\n",
       "  'kill',\n",
       "  'eight',\n",
       "  'grown',\n",
       "  'men'],\n",
       " ['men',\n",
       "  'clad',\n",
       "  'in',\n",
       "  'fur',\n",
       "  'and',\n",
       "  'leather',\n",
       "  'let',\n",
       "  'me',\n",
       "  'remind',\n",
       "  'you',\n",
       "  'with',\n",
       "  'shelter',\n",
       "  'near',\n",
       "  'at',\n",
       "  'hand',\n",
       "  'and',\n",
       "  'the',\n",
       "  'means',\n",
       "  'of',\n",
       "  'making',\n",
       "  'fire'],\n",
       " ['the', 'knight', 'smile', 'was', 'cocksure'],\n",
       " ['will', 'lead', 'us', 'there'],\n",
       " ['would', 'see', 'these', 'dead', 'men', 'for', 'myself'],\n",
       " ['and', 'then', 'there', 'was', 'nothing', 'to', 'be', 'done', 'for', 'it'],\n",
       " ['the',\n",
       "  'order',\n",
       "  'had',\n",
       "  'been',\n",
       "  'given',\n",
       "  'and',\n",
       "  'honor',\n",
       "  'bound',\n",
       "  'them',\n",
       "  'to',\n",
       "  'obey'],\n",
       " ['will',\n",
       "  'went',\n",
       "  'in',\n",
       "  'front',\n",
       "  'his',\n",
       "  'shaggy',\n",
       "  'little',\n",
       "  'garron',\n",
       "  'picking',\n",
       "  'the',\n",
       "  'way',\n",
       "  'carefully',\n",
       "  'through',\n",
       "  'the',\n",
       "  'undergrowth'],\n",
       " ['light',\n",
       "  'snow',\n",
       "  'had',\n",
       "  'fallen',\n",
       "  'the',\n",
       "  'night',\n",
       "  'before',\n",
       "  'and',\n",
       "  'there',\n",
       "  'were',\n",
       "  'stones',\n",
       "  'and',\n",
       "  'roots',\n",
       "  'and',\n",
       "  'hidden',\n",
       "  'sinks',\n",
       "  'lying',\n",
       "  'just',\n",
       "  'under',\n",
       "  'its',\n",
       "  'crust',\n",
       "  'waiting',\n",
       "  'for',\n",
       "  'the',\n",
       "  'careless',\n",
       "  'and',\n",
       "  'the',\n",
       "  'unwary'],\n",
       " ['ser',\n",
       "  'waymar',\n",
       "  'royce',\n",
       "  'came',\n",
       "  'next',\n",
       "  'his',\n",
       "  'great',\n",
       "  'black',\n",
       "  'destrier',\n",
       "  'snorting',\n",
       "  'impatiently'],\n",
       " ['the',\n",
       "  'warhorse',\n",
       "  'was',\n",
       "  'the',\n",
       "  'wrong',\n",
       "  'mount',\n",
       "  'for',\n",
       "  'ranging',\n",
       "  'but',\n",
       "  'try',\n",
       "  'and',\n",
       "  'tell',\n",
       "  'that',\n",
       "  'to',\n",
       "  'the',\n",
       "  'lordling'],\n",
       " ['gared', 'brought', 'up', 'the', 'rear'],\n",
       " ['the',\n",
       "  'old',\n",
       "  'man',\n",
       "  'at',\n",
       "  'arms',\n",
       "  'muttered',\n",
       "  'to',\n",
       "  'himself',\n",
       "  'as',\n",
       "  'he',\n",
       "  'rode'],\n",
       " ['twilight', 'deepened'],\n",
       " ['the',\n",
       "  'cloudless',\n",
       "  'sky',\n",
       "  'turned',\n",
       "  'deep',\n",
       "  'purple',\n",
       "  'the',\n",
       "  'color',\n",
       "  'of',\n",
       "  'an',\n",
       "  'old',\n",
       "  'bruise',\n",
       "  'then',\n",
       "  'faded',\n",
       "  'to',\n",
       "  'black'],\n",
       " ['the', 'stars', 'began', 'to', 'come', 'out'],\n",
       " ['half', 'moon', 'rose'],\n",
       " ['will', 'was', 'grateful', 'for', 'the', 'light'],\n",
       " ['we',\n",
       "  'can',\n",
       "  'make',\n",
       "  'better',\n",
       "  'pace',\n",
       "  'than',\n",
       "  'this',\n",
       "  'surely',\n",
       "  'royce',\n",
       "  'said',\n",
       "  'when',\n",
       "  'the',\n",
       "  'moon',\n",
       "  'was',\n",
       "  'full',\n",
       "  'risen'],\n",
       " ['not', 'with', 'this', 'horse', 'will', 'said'],\n",
       " ['fear', 'had', 'made', 'him', 'insolent'],\n",
       " ['perhaps', 'my', 'lord', 'would', 'care', 'to', 'take', 'the', 'lead'],\n",
       " ['ser', 'waymar', 'royce', 'did', 'not', 'deign', 'to', 'reply'],\n",
       " ['somewhere', 'off', 'in', 'the', 'wood', 'wolf', 'howled'],\n",
       " ['will',\n",
       "  'pulled',\n",
       "  'his',\n",
       "  'garron',\n",
       "  'over',\n",
       "  'beneath',\n",
       "  'an',\n",
       "  'ancient',\n",
       "  'gnarled',\n",
       "  'ironwood',\n",
       "  'and',\n",
       "  'dismounted'],\n",
       " ['page', 'why', 'are', 'you', 'stopping'],\n",
       " ['ser', 'waymar', 'asked'],\n",
       " ['best', 'go', 'the', 'rest', 'of', 'the', 'way', 'on', 'foot', 'lord'],\n",
       " ['it', 'just', 'over', 'that', 'ridge'],\n",
       " ['royce',\n",
       "  'paused',\n",
       "  'moment',\n",
       "  'staring',\n",
       "  'off',\n",
       "  'into',\n",
       "  'the',\n",
       "  'distance',\n",
       "  'his',\n",
       "  'face',\n",
       "  'reflective'],\n",
       " ['cold', 'wind', 'whispered', 'through', 'the', 'trees'],\n",
       " ['his',\n",
       "  'great',\n",
       "  'sable',\n",
       "  'cloak',\n",
       "  'stirred',\n",
       "  'behind',\n",
       "  'like',\n",
       "  'something',\n",
       "  'half',\n",
       "  'alive'],\n",
       " ['there', 'something', 'wrong', 'here', 'gared', 'muttered'],\n",
       " ['the', 'young', 'knight', 'gave', 'him', 'disdainful', 'smile'],\n",
       " ['is', 'there'],\n",
       " ['can', 'you', 'feel', 'it'],\n",
       " ['gared', 'asked'],\n",
       " ['listen', 'to', 'the', 'darkness'],\n",
       " ['will', 'could', 'feel', 'it'],\n",
       " ['four',\n",
       "  'years',\n",
       "  'in',\n",
       "  'the',\n",
       "  'night',\n",
       "  'watch',\n",
       "  'and',\n",
       "  'he',\n",
       "  'had',\n",
       "  'never',\n",
       "  'been',\n",
       "  'so',\n",
       "  'afraid'],\n",
       " ['what', 'was', 'it'],\n",
       " ['wind'],\n",
       " ['trees', 'rustling'],\n",
       " ['wolf'],\n",
       " ['which', 'sound', 'is', 'it', 'that', 'unmans', 'you', 'so', 'gared'],\n",
       " ['when',\n",
       "  'gared',\n",
       "  'did',\n",
       "  'not',\n",
       "  'answer',\n",
       "  'royce',\n",
       "  'slid',\n",
       "  'gracefully',\n",
       "  'from',\n",
       "  'his',\n",
       "  'saddle'],\n",
       " ['he',\n",
       "  'tied',\n",
       "  'the',\n",
       "  'destrier',\n",
       "  'securely',\n",
       "  'to',\n",
       "  'low',\n",
       "  'hanging',\n",
       "  'limb',\n",
       "  'well',\n",
       "  'away',\n",
       "  'from',\n",
       "  'the',\n",
       "  'other',\n",
       "  'horses',\n",
       "  'and',\n",
       "  'drew',\n",
       "  'his',\n",
       "  'longsword',\n",
       "  'from',\n",
       "  'its',\n",
       "  'sheath'],\n",
       " ['jewels',\n",
       "  'glittered',\n",
       "  'in',\n",
       "  'its',\n",
       "  'hilt',\n",
       "  'and',\n",
       "  'the',\n",
       "  'moonlight',\n",
       "  'ran',\n",
       "  'down',\n",
       "  'the',\n",
       "  'shining',\n",
       "  'steel'],\n",
       " ['it',\n",
       "  'was',\n",
       "  'splendid',\n",
       "  'weapon',\n",
       "  'castle',\n",
       "  'forged',\n",
       "  'and',\n",
       "  'new',\n",
       "  'made',\n",
       "  'from',\n",
       "  'the',\n",
       "  'look',\n",
       "  'of',\n",
       "  'it'],\n",
       " ['will', 'doubted', 'it', 'had', 'ever', 'been', 'swung', 'in', 'anger'],\n",
       " ['the', 'trees', 'press', 'close', 'here', 'will', 'warned'],\n",
       " ['that', 'sword', 'will', 'tangle', 'you', 'up', 'ord'],\n",
       " ['better', 'knife'],\n",
       " ['if',\n",
       "  'need',\n",
       "  'instruction',\n",
       "  'will',\n",
       "  'ask',\n",
       "  'for',\n",
       "  'it',\n",
       "  'the',\n",
       "  'young',\n",
       "  'lord',\n",
       "  'said'],\n",
       " ['gared', 'stay', 'here'],\n",
       " ['guard', 'the', 'horses'],\n",
       " ['gared', 'dismounted'],\n",
       " ['we', 'need', 'fire'],\n",
       " ['ll', 'see', 'to', 'it'],\n",
       " ['how', 'big', 'fool', 'are', 'you', 'old', 'man'],\n",
       " ['if',\n",
       "  'there',\n",
       "  'are',\n",
       "  'enemies',\n",
       "  'in',\n",
       "  'this',\n",
       "  'wood',\n",
       "  'fire',\n",
       "  'is',\n",
       "  'the',\n",
       "  'last',\n",
       "  'thing',\n",
       "  'we',\n",
       "  'want'],\n",
       " ['there', 'some', 'enemies', 'fire', 'will', 'keep', 'away', 'gared', 'said'],\n",
       " ['bears', 'and', 'direwolves', 'and', 'and', 'other', 'things'],\n",
       " [],\n",
       " [],\n",
       " ['ser', 'waymar', 'mouth', 'became', 'hard', 'line'],\n",
       " ['no', 'fire'],\n",
       " ['gared',\n",
       "  'hood',\n",
       "  'shadowed',\n",
       "  'his',\n",
       "  'face',\n",
       "  'but',\n",
       "  'will',\n",
       "  'could',\n",
       "  'see',\n",
       "  'the',\n",
       "  'hard',\n",
       "  'glitter',\n",
       "  'in',\n",
       "  'his',\n",
       "  'eyes',\n",
       "  'as',\n",
       "  'he',\n",
       "  'stared',\n",
       "  'at',\n",
       "  'the',\n",
       "  'knight'],\n",
       " ['for',\n",
       "  'moment',\n",
       "  'he',\n",
       "  'was',\n",
       "  'afraid',\n",
       "  'the',\n",
       "  'older',\n",
       "  'man',\n",
       "  'would',\n",
       "  'go',\n",
       "  'for',\n",
       "  'his',\n",
       "  'sword'],\n",
       " ['it',\n",
       "  'was',\n",
       "  'short',\n",
       "  'ugly',\n",
       "  'thing',\n",
       "  'its',\n",
       "  'grip',\n",
       "  'discolored',\n",
       "  'by',\n",
       "  'sweat',\n",
       "  'its',\n",
       "  'edge',\n",
       "  'nicked',\n",
       "  'from',\n",
       "  'hard',\n",
       "  'use',\n",
       "  'but',\n",
       "  'will',\n",
       "  'would',\n",
       "  'not',\n",
       "  'have',\n",
       "  'given',\n",
       "  'an',\n",
       "  'iron',\n",
       "  'bob',\n",
       "  'for',\n",
       "  'the',\n",
       "  'lordling',\n",
       "  'life',\n",
       "  'if',\n",
       "  'gared',\n",
       "  'pulled',\n",
       "  'it',\n",
       "  'from',\n",
       "  'its',\n",
       "  'scabbard'],\n",
       " ['finally', 'gared', 'looked', 'down'],\n",
       " ['no', 'fire', 'he', 'muttered', 'low', 'under', 'his', 'breath'],\n",
       " ['royce', 'took', 'it', 'for', 'acquiescence', 'and', 'turned', 'away'],\n",
       " ['lead', 'on', 'he', 'said', 'to', 'will'],\n",
       " ['will',\n",
       "  'threaded',\n",
       "  'their',\n",
       "  'way',\n",
       "  'through',\n",
       "  'thicket',\n",
       "  'then',\n",
       "  'started',\n",
       "  'up',\n",
       "  'the',\n",
       "  'slope',\n",
       "  'to',\n",
       "  'the',\n",
       "  'low',\n",
       "  'ridge',\n",
       "  'where',\n",
       "  'he',\n",
       "  'had',\n",
       "  'found',\n",
       "  'his',\n",
       "  'vantage',\n",
       "  'point',\n",
       "  'under',\n",
       "  'sentinel',\n",
       "  'tree'],\n",
       " ['under',\n",
       "  'the',\n",
       "  'thin',\n",
       "  'crust',\n",
       "  'of',\n",
       "  'snow',\n",
       "  'the',\n",
       "  'ground',\n",
       "  'was',\n",
       "  'damp',\n",
       "  'and',\n",
       "  'muddy',\n",
       "  'slick',\n",
       "  'footing',\n",
       "  'with',\n",
       "  'rocks',\n",
       "  'and',\n",
       "  'hidden',\n",
       "  'roots',\n",
       "  'to',\n",
       "  'trip',\n",
       "  'you',\n",
       "  'up'],\n",
       " ['will', 'made', 'no', 'sound', 'as', 'he', 'climbed'],\n",
       " ['behind',\n",
       "  'him',\n",
       "  'he',\n",
       "  'heard',\n",
       "  'the',\n",
       "  'soft',\n",
       "  'metallic',\n",
       "  'slither',\n",
       "  'of',\n",
       "  'the',\n",
       "  'lordling',\n",
       "  'ringmail',\n",
       "  'the',\n",
       "  'rustle',\n",
       "  'of',\n",
       "  'leaves',\n",
       "  'and',\n",
       "  'muttered',\n",
       "  'curses',\n",
       "  'as',\n",
       "  'reaching',\n",
       "  'branches',\n",
       "  'grabbed',\n",
       "  'at',\n",
       "  'his',\n",
       "  'longsword',\n",
       "  'and',\n",
       "  'tugged',\n",
       "  'on',\n",
       "  'his',\n",
       "  'splendid',\n",
       "  'sable',\n",
       "  'cloak'],\n",
       " ['the',\n",
       "  'great',\n",
       "  'sentinel',\n",
       "  'was',\n",
       "  'right',\n",
       "  'there',\n",
       "  'at',\n",
       "  'the',\n",
       "  'top',\n",
       "  'of',\n",
       "  'the',\n",
       "  'ridge',\n",
       "  'where',\n",
       "  'will',\n",
       "  'had',\n",
       "  'known',\n",
       "  'it',\n",
       "  'would',\n",
       "  'be',\n",
       "  'its',\n",
       "  'lowest',\n",
       "  'branches',\n",
       "  'bare',\n",
       "  'foot',\n",
       "  'off',\n",
       "  'the',\n",
       "  'ground'],\n",
       " ['will',\n",
       "  'slid',\n",
       "  'in',\n",
       "  'underneath',\n",
       "  'flat',\n",
       "  'on',\n",
       "  'his',\n",
       "  'belly',\n",
       "  'in',\n",
       "  'the',\n",
       "  'snow',\n",
       "  'and',\n",
       "  'the',\n",
       "  'mud',\n",
       "  'and',\n",
       "  'page',\n",
       "  'looked',\n",
       "  'down',\n",
       "  'on',\n",
       "  'the',\n",
       "  'empty',\n",
       "  'clearing',\n",
       "  'below'],\n",
       " ['his', 'heart', 'stopped', 'in', 'his', 'chest'],\n",
       " ['for', 'moment', 'he', 'dared', 'not', 'breathe'],\n",
       " ['moonlight',\n",
       "  'shone',\n",
       "  'down',\n",
       "  'on',\n",
       "  'the',\n",
       "  'clearing',\n",
       "  'the',\n",
       "  'ashes',\n",
       "  'of',\n",
       "  'the',\n",
       "  'firepit',\n",
       "  'the',\n",
       "  'snow',\n",
       "  'covered',\n",
       "  'lean',\n",
       "  'to',\n",
       "  'the',\n",
       "  'great',\n",
       "  'rock',\n",
       "  'the',\n",
       "  'little',\n",
       "  'half',\n",
       "  'frozen',\n",
       "  'stream'],\n",
       " ['everything',\n",
       "  'was',\n",
       "  'just',\n",
       "  'as',\n",
       "  'it',\n",
       "  'had',\n",
       "  'been',\n",
       "  'few',\n",
       "  'hours',\n",
       "  'ago'],\n",
       " ['they', 'were', 'gone'],\n",
       " ['all', 'the', 'bodies', 'were', 'gone'],\n",
       " ['gods'],\n",
       " ['he', 'heard', 'behind', 'him'],\n",
       " ['sword',\n",
       "  'slashed',\n",
       "  'at',\n",
       "  'branch',\n",
       "  'as',\n",
       "  'ser',\n",
       "  'waymar',\n",
       "  'royce',\n",
       "  'gained',\n",
       "  'the',\n",
       "  'ridge'],\n",
       " ['he',\n",
       "  'stood',\n",
       "  'there',\n",
       "  'beside',\n",
       "  'the',\n",
       "  'sentinel',\n",
       "  'longsword',\n",
       "  'in',\n",
       "  'hand',\n",
       "  'his',\n",
       "  'cloak',\n",
       "  'billowing',\n",
       "  'behind',\n",
       "  'him',\n",
       "  'as',\n",
       "  'the',\n",
       "  'wind',\n",
       "  'came',\n",
       "  'up',\n",
       "  'outlined',\n",
       "  'nobly',\n",
       "  'against',\n",
       "  'the',\n",
       "  'stars',\n",
       "  'for',\n",
       "  'all',\n",
       "  'to',\n",
       "  'see'],\n",
       " ['get', 'down'],\n",
       " ['will', 'whispered', 'urgently'],\n",
       " ['something', 'wrong'],\n",
       " ['royce', 'did', 'not', 'move'],\n",
       " ['he', 'looked', 'down', 'at', 'the', 'empty', 'clearing', 'and', 'laughed'],\n",
       " ['your', 'dead', 'men', 'seem', 'to', 'have', 'moved', 'camp', 'will'],\n",
       " ['will', 'voice', 'abandoned', 'him'],\n",
       " ['he', 'groped', 'for', 'words', 'that', 'did', 'not', 'come'],\n",
       " ['it', 'was', 'not', 'possible'],\n",
       " ['his',\n",
       "  'eyes',\n",
       "  'swept',\n",
       "  'back',\n",
       "  'and',\n",
       "  'forth',\n",
       "  'over',\n",
       "  'the',\n",
       "  'abandoned',\n",
       "  'campsite',\n",
       "  'stopped',\n",
       "  'on',\n",
       "  'the',\n",
       "  'axe'],\n",
       " ['huge',\n",
       "  'double',\n",
       "  'bladed',\n",
       "  'battle',\n",
       "  'axe',\n",
       "  'still',\n",
       "  'lying',\n",
       "  'where',\n",
       "  'he',\n",
       "  'had',\n",
       "  'seen',\n",
       "  'it',\n",
       "  'last',\n",
       "  'untouched'],\n",
       " ['valuable', 'weapon'],\n",
       " [],\n",
       " [],\n",
       " ['on', 'your', 'feet', 'will', 'ser', 'waymar', 'commanded'],\n",
       " ['there', 'no', 'one', 'here'],\n",
       " ['won', 'have', 'you', 'hiding', 'under', 'bush'],\n",
       " ['reluctantly', 'will', 'obeyed'],\n",
       " ['ser', 'waymar', 'looked', 'him', 'over', 'with', 'open', 'disapproval'],\n",
       " ['am',\n",
       "  'not',\n",
       "  'going',\n",
       "  'back',\n",
       "  'to',\n",
       "  'castle',\n",
       "  'black',\n",
       "  'failure',\n",
       "  'on',\n",
       "  'my',\n",
       "  'first',\n",
       "  'ranging'],\n",
       " ['we', 'will', 'find', 'these', 'men'],\n",
       " ['he', 'glanced', 'around'],\n",
       " ['up', 'the', 'tree'],\n",
       " ['be', 'quick', 'about', 'it'],\n",
       " ['look', 'for', 'fire'],\n",
       " ['will', 'turned', 'away', 'wordless'],\n",
       " ['there', 'was', 'no', 'use', 'to', 'argue'],\n",
       " ['the', 'wind', 'was', 'moving'],\n",
       " ['it', 'cut', 'right', 'through', 'him'],\n",
       " ['he',\n",
       "  'went',\n",
       "  'to',\n",
       "  'the',\n",
       "  'tree',\n",
       "  'vaulting',\n",
       "  'grey',\n",
       "  'green',\n",
       "  'sentinel',\n",
       "  'and',\n",
       "  'began',\n",
       "  'to',\n",
       "  'climb'],\n",
       " ['soon',\n",
       "  'his',\n",
       "  'hands',\n",
       "  'were',\n",
       "  'sticky',\n",
       "  'with',\n",
       "  'sap',\n",
       "  'and',\n",
       "  'he',\n",
       "  'was',\n",
       "  'lost',\n",
       "  'among',\n",
       "  'the',\n",
       "  'needles'],\n",
       " ['fear',\n",
       "  'filled',\n",
       "  'his',\n",
       "  'gut',\n",
       "  'like',\n",
       "  'meal',\n",
       "  'he',\n",
       "  'could',\n",
       "  'not',\n",
       "  'digest'],\n",
       " ['he',\n",
       "  'whispered',\n",
       "  'prayer',\n",
       "  'to',\n",
       "  'the',\n",
       "  'nameless',\n",
       "  'gods',\n",
       "  'of',\n",
       "  'the',\n",
       "  'wood',\n",
       "  'and',\n",
       "  'slipped',\n",
       "  'his',\n",
       "  'dirk',\n",
       "  'free',\n",
       "  'of',\n",
       "  'its',\n",
       "  'sheath'],\n",
       " ['he',\n",
       "  'put',\n",
       "  'it',\n",
       "  'between',\n",
       "  'his',\n",
       "  'teeth',\n",
       "  'to',\n",
       "  'keep',\n",
       "  'both',\n",
       "  'hands',\n",
       "  'free',\n",
       "  'for',\n",
       "  'climbing'],\n",
       " ['the',\n",
       "  'taste',\n",
       "  'of',\n",
       "  'cold',\n",
       "  'iron',\n",
       "  'in',\n",
       "  'his',\n",
       "  'mouth',\n",
       "  'gave',\n",
       "  'him',\n",
       "  'comfort'],\n",
       " ['down',\n",
       "  'below',\n",
       "  'the',\n",
       "  'lordling',\n",
       "  'called',\n",
       "  'out',\n",
       "  'suddenly',\n",
       "  'who',\n",
       "  'goes',\n",
       "  'there'],\n",
       " ['will', 'heard', 'uncertainty', 'in', 'the', 'challenge'],\n",
       " ['he', 'stopped', 'climbing', 'he', 'listened', 'he', 'watched'],\n",
       " ['the',\n",
       "  'woods',\n",
       "  'gave',\n",
       "  'answer',\n",
       "  'the',\n",
       "  'rustle',\n",
       "  'of',\n",
       "  'leaves',\n",
       "  'the',\n",
       "  'icy',\n",
       "  'rush',\n",
       "  'of',\n",
       "  'the',\n",
       "  'stream',\n",
       "  'distant',\n",
       "  'hoot',\n",
       "  'of',\n",
       "  'snow',\n",
       "  'owl'],\n",
       " ['the', 'others', 'made', 'no', 'sound'],\n",
       " ['will', 'saw', 'movement', 'from', 'the', 'corner', 'of', 'his', 'eye'],\n",
       " ['pale', 'shapes', 'gliding', 'through', 'the', 'wood'],\n",
       " ['he',\n",
       "  'turned',\n",
       "  'his',\n",
       "  'head',\n",
       "  'glimpsed',\n",
       "  'white',\n",
       "  'shadow',\n",
       "  'in',\n",
       "  'the',\n",
       "  'darkness'],\n",
       " ['then', 'it', 'was', 'gone'],\n",
       " ['branches',\n",
       "  'stirred',\n",
       "  'gently',\n",
       "  'in',\n",
       "  'the',\n",
       "  'wind',\n",
       "  'scratching',\n",
       "  'at',\n",
       "  'one',\n",
       "  'another',\n",
       "  'with',\n",
       "  'wooden',\n",
       "  'fingers'],\n",
       " ['will',\n",
       "  'opened',\n",
       "  'his',\n",
       "  'mouth',\n",
       "  'to',\n",
       "  'call',\n",
       "  'down',\n",
       "  'warning',\n",
       "  'and',\n",
       "  'the',\n",
       "  'words',\n",
       "  'seemed',\n",
       "  'to',\n",
       "  'freeze',\n",
       "  'in',\n",
       "  'his',\n",
       "  'throat'],\n",
       " ['perhaps', 'he', 'was', 'wrong'],\n",
       " ['perhaps',\n",
       "  'it',\n",
       "  'had',\n",
       "  'only',\n",
       "  'been',\n",
       "  'bird',\n",
       "  'reflection',\n",
       "  'on',\n",
       "  'the',\n",
       "  'snow',\n",
       "  'some',\n",
       "  'trick',\n",
       "  'of',\n",
       "  'the',\n",
       "  'moonlight'],\n",
       " ['what', 'had', 'he', 'seen', 'after', 'all'],\n",
       " ['will', 'where', 'are', 'you'],\n",
       " ['ser', 'waymar', 'called', 'up'],\n",
       " ['can', 'you', 'see', 'anything'],\n",
       " ['he',\n",
       "  'was',\n",
       "  'turning',\n",
       "  'in',\n",
       "  'slow',\n",
       "  'circle',\n",
       "  'suddenly',\n",
       "  'wary',\n",
       "  'his',\n",
       "  'sword',\n",
       "  'in',\n",
       "  'hand'],\n",
       " ['he', 'must', 'have', 'felt', 'them', 'as', 'will', 'felt', 'them'],\n",
       " ['there', 'was', 'nothing', 'to', 'see'],\n",
       " ['page', 'answer', 'me'],\n",
       " ['why', 'is', 'it', 'so', 'cold'],\n",
       " ['it', 'was', 'cold'],\n",
       " ['shivering', 'will', 'clung', 'more', 'tightly', 'to', 'his', 'perch'],\n",
       " ['his',\n",
       "  'face',\n",
       "  'pressed',\n",
       "  'hard',\n",
       "  'against',\n",
       "  'the',\n",
       "  'trunk',\n",
       "  'of',\n",
       "  'the',\n",
       "  'sentinel'],\n",
       " ['he',\n",
       "  'could',\n",
       "  'feel',\n",
       "  'the',\n",
       "  'sweet',\n",
       "  'sticky',\n",
       "  'sap',\n",
       "  'on',\n",
       "  'his',\n",
       "  'cheek'],\n",
       " ['shadow', 'emerged', 'from', 'the', 'dark', 'of', 'the', 'wood'],\n",
       " ['it', 'stood', 'in', 'front', 'of', 'royce'],\n",
       " ['tall',\n",
       "  'it',\n",
       "  'was',\n",
       "  'and',\n",
       "  'gaunt',\n",
       "  'and',\n",
       "  'hard',\n",
       "  'as',\n",
       "  'old',\n",
       "  'bones',\n",
       "  'with',\n",
       "  'flesh',\n",
       "  'pale',\n",
       "  'as',\n",
       "  'milk'],\n",
       " ['its',\n",
       "  'armor',\n",
       "  'seemed',\n",
       "  'to',\n",
       "  'change',\n",
       "  'color',\n",
       "  'as',\n",
       "  'it',\n",
       "  'moved',\n",
       "  'here',\n",
       "  'it',\n",
       "  'was',\n",
       "  'white',\n",
       "  'as',\n",
       "  'new',\n",
       "  'fallen',\n",
       "  'snow',\n",
       "  'there',\n",
       "  'black',\n",
       "  'as',\n",
       "  'shadow',\n",
       "  'everywhere',\n",
       "  'dappled',\n",
       "  'with',\n",
       "  'the',\n",
       "  'deep',\n",
       "  'grey',\n",
       "  'green',\n",
       "  'of',\n",
       "  'the',\n",
       "  'trees'],\n",
       " ['the',\n",
       "  'patterns',\n",
       "  'ran',\n",
       "  'like',\n",
       "  'moonlight',\n",
       "  'on',\n",
       "  'water',\n",
       "  'with',\n",
       "  'every',\n",
       "  'step',\n",
       "  'it',\n",
       "  'took'],\n",
       " ['will',\n",
       "  'heard',\n",
       "  'the',\n",
       "  'breath',\n",
       "  'go',\n",
       "  'out',\n",
       "  'of',\n",
       "  'ser',\n",
       "  'waymar',\n",
       "  'royce',\n",
       "  'in',\n",
       "  'long',\n",
       "  'hiss'],\n",
       " ['come', 'no', 'farther', 'the', 'lordling', 'warned'],\n",
       " ['his', 'voice', 'cracked', 'like', 'boy'],\n",
       " ['he',\n",
       "  'threw',\n",
       "  'the',\n",
       "  'long',\n",
       "  'sable',\n",
       "  'cloak',\n",
       "  'back',\n",
       "  'over',\n",
       "  'his',\n",
       "  'shoulders',\n",
       "  'to',\n",
       "  'free',\n",
       "  'his',\n",
       "  'arms',\n",
       "  'for',\n",
       "  'battle',\n",
       "  'and',\n",
       "  'took',\n",
       "  'his',\n",
       "  'sword',\n",
       "  'in',\n",
       "  'both',\n",
       "  'hands'],\n",
       " ['the', 'wind', 'had', 'stopped'],\n",
       " ['it', 'was', 'very', 'cold'],\n",
       " ['the', 'other', 'slid', 'forward', 'on', 'silent', 'feet'],\n",
       " ['in',\n",
       "  'its',\n",
       "  'hand',\n",
       "  'was',\n",
       "  'longsword',\n",
       "  'like',\n",
       "  'none',\n",
       "  'that',\n",
       "  'will',\n",
       "  'had',\n",
       "  'ever',\n",
       "  'seen'],\n",
       " ['no',\n",
       "  'human',\n",
       "  'metal',\n",
       "  'had',\n",
       "  'gone',\n",
       "  'into',\n",
       "  'the',\n",
       "  'forging',\n",
       "  'of',\n",
       "  'that',\n",
       "  'blade'],\n",
       " ['it',\n",
       "  'was',\n",
       "  'alive',\n",
       "  'with',\n",
       "  'moonlight',\n",
       "  'translucent',\n",
       "  'shard',\n",
       "  'of',\n",
       "  'crystal',\n",
       "  'so',\n",
       "  'thin',\n",
       "  'that',\n",
       "  'it',\n",
       "  'seemed',\n",
       "  'almost',\n",
       "  'to',\n",
       "  'vanish',\n",
       "  'when',\n",
       "  'seen',\n",
       "  'edge',\n",
       "  'on'],\n",
       " ['there',\n",
       "  'was',\n",
       "  'faint',\n",
       "  'blue',\n",
       "  'shimmer',\n",
       "  'to',\n",
       "  'the',\n",
       "  'thing',\n",
       "  'ghost',\n",
       "  'light',\n",
       "  'that',\n",
       "  'played',\n",
       "  'around',\n",
       "  'its',\n",
       "  'edges',\n",
       "  'and',\n",
       "  'somehow',\n",
       "  'will',\n",
       "  'knew',\n",
       "  'it',\n",
       "  'was',\n",
       "  'sharper',\n",
       "  'than',\n",
       "  'any',\n",
       "  'razor'],\n",
       " ['ser', 'waymar', 'met', 'him', 'bravely'],\n",
       " ['dance', 'with', 'me', 'then'],\n",
       " ['he', 'lifted', 'his', 'sword', 'high', 'over', 'his', 'head', 'defiant'],\n",
       " ['his',\n",
       "  'hands',\n",
       "  'trembled',\n",
       "  'from',\n",
       "  'the',\n",
       "  'weight',\n",
       "  'of',\n",
       "  'it',\n",
       "  'or',\n",
       "  'perhaps',\n",
       "  'from',\n",
       "  'the',\n",
       "  'cold'],\n",
       " ['yet',\n",
       "  'in',\n",
       "  'that',\n",
       "  'moment',\n",
       "  'will',\n",
       "  'thought',\n",
       "  'he',\n",
       "  'was',\n",
       "  'boy',\n",
       "  'no',\n",
       "  'longer',\n",
       "  'but',\n",
       "  'man',\n",
       "  'of',\n",
       "  'the',\n",
       "  'night',\n",
       "  'watch'],\n",
       " ['the', 'other', 'halted'],\n",
       " ['will',\n",
       "  'saw',\n",
       "  'its',\n",
       "  'eyes',\n",
       "  'blue',\n",
       "  'deeper',\n",
       "  'and',\n",
       "  'bluer',\n",
       "  'than',\n",
       "  'any',\n",
       "  'human',\n",
       "  'eyes',\n",
       "  'blue',\n",
       "  'that',\n",
       "  'burned',\n",
       "  'like',\n",
       "  'ice'],\n",
       " ['they',\n",
       "  'fixed',\n",
       "  'on',\n",
       "  'the',\n",
       "  'longsword',\n",
       "  'trembling',\n",
       "  'on',\n",
       "  'high',\n",
       "  'watched',\n",
       "  'the',\n",
       "  'moonlight',\n",
       "  'running',\n",
       "  'cold',\n",
       "  'along',\n",
       "  'the',\n",
       "  'metal'],\n",
       " ['for', 'heartbeat', 'he', 'dared', 'to', 'hope'],\n",
       " ['they',\n",
       "  'emerged',\n",
       "  'silently',\n",
       "  'from',\n",
       "  'the',\n",
       "  'shadows',\n",
       "  'twins',\n",
       "  'to',\n",
       "  'the',\n",
       "  'first'],\n",
       " ['three', 'of', 'them'],\n",
       " [],\n",
       " [],\n",
       " ['four'],\n",
       " [],\n",
       " [],\n",
       " ['five'],\n",
       " [],\n",
       " [],\n",
       " ['ser',\n",
       "  'waymar',\n",
       "  'may',\n",
       "  'have',\n",
       "  'felt',\n",
       "  'the',\n",
       "  'cold',\n",
       "  'that',\n",
       "  'came',\n",
       "  'with',\n",
       "  'them',\n",
       "  'but',\n",
       "  'he',\n",
       "  'never',\n",
       "  'saw',\n",
       "  'them',\n",
       "  'never',\n",
       "  'heard',\n",
       "  'them'],\n",
       " ['will', 'had', 'to', 'call', 'out'],\n",
       " ['it', 'was', 'his', 'duty'],\n",
       " ['and', 'his', 'death', 'if', 'he', 'did'],\n",
       " ['he',\n",
       "  'shivered',\n",
       "  'and',\n",
       "  'hugged',\n",
       "  'the',\n",
       "  'tree',\n",
       "  'and',\n",
       "  'kept',\n",
       "  'the',\n",
       "  'silence'],\n",
       " ['the', 'pale', 'sword', 'came', 'shivering', 'through', 'the', 'air'],\n",
       " ['ser', 'waymar', 'met', 'it', 'with', 'steel'],\n",
       " ['when',\n",
       "  'the',\n",
       "  'blades',\n",
       "  'met',\n",
       "  'there',\n",
       "  'was',\n",
       "  'no',\n",
       "  'ring',\n",
       "  'of',\n",
       "  'metal',\n",
       "  'on',\n",
       "  'metal',\n",
       "  'only',\n",
       "  'high',\n",
       "  'thin',\n",
       "  'sound',\n",
       "  'at',\n",
       "  'the',\n",
       "  'edge',\n",
       "  'of',\n",
       "  'hearing',\n",
       "  'like',\n",
       "  'an',\n",
       "  'animal',\n",
       "  'screaming',\n",
       "  'in',\n",
       "  'pain'],\n",
       " ['royce',\n",
       "  'checked',\n",
       "  'second',\n",
       "  'blow',\n",
       "  'and',\n",
       "  'third',\n",
       "  'then',\n",
       "  'fell',\n",
       "  'back',\n",
       "  'step'],\n",
       " ['another', 'flurry', 'of', 'blows', 'and', 'he', 'fell', 'back', 'again'],\n",
       " ['behind',\n",
       "  'him',\n",
       "  'to',\n",
       "  'right',\n",
       "  'to',\n",
       "  'left',\n",
       "  'all',\n",
       "  'around',\n",
       "  'him',\n",
       "  'the',\n",
       "  'watchers',\n",
       "  'stood',\n",
       "  'patient',\n",
       "  'faceless',\n",
       "  'silent',\n",
       "  'the',\n",
       "  'shifting',\n",
       "  'patterns',\n",
       "  'of',\n",
       "  'their',\n",
       "  'delicate',\n",
       "  'armor',\n",
       "  'making',\n",
       "  'them',\n",
       "  'all',\n",
       "  'but',\n",
       "  'invisible',\n",
       "  'in',\n",
       "  'the',\n",
       "  'wood'],\n",
       " ['yet', 'they', 'made', 'no', 'move', 'to', 'interfere'],\n",
       " ['again',\n",
       "  'and',\n",
       "  'again',\n",
       "  'the',\n",
       "  'swords',\n",
       "  'met',\n",
       "  'until',\n",
       "  'will',\n",
       "  'wanted',\n",
       "  'to',\n",
       "  'cover',\n",
       "  'his',\n",
       "  'ears',\n",
       "  'against',\n",
       "  'the',\n",
       "  'strange',\n",
       "  'anguished',\n",
       "  'keening',\n",
       "  'of',\n",
       "  'their',\n",
       "  'clash'],\n",
       " ['ser',\n",
       "  'waymar',\n",
       "  'was',\n",
       "  'panting',\n",
       "  'from',\n",
       "  'the',\n",
       "  'effort',\n",
       "  'now',\n",
       "  'his',\n",
       "  'breath',\n",
       "  'steaming',\n",
       "  'in',\n",
       "  'the',\n",
       "  'moonlight'],\n",
       " ['his',\n",
       "  'blade',\n",
       "  'was',\n",
       "  'white',\n",
       "  'with',\n",
       "  'frost',\n",
       "  'the',\n",
       "  'other',\n",
       "  'danced',\n",
       "  'with',\n",
       "  'pale',\n",
       "  'blue',\n",
       "  'light'],\n",
       " ['then', 'royce', 'parry', 'came', 'beat', 'too', 'late'],\n",
       " ['the',\n",
       "  'pale',\n",
       "  'sword',\n",
       "  'bit',\n",
       "  'through',\n",
       "  'the',\n",
       "  'ringmail',\n",
       "  'beneath',\n",
       "  'his',\n",
       "  'arm'],\n",
       " ['the', 'young', 'lord', 'cried', 'out', 'in', 'pain'],\n",
       " ['blood', 'welled', 'between', 'the', 'rings'],\n",
       " ['it',\n",
       "  'steamed',\n",
       "  'in',\n",
       "  'the',\n",
       "  'cold',\n",
       "  'and',\n",
       "  'the',\n",
       "  'droplets',\n",
       "  'seemed',\n",
       "  'red',\n",
       "  'as',\n",
       "  'fire',\n",
       "  'where',\n",
       "  'they',\n",
       "  'touched',\n",
       "  'the',\n",
       "  'snow'],\n",
       " ['ser', 'page', 'waymar', 'fingers', 'brushed', 'his', 'side'],\n",
       " ['his', 'moleskin', 'glove', 'came', 'away', 'soaked', 'with', 'red'],\n",
       " ['the',\n",
       "  'other',\n",
       "  'said',\n",
       "  'something',\n",
       "  'in',\n",
       "  'language',\n",
       "  'that',\n",
       "  'will',\n",
       "  'did',\n",
       "  'not',\n",
       "  'know',\n",
       "  'his',\n",
       "  'voice',\n",
       "  'was',\n",
       "  'like',\n",
       "  'the',\n",
       "  'cracking',\n",
       "  'of',\n",
       "  'ice',\n",
       "  'on',\n",
       "  'winter',\n",
       "  'lake',\n",
       "  'and',\n",
       "  'the',\n",
       "  'words',\n",
       "  'were',\n",
       "  'mocking'],\n",
       " ['ser', 'waymar', 'royce', 'found', 'his', 'fury'],\n",
       " ['for', 'robert'],\n",
       " ['he',\n",
       "  'shouted',\n",
       "  'and',\n",
       "  'he',\n",
       "  'came',\n",
       "  'up',\n",
       "  'snarling',\n",
       "  'lifting',\n",
       "  'the',\n",
       "  'frost',\n",
       "  'covered',\n",
       "  'longsword',\n",
       "  'with',\n",
       "  'both',\n",
       "  'hands',\n",
       "  'and',\n",
       "  'swinging',\n",
       "  'it',\n",
       "  'around',\n",
       "  'in',\n",
       "  'flat',\n",
       "  'sidearm',\n",
       "  'slash',\n",
       "  'with',\n",
       "  'all',\n",
       "  'his',\n",
       "  'weight',\n",
       "  'behind',\n",
       "  'it'],\n",
       " ['the', 'other', 'parry', 'was', 'almost', 'lazy'],\n",
       " ['when', 'the', 'blades', 'touched', 'the', 'steel', 'shattered'],\n",
       " ['scream',\n",
       "  'echoed',\n",
       "  'through',\n",
       "  'the',\n",
       "  'forest',\n",
       "  'night',\n",
       "  'and',\n",
       "  'the',\n",
       "  'longsword',\n",
       "  'shivered',\n",
       "  'into',\n",
       "  'hundred',\n",
       "  'brittle',\n",
       "  'pieces',\n",
       "  'the',\n",
       "  'shards',\n",
       "  'scattering',\n",
       "  'like',\n",
       "  'rain',\n",
       "  'of',\n",
       "  'needles'],\n",
       " ['royce',\n",
       "  'went',\n",
       "  'to',\n",
       "  'his',\n",
       "  'knees',\n",
       "  'shrieking',\n",
       "  'and',\n",
       "  'covered',\n",
       "  'his',\n",
       "  'eyes'],\n",
       " ['blood', 'welled', 'between', 'his', 'fingers'],\n",
       " ['the',\n",
       "  'watchers',\n",
       "  'moved',\n",
       "  'forward',\n",
       "  'together',\n",
       "  'as',\n",
       "  'if',\n",
       "  'some',\n",
       "  'signal',\n",
       "  'had',\n",
       "  'been',\n",
       "  'given'],\n",
       " ['swords', 'rose', 'and', 'fell', 'all', 'in', 'deathly', 'silence'],\n",
       " ['it', 'was', 'cold', 'butchery'],\n",
       " ['the',\n",
       "  'pale',\n",
       "  'blades',\n",
       "  'sliced',\n",
       "  'through',\n",
       "  'ringmail',\n",
       "  'as',\n",
       "  'if',\n",
       "  'it',\n",
       "  'were',\n",
       "  'silk'],\n",
       " ['will', 'closed', 'his', 'eyes'],\n",
       " ['far',\n",
       "  'beneath',\n",
       "  'him',\n",
       "  'he',\n",
       "  'heard',\n",
       "  'their',\n",
       "  'voices',\n",
       "  'and',\n",
       "  'laughter',\n",
       "  'sharp',\n",
       "  'as',\n",
       "  'icicles'],\n",
       " ['when',\n",
       "  'he',\n",
       "  'found',\n",
       "  'the',\n",
       "  'courage',\n",
       "  'to',\n",
       "  'look',\n",
       "  'again',\n",
       "  'long',\n",
       "  'time',\n",
       "  'had',\n",
       "  'passed',\n",
       "  'and',\n",
       "  'the',\n",
       "  'ridge',\n",
       "  'below',\n",
       "  'was',\n",
       "  'empty'],\n",
       " ['he',\n",
       "  'stayed',\n",
       "  'in',\n",
       "  'the',\n",
       "  'tree',\n",
       "  'scarce',\n",
       "  'daring',\n",
       "  'to',\n",
       "  'breathe',\n",
       "  'while',\n",
       "  'the',\n",
       "  'moon',\n",
       "  'crept',\n",
       "  'slowly',\n",
       "  'across',\n",
       "  'the',\n",
       "  'black',\n",
       "  'sky'],\n",
       " ['finally',\n",
       "  'his',\n",
       "  'muscles',\n",
       "  'cramping',\n",
       "  'and',\n",
       "  'his',\n",
       "  'fingers',\n",
       "  'numb',\n",
       "  'with',\n",
       "  'cold',\n",
       "  'he',\n",
       "  'climbed',\n",
       "  'down'],\n",
       " ['royce',\n",
       "  'body',\n",
       "  'lay',\n",
       "  'facedown',\n",
       "  'in',\n",
       "  'the',\n",
       "  'snow',\n",
       "  'one',\n",
       "  'arm',\n",
       "  'outflung'],\n",
       " ['the',\n",
       "  'thick',\n",
       "  'sable',\n",
       "  'cloak',\n",
       "  'had',\n",
       "  'been',\n",
       "  'slashed',\n",
       "  'in',\n",
       "  'dozen',\n",
       "  'places'],\n",
       " ['lying', 'dead', 'like', 'that', 'you', 'saw', 'how', 'young', 'he', 'was'],\n",
       " ['boy'],\n",
       " ['he',\n",
       "  'found',\n",
       "  'what',\n",
       "  'was',\n",
       "  'left',\n",
       "  'of',\n",
       "  'the',\n",
       "  'sword',\n",
       "  'few',\n",
       "  'feet',\n",
       "  'away',\n",
       "  'the',\n",
       "  'end',\n",
       "  'splintered',\n",
       "  'and',\n",
       "  'twisted',\n",
       "  'like',\n",
       "  'tree',\n",
       "  'struck',\n",
       "  'by',\n",
       "  'lightning'],\n",
       " ['will',\n",
       "  'knelt',\n",
       "  'looked',\n",
       "  'around',\n",
       "  'warily',\n",
       "  'and',\n",
       "  'snatched',\n",
       "  'it',\n",
       "  'up'],\n",
       " ['the', 'broken', 'sword', 'would', 'be', 'his', 'proof'],\n",
       " ['gared',\n",
       "  'would',\n",
       "  'know',\n",
       "  'what',\n",
       "  'to',\n",
       "  'make',\n",
       "  'of',\n",
       "  'it',\n",
       "  'and',\n",
       "  'if',\n",
       "  'not',\n",
       "  'him',\n",
       "  'then',\n",
       "  'surely',\n",
       "  'that',\n",
       "  'old',\n",
       "  'bear',\n",
       "  'mormont',\n",
       "  'or',\n",
       "  'maester',\n",
       "  'aemon'],\n",
       " ['would', 'gared', 'still', 'be', 'waiting', 'with', 'the', 'horses'],\n",
       " ['he', 'had', 'to', 'hurry'],\n",
       " ['will', 'rose'],\n",
       " ['ser', 'waymar', 'royce', 'stood', 'over', 'him'],\n",
       " ['his', 'fine', 'clothes', 'were', 'tatter', 'his', 'face', 'ruin'],\n",
       " ['shard',\n",
       "  'from',\n",
       "  'his',\n",
       "  'sword',\n",
       "  'transfixed',\n",
       "  'the',\n",
       "  'blind',\n",
       "  'white',\n",
       "  'pupil',\n",
       "  'of',\n",
       "  'his',\n",
       "  'left',\n",
       "  'eye'],\n",
       " ['the', 'right', 'eye', 'was', 'open'],\n",
       " ['the', 'pupil', 'burned', 'blue'],\n",
       " ['it', 'saw'],\n",
       " ['the', 'broken', 'sword', 'fell', 'from', 'nerveless', 'fingers'],\n",
       " ['will', 'closed', 'his', 'eyes', 'to', 'pray'],\n",
       " ['long',\n",
       "  'elegant',\n",
       "  'hands',\n",
       "  'brushed',\n",
       "  'his',\n",
       "  'cheek',\n",
       "  'then',\n",
       "  'tightened',\n",
       "  'around',\n",
       "  'his',\n",
       "  'throat'],\n",
       " ['they',\n",
       "  'were',\n",
       "  'gloved',\n",
       "  'in',\n",
       "  'the',\n",
       "  'finest',\n",
       "  'moleskin',\n",
       "  'and',\n",
       "  'sticky',\n",
       "  'with',\n",
       "  'blood',\n",
       "  'yet',\n",
       "  'the',\n",
       "  'touch',\n",
       "  'was',\n",
       "  'icy',\n",
       "  'cold'],\n",
       " ['bran',\n",
       "  'the',\n",
       "  'morning',\n",
       "  'had',\n",
       "  'dawned',\n",
       "  'clear',\n",
       "  'and',\n",
       "  'cold',\n",
       "  'with',\n",
       "  'crispness',\n",
       "  'that',\n",
       "  'hinted',\n",
       "  'at',\n",
       "  'the',\n",
       "  'end',\n",
       "  'of',\n",
       "  'summer'],\n",
       " ['they',\n",
       "  'set',\n",
       "  'forth',\n",
       "  'at',\n",
       "  'daybreak',\n",
       "  'to',\n",
       "  'see',\n",
       "  'man',\n",
       "  'beheaded',\n",
       "  'twenty',\n",
       "  'in',\n",
       "  'all',\n",
       "  'and',\n",
       "  'bran',\n",
       "  'rode',\n",
       "  'among',\n",
       "  'them',\n",
       "  'nervous',\n",
       "  'with',\n",
       "  'excitement'],\n",
       " ['this',\n",
       "  'was',\n",
       "  'the',\n",
       "  'first',\n",
       "  'time',\n",
       "  'he',\n",
       "  'had',\n",
       "  'been',\n",
       "  'deemed',\n",
       "  'old',\n",
       "  'enough',\n",
       "  'to',\n",
       "  'go',\n",
       "  'with',\n",
       "  'his',\n",
       "  'lord',\n",
       "  'father',\n",
       "  'and',\n",
       "  'his',\n",
       "  'page',\n",
       "  'brothers',\n",
       "  'to',\n",
       "  'see',\n",
       "  'the',\n",
       "  'king',\n",
       "  'justice',\n",
       "  'done'],\n",
       " ['it',\n",
       "  'was',\n",
       "  'the',\n",
       "  'ninth',\n",
       "  'year',\n",
       "  'of',\n",
       "  'summer',\n",
       "  'and',\n",
       "  'the',\n",
       "  'seventh',\n",
       "  'of',\n",
       "  'bran',\n",
       "  'life'],\n",
       " ['the',\n",
       "  'man',\n",
       "  'had',\n",
       "  'been',\n",
       "  'taken',\n",
       "  'outside',\n",
       "  'small',\n",
       "  'holdfast',\n",
       "  'in',\n",
       "  'the',\n",
       "  'hills'],\n",
       " ['robb',\n",
       "  'thought',\n",
       "  'he',\n",
       "  'was',\n",
       "  'wildling',\n",
       "  'his',\n",
       "  'sword',\n",
       "  'sworn',\n",
       "  'to',\n",
       "  'mance',\n",
       "  'rayder',\n",
       "  'the',\n",
       "  'kingbeyond',\n",
       "  'the',\n",
       "  'wall'],\n",
       " ['it', 'made', 'bran', 'skin', 'prickle', 'to', 'think', 'of', 'it'],\n",
       " ['he', 'remembered', 'the', 'hearth', 'tales', 'old', 'nan', 'told', 'them'],\n",
       " ['the',\n",
       "  'wildlings',\n",
       "  'were',\n",
       "  'cruel',\n",
       "  'men',\n",
       "  'she',\n",
       "  'said',\n",
       "  'slavers',\n",
       "  'and',\n",
       "  'slayers',\n",
       "  'and',\n",
       "  'thieves'],\n",
       " ['they',\n",
       "  'consorted',\n",
       "  'with',\n",
       "  'giants',\n",
       "  'and',\n",
       "  'ghouls',\n",
       "  'stole',\n",
       "  'girl',\n",
       "  'children',\n",
       "  'in',\n",
       "  'the',\n",
       "  'dead',\n",
       "  'of',\n",
       "  'night',\n",
       "  'and',\n",
       "  'drank',\n",
       "  'blood',\n",
       "  'from',\n",
       "  'polished',\n",
       "  'horns'],\n",
       " ['and',\n",
       "  'their',\n",
       "  'women',\n",
       "  'lay',\n",
       "  'with',\n",
       "  'the',\n",
       "  'others',\n",
       "  'in',\n",
       "  'the',\n",
       "  'long',\n",
       "  'night',\n",
       "  'to',\n",
       "  'sire',\n",
       "  'terrible',\n",
       "  'half',\n",
       "  'human',\n",
       "  'children'],\n",
       " ['but',\n",
       "  'the',\n",
       "  'man',\n",
       "  'they',\n",
       "  'found',\n",
       "  'bound',\n",
       "  'hand',\n",
       "  'and',\n",
       "  'foot',\n",
       "  'to',\n",
       "  'the',\n",
       "  'holdfast',\n",
       "  'wall',\n",
       "  'awaiting',\n",
       "  'the',\n",
       "  'king',\n",
       "  'justice',\n",
       "  'was',\n",
       "  'old',\n",
       "  'and',\n",
       "  'scrawny',\n",
       "  'not',\n",
       "  'much',\n",
       "  'taller',\n",
       "  'than',\n",
       "  'robb'],\n",
       " ['he',\n",
       "  'had',\n",
       "  'lost',\n",
       "  'both',\n",
       "  'ears',\n",
       "  'and',\n",
       "  'finger',\n",
       "  'to',\n",
       "  'frostbite',\n",
       "  'and',\n",
       "  'he',\n",
       "  'dressed',\n",
       "  'all',\n",
       "  'in',\n",
       "  'black',\n",
       "  'the',\n",
       "  'same',\n",
       "  'as',\n",
       "  'brother',\n",
       "  'of',\n",
       "  'the',\n",
       "  'night',\n",
       "  'watch',\n",
       "  'except',\n",
       "  'that',\n",
       "  'his',\n",
       "  'furs',\n",
       "  'were',\n",
       "  'ragged',\n",
       "  'and',\n",
       "  'greasy'],\n",
       " ['the',\n",
       "  'breath',\n",
       "  'of',\n",
       "  'man',\n",
       "  'and',\n",
       "  'horse',\n",
       "  'mingled',\n",
       "  'steaming',\n",
       "  'in',\n",
       "  'the',\n",
       "  'cold',\n",
       "  'morning',\n",
       "  'air',\n",
       "  'as',\n",
       "  'his',\n",
       "  'lord',\n",
       "  'father',\n",
       "  'had',\n",
       "  'the',\n",
       "  'man',\n",
       "  'cut',\n",
       "  'down',\n",
       "  'from',\n",
       "  'the',\n",
       "  'wall',\n",
       "  'and',\n",
       "  'dragged',\n",
       "  'before',\n",
       "  'them'],\n",
       " ['robb',\n",
       "  'and',\n",
       "  'jon',\n",
       "  'sat',\n",
       "  'tall',\n",
       "  'and',\n",
       "  'still',\n",
       "  'on',\n",
       "  'their',\n",
       "  'horses',\n",
       "  'with',\n",
       "  'bran',\n",
       "  'between',\n",
       "  'them',\n",
       "  'on',\n",
       "  'his',\n",
       "  'pony',\n",
       "  'trying',\n",
       "  'to',\n",
       "  'seem',\n",
       "  'older',\n",
       "  'than',\n",
       "  'seven',\n",
       "  'trying',\n",
       "  'to',\n",
       "  'pretend',\n",
       "  'that',\n",
       "  'he',\n",
       "  'seen',\n",
       "  'all',\n",
       "  'this',\n",
       "  'before'],\n",
       " ['faint', 'wind', 'blew', 'through', 'the', 'holdfast', 'gate'],\n",
       " ['over',\n",
       "  'their',\n",
       "  'heads',\n",
       "  'flapped',\n",
       "  'the',\n",
       "  'banner',\n",
       "  'of',\n",
       "  'the',\n",
       "  'starks',\n",
       "  'of',\n",
       "  'winterfell',\n",
       "  'grey',\n",
       "  'direwolf',\n",
       "  'racing',\n",
       "  'across',\n",
       "  'an',\n",
       "  'ice',\n",
       "  'white',\n",
       "  'field'],\n",
       " ['bran',\n",
       "  'father',\n",
       "  'sat',\n",
       "  'solemnly',\n",
       "  'on',\n",
       "  'his',\n",
       "  'horse',\n",
       "  'long',\n",
       "  'brown',\n",
       "  'hair',\n",
       "  'stirring',\n",
       "  'in',\n",
       "  'the',\n",
       "  'wind'],\n",
       " ['his',\n",
       "  'closely',\n",
       "  'trimmed',\n",
       "  'beard',\n",
       "  'was',\n",
       "  'shot',\n",
       "  'with',\n",
       "  'white',\n",
       "  'making',\n",
       "  'him',\n",
       "  'look',\n",
       "  'older',\n",
       "  'than',\n",
       "  'his',\n",
       "  'thirty',\n",
       "  'five',\n",
       "  'years'],\n",
       " ['he',\n",
       "  'had',\n",
       "  'grim',\n",
       "  'cast',\n",
       "  'to',\n",
       "  'his',\n",
       "  'grey',\n",
       "  'eyes',\n",
       "  'this',\n",
       "  'day',\n",
       "  'and',\n",
       "  'he',\n",
       "  'seemed',\n",
       "  'not',\n",
       "  'at',\n",
       "  'all',\n",
       "  'the',\n",
       "  'man',\n",
       "  'who',\n",
       "  'would',\n",
       "  'sit',\n",
       "  'before',\n",
       "  'the',\n",
       "  'fire',\n",
       "  'in',\n",
       "  'the',\n",
       "  'evening',\n",
       "  'and',\n",
       "  'talk',\n",
       "  'softly',\n",
       "  'of',\n",
       "  'the',\n",
       "  'age',\n",
       "  'of',\n",
       "  'heroes',\n",
       "  'and',\n",
       "  'the',\n",
       "  'children',\n",
       "  'of',\n",
       "  'the',\n",
       "  'forest'],\n",
       " ['he',\n",
       "  'had',\n",
       "  'taken',\n",
       "  'off',\n",
       "  'father',\n",
       "  'face',\n",
       "  'bran',\n",
       "  'thought',\n",
       "  'and',\n",
       "  'donned',\n",
       "  'the',\n",
       "  'face',\n",
       "  'of',\n",
       "  'lord',\n",
       "  'stark',\n",
       "  'of',\n",
       "  'winterfell'],\n",
       " ['there',\n",
       "  'were',\n",
       "  'questions',\n",
       "  'asked',\n",
       "  'and',\n",
       "  'answers',\n",
       "  'given',\n",
       "  'there',\n",
       "  'in',\n",
       "  'the',\n",
       "  'chill',\n",
       "  'of',\n",
       "  'morning',\n",
       "  'but',\n",
       "  'afterward',\n",
       "  'bran',\n",
       "  'could',\n",
       "  'not',\n",
       "  'recall',\n",
       "  'much',\n",
       "  'of',\n",
       "  'what',\n",
       "  'had',\n",
       "  'been',\n",
       "  'said'],\n",
       " ['finally',\n",
       "  'his',\n",
       "  'lord',\n",
       "  'father',\n",
       "  'gave',\n",
       "  'command',\n",
       "  'and',\n",
       "  'two',\n",
       "  'of',\n",
       "  'his',\n",
       "  'guardsmen',\n",
       "  'dragged',\n",
       "  'the',\n",
       "  'ragged',\n",
       "  'man',\n",
       "  'to',\n",
       "  'the',\n",
       "  'ironwood',\n",
       "  'stump',\n",
       "  'in',\n",
       "  'the',\n",
       "  'center',\n",
       "  'of',\n",
       "  'the',\n",
       "  'square'],\n",
       " ['they',\n",
       "  'forced',\n",
       "  'his',\n",
       "  'head',\n",
       "  'down',\n",
       "  'onto',\n",
       "  'the',\n",
       "  'hard',\n",
       "  'black',\n",
       "  'wood'],\n",
       " ['lord',\n",
       "  'eddard',\n",
       "  'stark',\n",
       "  'dismounted',\n",
       "  'and',\n",
       "  'his',\n",
       "  'ward',\n",
       "  'theon',\n",
       "  'greyjoy',\n",
       "  'brought',\n",
       "  'forth',\n",
       "  'the',\n",
       "  'sword'],\n",
       " ['ice', 'that', 'sword', 'was', 'called'],\n",
       " ['it',\n",
       "  'was',\n",
       "  'as',\n",
       "  'wide',\n",
       "  'across',\n",
       "  'as',\n",
       "  'man',\n",
       "  'hand',\n",
       "  'and',\n",
       "  'taller',\n",
       "  'even',\n",
       "  'than',\n",
       "  'robb'],\n",
       " ['the',\n",
       "  'blade',\n",
       "  'was',\n",
       "  'valyrian',\n",
       "  'steel',\n",
       "  'spell',\n",
       "  'forged',\n",
       "  'and',\n",
       "  'dark',\n",
       "  'as',\n",
       "  'smoke'],\n",
       " ['nothing', 'held', 'an', 'edge', 'like', 'valyrian', 'steel'],\n",
       " ['his',\n",
       "  'father',\n",
       "  'peeled',\n",
       "  'off',\n",
       "  'his',\n",
       "  'gloves',\n",
       "  'and',\n",
       "  'handed',\n",
       "  'them',\n",
       "  'to',\n",
       "  'jory',\n",
       "  'cassel',\n",
       "  'the',\n",
       "  'captain',\n",
       "  'of',\n",
       "  'his',\n",
       "  'household',\n",
       "  'guard'],\n",
       " ['he',\n",
       "  'took',\n",
       "  'hold',\n",
       "  'of',\n",
       "  'ice',\n",
       "  'with',\n",
       "  'both',\n",
       "  'hands',\n",
       "  'and',\n",
       "  'said',\n",
       "  'in',\n",
       "  'the',\n",
       "  'name',\n",
       "  'of',\n",
       "  'robert',\n",
       "  'of',\n",
       "  'the',\n",
       "  'house',\n",
       "  'baratheon',\n",
       "  'the',\n",
       "  'first',\n",
       "  'of',\n",
       "  'his',\n",
       "  'name',\n",
       "  'king',\n",
       "  'of',\n",
       "  'the',\n",
       "  'andals',\n",
       "  'and',\n",
       "  'the',\n",
       "  'rhoynar',\n",
       "  'and',\n",
       "  'the',\n",
       "  'first',\n",
       "  'men',\n",
       "  'lord',\n",
       "  'of',\n",
       "  'the',\n",
       "  'seven',\n",
       "  'kingdoms',\n",
       "  'and',\n",
       "  'protector',\n",
       "  'of',\n",
       "  'the',\n",
       "  'realm',\n",
       "  'by',\n",
       "  'the',\n",
       "  'word',\n",
       "  'of',\n",
       "  'eddard',\n",
       "  'of',\n",
       "  'the',\n",
       "  'house',\n",
       "  'stark',\n",
       "  'lord',\n",
       "  'of',\n",
       "  'winterfell',\n",
       "  'and',\n",
       "  'warden',\n",
       "  'of',\n",
       "  'the',\n",
       "  'north',\n",
       "  'do',\n",
       "  'sentence',\n",
       "  'you',\n",
       "  'to',\n",
       "  'die'],\n",
       " ['he', 'lifted', 'the', 'greatsword', 'high', 'above', 'his', 'head'],\n",
       " ['bran', 'bastard', 'brother', 'jon', 'snow', 'moved', 'closer'],\n",
       " ['keep', 'the', 'pony', 'well', 'in', 'hand', 'he', 'whispered'],\n",
       " ['and', 'don', 'look', 'away'],\n",
       " ['father', 'will', 'know', 'if', 'you', 'do'],\n",
       " ['bran',\n",
       "  'kept',\n",
       "  'his',\n",
       "  'pony',\n",
       "  'well',\n",
       "  'in',\n",
       "  'hand',\n",
       "  'and',\n",
       "  'did',\n",
       "  'not',\n",
       "  'look',\n",
       "  'away'],\n",
       " ['his',\n",
       "  'father',\n",
       "  'took',\n",
       "  'off',\n",
       "  'the',\n",
       "  'man',\n",
       "  'head',\n",
       "  'with',\n",
       "  'single',\n",
       "  'sure',\n",
       "  'stroke'],\n",
       " ['blood',\n",
       "  'sprayed',\n",
       "  'out',\n",
       "  'across',\n",
       "  'the',\n",
       "  'snow',\n",
       "  'as',\n",
       "  'red',\n",
       "  'as',\n",
       "  'surnmerwine'],\n",
       " ['one',\n",
       "  'of',\n",
       "  'the',\n",
       "  'horses',\n",
       "  'reared',\n",
       "  'and',\n",
       "  'had',\n",
       "  'to',\n",
       "  'be',\n",
       "  'restrained',\n",
       "  'to',\n",
       "  'keep',\n",
       "  'from',\n",
       "  'bolting'],\n",
       " ['bran', 'could', 'not', 'take', 'his', 'eyes', 'off', 'the', 'blood'],\n",
       " ['the',\n",
       "  'snows',\n",
       "  'around',\n",
       "  'the',\n",
       "  'stump',\n",
       "  'drank',\n",
       "  'it',\n",
       "  'eagerly',\n",
       "  'reddening',\n",
       "  'as',\n",
       "  'he',\n",
       "  'watched'],\n",
       " ['the', 'head', 'bounced', 'off', 'thick', 'root', 'and', 'rolled'],\n",
       " ['it', 'came', 'up', 'near', 'greyjoy', 'feet'],\n",
       " ['theon',\n",
       "  'was',\n",
       "  'lean',\n",
       "  'dark',\n",
       "  'page',\n",
       "  'youth',\n",
       "  'of',\n",
       "  'nineteen',\n",
       "  'who',\n",
       "  'found',\n",
       "  'everything',\n",
       "  'amusing'],\n",
       " ['he',\n",
       "  'laughed',\n",
       "  'put',\n",
       "  'his',\n",
       "  'boot',\n",
       "  'on',\n",
       "  'the',\n",
       "  'head',\n",
       "  'and',\n",
       "  'kicked',\n",
       "  'it',\n",
       "  'away'],\n",
       " ['ass',\n",
       "  'jon',\n",
       "  'muttered',\n",
       "  'low',\n",
       "  'enough',\n",
       "  'so',\n",
       "  'greyjoy',\n",
       "  'did',\n",
       "  'not',\n",
       "  'hear'],\n",
       " ['he',\n",
       "  'put',\n",
       "  'hand',\n",
       "  'on',\n",
       "  'bran',\n",
       "  'shoulder',\n",
       "  'and',\n",
       "  'bran',\n",
       "  'looked',\n",
       "  'over',\n",
       "  'at',\n",
       "  'his',\n",
       "  'bastard',\n",
       "  'brother'],\n",
       " ['you', 'did', 'well', 'jon', 'told', 'him', 'solemnly'],\n",
       " ['jon', 'was', 'fourteen', 'an', 'old', 'hand', 'at', 'justice'],\n",
       " ['it',\n",
       "  'seemed',\n",
       "  'colder',\n",
       "  'on',\n",
       "  'the',\n",
       "  'long',\n",
       "  'ride',\n",
       "  'back',\n",
       "  'to',\n",
       "  'winterfell',\n",
       "  'though',\n",
       "  'the',\n",
       "  'wind',\n",
       "  'had',\n",
       "  'died',\n",
       "  'by',\n",
       "  'then',\n",
       "  'and',\n",
       "  'the',\n",
       "  'sun',\n",
       "  'was',\n",
       "  'higher',\n",
       "  'in',\n",
       "  'the',\n",
       "  'sky'],\n",
       " ['bran',\n",
       "  'rode',\n",
       "  'with',\n",
       "  'his',\n",
       "  'brothers',\n",
       "  'well',\n",
       "  'ahead',\n",
       "  'of',\n",
       "  'the',\n",
       "  'main',\n",
       "  'party',\n",
       "  'his',\n",
       "  'pony',\n",
       "  'struggling',\n",
       "  'hard',\n",
       "  'to',\n",
       "  'keep',\n",
       "  'up',\n",
       "  'with',\n",
       "  'their',\n",
       "  'horses'],\n",
       " ['the', 'deserter', 'died', 'bravely', 'robb', 'said'],\n",
       " ['he',\n",
       "  'was',\n",
       "  'big',\n",
       "  'and',\n",
       "  'broad',\n",
       "  'and',\n",
       "  'growing',\n",
       "  'every',\n",
       "  'day',\n",
       "  'with',\n",
       "  'his',\n",
       "  'mother',\n",
       "  'coloring',\n",
       "  'the',\n",
       "  'fair',\n",
       "  'skin',\n",
       "  'red',\n",
       "  'brown',\n",
       "  'hair',\n",
       "  'and',\n",
       "  'blue',\n",
       "  'eyes',\n",
       "  'of',\n",
       "  'the',\n",
       "  'tullys',\n",
       "  'of',\n",
       "  'riverrun'],\n",
       " ['he', 'had', 'courage', 'at', 'the', 'least'],\n",
       " ['no', 'jon', 'snow', 'said', 'quietly'],\n",
       " ['it', 'was', 'not', 'courage'],\n",
       " ['this', 'one', 'was', 'dead', 'of', 'fear'],\n",
       " ['you', 'could', 'see', 'it', 'in', 'his', 'eyes', 'stark'],\n",
       " ['jon',\n",
       "  'eyes',\n",
       "  'were',\n",
       "  'grey',\n",
       "  'so',\n",
       "  'dark',\n",
       "  'they',\n",
       "  'seemed',\n",
       "  'almost',\n",
       "  'black',\n",
       "  'but',\n",
       "  'there',\n",
       "  'was',\n",
       "  'little',\n",
       "  'they',\n",
       "  'did',\n",
       "  'not',\n",
       "  'see'],\n",
       " ['he',\n",
       "  'was',\n",
       "  'of',\n",
       "  'an',\n",
       "  'age',\n",
       "  'with',\n",
       "  'robb',\n",
       "  'but',\n",
       "  'they',\n",
       "  'did',\n",
       "  'not',\n",
       "  'look',\n",
       "  'alike'],\n",
       " ['jon',\n",
       "  'was',\n",
       "  'slender',\n",
       "  'where',\n",
       "  'robb',\n",
       "  'was',\n",
       "  'muscular',\n",
       "  'dark',\n",
       "  'where',\n",
       "  'robb',\n",
       "  'was',\n",
       "  'fair',\n",
       "  'graceful',\n",
       "  'and',\n",
       "  'quick',\n",
       "  'where',\n",
       "  'his',\n",
       "  'half',\n",
       "  'brother',\n",
       "  'was',\n",
       "  'strong',\n",
       "  'and',\n",
       "  'fast'],\n",
       " ['robb', 'was', 'not', 'impressed'],\n",
       " ['the', 'others', 'take', 'his', 'eyes', 'he', 'swore'],\n",
       " ['he', 'died', 'well'],\n",
       " ['race', 'you', 'to', 'the', 'bridge'],\n",
       " ['done', 'jon', 'said', 'kicking', 'his', 'horse', 'forward'],\n",
       " ['robb',\n",
       "  'cursed',\n",
       "  'and',\n",
       "  'followed',\n",
       "  'and',\n",
       "  'they',\n",
       "  'galloped',\n",
       "  'off',\n",
       "  'down',\n",
       "  'the',\n",
       "  'trail',\n",
       "  'robb',\n",
       "  'laughing',\n",
       "  'and',\n",
       "  'hooting',\n",
       "  'jon',\n",
       "  'silent',\n",
       "  'and',\n",
       "  'intent'],\n",
       " ['the',\n",
       "  'hooves',\n",
       "  'of',\n",
       "  'their',\n",
       "  'horses',\n",
       "  'kicked',\n",
       "  'up',\n",
       "  'showers',\n",
       "  'of',\n",
       "  'snow',\n",
       "  'as',\n",
       "  'they',\n",
       "  'went'],\n",
       " ['bran', 'did', 'not', 'try', 'to', 'follow'],\n",
       " ['his', 'pony', 'could', 'not', 'keep', 'up'],\n",
       " ['he',\n",
       "  'had',\n",
       "  'seen',\n",
       "  'the',\n",
       "  'ragged',\n",
       "  'man',\n",
       "  'eyes',\n",
       "  'and',\n",
       "  'he',\n",
       "  'was',\n",
       "  'thinking',\n",
       "  'of',\n",
       "  'them',\n",
       "  'now'],\n",
       " ['after',\n",
       "  'while',\n",
       "  'the',\n",
       "  'sound',\n",
       "  'of',\n",
       "  'robb',\n",
       "  'laughter',\n",
       "  'receded',\n",
       "  'and',\n",
       "  'the',\n",
       "  'woods',\n",
       "  'grew',\n",
       "  'silent',\n",
       "  'again'],\n",
       " ['so',\n",
       "  'deep',\n",
       "  'in',\n",
       "  'thought',\n",
       "  'was',\n",
       "  'he',\n",
       "  'that',\n",
       "  'he',\n",
       "  'never',\n",
       "  'heard',\n",
       "  'the',\n",
       "  'rest',\n",
       "  'of',\n",
       "  'the',\n",
       "  'party',\n",
       "  'until',\n",
       "  'his',\n",
       "  'father',\n",
       "  'moved',\n",
       "  'up',\n",
       "  'to',\n",
       "  'ride',\n",
       "  'beside',\n",
       "  'him'],\n",
       " ['are', 'you', 'well', 'bran'],\n",
       " ['he', 'asked', 'not', 'unkindly'],\n",
       " ['yes', 'father', 'bran', 'told', 'him'],\n",
       " ['he', 'looked', 'up'],\n",
       " ['wrapped',\n",
       "  'in',\n",
       "  'his',\n",
       "  'furs',\n",
       "  'and',\n",
       "  'leathers',\n",
       "  'mounted',\n",
       "  'on',\n",
       "  'his',\n",
       "  'great',\n",
       "  'warhorse',\n",
       "  'his',\n",
       "  'lord',\n",
       "  'father',\n",
       "  'loomed',\n",
       "  'over',\n",
       "  'him',\n",
       "  'like',\n",
       "  'giant'],\n",
       " ['robb',\n",
       "  'says',\n",
       "  'the',\n",
       "  'man',\n",
       "  'died',\n",
       "  'bravely',\n",
       "  'but',\n",
       "  'jon',\n",
       "  'says',\n",
       "  'he',\n",
       "  'was',\n",
       "  'afraid'],\n",
       " ['what', 'do', 'you', 'think'],\n",
       " ['his', 'father', 'asked'],\n",
       " ['bran', 'thought', 'about', 'it'],\n",
       " ['can', 'man', 'still', 'be', 'brave', 'if', 'he', 'afraid'],\n",
       " ['that',\n",
       "  'is',\n",
       "  'the',\n",
       "  'only',\n",
       "  'time',\n",
       "  'man',\n",
       "  'can',\n",
       "  'be',\n",
       "  'brave',\n",
       "  'his',\n",
       "  'father',\n",
       "  'told',\n",
       "  'him'],\n",
       " ['do', 'you', 'understand', 'why', 'did', 'it'],\n",
       " ['he', 'was', 'wildling', 'bran', 'said'],\n",
       " ['they',\n",
       "  'carry',\n",
       "  'off',\n",
       "  'women',\n",
       "  'and',\n",
       "  'sell',\n",
       "  'them',\n",
       "  'to',\n",
       "  'the',\n",
       "  'others'],\n",
       " ['his', 'lord', 'father', 'smiled'],\n",
       " ['old', 'nan', 'has', 'been', 'telling', 'you', 'stories', 'again'],\n",
       " ['in',\n",
       "  'truth',\n",
       "  'the',\n",
       "  'man',\n",
       "  'was',\n",
       "  'an',\n",
       "  'oathbreaker',\n",
       "  'deserter',\n",
       "  'from',\n",
       "  'the',\n",
       "  'night',\n",
       "  'watch'],\n",
       " ['no', 'man', 'is', 'more', 'dangerous'],\n",
       " ['the',\n",
       "  'deserter',\n",
       "  'knows',\n",
       "  'his',\n",
       "  'life',\n",
       "  'is',\n",
       "  'forfeit',\n",
       "  'if',\n",
       "  'he',\n",
       "  'is',\n",
       "  'taken',\n",
       "  'so',\n",
       "  'he',\n",
       "  'will',\n",
       "  'not',\n",
       "  'flinch',\n",
       "  'from',\n",
       "  'any',\n",
       "  'crime',\n",
       "  'no',\n",
       "  'matter',\n",
       "  'how',\n",
       "  'vile'],\n",
       " ['but', 'you', 'mistake', 'me'],\n",
       " ['the',\n",
       "  'question',\n",
       "  'was',\n",
       "  'not',\n",
       "  'why',\n",
       "  'the',\n",
       "  'man',\n",
       "  'had',\n",
       "  'to',\n",
       "  'die',\n",
       "  'but',\n",
       "  'why',\n",
       "  'must',\n",
       "  'do',\n",
       "  'it'],\n",
       " ['page', 'bran', 'had', 'no', 'answer', 'for', 'that'],\n",
       " ['king', 'robert', 'has', 'headsman', 'he', 'said', 'uncertainly'],\n",
       " ['he', 'does', 'his', 'father', 'admitted'],\n",
       " ['as', 'did', 'the', 'targaryen', 'kings', 'before', 'him'],\n",
       " ['yet', 'our', 'way', 'is', 'the', 'older', 'way'],\n",
       " ['the',\n",
       "  'blood',\n",
       "  'of',\n",
       "  'the',\n",
       "  'first',\n",
       "  'men',\n",
       "  'still',\n",
       "  'flows',\n",
       "  'in',\n",
       "  'the',\n",
       "  'veins',\n",
       "  'of',\n",
       "  'the',\n",
       "  'starks',\n",
       "  'and',\n",
       "  'we',\n",
       "  'hold',\n",
       "  'to',\n",
       "  'the',\n",
       "  'belief',\n",
       "  'that',\n",
       "  'the',\n",
       "  'man',\n",
       "  'who',\n",
       "  'passes',\n",
       "  'the',\n",
       "  'sentence',\n",
       "  'should',\n",
       "  'swing',\n",
       "  'the',\n",
       "  'sword'],\n",
       " ['if',\n",
       "  'you',\n",
       "  'would',\n",
       "  'take',\n",
       "  'man',\n",
       "  'life',\n",
       "  'you',\n",
       "  'owe',\n",
       "  'it',\n",
       "  'to',\n",
       "  'him',\n",
       "  'to',\n",
       "  'look',\n",
       "  'into',\n",
       "  'his',\n",
       "  'eyes',\n",
       "  'and',\n",
       "  'hear',\n",
       "  'his',\n",
       "  'final',\n",
       "  'words'],\n",
       " ['and',\n",
       "  'if',\n",
       "  'you',\n",
       "  'cannot',\n",
       "  'bear',\n",
       "  'to',\n",
       "  'do',\n",
       "  'that',\n",
       "  'then',\n",
       "  'perhaps',\n",
       "  'the',\n",
       "  'man',\n",
       "  'does',\n",
       "  'not',\n",
       "  'deserve',\n",
       "  'to',\n",
       "  'die'],\n",
       " ['one',\n",
       "  'day',\n",
       "  'bran',\n",
       "  'you',\n",
       "  'will',\n",
       "  'be',\n",
       "  'robb',\n",
       "  'bannerman',\n",
       "  'holding',\n",
       "  'keep',\n",
       "  'of',\n",
       "  'your',\n",
       "  'own',\n",
       "  'for',\n",
       "  'your',\n",
       "  'brother',\n",
       "  'and',\n",
       "  'your',\n",
       "  'king',\n",
       "  'and',\n",
       "  'justice',\n",
       "  'will',\n",
       "  'fall',\n",
       "  'to',\n",
       "  'you'],\n",
       " ['when',\n",
       "  'that',\n",
       "  'day',\n",
       "  'comes',\n",
       "  'you',\n",
       "  'must',\n",
       "  'take',\n",
       "  'no',\n",
       "  'pleasure',\n",
       "  'in',\n",
       "  'the',\n",
       "  'task',\n",
       "  'but',\n",
       "  'neither',\n",
       "  'must',\n",
       "  'you',\n",
       "  'look',\n",
       "  'away'],\n",
       " ['ruler',\n",
       "  'who',\n",
       "  'hides',\n",
       "  'behind',\n",
       "  'paid',\n",
       "  'executioners',\n",
       "  'soon',\n",
       "  'forgets',\n",
       "  'what',\n",
       "  'death',\n",
       "  'is'],\n",
       " ['that',\n",
       "  'was',\n",
       "  'when',\n",
       "  'jon',\n",
       "  'reappeared',\n",
       "  'on',\n",
       "  'the',\n",
       "  'crest',\n",
       "  'of',\n",
       "  'the',\n",
       "  'hill',\n",
       "  'before',\n",
       "  'them'],\n",
       " ['he', 'waved', 'and', 'shouted', 'down', 'at', 'them'],\n",
       " ['father', 'bran', 'come', 'quickly', 'see', 'what', 'robb', 'has', 'found'],\n",
       " ['then', 'he', 'was', 'gone', 'again'],\n",
       " ['jory', 'rode', 'up', 'beside', 'them'],\n",
       " ['trouble', 'my', 'lord'],\n",
       " ['beyond', 'doubt', 'his', 'lord', 'father', 'said'],\n",
       " ['come',\n",
       "  'let',\n",
       "  'us',\n",
       "  'see',\n",
       "  'what',\n",
       "  'mischief',\n",
       "  'my',\n",
       "  'sons',\n",
       "  'have',\n",
       "  'rooted',\n",
       "  'out',\n",
       "  'now'],\n",
       " ['he', 'sent', 'his', 'horse', 'into', 'trot'],\n",
       " ['jory', 'and', 'bran', 'and', 'the', 'rest', 'came', 'after'],\n",
       " ['they',\n",
       "  'found',\n",
       "  'robb',\n",
       "  'on',\n",
       "  'the',\n",
       "  'riverbank',\n",
       "  'north',\n",
       "  'of',\n",
       "  'the',\n",
       "  'bridge',\n",
       "  'with',\n",
       "  'jon',\n",
       "  'still',\n",
       "  'mounted',\n",
       "  'beside',\n",
       "  'him'],\n",
       " ['the',\n",
       "  'late',\n",
       "  'summer',\n",
       "  'snows',\n",
       "  'had',\n",
       "  'been',\n",
       "  'heavy',\n",
       "  'this',\n",
       "  'moonturn'],\n",
       " ['robb',\n",
       "  'stood',\n",
       "  'knee',\n",
       "  'deep',\n",
       "  'in',\n",
       "  'white',\n",
       "  'his',\n",
       "  'hood',\n",
       "  'pulled',\n",
       "  'back',\n",
       "  'so',\n",
       "  'the',\n",
       "  'sun',\n",
       "  'shone',\n",
       "  'in',\n",
       "  'his',\n",
       "  'hair'],\n",
       " ['he',\n",
       "  'was',\n",
       "  'cradling',\n",
       "  'something',\n",
       "  'in',\n",
       "  'his',\n",
       "  'arm',\n",
       "  'while',\n",
       "  'the',\n",
       "  'boys',\n",
       "  'talked',\n",
       "  'in',\n",
       "  'hushed',\n",
       "  'excited',\n",
       "  'voices'],\n",
       " ['the',\n",
       "  'riders',\n",
       "  'picked',\n",
       "  'their',\n",
       "  'way',\n",
       "  'carefully',\n",
       "  'through',\n",
       "  'the',\n",
       "  'drifts',\n",
       "  'groping',\n",
       "  'for',\n",
       "  'solid',\n",
       "  'footing',\n",
       "  'on',\n",
       "  'the',\n",
       "  'hidden',\n",
       "  'uneven',\n",
       "  'ground'],\n",
       " ['jory',\n",
       "  'cassel',\n",
       "  'and',\n",
       "  'theon',\n",
       "  'greyjoy',\n",
       "  'were',\n",
       "  'the',\n",
       "  'first',\n",
       "  'to',\n",
       "  'reach',\n",
       "  'the',\n",
       "  'boys'],\n",
       " ['greyjoy', 'was', 'laughing', 'and', 'joking', 'as', 'he', 'rode'],\n",
       " ['bran', 'heard', 'the', 'breath', 'go', 'out', 'of', 'him'],\n",
       " ['gods'],\n",
       " ['he',\n",
       "  'exclaimed',\n",
       "  'struggling',\n",
       "  'to',\n",
       "  'keep',\n",
       "  'control',\n",
       "  'of',\n",
       "  'his',\n",
       "  'horse',\n",
       "  'as',\n",
       "  'he',\n",
       "  'reached',\n",
       "  'for',\n",
       "  'his',\n",
       "  'sword'],\n",
       " ['jory', 'sword', 'was', 'already', 'out'],\n",
       " ['robb', 'get', 'away', 'from', 'it'],\n",
       " ['he', 'called', 'as', 'his', 'horse', 'reared', 'under', 'him'],\n",
       " ['robb',\n",
       "  'grinned',\n",
       "  'and',\n",
       "  'looked',\n",
       "  'up',\n",
       "  'from',\n",
       "  'the',\n",
       "  'bundle',\n",
       "  'in',\n",
       "  'his',\n",
       "  'arms'],\n",
       " ['she', 'can', 'hurt', 'you', 'he', 'said'],\n",
       " ['she', 'dead', 'jory'],\n",
       " ['bran', 'was', 'afire', 'with', 'curiosity', 'by', 'then'],\n",
       " ['he',\n",
       "  'would',\n",
       "  'have',\n",
       "  'spurred',\n",
       "  'the',\n",
       "  'pony',\n",
       "  'faster',\n",
       "  'but',\n",
       "  'his',\n",
       "  'father',\n",
       "  'made',\n",
       "  'them',\n",
       "  'dismount',\n",
       "  'beside',\n",
       "  'the',\n",
       "  'bridge',\n",
       "  'and',\n",
       "  'approach',\n",
       "  'on',\n",
       "  'foot'],\n",
       " ['bran', 'jumped', 'off', 'and', 'ran'],\n",
       " ['by',\n",
       "  'then',\n",
       "  'jon',\n",
       "  'jory',\n",
       "  'and',\n",
       "  'theon',\n",
       "  'greyjoy',\n",
       "  'had',\n",
       "  'all',\n",
       "  'dismounted',\n",
       "  'as',\n",
       "  'well'],\n",
       " ['what', 'in', 'the', 'seven', 'hells', 'is', 'it'],\n",
       " ['greyjoy', 'was', 'saying'],\n",
       " ['wolf', 'robb', 'told', 'him'],\n",
       " ['freak', 'greyjoy', 'said'],\n",
       " ['look', 'at', 'the', 'size', 'of', 'it'],\n",
       " ['bran',\n",
       "  'heart',\n",
       "  'was',\n",
       "  'thumping',\n",
       "  'in',\n",
       "  'his',\n",
       "  'chest',\n",
       "  'as',\n",
       "  'he',\n",
       "  'pushed',\n",
       "  'through',\n",
       "  'waist',\n",
       "  'high',\n",
       "  'drift',\n",
       "  'to',\n",
       "  'his',\n",
       "  'brothers',\n",
       "  'side'],\n",
       " ['half',\n",
       "  'buried',\n",
       "  'in',\n",
       "  'bloodstained',\n",
       "  'snow',\n",
       "  'huge',\n",
       "  'dark',\n",
       "  'shape',\n",
       "  'slumped',\n",
       "  'in',\n",
       "  'death'],\n",
       " ['ice',\n",
       "  'had',\n",
       "  'formed',\n",
       "  'in',\n",
       "  'its',\n",
       "  'shaggy',\n",
       "  'grey',\n",
       "  'fur',\n",
       "  'and',\n",
       "  'the',\n",
       "  'faint',\n",
       "  'smell',\n",
       "  'of',\n",
       "  'corruption',\n",
       "  'clung',\n",
       "  'to',\n",
       "  'it',\n",
       "  'like',\n",
       "  'woman',\n",
       "  'perfume'],\n",
       " ['bran',\n",
       "  'glimpsed',\n",
       "  'blind',\n",
       "  'eyes',\n",
       "  'crawling',\n",
       "  'with',\n",
       "  'maggots',\n",
       "  'wide',\n",
       "  'mouth',\n",
       "  'full',\n",
       "  'of',\n",
       "  'yellowed',\n",
       "  'teeth'],\n",
       " ['but',\n",
       "  'it',\n",
       "  'was',\n",
       "  'the',\n",
       "  'size',\n",
       "  'of',\n",
       "  'it',\n",
       "  'that',\n",
       "  'made',\n",
       "  'him',\n",
       "  'gasp'],\n",
       " ['it',\n",
       "  'was',\n",
       "  'bigger',\n",
       "  'than',\n",
       "  'his',\n",
       "  'pony',\n",
       "  'twice',\n",
       "  'the',\n",
       "  'size',\n",
       "  'of',\n",
       "  'the',\n",
       "  'largest',\n",
       "  'hound',\n",
       "  'in',\n",
       "  'his',\n",
       "  'father',\n",
       "  'kennel'],\n",
       " ['page', 'it', 'no', 'freak', 'jon', 'said', 'calmly'],\n",
       " ['that', 'direwolf'],\n",
       " ['they', 'grow', 'larger', 'than', 'the', 'other', 'kind'],\n",
       " ['theon',\n",
       "  'greyjoy',\n",
       "  'said',\n",
       "  'there',\n",
       "  'not',\n",
       "  'been',\n",
       "  'direwolf',\n",
       "  'sighted',\n",
       "  'south',\n",
       "  'of',\n",
       "  'the',\n",
       "  'wall',\n",
       "  'in',\n",
       "  'two',\n",
       "  'hundred',\n",
       "  'years'],\n",
       " ['see', 'one', 'now', 'jon', 'replied'],\n",
       " ['bran', 'tore', 'his', 'eyes', 'away', 'from', 'the', 'monster'],\n",
       " ['that',\n",
       "  'was',\n",
       "  'when',\n",
       "  'he',\n",
       "  'noticed',\n",
       "  'the',\n",
       "  'bundle',\n",
       "  'in',\n",
       "  'robb',\n",
       "  'arms'],\n",
       " ['he', 'gave', 'cry', 'of', 'delight', 'and', 'moved', 'closer'],\n",
       " ['the',\n",
       "  'pup',\n",
       "  'was',\n",
       "  'tiny',\n",
       "  'ball',\n",
       "  'of',\n",
       "  'grey',\n",
       "  'black',\n",
       "  'fur',\n",
       "  'its',\n",
       "  'eyes',\n",
       "  'still',\n",
       "  'closed'],\n",
       " ['it',\n",
       "  'nuzzled',\n",
       "  'blindly',\n",
       "  'against',\n",
       "  'robb',\n",
       "  'chest',\n",
       "  'as',\n",
       "  'he',\n",
       "  'cradled',\n",
       "  'it',\n",
       "  'searching',\n",
       "  'for',\n",
       "  'milk',\n",
       "  'among',\n",
       "  'his',\n",
       "  'leathers',\n",
       "  'making',\n",
       "  'sad',\n",
       "  'little',\n",
       "  'whimpery',\n",
       "  'sound'],\n",
       " ['bran', 'reached', 'out', 'hesitantly'],\n",
       " ['go', 'on', 'robb', 'told', 'him'],\n",
       " ['you', 'can', 'touch', 'him'],\n",
       " ['bran',\n",
       "  'gave',\n",
       "  'the',\n",
       "  'pup',\n",
       "  'quick',\n",
       "  'nervous',\n",
       "  'stroke',\n",
       "  'then',\n",
       "  'turned',\n",
       "  'as',\n",
       "  'jon',\n",
       "  'said',\n",
       "  'here',\n",
       "  'you',\n",
       "  'go'],\n",
       " ['his', 'half', 'brother', 'put', 'second', 'pup', 'into', 'his', 'arms'],\n",
       " ['there', 'are', 'five', 'of', 'them'],\n",
       " ['bran',\n",
       "  'sat',\n",
       "  'down',\n",
       "  'in',\n",
       "  'the',\n",
       "  'snow',\n",
       "  'and',\n",
       "  'hugged',\n",
       "  'the',\n",
       "  'wolf',\n",
       "  'pup',\n",
       "  'to',\n",
       "  'his',\n",
       "  'face'],\n",
       " ['its', 'fur', 'was', 'soft', 'and', 'warm', 'against', 'his', 'cheek'],\n",
       " ['direwolves',\n",
       "  'loose',\n",
       "  'in',\n",
       "  'the',\n",
       "  'realm',\n",
       "  'after',\n",
       "  'so',\n",
       "  'many',\n",
       "  'years',\n",
       "  'muttered',\n",
       "  'hullen',\n",
       "  'the',\n",
       "  'master',\n",
       "  'of',\n",
       "  'horse'],\n",
       " ['like', 'it', 'not'],\n",
       " ['it', 'is', 'sign', 'jory', 'said'],\n",
       " ['father', 'frowned'],\n",
       " ['this', 'is', 'only', 'dead', 'animal', 'jory', 'he', 'said'],\n",
       " ['yet', 'he', 'seemed', 'troubled'],\n",
       " ['snow',\n",
       "  'crunched',\n",
       "  'under',\n",
       "  'his',\n",
       "  'boots',\n",
       "  'as',\n",
       "  'he',\n",
       "  'moved',\n",
       "  'around',\n",
       "  'the',\n",
       "  'body'],\n",
       " ['do', 'we', 'know', 'what', 'killed', 'her'],\n",
       " ['there',\n",
       "  'something',\n",
       "  'in',\n",
       "  'the',\n",
       "  'throat',\n",
       "  'robb',\n",
       "  'told',\n",
       "  'him',\n",
       "  'proud',\n",
       "  'to',\n",
       "  'have',\n",
       "  'found',\n",
       "  'the',\n",
       "  'answer',\n",
       "  'before',\n",
       "  'his',\n",
       "  'father',\n",
       "  'even',\n",
       "  'asked'],\n",
       " ['there',\n",
       "  'just',\n",
       "  'under',\n",
       "  'the',\n",
       "  'jaw',\n",
       "  'his',\n",
       "  'father',\n",
       "  'knelt',\n",
       "  'and',\n",
       "  'groped',\n",
       "  'under',\n",
       "  'the',\n",
       "  'beast',\n",
       "  'head',\n",
       "  'with',\n",
       "  'his',\n",
       "  'hand'],\n",
       " ['he', 'gave', 'yank', 'and', 'held', 'it', 'up', 'for', 'all', 'to', 'see'],\n",
       " ['foot',\n",
       "  'of',\n",
       "  'shattered',\n",
       "  'antler',\n",
       "  'tines',\n",
       "  'snapped',\n",
       "  'off',\n",
       "  'all',\n",
       "  'wet',\n",
       "  'with',\n",
       "  'blood'],\n",
       " ['sudden', 'silence', 'descended', 'over', 'the', 'party'],\n",
       " ['the',\n",
       "  'men',\n",
       "  'looked',\n",
       "  'at',\n",
       "  'the',\n",
       "  'antler',\n",
       "  'uneasily',\n",
       "  'and',\n",
       "  'no',\n",
       "  'one',\n",
       "  'dared',\n",
       "  'to',\n",
       "  'speak'],\n",
       " ['even',\n",
       "  'bran',\n",
       "  'could',\n",
       "  'sense',\n",
       "  'their',\n",
       "  'fear',\n",
       "  'though',\n",
       "  'he',\n",
       "  'did',\n",
       "  'not',\n",
       "  'understand'],\n",
       " ['his',\n",
       "  'father',\n",
       "  'tossed',\n",
       "  'the',\n",
       "  'antler',\n",
       "  'to',\n",
       "  'the',\n",
       "  'side',\n",
       "  'and',\n",
       "  'cleansed',\n",
       "  'his',\n",
       "  'hands',\n",
       "  'in',\n",
       "  'the',\n",
       "  'snow'],\n",
       " ['surprised', 'she', 'lived', 'long', 'enough', 'to', 'whelp', 'he', 'said'],\n",
       " ['his', 'voice', 'broke', 'the', 'spell'],\n",
       " ['maybe', 'she', 'didn', 'jory', 'said'],\n",
       " ['ve', 'heard', 'tales'],\n",
       " [],\n",
       " [],\n",
       " ['maybe',\n",
       "  'the',\n",
       "  'bitch',\n",
       "  'was',\n",
       "  'already',\n",
       "  'dead',\n",
       "  'when',\n",
       "  'the',\n",
       "  'pups',\n",
       "  'came'],\n",
       " ['born', 'with', 'the', 'dead', 'another', 'man', 'put', 'in'],\n",
       " ['worse', 'luck'],\n",
       " ['no', 'matter', 'said', 'hullen'],\n",
       " ['they', 'be', 'dead', 'soon', 'enough', 'too'],\n",
       " ['bran', 'gave', 'wordless', 'cry', 'of', 'dismay'],\n",
       " ['the', 'sooner', 'the', 'better', 'theon', 'greyjoy', 'agreed'],\n",
       " ['he', 'drew', 'his', 'sword'],\n",
       " ['give', 'the', 'beast', 'here', 'bran'],\n",
       " ['the',\n",
       "  'little',\n",
       "  'thing',\n",
       "  'squirmed',\n",
       "  'against',\n",
       "  'him',\n",
       "  'as',\n",
       "  'if',\n",
       "  'it',\n",
       "  'heard',\n",
       "  'and',\n",
       "  'understood'],\n",
       " ['no'],\n",
       " ['bran', 'cried', 'out', 'fiercely'],\n",
       " ['it', 'mine'],\n",
       " ['page', 'put', 'away', 'your', 'sword', 'greyjoy', 'robb', 'said'],\n",
       " ['for',\n",
       "  'moment',\n",
       "  'he',\n",
       "  'sounded',\n",
       "  'as',\n",
       "  'commanding',\n",
       "  'as',\n",
       "  'their',\n",
       "  'father',\n",
       "  'like',\n",
       "  'the',\n",
       "  'lord',\n",
       "  'he',\n",
       "  'would',\n",
       "  'someday',\n",
       "  'be'],\n",
       " ['we', 'will', 'keep', 'these', 'pups'],\n",
       " ['you',\n",
       "  'cannot',\n",
       "  'do',\n",
       "  'that',\n",
       "  'boy',\n",
       "  'said',\n",
       "  'harwin',\n",
       "  'who',\n",
       "  'was',\n",
       "  'hullen',\n",
       "  'son'],\n",
       " ['it', 'be', 'mercy', 'to', 'kill', 'them', 'hullen', 'said'],\n",
       " ['bran',\n",
       "  'looked',\n",
       "  'to',\n",
       "  'his',\n",
       "  'lord',\n",
       "  'father',\n",
       "  'for',\n",
       "  'rescue',\n",
       "  'but',\n",
       "  'got',\n",
       "  'only',\n",
       "  'frown',\n",
       "  'furrowed',\n",
       "  'brow'],\n",
       " ['hullen', 'speaks', 'truly', 'son'],\n",
       " ['better',\n",
       "  'swift',\n",
       "  'death',\n",
       "  'than',\n",
       "  'hard',\n",
       "  'one',\n",
       "  'from',\n",
       "  'cold',\n",
       "  'and',\n",
       "  'starvation'],\n",
       " ['no'],\n",
       " ['he',\n",
       "  'could',\n",
       "  'feel',\n",
       "  'tears',\n",
       "  'welling',\n",
       "  'in',\n",
       "  'his',\n",
       "  'eyes',\n",
       "  'and',\n",
       "  'he',\n",
       "  'looked',\n",
       "  'away'],\n",
       " ['he',\n",
       "  'did',\n",
       "  'not',\n",
       "  'want',\n",
       "  'to',\n",
       "  'cry',\n",
       "  'in',\n",
       "  'front',\n",
       "  'of',\n",
       "  'his',\n",
       "  'father'],\n",
       " ['robb', 'resisted', 'stubbornly'],\n",
       " ['ser',\n",
       "  'rodrik',\n",
       "  'red',\n",
       "  'bitch',\n",
       "  'whelped',\n",
       "  'again',\n",
       "  'last',\n",
       "  'week',\n",
       "  'he',\n",
       "  'said'],\n",
       " ['it', 'was', 'small', 'litter', 'only', 'two', 'live', 'pups'],\n",
       " ['she', 'll', 'have', 'milk', 'enough'],\n",
       " ['she', 'll', 'rip', 'them', 'apart', 'when', 'they', 'try', 'to', 'nurse'],\n",
       " ['lord', 'stark', 'jon', 'said'],\n",
       " ['it',\n",
       "  'was',\n",
       "  'strange',\n",
       "  'to',\n",
       "  'hear',\n",
       "  'him',\n",
       "  'call',\n",
       "  'father',\n",
       "  'that',\n",
       "  'so',\n",
       "  'formal'],\n",
       " ['bran', 'looked', 'at', 'him', 'with', 'desperate', 'hope'],\n",
       " ['there', 'are', 'five', 'pups', 'he', 'told', 'father'],\n",
       " ['three', 'male', 'two', 'female'],\n",
       " ['what', 'of', 'it', 'jon'],\n",
       " ['you', 'have', 'five', 'trueborn', 'children', 'jon', 'said'],\n",
       " ['three', 'sons', 'two', 'daughters'],\n",
       " ['the', 'direwolf', 'is', 'the', 'sigil', 'of', 'your', 'house'],\n",
       " ['your',\n",
       "  'children',\n",
       "  'were',\n",
       "  'meant',\n",
       "  'to',\n",
       "  'have',\n",
       "  'these',\n",
       "  'pups',\n",
       "  'my',\n",
       "  'lord'],\n",
       " ['bran',\n",
       "  'saw',\n",
       "  'his',\n",
       "  'father',\n",
       "  'face',\n",
       "  'change',\n",
       "  'saw',\n",
       "  'the',\n",
       "  'other',\n",
       "  'men',\n",
       "  'exchange',\n",
       "  'glances'],\n",
       " ['he', 'loved', 'jon', 'with', 'all', 'his', 'heart', 'at', 'that', 'moment'],\n",
       " ['even',\n",
       "  'at',\n",
       "  'seven',\n",
       "  'bran',\n",
       "  'understood',\n",
       "  'what',\n",
       "  'his',\n",
       "  'brother',\n",
       "  'had',\n",
       "  'done'],\n",
       " ['the',\n",
       "  'count',\n",
       "  'had',\n",
       "  'come',\n",
       "  'right',\n",
       "  'only',\n",
       "  'because',\n",
       "  'jon',\n",
       "  'had',\n",
       "  'omitted',\n",
       "  'himself'],\n",
       " ['he',\n",
       "  'had',\n",
       "  'included',\n",
       "  'the',\n",
       "  'girls',\n",
       "  'included',\n",
       "  'even',\n",
       "  'rickon',\n",
       "  'the',\n",
       "  'baby',\n",
       "  'but',\n",
       "  'not',\n",
       "  'the',\n",
       "  'bastard',\n",
       "  'who',\n",
       "  'bore',\n",
       "  'the',\n",
       "  'surname',\n",
       "  'snow',\n",
       "  'the',\n",
       "  'name',\n",
       "  'that',\n",
       "  'custom',\n",
       "  'decreed',\n",
       "  'be',\n",
       "  'given',\n",
       "  'to',\n",
       "  'all',\n",
       "  'those',\n",
       "  'in',\n",
       "  'the',\n",
       "  'north',\n",
       "  'unlucky',\n",
       "  'enough',\n",
       "  'to',\n",
       "  'be',\n",
       "  'born',\n",
       "  'with',\n",
       "  'no',\n",
       "  'name',\n",
       "  'of',\n",
       "  'their',\n",
       "  'own'],\n",
       " ['their', 'father', 'understood', 'as', 'well'],\n",
       " ['you', 'want', 'no', 'pup', 'for', 'yourself', 'jon'],\n",
       " ['he', 'asked', 'softly'],\n",
       " ['the',\n",
       "  'direwolf',\n",
       "  'graces',\n",
       "  'the',\n",
       "  'banners',\n",
       "  'of',\n",
       "  'house',\n",
       "  'stark',\n",
       "  'jon',\n",
       "  'pointed',\n",
       "  'out'],\n",
       " ['am', 'no', 'stark', 'father'],\n",
       " ['their', 'lord', 'father', 'regarded', 'jon', 'thoughtfully'],\n",
       " ['robb', 'rushed', 'into', 'the', 'silence', 'he', 'left'],\n",
       " ['will', 'nurse', 'him', 'myself', 'father', 'he', 'promised'],\n",
       " ['will',\n",
       "  'soak',\n",
       "  'towel',\n",
       "  'with',\n",
       "  'warm',\n",
       "  'milk',\n",
       "  'and',\n",
       "  'give',\n",
       "  'him',\n",
       "  'suck',\n",
       "  'from',\n",
       "  'that'],\n",
       " ['me', 'too'],\n",
       " ['bran', 'echoed'],\n",
       " ['the',\n",
       "  'lord',\n",
       "  'weighed',\n",
       "  'his',\n",
       "  'sons',\n",
       "  'long',\n",
       "  'and',\n",
       "  'carefully',\n",
       "  'with',\n",
       "  'his',\n",
       "  'eyes'],\n",
       " ['easy', 'to', 'say', 'and', 'harder', 'to', 'do'],\n",
       " ['will',\n",
       "  'not',\n",
       "  'have',\n",
       "  'you',\n",
       "  'wasting',\n",
       "  'the',\n",
       "  'servants',\n",
       "  'time',\n",
       "  'with',\n",
       "  'this'],\n",
       " ['if',\n",
       "  'you',\n",
       "  'want',\n",
       "  'these',\n",
       "  'pups',\n",
       "  'you',\n",
       "  'will',\n",
       "  'feed',\n",
       "  'them',\n",
       "  'yourselves'],\n",
       " ['is', 'that', 'understood'],\n",
       " ['bran', 'nodded', 'eagerly'],\n",
       " ['the',\n",
       "  'pup',\n",
       "  'squirmed',\n",
       "  'in',\n",
       "  'his',\n",
       "  'grasp',\n",
       "  'licked',\n",
       "  'at',\n",
       "  'his',\n",
       "  'face',\n",
       "  'with',\n",
       "  'warm',\n",
       "  'tongue'],\n",
       " ['you', 'must', 'train', 'them', 'as', 'well', 'their', 'father', 'said'],\n",
       " ['you', 'must', 'train', 'them'],\n",
       " ['the',\n",
       "  'kennelmaster',\n",
       "  'will',\n",
       "  'have',\n",
       "  'nothing',\n",
       "  'to',\n",
       "  'do',\n",
       "  'with',\n",
       "  'these',\n",
       "  'monsters',\n",
       "  'promise',\n",
       "  'you',\n",
       "  'that'],\n",
       " ['and',\n",
       "  'the',\n",
       "  'gods',\n",
       "  'help',\n",
       "  'you',\n",
       "  'if',\n",
       "  'you',\n",
       "  'neglect',\n",
       "  'them',\n",
       "  'or',\n",
       "  'brutalize',\n",
       "  'them',\n",
       "  'or',\n",
       "  'train',\n",
       "  'them',\n",
       "  'badly'],\n",
       " ['these',\n",
       "  'are',\n",
       "  'not',\n",
       "  'dogs',\n",
       "  'to',\n",
       "  'beg',\n",
       "  'for',\n",
       "  'treats',\n",
       "  'and',\n",
       "  'slink',\n",
       "  'off',\n",
       "  'at',\n",
       "  'kick'],\n",
       " ['direwolf',\n",
       "  'will',\n",
       "  'rip',\n",
       "  'page',\n",
       "  'man',\n",
       "  'arm',\n",
       "  'off',\n",
       "  'his',\n",
       "  'shoulder',\n",
       "  'as',\n",
       "  'easily',\n",
       "  'as',\n",
       "  'dog',\n",
       "  'will',\n",
       "  'kill',\n",
       "  'rat'],\n",
       " ['are', 'you', 'sure', 'you', 'want', 'this'],\n",
       " ['yes', 'father', 'bran', 'said'],\n",
       " ['yes', 'robb', 'agreed'],\n",
       " ['the', 'pups', 'may', 'die', 'anyway', 'despite', 'all', 'you', 'do'],\n",
       " ['they', 'won', 'die', 'robb', 'said'],\n",
       " ['we', 'won', 'let', 'them', 'die'],\n",
       " ['keep', 'them', 'then'],\n",
       " ['jory', 'desmond', 'gather', 'up', 'the', 'other', 'pups'],\n",
       " ['it', 'time', 'we', 'were', 'back', 'to', 'winterfell'],\n",
       " ['it',\n",
       "  'was',\n",
       "  'not',\n",
       "  'until',\n",
       "  'they',\n",
       "  'were',\n",
       "  'mounted',\n",
       "  'and',\n",
       "  'on',\n",
       "  'their',\n",
       "  'way',\n",
       "  'that',\n",
       "  'bran',\n",
       "  'allowed',\n",
       "  'himself',\n",
       "  'to',\n",
       "  'taste',\n",
       "  'the',\n",
       "  'sweet',\n",
       "  'air',\n",
       "  'of',\n",
       "  'victory'],\n",
       " ['by',\n",
       "  'then',\n",
       "  'his',\n",
       "  'pup',\n",
       "  'was',\n",
       "  'snuggled',\n",
       "  'inside',\n",
       "  'his',\n",
       "  'leathers',\n",
       "  'warm',\n",
       "  'against',\n",
       "  'him',\n",
       "  'safe',\n",
       "  'for',\n",
       "  'the',\n",
       "  'long',\n",
       "  'ride',\n",
       "  'home'],\n",
       " ['bran', 'was', 'wondering', 'what', 'to', 'name', 'him'],\n",
       " ['halfway', 'across', 'the', 'bridge', 'jon', 'pulled', 'up', 'suddenly'],\n",
       " ['what', 'is', 'it', 'jon'],\n",
       " ['their', 'lord', 'father', 'asked'],\n",
       " ['can', 'you', 'hear', 'it'],\n",
       " ['bran',\n",
       "  'could',\n",
       "  'hear',\n",
       "  'the',\n",
       "  'wind',\n",
       "  'in',\n",
       "  'the',\n",
       "  'trees',\n",
       "  'the',\n",
       "  'clatter',\n",
       "  'of',\n",
       "  'their',\n",
       "  'hooves',\n",
       "  'on',\n",
       "  'the',\n",
       "  'ironwood',\n",
       "  'planks',\n",
       "  'the',\n",
       "  'whimpering',\n",
       "  'of',\n",
       "  'his',\n",
       "  'hungry',\n",
       "  'pup',\n",
       "  'but',\n",
       "  'jon',\n",
       "  'was',\n",
       "  'listening',\n",
       "  'to',\n",
       "  'something',\n",
       "  'else'],\n",
       " ['there', 'jon', 'said'],\n",
       " ['he',\n",
       "  'swung',\n",
       "  'his',\n",
       "  'horse',\n",
       "  'around',\n",
       "  'and',\n",
       "  'galloped',\n",
       "  'back',\n",
       "  'across',\n",
       "  'the',\n",
       "  'bridge'],\n",
       " ['they',\n",
       "  'watched',\n",
       "  'him',\n",
       "  'dismount',\n",
       "  'where',\n",
       "  'the',\n",
       "  'direwolf',\n",
       "  'lay',\n",
       "  'dead',\n",
       "  'in',\n",
       "  'the',\n",
       "  'snow',\n",
       "  'watched',\n",
       "  'him',\n",
       "  'kneel'],\n",
       " ['moment', 'later', 'he', 'was', 'riding', 'back', 'to', 'them', 'smiling'],\n",
       " ['he',\n",
       "  'must',\n",
       "  'have',\n",
       "  'crawled',\n",
       "  'away',\n",
       "  'from',\n",
       "  'the',\n",
       "  'others',\n",
       "  'jon',\n",
       "  'said'],\n",
       " ['or',\n",
       "  'been',\n",
       "  'driven',\n",
       "  'away',\n",
       "  'their',\n",
       "  'father',\n",
       "  'said',\n",
       "  'looking',\n",
       "  'at',\n",
       "  'the',\n",
       "  'sixth',\n",
       "  'pup'],\n",
       " ['his',\n",
       "  'fur',\n",
       "  'was',\n",
       "  'white',\n",
       "  'where',\n",
       "  'the',\n",
       "  'rest',\n",
       "  'of',\n",
       "  'the',\n",
       "  'litter',\n",
       "  'was',\n",
       "  'grey'],\n",
       " ['his',\n",
       "  'eyes',\n",
       "  'were',\n",
       "  'as',\n",
       "  'red',\n",
       "  'as',\n",
       "  'the',\n",
       "  'blood',\n",
       "  'of',\n",
       "  'the',\n",
       "  'ragged',\n",
       "  'man',\n",
       "  'who',\n",
       "  'had',\n",
       "  'died',\n",
       "  'that',\n",
       "  'morning'],\n",
       " ['bran',\n",
       "  'thought',\n",
       "  'it',\n",
       "  'curious',\n",
       "  'that',\n",
       "  'this',\n",
       "  'pup',\n",
       "  'alone',\n",
       "  'would',\n",
       "  'have',\n",
       "  'opened',\n",
       "  'his',\n",
       "  'eyes',\n",
       "  'while',\n",
       "  'the',\n",
       "  'others',\n",
       "  'were',\n",
       "  'still',\n",
       "  'blind'],\n",
       " ['an', 'albino', 'theon', 'greyjoy', 'said', 'with', 'wry', 'amusement'],\n",
       " ['this', 'one', 'will', 'die', 'even', 'faster', 'than', 'the', 'others'],\n",
       " ['jon', 'snow', 'gave', 'his', 'father', 'ward', 'long', 'chilling', 'look'],\n",
       " ['think', 'not', 'greyjoy', 'he', 'said'],\n",
       " ['this', 'one', 'belongs', 'to', 'me'],\n",
       " ['catelyn', 'catelyn', 'had', 'never', 'liked', 'this', 'godswood'],\n",
       " ['she',\n",
       "  'had',\n",
       "  'been',\n",
       "  'born',\n",
       "  'tully',\n",
       "  'at',\n",
       "  'riverrun',\n",
       "  'far',\n",
       "  'to',\n",
       "  'the',\n",
       "  'south',\n",
       "  'on',\n",
       "  'the',\n",
       "  'red',\n",
       "  'fork',\n",
       "  'of',\n",
       "  'the',\n",
       "  'trident'],\n",
       " ['the',\n",
       "  'godswood',\n",
       "  'there',\n",
       "  'was',\n",
       "  'garden',\n",
       "  'bright',\n",
       "  'and',\n",
       "  'airy',\n",
       "  'where',\n",
       "  'tall',\n",
       "  'redwoods',\n",
       "  'spread',\n",
       "  'dappled',\n",
       "  'shadows',\n",
       "  'across',\n",
       "  'tinkling',\n",
       "  'streams',\n",
       "  'birds',\n",
       "  'sang',\n",
       "  'from',\n",
       "  'hidden',\n",
       "  'nests',\n",
       "  'and',\n",
       "  'the',\n",
       "  'air',\n",
       "  'was',\n",
       "  'spicy',\n",
       "  'with',\n",
       "  'the',\n",
       "  'scent',\n",
       "  'of',\n",
       "  'flowers'],\n",
       " ['page',\n",
       "  'the',\n",
       "  'gods',\n",
       "  'of',\n",
       "  'winterfell',\n",
       "  'kept',\n",
       "  'different',\n",
       "  'sort',\n",
       "  'of',\n",
       "  'wood'],\n",
       " ['it',\n",
       "  'was',\n",
       "  'dark',\n",
       "  'primal',\n",
       "  'place',\n",
       "  'three',\n",
       "  'acres',\n",
       "  'of',\n",
       "  'old',\n",
       "  'forest',\n",
       "  'untouched',\n",
       "  'for',\n",
       "  'ten',\n",
       "  'thousand',\n",
       "  'years',\n",
       "  'as',\n",
       "  'the',\n",
       "  'gloomy',\n",
       "  'castle',\n",
       "  'rose',\n",
       "  'around',\n",
       "  'it'],\n",
       " ['it', 'smelled', 'of', 'moist', 'earth', 'and', 'decay'],\n",
       " ['no', 'redwoods', 'grew', 'here'],\n",
       " ['this',\n",
       "  'was',\n",
       "  'wood',\n",
       "  'of',\n",
       "  'stubborn',\n",
       "  'sentinel',\n",
       "  'trees',\n",
       "  'armored',\n",
       "  'in',\n",
       "  'grey',\n",
       "  'green',\n",
       "  'needles',\n",
       "  'of',\n",
       "  'mighty',\n",
       "  'oaks',\n",
       "  'of',\n",
       "  'ironwoods',\n",
       "  'as',\n",
       "  'old',\n",
       "  'as',\n",
       "  'the',\n",
       "  'realm',\n",
       "  'itself'],\n",
       " ['here',\n",
       "  'thick',\n",
       "  'black',\n",
       "  'trunks',\n",
       "  'crowded',\n",
       "  'close',\n",
       "  'together',\n",
       "  'while',\n",
       "  'twisted',\n",
       "  'branches',\n",
       "  'wove',\n",
       "  'dense',\n",
       "  'canopy',\n",
       "  'overhead',\n",
       "  'and',\n",
       "  'misshappen',\n",
       "  'roots',\n",
       "  'wrestled',\n",
       "  'beneath',\n",
       "  'the',\n",
       "  'soil'],\n",
       " ['this',\n",
       "  'was',\n",
       "  'place',\n",
       "  'of',\n",
       "  'deep',\n",
       "  'silence',\n",
       "  'and',\n",
       "  'brooding',\n",
       "  'shadows',\n",
       "  'and',\n",
       "  'the',\n",
       "  'gods',\n",
       "  'who',\n",
       "  'lived',\n",
       "  'here',\n",
       "  'had',\n",
       "  'no',\n",
       "  'names'],\n",
       " ['but',\n",
       "  'she',\n",
       "  'knew',\n",
       "  'she',\n",
       "  'would',\n",
       "  'find',\n",
       "  'her',\n",
       "  'husband',\n",
       "  'here',\n",
       "  'tonight'],\n",
       " ['whenever',\n",
       "  'he',\n",
       "  'took',\n",
       "  'man',\n",
       "  'life',\n",
       "  'afterward',\n",
       "  'he',\n",
       "  'would',\n",
       "  'seek',\n",
       "  'the',\n",
       "  'quiet',\n",
       "  'of',\n",
       "  'the',\n",
       "  'godswood'],\n",
       " ['catelyn',\n",
       "  'had',\n",
       "  'been',\n",
       "  'anointed',\n",
       "  'with',\n",
       "  'the',\n",
       "  'seven',\n",
       "  'oils',\n",
       "  'and',\n",
       "  'named',\n",
       "  'in',\n",
       "  'the',\n",
       "  'rainbow',\n",
       "  'of',\n",
       "  'light',\n",
       "  'that',\n",
       "  'filled',\n",
       "  'the',\n",
       "  'sept',\n",
       "  'of',\n",
       "  'riverrun'],\n",
       " ['she',\n",
       "  'was',\n",
       "  'of',\n",
       "  'the',\n",
       "  'faith',\n",
       "  'like',\n",
       "  'her',\n",
       "  'father',\n",
       "  'and',\n",
       "  'grandfather',\n",
       "  'and',\n",
       "  'his',\n",
       "  'father',\n",
       "  'before',\n",
       "  'him'],\n",
       " ['her',\n",
       "  'gods',\n",
       "  'had',\n",
       "  'names',\n",
       "  'and',\n",
       "  'their',\n",
       "  'faces',\n",
       "  'were',\n",
       "  'as',\n",
       "  'familiar',\n",
       "  'as',\n",
       "  'the',\n",
       "  'faces',\n",
       "  'of',\n",
       "  'her',\n",
       "  'parents'],\n",
       " ['worship',\n",
       "  'was',\n",
       "  'septon',\n",
       "  'with',\n",
       "  'censer',\n",
       "  'the',\n",
       "  'smell',\n",
       "  'of',\n",
       "  'incense',\n",
       "  'seven',\n",
       "  'sided',\n",
       "  'crystal',\n",
       "  'alive',\n",
       "  'with',\n",
       "  'light',\n",
       "  'voices',\n",
       "  'raised',\n",
       "  'in',\n",
       "  'song'],\n",
       " ['the',\n",
       "  'tullys',\n",
       "  'kept',\n",
       "  'godswood',\n",
       "  'as',\n",
       "  'all',\n",
       "  'the',\n",
       "  'great',\n",
       "  'houses',\n",
       "  'did',\n",
       "  'but',\n",
       "  'it',\n",
       "  'was',\n",
       "  'only',\n",
       "  'place',\n",
       "  'to',\n",
       "  'walk',\n",
       "  'or',\n",
       "  'read',\n",
       "  'or',\n",
       "  'lie',\n",
       "  'in',\n",
       "  'the',\n",
       "  'sun'],\n",
       " ['worship',\n",
       "  'was',\n",
       "  'for',\n",
       "  'the',\n",
       "  'sept',\n",
       "  'for',\n",
       "  'her',\n",
       "  'sake',\n",
       "  'ned',\n",
       "  'had',\n",
       "  'built',\n",
       "  'small',\n",
       "  'sept',\n",
       "  'where',\n",
       "  'she',\n",
       "  'might',\n",
       "  'sing',\n",
       "  'to',\n",
       "  'the',\n",
       "  'seven',\n",
       "  'faces',\n",
       "  'of',\n",
       "  'god',\n",
       "  'but',\n",
       "  'the',\n",
       "  'blood',\n",
       "  'of',\n",
       "  'the',\n",
       "  'first',\n",
       "  'men',\n",
       "  'still',\n",
       "  'flowed',\n",
       "  'in',\n",
       "  'the',\n",
       "  'veins',\n",
       "  'of',\n",
       "  'the',\n",
       "  'starks',\n",
       "  'and',\n",
       "  'his',\n",
       "  'own',\n",
       "  'gods',\n",
       "  'were',\n",
       "  'the',\n",
       "  'old',\n",
       "  'ones',\n",
       "  'the',\n",
       "  'nameless',\n",
       "  'faceless',\n",
       "  'gods',\n",
       "  'of',\n",
       "  'the',\n",
       "  'greenwood',\n",
       "  'they',\n",
       "  'shared',\n",
       "  'with',\n",
       "  'the',\n",
       "  'vanished',\n",
       "  'children',\n",
       "  'of',\n",
       "  'the',\n",
       "  'forest'],\n",
       " ['at',\n",
       "  'the',\n",
       "  'center',\n",
       "  'of',\n",
       "  'the',\n",
       "  'grove',\n",
       "  'an',\n",
       "  'ancient',\n",
       "  'weirwood',\n",
       "  'brooded',\n",
       "  'over',\n",
       "  'small',\n",
       "  'pool',\n",
       "  'where',\n",
       "  'the',\n",
       "  'waters',\n",
       "  'were',\n",
       "  'black',\n",
       "  'and',\n",
       "  'cold'],\n",
       " ['the', 'heart', 'tree', 'ned', 'called', 'it'],\n",
       " ['the',\n",
       "  'weirwood',\n",
       "  'bark',\n",
       "  'was',\n",
       "  'white',\n",
       "  'as',\n",
       "  'bone',\n",
       "  'its',\n",
       "  'leaves',\n",
       "  'dark',\n",
       "  'red',\n",
       "  'like',\n",
       "  'thousand',\n",
       "  'bloodstained',\n",
       "  'hands'],\n",
       " ['face',\n",
       "  'had',\n",
       "  'been',\n",
       "  'carved',\n",
       "  'in',\n",
       "  'the',\n",
       "  'trunk',\n",
       "  'of',\n",
       "  'the',\n",
       "  'great',\n",
       "  'tree',\n",
       "  'its',\n",
       "  'features',\n",
       "  'long',\n",
       "  'and',\n",
       "  'melancholy',\n",
       "  'the',\n",
       "  'deep',\n",
       "  'cut',\n",
       "  'eyes',\n",
       "  'red',\n",
       "  'with',\n",
       "  'dried',\n",
       "  'sap',\n",
       "  'and',\n",
       "  'strangely',\n",
       "  'watchful'],\n",
       " ['they',\n",
       "  'were',\n",
       "  'old',\n",
       "  'those',\n",
       "  'eyes',\n",
       "  'older',\n",
       "  'than',\n",
       "  'winterfell',\n",
       "  'itself'],\n",
       " ['they',\n",
       "  'had',\n",
       "  'seen',\n",
       "  'brandon',\n",
       "  'the',\n",
       "  'builder',\n",
       "  'set',\n",
       "  'the',\n",
       "  'first',\n",
       "  'stone',\n",
       "  'if',\n",
       "  'the',\n",
       "  'tales',\n",
       "  'were',\n",
       "  'true',\n",
       "  'they',\n",
       "  'had',\n",
       "  'watched',\n",
       "  'the',\n",
       "  'castle',\n",
       "  'granite',\n",
       "  'walls',\n",
       "  'rise',\n",
       "  'around',\n",
       "  'them'],\n",
       " ['it',\n",
       "  'was',\n",
       "  'said',\n",
       "  'that',\n",
       "  'the',\n",
       "  'children',\n",
       "  'of',\n",
       "  'the',\n",
       "  'forest',\n",
       "  'had',\n",
       "  'carved',\n",
       "  'the',\n",
       "  'faces',\n",
       "  'in',\n",
       "  'the',\n",
       "  'trees',\n",
       "  'during',\n",
       "  'the',\n",
       "  'dawn',\n",
       "  'centuries',\n",
       "  'before',\n",
       "  'the',\n",
       "  'coming',\n",
       "  'of',\n",
       "  'the',\n",
       "  'first',\n",
       "  'men',\n",
       "  'across',\n",
       "  'the',\n",
       "  'narrow',\n",
       "  'sea'],\n",
       " ['in',\n",
       "  'the',\n",
       "  'south',\n",
       "  'the',\n",
       "  'last',\n",
       "  'weirwoods',\n",
       "  'had',\n",
       "  'been',\n",
       "  'cut',\n",
       "  'down',\n",
       "  'or',\n",
       "  'burned',\n",
       "  'out',\n",
       "  'thousand',\n",
       "  'years',\n",
       "  'ago',\n",
       "  'except',\n",
       "  'on',\n",
       "  'the',\n",
       "  'isle',\n",
       "  'of',\n",
       "  'faces',\n",
       "  'where',\n",
       "  'the',\n",
       "  'green',\n",
       "  'men',\n",
       "  'kept',\n",
       "  'their',\n",
       "  'silent',\n",
       "  'watch'],\n",
       " ['up', 'here', 'it', 'was', 'different'],\n",
       " ['here',\n",
       "  'every',\n",
       "  'castle',\n",
       "  'had',\n",
       "  'its',\n",
       "  'godswood',\n",
       "  'and',\n",
       "  'every',\n",
       "  'godswood',\n",
       "  'had',\n",
       "  'its',\n",
       "  'heart',\n",
       "  'tree',\n",
       "  'and',\n",
       "  'every',\n",
       "  'heart',\n",
       "  'tree',\n",
       "  'its',\n",
       "  'face'],\n",
       " ['catelyn',\n",
       "  'found',\n",
       "  'her',\n",
       "  'husband',\n",
       "  'beneath',\n",
       "  'the',\n",
       "  'weirwood',\n",
       "  'seated',\n",
       "  'on',\n",
       "  'moss',\n",
       "  'covered',\n",
       "  'stone'],\n",
       " ['the',\n",
       "  'greatsword',\n",
       "  'ice',\n",
       "  'was',\n",
       "  'across',\n",
       "  'his',\n",
       "  'lap',\n",
       "  'and',\n",
       "  'he',\n",
       "  'was',\n",
       "  'cleaning',\n",
       "  'the',\n",
       "  'blade',\n",
       "  'in',\n",
       "  'those',\n",
       "  'waters',\n",
       "  'black',\n",
       "  'as',\n",
       "  'night'],\n",
       " ['thousand',\n",
       "  'years',\n",
       "  'of',\n",
       "  'humus',\n",
       "  'lay',\n",
       "  'thick',\n",
       "  'upon',\n",
       "  'the',\n",
       "  'godswood',\n",
       "  'floor',\n",
       "  'swallowing',\n",
       "  'the',\n",
       "  'sound',\n",
       "  'of',\n",
       "  'her',\n",
       "  'feet',\n",
       "  'but',\n",
       "  'the',\n",
       "  'red',\n",
       "  'eyes',\n",
       "  'of',\n",
       "  'the',\n",
       "  'weirwood',\n",
       "  'seemed',\n",
       "  'to',\n",
       "  'follow',\n",
       "  'her',\n",
       "  'as',\n",
       "  'she',\n",
       "  'came'],\n",
       " ['ned', 'she', 'called', 'softly'],\n",
       " ['he', 'lifted', 'his', 'head', 'to', 'look', 'at', 'her'],\n",
       " ['catelyn', 'he', 'said'],\n",
       " ['his', 'voice', 'was', 'distant', 'and', 'formal'],\n",
       " ['where', 'are', 'the', 'children'],\n",
       " ['he', 'would', 'always', 'ask', 'her', 'that'],\n",
       " ['in',\n",
       "  'the',\n",
       "  'kitchen',\n",
       "  'arguing',\n",
       "  'about',\n",
       "  'names',\n",
       "  'for',\n",
       "  'the',\n",
       "  'wolf',\n",
       "  'pups'],\n",
       " ['she',\n",
       "  'spread',\n",
       "  'her',\n",
       "  'cloak',\n",
       "  'on',\n",
       "  'the',\n",
       "  'forest',\n",
       "  'floor',\n",
       "  'and',\n",
       "  'sat',\n",
       "  'beside',\n",
       "  'the',\n",
       "  'pool',\n",
       "  'her',\n",
       "  'back',\n",
       "  'to',\n",
       "  'the',\n",
       "  'weirwood'],\n",
       " ['she',\n",
       "  'could',\n",
       "  'feel',\n",
       "  'the',\n",
       "  'eyes',\n",
       "  'watching',\n",
       "  'her',\n",
       "  'but',\n",
       "  'she',\n",
       "  'did',\n",
       "  'her',\n",
       "  'best',\n",
       "  'to',\n",
       "  'ignore',\n",
       "  'them'],\n",
       " ['arya',\n",
       "  'is',\n",
       "  'already',\n",
       "  'in',\n",
       "  'love',\n",
       "  'and',\n",
       "  'sansa',\n",
       "  'is',\n",
       "  'charmed',\n",
       "  'and',\n",
       "  'gracious',\n",
       "  'but',\n",
       "  'rickon',\n",
       "  'is',\n",
       "  'not',\n",
       "  'quite',\n",
       "  'sure'],\n",
       " ['is', 'he', 'afraid'],\n",
       " ['ned', 'asked'],\n",
       " ['page', 'little', 'she', 'admitted'],\n",
       " ['he', 'is', 'only', 'three'],\n",
       " ['ned', 'frowned'],\n",
       " ['he', 'must', 'learn', 'to', 'face', 'his', 'fears'],\n",
       " ['he', 'will', 'not', 'be', 'three', 'forever'],\n",
       " ['and', 'winter', 'is', 'coming'],\n",
       " ['yes', 'catelyn', 'agreed'],\n",
       " ['the', 'words', 'gave', 'her', 'chill', 'as', 'they', 'always', 'did'],\n",
       " ['the', 'stark', 'words'],\n",
       " ['every', 'noble', 'house', 'had', 'its', 'words'],\n",
       " ['family',\n",
       "  'mottoes',\n",
       "  'touchstones',\n",
       "  'prayers',\n",
       "  'of',\n",
       "  'sorts',\n",
       "  'they',\n",
       "  'boasted',\n",
       "  'of',\n",
       "  'honor',\n",
       "  'and',\n",
       "  'glory',\n",
       "  'promised',\n",
       "  'loyalty',\n",
       "  'and',\n",
       "  'truth',\n",
       "  'swore',\n",
       "  'faith',\n",
       "  'and',\n",
       "  'courage'],\n",
       " ['all', 'but', 'the', 'starks'],\n",
       " ['winter', 'is', 'coming', 'said', 'the', 'stark', 'words'],\n",
       " ['not',\n",
       "  'for',\n",
       "  'the',\n",
       "  'first',\n",
       "  'time',\n",
       "  'she',\n",
       "  'reflected',\n",
       "  'on',\n",
       "  'what',\n",
       "  'strange',\n",
       "  'people',\n",
       "  'these',\n",
       "  'northerners',\n",
       "  'were'],\n",
       " ['the', 'man', 'died', 'well', 'll', 'give', 'him', 'that', 'ned', 'said'],\n",
       " ['he', 'had', 'swatch', 'of', 'oiled', 'leather', 'in', 'one', 'hand'],\n",
       " ['he',\n",
       "  'ran',\n",
       "  'it',\n",
       "  'lightly',\n",
       "  'up',\n",
       "  'the',\n",
       "  'greatsword',\n",
       "  'as',\n",
       "  'he',\n",
       "  'spoke',\n",
       "  'polishing',\n",
       "  'the',\n",
       "  'metal',\n",
       "  'to',\n",
       "  'dark',\n",
       "  'glow'],\n",
       " ['was', 'glad', 'for', 'bran', 'sake'],\n",
       " ['you', 'would', 'have', 'been', 'proud', 'of', 'bran'],\n",
       " ['am',\n",
       "  'always',\n",
       "  'proud',\n",
       "  'of',\n",
       "  'bran',\n",
       "  'catelyn',\n",
       "  'replied',\n",
       "  'watching',\n",
       "  'the',\n",
       "  'sword',\n",
       "  'as',\n",
       "  'he',\n",
       "  'stroked',\n",
       "  'it'],\n",
       " ['she',\n",
       "  'could',\n",
       "  'see',\n",
       "  'the',\n",
       "  'rippling',\n",
       "  'deep',\n",
       "  'within',\n",
       "  'the',\n",
       "  'steel',\n",
       "  'where',\n",
       "  'the',\n",
       "  'metal',\n",
       "  'had',\n",
       "  'been',\n",
       "  'folded',\n",
       "  'back',\n",
       "  'on',\n",
       "  'itself',\n",
       "  'hundred',\n",
       "  'times',\n",
       "  'in',\n",
       "  'the',\n",
       "  'forging'],\n",
       " ['catelyn',\n",
       "  'had',\n",
       "  'no',\n",
       "  'love',\n",
       "  'for',\n",
       "  'swords',\n",
       "  'but',\n",
       "  'she',\n",
       "  'could',\n",
       "  'not',\n",
       "  'deny',\n",
       "  'that',\n",
       "  'ice',\n",
       "  'had',\n",
       "  'its',\n",
       "  'own',\n",
       "  'beauty'],\n",
       " ['it',\n",
       "  'had',\n",
       "  'been',\n",
       "  'forged',\n",
       "  'in',\n",
       "  'valyria',\n",
       "  'before',\n",
       "  'the',\n",
       "  'doom',\n",
       "  'had',\n",
       "  'come',\n",
       "  'to',\n",
       "  'the',\n",
       "  'old',\n",
       "  'freehold',\n",
       "  'when',\n",
       "  'the',\n",
       "  'ironsmiths',\n",
       "  'had',\n",
       "  'worked',\n",
       "  'their',\n",
       "  'metal',\n",
       "  'with',\n",
       "  'spells',\n",
       "  'as',\n",
       "  'well',\n",
       "  'as',\n",
       "  'hammers'],\n",
       " ['four',\n",
       "  'hundred',\n",
       "  'years',\n",
       "  'old',\n",
       "  'it',\n",
       "  'was',\n",
       "  'and',\n",
       "  'as',\n",
       "  'sharp',\n",
       "  'as',\n",
       "  'the',\n",
       "  'day',\n",
       "  'it',\n",
       "  'was',\n",
       "  'forged'],\n",
       " ['the',\n",
       "  'name',\n",
       "  'it',\n",
       "  'bore',\n",
       "  'was',\n",
       "  'older',\n",
       "  'still',\n",
       "  'legacy',\n",
       "  'from',\n",
       "  'the',\n",
       "  'age',\n",
       "  'of',\n",
       "  'heroes',\n",
       "  'when',\n",
       "  'the',\n",
       "  'starks',\n",
       "  'were',\n",
       "  'kings',\n",
       "  'in',\n",
       "  'the',\n",
       "  'north'],\n",
       " ['he', 'was', 'the', 'fourth', 'this', 'year', 'ned', 'said', 'grimly'],\n",
       " ['the', 'poor', 'man', 'was', 'half', 'mad'],\n",
       " ['something',\n",
       "  'had',\n",
       "  'put',\n",
       "  'fear',\n",
       "  'in',\n",
       "  'him',\n",
       "  'so',\n",
       "  'deep',\n",
       "  'that',\n",
       "  'my',\n",
       "  'words',\n",
       "  'could',\n",
       "  'not',\n",
       "  'reach',\n",
       "  'him'],\n",
       " ['he', 'sighed'],\n",
       " ['ben',\n",
       "  'writes',\n",
       "  'that',\n",
       "  'the',\n",
       "  'strength',\n",
       "  'of',\n",
       "  'the',\n",
       "  'night',\n",
       "  'watch',\n",
       "  'is',\n",
       "  'down',\n",
       "  'below',\n",
       "  'thousand'],\n",
       " ['it', 'not', 'only', 'desertions'],\n",
       " ['they', 'are', 'losing', 'men', 'on', 'rangings', 'as', 'well'],\n",
       " ['is', 'it', 'the', 'wildlings'],\n",
       " ['she', 'asked'],\n",
       " ['who', 'else'],\n",
       " ['ned',\n",
       "  'lifted',\n",
       "  'ice',\n",
       "  'looked',\n",
       "  'down',\n",
       "  'the',\n",
       "  'cool',\n",
       "  'steel',\n",
       "  'length',\n",
       "  'of',\n",
       "  'it'],\n",
       " ['and', 'it', 'will', 'only', 'grow', 'worse'],\n",
       " ['the',\n",
       "  'day',\n",
       "  'may',\n",
       "  'come',\n",
       "  'when',\n",
       "  'will',\n",
       "  'have',\n",
       "  'no',\n",
       "  'choice',\n",
       "  'but',\n",
       "  'to',\n",
       "  'call',\n",
       "  'the',\n",
       "  'banners',\n",
       "  'and',\n",
       "  'ride',\n",
       "  'north',\n",
       "  'to',\n",
       "  'deal',\n",
       "  'with',\n",
       "  'this',\n",
       "  'kingbeyond',\n",
       "  'the',\n",
       "  'wall',\n",
       "  'for',\n",
       "  'good',\n",
       "  'and',\n",
       "  'all'],\n",
       " ['beyond', 'the', 'wall'],\n",
       " ['the', 'thought', 'made', 'catelyn', 'shudder'],\n",
       " ['ned', 'saw', 'the', 'dread', 'on', 'her', 'face'],\n",
       " ['mance', 'rayder', 'is', 'nothing', 'for', 'us', 'to', 'fear'],\n",
       " ['there', 'are', 'darker', 'things', 'beyond', 'the', 'wall'],\n",
       " ['she',\n",
       "  'glanced',\n",
       "  'behind',\n",
       "  'her',\n",
       "  'at',\n",
       "  'the',\n",
       "  'heart',\n",
       "  'tree',\n",
       "  'the',\n",
       "  'pale',\n",
       "  'bark',\n",
       "  'and',\n",
       "  'red',\n",
       "  'eyes',\n",
       "  'watching',\n",
       "  'listening',\n",
       "  'thinking',\n",
       "  'its',\n",
       "  'long',\n",
       "  'slow',\n",
       "  'thoughts'],\n",
       " ['his', 'smile', 'was', 'gentle'],\n",
       " ['you', 'listen', 'to', 'too', 'many', 'of', 'old', 'nan', 'stories'],\n",
       " ['the',\n",
       "  'others',\n",
       "  'are',\n",
       "  'as',\n",
       "  'dead',\n",
       "  'as',\n",
       "  'the',\n",
       "  'children',\n",
       "  'of',\n",
       "  'the',\n",
       "  'forest',\n",
       "  'gone',\n",
       "  'eight',\n",
       "  'thousand',\n",
       "  'years'],\n",
       " ['maester',\n",
       "  'luwin',\n",
       "  'will',\n",
       "  'tell',\n",
       "  'you',\n",
       "  'they',\n",
       "  'never',\n",
       "  'lived',\n",
       "  'at',\n",
       "  'all'],\n",
       " ['no', 'living', 'man', 'has', 'ever', 'seen', 'one'],\n",
       " ['until',\n",
       "  'this',\n",
       "  'morning',\n",
       "  'no',\n",
       "  'living',\n",
       "  'man',\n",
       "  'had',\n",
       "  'ever',\n",
       "  'seen',\n",
       "  'direwolf',\n",
       "  'either',\n",
       "  'catelyn',\n",
       "  'reminded',\n",
       "  'him'],\n",
       " ['ought',\n",
       "  'to',\n",
       "  'know',\n",
       "  'better',\n",
       "  'than',\n",
       "  'to',\n",
       "  'argue',\n",
       "  'with',\n",
       "  'tully',\n",
       "  'he',\n",
       "  'said',\n",
       "  'with',\n",
       "  'rueful',\n",
       "  'smile'],\n",
       " ['he', 'slid', 'ice', 'back', 'into', 'its', 'sheath'],\n",
       " ['you', 'did', 'not', 'come', 'here', 'to', 'tell', 'me', 'crib', 'tales'],\n",
       " ['know', 'how', 'little', 'you', 'like', 'this', 'place'],\n",
       " ['what', 'is', 'it', 'my', 'lady'],\n",
       " ['catelyn', 'took', 'her', 'husband', 'hand'],\n",
       " ['there', 'was', 'grievous', 'news', 'today', 'my', 'lord'],\n",
       " ['did',\n",
       "  'not',\n",
       "  'wish',\n",
       "  'to',\n",
       "  'trouble',\n",
       "  'you',\n",
       "  'until',\n",
       "  'you',\n",
       "  'had',\n",
       "  'cleansed',\n",
       "  'yourself'],\n",
       " ['there',\n",
       "  'was',\n",
       "  'no',\n",
       "  'way',\n",
       "  'to',\n",
       "  'soften',\n",
       "  'the',\n",
       "  'blow',\n",
       "  'so',\n",
       "  'she',\n",
       "  'told',\n",
       "  'him',\n",
       "  'straight'],\n",
       " ['am', 'page', 'so', 'sorry', 'my', 'love'],\n",
       " ['jon', 'arryn', 'is', 'dead'],\n",
       " ['his',\n",
       "  'eyes',\n",
       "  'found',\n",
       "  'hers',\n",
       "  'and',\n",
       "  'she',\n",
       "  'could',\n",
       "  'see',\n",
       "  'how',\n",
       "  'hard',\n",
       "  'it',\n",
       "  'took',\n",
       "  'him',\n",
       "  'as',\n",
       "  'she',\n",
       "  'had',\n",
       "  'known',\n",
       "  'it',\n",
       "  'would'],\n",
       " ['in',\n",
       "  'his',\n",
       "  'youth',\n",
       "  'ned',\n",
       "  'had',\n",
       "  'fostered',\n",
       "  'at',\n",
       "  'the',\n",
       "  'eyrie',\n",
       "  'and',\n",
       "  'the',\n",
       "  'childless',\n",
       "  'lord',\n",
       "  'arryn',\n",
       "  'had',\n",
       "  'become',\n",
       "  'second',\n",
       "  'father',\n",
       "  'to',\n",
       "  'him',\n",
       "  'and',\n",
       "  'his',\n",
       "  'fellow',\n",
       "  'ward',\n",
       "  'robert',\n",
       "  'baratheon'],\n",
       " ['when',\n",
       "  'the',\n",
       "  'mad',\n",
       "  'king',\n",
       "  'aerys',\n",
       "  'targaryen',\n",
       "  'had',\n",
       "  'demanded',\n",
       "  'their',\n",
       "  'heads',\n",
       "  'the',\n",
       "  'lord',\n",
       "  'of',\n",
       "  'the',\n",
       "  'eyrie',\n",
       "  'had',\n",
       "  'raised',\n",
       "  'his',\n",
       "  'moon',\n",
       "  'and',\n",
       "  'falcon',\n",
       "  'banners',\n",
       "  'in',\n",
       "  'revolt',\n",
       "  'rather',\n",
       "  'than',\n",
       "  'give',\n",
       "  'up',\n",
       "  'those',\n",
       "  'he',\n",
       "  'had',\n",
       "  'pledged',\n",
       "  'to',\n",
       "  'protect'],\n",
       " ['and',\n",
       "  'one',\n",
       "  'day',\n",
       "  'fifteen',\n",
       "  'years',\n",
       "  'ago',\n",
       "  'this',\n",
       "  'second',\n",
       "  'father',\n",
       "  'had',\n",
       "  'become',\n",
       "  'brother',\n",
       "  'as',\n",
       "  'well',\n",
       "  'as',\n",
       "  'he',\n",
       "  'and',\n",
       "  'ned',\n",
       "  'stood',\n",
       "  'together',\n",
       "  'in',\n",
       "  'the',\n",
       "  'sept',\n",
       "  'at',\n",
       "  'riverrun',\n",
       "  'to',\n",
       "  'wed',\n",
       "  'two',\n",
       "  'sisters',\n",
       "  'the',\n",
       "  'daughters',\n",
       "  'of',\n",
       "  'lord',\n",
       "  'hoster',\n",
       "  'tully'],\n",
       " ['jon'],\n",
       " [],\n",
       " [],\n",
       " ['he', 'said'],\n",
       " ['is', 'this', 'news', 'certain'],\n",
       " ['it',\n",
       "  'was',\n",
       "  'the',\n",
       "  'king',\n",
       "  'seal',\n",
       "  'and',\n",
       "  'the',\n",
       "  'letter',\n",
       "  'is',\n",
       "  'in',\n",
       "  'robert',\n",
       "  'own',\n",
       "  'hand'],\n",
       " ['saved', 'it', 'for', 'you'],\n",
       " ['he', 'said', 'lord', 'arryn', 'was', 'taken', 'quickly'],\n",
       " ['even',\n",
       "  'maester',\n",
       "  'pycelle',\n",
       "  'was',\n",
       "  'helpless',\n",
       "  'but',\n",
       "  'he',\n",
       "  'brought',\n",
       "  'the',\n",
       "  'milk',\n",
       "  'of',\n",
       "  'the',\n",
       "  'poppy',\n",
       "  'so',\n",
       "  'jon',\n",
       "  'did',\n",
       "  'not',\n",
       "  'linger',\n",
       "  'long',\n",
       "  'in',\n",
       "  'pain'],\n",
       " ['that', 'is', 'some', 'small', 'mercy', 'suppose', 'he', 'said'],\n",
       " ['she',\n",
       "  'could',\n",
       "  'see',\n",
       "  'the',\n",
       "  'grief',\n",
       "  'on',\n",
       "  'his',\n",
       "  'face',\n",
       "  'but',\n",
       "  'even',\n",
       "  'then',\n",
       "  'he',\n",
       "  'thought',\n",
       "  'first',\n",
       "  'of',\n",
       "  'her'],\n",
       " ['your', 'sister', 'he', 'said'],\n",
       " ['and', 'jon', 'boy'],\n",
       " ['what', 'word', 'of', 'them'],\n",
       " ['the',\n",
       "  'message',\n",
       "  'said',\n",
       "  'only',\n",
       "  'that',\n",
       "  'they',\n",
       "  'were',\n",
       "  'well',\n",
       "  'and',\n",
       "  'had',\n",
       "  'returned',\n",
       "  'to',\n",
       "  'the',\n",
       "  'eyrie',\n",
       "  'catelyn',\n",
       "  'said'],\n",
       " ['wish', 'they', 'had', 'gone', 'to', 'riverrun', 'instead'],\n",
       " ['the',\n",
       "  'eyrie',\n",
       "  'is',\n",
       "  'high',\n",
       "  'and',\n",
       "  'lonely',\n",
       "  'and',\n",
       "  'it',\n",
       "  'was',\n",
       "  'ever',\n",
       "  'her',\n",
       "  'husband',\n",
       "  'place',\n",
       "  'not',\n",
       "  'hers'],\n",
       " ['lord', 'jon', 'memory', 'will', 'haunt', 'each', 'stone'],\n",
       " ['know', 'my', 'sister'],\n",
       " ['she',\n",
       "  'needs',\n",
       "  'the',\n",
       "  'comfort',\n",
       "  'of',\n",
       "  'family',\n",
       "  'and',\n",
       "  'friends',\n",
       "  'around',\n",
       "  'her'],\n",
       " ['your', 'uncle', 'waits', 'in', 'the', 'vale', 'does', 'he', 'not'],\n",
       " ['jon', 'named', 'him', 'knight', 'of', 'the', 'gate', 'heard'],\n",
       " ['catelyn', 'nodded'],\n",
       " ['brynden',\n",
       "  'will',\n",
       "  'do',\n",
       "  'what',\n",
       "  'he',\n",
       "  'can',\n",
       "  'for',\n",
       "  'her',\n",
       "  'and',\n",
       "  'for',\n",
       "  'the',\n",
       "  'boy'],\n",
       " ['that', 'is', 'some', 'comfort', 'but', 'still'],\n",
       " [],\n",
       " [],\n",
       " ['go', 'to', 'her', 'ned', 'urged'],\n",
       " ['take', 'the', 'children'],\n",
       " ['fill', 'her', 'halls', 'with', 'noise', 'and', 'shouts', 'and', 'laughter'],\n",
       " ['that',\n",
       "  'boy',\n",
       "  'of',\n",
       "  'hers',\n",
       "  'needs',\n",
       "  'other',\n",
       "  'children',\n",
       "  'about',\n",
       "  'him',\n",
       "  'and',\n",
       "  'lysa',\n",
       "  'should',\n",
       "  'not',\n",
       "  'be',\n",
       "  'alone',\n",
       "  'in',\n",
       "  'her',\n",
       "  'grief'],\n",
       " ['would', 'that', 'could', 'catelyn', 'said'],\n",
       " ['the', 'letter', 'had', 'other', 'tidings'],\n",
       " ['the',\n",
       "  'king',\n",
       "  'is',\n",
       "  'riding',\n",
       "  'to',\n",
       "  'winterfell',\n",
       "  'to',\n",
       "  'seek',\n",
       "  'you',\n",
       "  'out'],\n",
       " ['it',\n",
       "  'took',\n",
       "  'ned',\n",
       "  'moment',\n",
       "  'to',\n",
       "  'comprehend',\n",
       "  'her',\n",
       "  'words',\n",
       "  'but',\n",
       "  'when',\n",
       "  'the',\n",
       "  'understanding',\n",
       "  'came',\n",
       "  'the',\n",
       "  'darkness',\n",
       "  'left',\n",
       "  'his',\n",
       "  'eyes'],\n",
       " ['robert', 'is', 'coming', 'here'],\n",
       " ['when', 'she', 'nodded', 'smile', 'broke', 'across', 'his', 'face'],\n",
       " ['catelyn', 'wished', 'she', 'could', 'share', 'his', 'joy'],\n",
       " ['but',\n",
       "  'she',\n",
       "  'had',\n",
       "  'heard',\n",
       "  'the',\n",
       "  'talk',\n",
       "  'in',\n",
       "  'the',\n",
       "  'yards',\n",
       "  'direwolf',\n",
       "  'dead',\n",
       "  'in',\n",
       "  'the',\n",
       "  'snow',\n",
       "  'broken',\n",
       "  'antler',\n",
       "  'in',\n",
       "  'its',\n",
       "  'throat'],\n",
       " ['dread',\n",
       "  'coiled',\n",
       "  'within',\n",
       "  'her',\n",
       "  'like',\n",
       "  'snake',\n",
       "  'but',\n",
       "  'she',\n",
       "  'forced',\n",
       "  'herself',\n",
       "  'to',\n",
       "  'smile',\n",
       "  'at',\n",
       "  'this',\n",
       "  'man',\n",
       "  'she',\n",
       "  'loved',\n",
       "  'this',\n",
       "  'man',\n",
       "  'who',\n",
       "  'put',\n",
       "  'no',\n",
       "  'faith',\n",
       "  'in',\n",
       "  'signs'],\n",
       " ['knew', 'that', 'would', 'please', 'you', 'she', 'said'],\n",
       " ['we',\n",
       "  'should',\n",
       "  'send',\n",
       "  'word',\n",
       "  'to',\n",
       "  'your',\n",
       "  'brother',\n",
       "  'on',\n",
       "  'the',\n",
       "  'wall'],\n",
       " ['yes', 'of', 'course', 'he', 'agreed'],\n",
       " ['ben', 'will', 'want', 'to', 'be', 'here'],\n",
       " ['shall',\n",
       "  'tell',\n",
       "  'maester',\n",
       "  'luwin',\n",
       "  'to',\n",
       "  'send',\n",
       "  'his',\n",
       "  'swiftest',\n",
       "  'bird'],\n",
       " ['ned', 'rose', 'and', 'pulled', 'her', 'to', 'her', 'feet'],\n",
       " ['damnation', 'how', 'many', 'years', 'has', 'it', 'been'],\n",
       " ['and', 'he', 'gives', 'us', 'no', 'more', 'notice', 'than', 'this'],\n",
       " ['how', 'many', 'in', 'his', 'party', 'did', 'the', 'message', 'say'],\n",
       " ['should',\n",
       "  'think',\n",
       "  'hundred',\n",
       "  'knights',\n",
       "  'at',\n",
       "  'the',\n",
       "  'least',\n",
       "  'with',\n",
       "  'all',\n",
       "  'their',\n",
       "  'retainers',\n",
       "  'and',\n",
       "  'half',\n",
       "  'again',\n",
       "  'as',\n",
       "  'many',\n",
       "  'freeriders'],\n",
       " ['page', 'cersei', 'and', 'the', 'children', 'travel', 'with', 'them'],\n",
       " ['robert',\n",
       "  'will',\n",
       "  'keep',\n",
       "  'an',\n",
       "  'easy',\n",
       "  'pace',\n",
       "  'for',\n",
       "  'their',\n",
       "  'sakes',\n",
       "  'he',\n",
       "  'said'],\n",
       " ['it', 'is', 'just', 'as', 'well'],\n",
       " ['that', 'will', 'give', 'us', 'more', 'time', 'to', 'prepare'],\n",
       " ['the',\n",
       "  'queen',\n",
       "  'brothers',\n",
       "  'are',\n",
       "  'also',\n",
       "  'in',\n",
       "  'the',\n",
       "  'party',\n",
       "  'she',\n",
       "  'told',\n",
       "  'him'],\n",
       " ['ned', 'grimaced', 'at', 'that'],\n",
       " ['there',\n",
       "  'was',\n",
       "  'small',\n",
       "  'love',\n",
       "  'between',\n",
       "  'him',\n",
       "  'and',\n",
       "  'the',\n",
       "  'queen',\n",
       "  'family',\n",
       "  'catelyn',\n",
       "  'knew'],\n",
       " ['the',\n",
       "  'lannisters',\n",
       "  'of',\n",
       "  'casterly',\n",
       "  'rock',\n",
       "  'had',\n",
       "  'come',\n",
       "  'late',\n",
       "  'to',\n",
       "  'robert',\n",
       "  'cause',\n",
       "  'when',\n",
       "  'victory',\n",
       "  'was',\n",
       "  'all',\n",
       "  'but',\n",
       "  'certain',\n",
       "  'and',\n",
       "  'he',\n",
       "  'had',\n",
       "  'never',\n",
       "  'forgiven',\n",
       "  'them'],\n",
       " ['well',\n",
       "  'if',\n",
       "  'the',\n",
       "  'price',\n",
       "  'for',\n",
       "  'robert',\n",
       "  'company',\n",
       "  'is',\n",
       "  'an',\n",
       "  'infestation',\n",
       "  'of',\n",
       "  'lannisters',\n",
       "  'so',\n",
       "  'be',\n",
       "  'it'],\n",
       " ['it',\n",
       "  'sounds',\n",
       "  'as',\n",
       "  'though',\n",
       "  'robert',\n",
       "  'is',\n",
       "  'bringing',\n",
       "  'half',\n",
       "  'his',\n",
       "  'court'],\n",
       " ['where', 'the', 'king', 'goes', 'the', 'realm', 'follows', 'she', 'said'],\n",
       " ['it', 'will', 'be', 'good', 'to', 'see', 'the', 'children'],\n",
       " ['the',\n",
       "  'youngest',\n",
       "  'was',\n",
       "  'still',\n",
       "  'sucking',\n",
       "  'at',\n",
       "  'the',\n",
       "  'lannister',\n",
       "  'woman',\n",
       "  'teat',\n",
       "  'the',\n",
       "  'last',\n",
       "  'time',\n",
       "  'saw',\n",
       "  'him'],\n",
       " ['he', 'must', 'be', 'what', 'five', 'by', 'now'],\n",
       " ['prince', 'tornmen', 'is', 'seven', 'she', 'told', 'him'],\n",
       " ['the', 'same', 'age', 'as', 'bran'],\n",
       " ['please', 'ned', 'guard', 'your', 'tongue'],\n",
       " ['the',\n",
       "  'lannister',\n",
       "  'woman',\n",
       "  'is',\n",
       "  'our',\n",
       "  'queen',\n",
       "  'and',\n",
       "  'her',\n",
       "  'pride',\n",
       "  'is',\n",
       "  'said',\n",
       "  'to',\n",
       "  'grow',\n",
       "  'with',\n",
       "  'every',\n",
       "  'passing',\n",
       "  'year'],\n",
       " ['ned', 'squeezed', 'her', 'hand'],\n",
       " ['there',\n",
       "  'must',\n",
       "  'be',\n",
       "  'feast',\n",
       "  'of',\n",
       "  'course',\n",
       "  'with',\n",
       "  'singers',\n",
       "  'and',\n",
       "  'robert',\n",
       "  'will',\n",
       "  'want',\n",
       "  'to',\n",
       "  'hunt'],\n",
       " ['shall',\n",
       "  'send',\n",
       "  'jory',\n",
       "  'south',\n",
       "  'with',\n",
       "  'an',\n",
       "  'honor',\n",
       "  'guard',\n",
       "  'to',\n",
       "  'meet',\n",
       "  'them',\n",
       "  'on',\n",
       "  'the',\n",
       "  'kingsroad',\n",
       "  'and',\n",
       "  'escort',\n",
       "  'them',\n",
       "  'back'],\n",
       " ['gods', 'how', 'are', 'we', 'going', 'to', 'feed', 'them', 'all'],\n",
       " ['on', 'his', 'way', 'already', 'you', 'said'],\n",
       " ['damn', 'the', 'man'],\n",
       " ['damn', 'his', 'royal', 'hide'],\n",
       " ['daenerys',\n",
       "  'her',\n",
       "  'brother',\n",
       "  'held',\n",
       "  'the',\n",
       "  'gown',\n",
       "  'up',\n",
       "  'for',\n",
       "  'her',\n",
       "  'inspection'],\n",
       " ['this', 'is', 'beauty'],\n",
       " ['touch', 'it'],\n",
       " ['go', 'on'],\n",
       " ['caress', 'the', 'fabric'],\n",
       " ['dany', 'touched', 'it'],\n",
       " ['the',\n",
       "  'cloth',\n",
       "  'was',\n",
       "  'so',\n",
       "  'smooth',\n",
       "  'that',\n",
       "  'it',\n",
       "  'seemed',\n",
       "  'to',\n",
       "  'run',\n",
       "  'through',\n",
       "  'her',\n",
       "  'fingers',\n",
       "  'like',\n",
       "  'water'],\n",
       " ['she',\n",
       "  'could',\n",
       "  'not',\n",
       "  'remember',\n",
       "  'ever',\n",
       "  'wearing',\n",
       "  'anything',\n",
       "  'so',\n",
       "  'soft'],\n",
       " ['it', 'frightened', 'her'],\n",
       " ['she', 'pulled', 'her', 'hand', 'away'],\n",
       " ['is', 'it', 'really', 'mine'],\n",
       " ['gift', 'from', 'the', 'magister', 'illyrio', 'viserys', 'said', 'smiling'],\n",
       " ['her', 'brother', 'was', 'in', 'high', 'mood', 'tonight'],\n",
       " ['the',\n",
       "  'color',\n",
       "  'will',\n",
       "  'bring',\n",
       "  'out',\n",
       "  'the',\n",
       "  'violet',\n",
       "  'in',\n",
       "  'your',\n",
       "  'eyes'],\n",
       " ['and',\n",
       "  'you',\n",
       "  'shall',\n",
       "  'have',\n",
       "  'gold',\n",
       "  'as',\n",
       "  'well',\n",
       "  'and',\n",
       "  'jewels',\n",
       "  'of',\n",
       "  'all',\n",
       "  'sorts'],\n",
       " ['illyrio', 'has', 'promised'],\n",
       " ['tonight', 'you', 'must', 'look', 'like', 'princess'],\n",
       " ['princess', 'dany', 'thought'],\n",
       " ['she', 'had', 'forgotten', 'what', 'that', 'was', 'like'],\n",
       " ['perhaps', 'she', 'had', 'never', 'really', 'known'],\n",
       " ['why', 'does', 'he', 'give', 'us', 'so', 'much'],\n",
       " ['she', 'asked'],\n",
       " ['what', 'does', 'he', 'want', 'from', 'us'],\n",
       " ['for',\n",
       "  'nigh',\n",
       "  'on',\n",
       "  'half',\n",
       "  'year',\n",
       "  'they',\n",
       "  'had',\n",
       "  'lived',\n",
       "  'in',\n",
       "  'the',\n",
       "  'magister',\n",
       "  'house',\n",
       "  'eating',\n",
       "  'his',\n",
       "  'food',\n",
       "  'pampered',\n",
       "  'by',\n",
       "  'his',\n",
       "  'servants'],\n",
       " ['dany',\n",
       "  'was',\n",
       "  'thirteen',\n",
       "  'old',\n",
       "  'enough',\n",
       "  'to',\n",
       "  'know',\n",
       "  'that',\n",
       "  'such',\n",
       "  'gifts',\n",
       "  'seldom',\n",
       "  'come',\n",
       "  'without',\n",
       "  'their',\n",
       "  'price',\n",
       "  'here',\n",
       "  'in',\n",
       "  'the',\n",
       "  'free',\n",
       "  'city',\n",
       "  'of',\n",
       "  'pentos'],\n",
       " ['illyrio', 'is', 'no', 'fool', 'viserys', 'said'],\n",
       " ['he',\n",
       "  'was',\n",
       "  'gaunt',\n",
       "  'young',\n",
       "  'man',\n",
       "  'with',\n",
       "  'nervous',\n",
       "  'hands',\n",
       "  'and',\n",
       "  'feverish',\n",
       "  'look',\n",
       "  'in',\n",
       "  'his',\n",
       "  'pale',\n",
       "  'lilac',\n",
       "  'eyes'],\n",
       " ['the',\n",
       "  'magister',\n",
       "  'knows',\n",
       "  'that',\n",
       "  'will',\n",
       "  'not',\n",
       "  'forget',\n",
       "  'my',\n",
       "  'friends',\n",
       "  'when',\n",
       "  'come',\n",
       "  'into',\n",
       "  'my',\n",
       "  'throne'],\n",
       " ['dany', 'said', 'nothing'],\n",
       " ['magister',\n",
       "  'illyrio',\n",
       "  'was',\n",
       "  'dealer',\n",
       "  'in',\n",
       "  'spices',\n",
       "  'gemstones',\n",
       "  'dragonbone',\n",
       "  'and',\n",
       "  'other',\n",
       "  'less',\n",
       "  'savory',\n",
       "  'things'],\n",
       " ['he',\n",
       "  'had',\n",
       "  'friends',\n",
       "  'in',\n",
       "  'all',\n",
       "  'of',\n",
       "  'the',\n",
       "  'nine',\n",
       "  'free',\n",
       "  'cities',\n",
       "  'it',\n",
       "  'was',\n",
       "  'said',\n",
       "  'and',\n",
       "  'even',\n",
       "  'beyond',\n",
       "  'in',\n",
       "  'vaes',\n",
       "  'dothrak',\n",
       "  'and',\n",
       "  'the',\n",
       "  'fabled',\n",
       "  'lands',\n",
       "  'beside',\n",
       "  'the',\n",
       "  'jade',\n",
       "  'sea'],\n",
       " ['it',\n",
       "  'was',\n",
       "  'also',\n",
       "  'said',\n",
       "  'that',\n",
       "  'he',\n",
       "  'never',\n",
       "  'had',\n",
       "  'friend',\n",
       "  'he',\n",
       "  'wouldn',\n",
       "  'page',\n",
       "  'cheerfully',\n",
       "  'sell',\n",
       "  'for',\n",
       "  'the',\n",
       "  'right',\n",
       "  'price'],\n",
       " ['dany',\n",
       "  'listened',\n",
       "  'to',\n",
       "  'the',\n",
       "  'talk',\n",
       "  'in',\n",
       "  'the',\n",
       "  'streets',\n",
       "  'and',\n",
       "  'she',\n",
       "  'heard',\n",
       "  'these',\n",
       "  'things',\n",
       "  'but',\n",
       "  'she',\n",
       "  'knew',\n",
       "  'better',\n",
       "  'than',\n",
       "  'to',\n",
       "  'question',\n",
       "  'her',\n",
       "  'brother',\n",
       "  'when',\n",
       "  'he',\n",
       "  'wove',\n",
       "  'his',\n",
       "  'webs',\n",
       "  'of',\n",
       "  'dream'],\n",
       " ['his', 'anger', 'was', 'terrible', 'thing', 'when', 'roused'],\n",
       " ['viserys', 'called', 'it', 'waking', 'the', 'dragon'],\n",
       " ['her', 'brother', 'hung', 'the', 'gown', 'beside', 'the', 'door'],\n",
       " ['illyrio', 'will', 'send', 'the', 'slaves', 'to', 'bathe', 'you'],\n",
       " ['be', 'sure', 'you', 'wash', 'off', 'the', 'stink', 'of', 'the', 'stables'],\n",
       " ['khal',\n",
       "  'drogo',\n",
       "  'has',\n",
       "  'thousand',\n",
       "  'horses',\n",
       "  'tonight',\n",
       "  'he',\n",
       "  'looks',\n",
       "  'for',\n",
       "  'different',\n",
       "  'sort',\n",
       "  'of',\n",
       "  'mount'],\n",
       " ['he', 'studied', 'her', 'critically'],\n",
       " ['you', 'still', 'slouch'],\n",
       " ['straighten',\n",
       "  'yourself',\n",
       "  'he',\n",
       "  'pushed',\n",
       "  'back',\n",
       "  'her',\n",
       "  'shoulders',\n",
       "  'with',\n",
       "  'his',\n",
       "  'hands'],\n",
       " ['let', 'them', 'see', 'that', 'you', 'have', 'woman', 'shape', 'now'],\n",
       " ['his',\n",
       "  'fingers',\n",
       "  'brushed',\n",
       "  'lightly',\n",
       "  'over',\n",
       "  'her',\n",
       "  'budding',\n",
       "  'breasts',\n",
       "  'and',\n",
       "  'tightened',\n",
       "  'on',\n",
       "  'nipple'],\n",
       " ['you', 'will', 'not', 'fail', 'me', 'tonight'],\n",
       " ['if', 'you', 'do', 'it', 'will', 'go', 'hard', 'for', 'you'],\n",
       " ['you', 'don', 'want', 'to', 'wake', 'the', 'dragon', 'do', 'you'],\n",
       " ['his',\n",
       "  'fingers',\n",
       "  'twisted',\n",
       "  'her',\n",
       "  'the',\n",
       "  'pinch',\n",
       "  'cruelly',\n",
       "  'hard',\n",
       "  'through',\n",
       "  'the',\n",
       "  'rough',\n",
       "  'fabric',\n",
       "  'of',\n",
       "  'her',\n",
       "  'tunic'],\n",
       " ['do', 'you'],\n",
       " ['he', 'repeated'],\n",
       " ['no', 'dany', 'said', 'meekly'],\n",
       " ['her', 'brother', 'smiled'],\n",
       " ['good'],\n",
       " ['he', 'touched', 'her', 'hair', 'almost', 'with', 'affection'],\n",
       " ['when',\n",
       "  'they',\n",
       "  'write',\n",
       "  'the',\n",
       "  'history',\n",
       "  'of',\n",
       "  'my',\n",
       "  'reign',\n",
       "  'sweet',\n",
       "  'sister',\n",
       "  'they',\n",
       "  'will',\n",
       "  'say',\n",
       "  'that',\n",
       "  'it',\n",
       "  'began',\n",
       "  'tonight'],\n",
       " ['when',\n",
       "  'he',\n",
       "  'was',\n",
       "  'gone',\n",
       "  'dany',\n",
       "  'went',\n",
       "  'to',\n",
       "  'her',\n",
       "  'window',\n",
       "  'and',\n",
       "  'looked',\n",
       "  'out',\n",
       "  'wistfully',\n",
       "  'on',\n",
       "  'the',\n",
       "  'waters',\n",
       "  'of',\n",
       "  'the',\n",
       "  'bay'],\n",
       " ['the',\n",
       "  'square',\n",
       "  'brick',\n",
       "  'towers',\n",
       "  'of',\n",
       "  'pentos',\n",
       "  'were',\n",
       "  'black',\n",
       "  'silhouettes',\n",
       "  'outlined',\n",
       "  'against',\n",
       "  'the',\n",
       "  'setting',\n",
       "  'sun'],\n",
       " ['dany',\n",
       "  'could',\n",
       "  'hear',\n",
       "  'the',\n",
       "  'singing',\n",
       "  'of',\n",
       "  'the',\n",
       "  'red',\n",
       "  'priests',\n",
       "  'as',\n",
       "  'they',\n",
       "  'lit',\n",
       "  'their',\n",
       "  'night',\n",
       "  'fires',\n",
       "  'and',\n",
       "  'the',\n",
       "  'shouts',\n",
       "  'of',\n",
       "  'ragged',\n",
       "  'children',\n",
       "  'playing',\n",
       "  'games',\n",
       "  'beyond',\n",
       "  'the',\n",
       "  'walls',\n",
       "  'of',\n",
       "  'the',\n",
       "  'estate'],\n",
       " ['for',\n",
       "  'moment',\n",
       "  'she',\n",
       "  'wished',\n",
       "  'she',\n",
       "  'could',\n",
       "  'be',\n",
       "  'out',\n",
       "  'there',\n",
       "  'with',\n",
       "  'them',\n",
       "  'barefoot',\n",
       "  'and',\n",
       "  'breathless',\n",
       "  'and',\n",
       "  'dressed',\n",
       "  'in',\n",
       "  'tatters',\n",
       "  'with',\n",
       "  'no',\n",
       "  'past',\n",
       "  'and',\n",
       "  'no',\n",
       "  'future',\n",
       "  'and',\n",
       "  'no',\n",
       "  'feast',\n",
       "  'to',\n",
       "  'attend',\n",
       "  'at',\n",
       "  'khal',\n",
       "  'drogo',\n",
       "  'manse'],\n",
       " ['somewhere',\n",
       "  'beyond',\n",
       "  'the',\n",
       "  'sunset',\n",
       "  'across',\n",
       "  'the',\n",
       "  'narrow',\n",
       "  'sea',\n",
       "  'lay',\n",
       "  'land',\n",
       "  'of',\n",
       "  'green',\n",
       "  'hills',\n",
       "  'and',\n",
       "  'flowered',\n",
       "  'plains',\n",
       "  'and',\n",
       "  'great',\n",
       "  'rushing',\n",
       "  'rivers',\n",
       "  'where',\n",
       "  'towers',\n",
       "  'of',\n",
       "  'dark',\n",
       "  'stone',\n",
       "  'rose',\n",
       "  'amidst',\n",
       "  'magnificent',\n",
       "  'blue',\n",
       "  'grey',\n",
       "  'mountains',\n",
       "  'and',\n",
       "  'armored',\n",
       "  'knights',\n",
       "  'rode',\n",
       "  'to',\n",
       "  'battle',\n",
       "  'beneath',\n",
       "  'the',\n",
       "  'banners',\n",
       "  'of',\n",
       "  'their',\n",
       "  'lords'],\n",
       " ['the',\n",
       "  'dothraki',\n",
       "  'called',\n",
       "  'that',\n",
       "  'land',\n",
       "  'rhaesh',\n",
       "  'andahli',\n",
       "  'the',\n",
       "  'land',\n",
       "  'of',\n",
       "  'the',\n",
       "  'andals'],\n",
       " ['in',\n",
       "  'the',\n",
       "  'free',\n",
       "  'cities',\n",
       "  'they',\n",
       "  'talked',\n",
       "  'of',\n",
       "  'westeros',\n",
       "  'and',\n",
       "  'the',\n",
       "  'sunset',\n",
       "  'kingdoms'],\n",
       " ['her', 'brother', 'had', 'simpler', 'name'],\n",
       " ['our', 'land', 'he', 'called', 'it'],\n",
       " ['the', 'words', 'were', 'like', 'prayer', 'with', 'him'],\n",
       " ['if',\n",
       "  'he',\n",
       "  'said',\n",
       "  'them',\n",
       "  'enough',\n",
       "  'the',\n",
       "  'gods',\n",
       "  'were',\n",
       "  'sure',\n",
       "  'to',\n",
       "  'hear'],\n",
       " ['ours',\n",
       "  'by',\n",
       "  'blood',\n",
       "  'right',\n",
       "  'taken',\n",
       "  'from',\n",
       "  'us',\n",
       "  'by',\n",
       "  'treachery',\n",
       "  'but',\n",
       "  'ours',\n",
       "  'still',\n",
       "  'ours',\n",
       "  'forever'],\n",
       " ['you', 'do', 'not', 'steal', 'from', 'the', 'dragon', 'oh', 'no'],\n",
       " ['the', 'dragon', 'remembers'],\n",
       " ['and',\n",
       "  'perhaps',\n",
       "  'the',\n",
       "  'dragon',\n",
       "  'did',\n",
       "  'remember',\n",
       "  'but',\n",
       "  'dany',\n",
       "  'could',\n",
       "  'not'],\n",
       " ['she',\n",
       "  'had',\n",
       "  'never',\n",
       "  'seen',\n",
       "  'this',\n",
       "  'land',\n",
       "  'her',\n",
       "  'brother',\n",
       "  'said',\n",
       "  'was',\n",
       "  'theirs',\n",
       "  'this',\n",
       "  'realm',\n",
       "  'beyond',\n",
       "  'the',\n",
       "  'narrow',\n",
       "  'sea'],\n",
       " ['these',\n",
       "  'places',\n",
       "  'he',\n",
       "  'talked',\n",
       "  'of',\n",
       "  'casterly',\n",
       "  'rock',\n",
       "  'and',\n",
       "  'the',\n",
       "  'eyrie',\n",
       "  'highgarden',\n",
       "  'and',\n",
       "  'the',\n",
       "  'vale',\n",
       "  'of',\n",
       "  'arryn',\n",
       "  'dorne',\n",
       "  'and',\n",
       "  'the',\n",
       "  'isle',\n",
       "  'of',\n",
       "  'faces',\n",
       "  'they',\n",
       "  'were',\n",
       "  'just',\n",
       "  'words',\n",
       "  'to',\n",
       "  'her'],\n",
       " ['viserys',\n",
       "  'had',\n",
       "  'been',\n",
       "  'boy',\n",
       "  'of',\n",
       "  'eight',\n",
       "  'when',\n",
       "  'they',\n",
       "  'fled',\n",
       "  'king',\n",
       "  'landing',\n",
       "  'to',\n",
       "  'escape',\n",
       "  'the',\n",
       "  'advancing',\n",
       "  'armies',\n",
       "  'of',\n",
       "  'the',\n",
       "  'usurper',\n",
       "  'but',\n",
       "  'daenerys',\n",
       "  'had',\n",
       "  'been',\n",
       "  'only',\n",
       "  'quickening',\n",
       "  'in',\n",
       "  'their',\n",
       "  'mother',\n",
       "  'womb'],\n",
       " ['yet',\n",
       "  'sometimes',\n",
       "  'dany',\n",
       "  'would',\n",
       "  'picture',\n",
       "  'the',\n",
       "  'way',\n",
       "  'it',\n",
       "  'had',\n",
       "  'been',\n",
       "  'so',\n",
       "  'often',\n",
       "  'had',\n",
       "  'her',\n",
       "  'brother',\n",
       "  'told',\n",
       "  'her',\n",
       "  'the',\n",
       "  'stories'],\n",
       " ['the',\n",
       "  'midnight',\n",
       "  'flight',\n",
       "  'to',\n",
       "  'dragonstone',\n",
       "  'moonlight',\n",
       "  'shimmering',\n",
       "  'on',\n",
       "  'the',\n",
       "  'ship',\n",
       "  'black',\n",
       "  'sails'],\n",
       " ['her',\n",
       "  'brother',\n",
       "  'rhaegar',\n",
       "  'battling',\n",
       "  'the',\n",
       "  'usurper',\n",
       "  'in',\n",
       "  'the',\n",
       "  'bloody',\n",
       "  'waters',\n",
       "  'of',\n",
       "  'the',\n",
       "  'trident',\n",
       "  'and',\n",
       "  'dying',\n",
       "  'for',\n",
       "  'the',\n",
       "  'woman',\n",
       "  'he',\n",
       "  'loved'],\n",
       " ['the',\n",
       "  'sack',\n",
       "  'of',\n",
       "  'king',\n",
       "  'landing',\n",
       "  'by',\n",
       "  'the',\n",
       "  'ones',\n",
       "  'viserys',\n",
       "  'called',\n",
       "  'the',\n",
       "  'usurper',\n",
       "  'dogs',\n",
       "  'the',\n",
       "  'lords',\n",
       "  'lannister',\n",
       "  'and',\n",
       "  'stark'],\n",
       " ['princess',\n",
       "  'elia',\n",
       "  'of',\n",
       "  'dorne',\n",
       "  'pleading',\n",
       "  'for',\n",
       "  'mercy',\n",
       "  'as',\n",
       "  'rhaegar',\n",
       "  'heir',\n",
       "  'was',\n",
       "  'ripped',\n",
       "  'from',\n",
       "  'her',\n",
       "  'breast',\n",
       "  'and',\n",
       "  'murdered',\n",
       "  'before',\n",
       "  'her',\n",
       "  'eyes'],\n",
       " ['the',\n",
       "  'polished',\n",
       "  'skulls',\n",
       "  'of',\n",
       "  'the',\n",
       "  'last',\n",
       "  'dragons',\n",
       "  'staring',\n",
       "  'down',\n",
       "  'sightlessly',\n",
       "  'from',\n",
       "  'the',\n",
       "  'walls',\n",
       "  'of',\n",
       "  'the',\n",
       "  'throne',\n",
       "  'room',\n",
       "  'while',\n",
       "  'the',\n",
       "  'kingslayer',\n",
       "  'opened',\n",
       "  'father',\n",
       "  'throat',\n",
       "  'with',\n",
       "  'golden',\n",
       "  'sword'],\n",
       " ['she',\n",
       "  'had',\n",
       "  'been',\n",
       "  'born',\n",
       "  'on',\n",
       "  'dragonstone',\n",
       "  'nine',\n",
       "  'moons',\n",
       "  'after',\n",
       "  'their',\n",
       "  'flight',\n",
       "  'while',\n",
       "  'raging',\n",
       "  'summer',\n",
       "  'storm',\n",
       "  'threatened',\n",
       "  'to',\n",
       "  'rip',\n",
       "  'the',\n",
       "  'island',\n",
       "  'fastness',\n",
       "  'apart'],\n",
       " ['they', 'said', 'that', 'storm', 'was', 'terrible'],\n",
       " ['the',\n",
       "  'targaryen',\n",
       "  'fleet',\n",
       "  'was',\n",
       "  'smashed',\n",
       "  'while',\n",
       "  'it',\n",
       "  'lay',\n",
       "  'at',\n",
       "  'anchor',\n",
       "  'and',\n",
       "  'huge',\n",
       "  'stone',\n",
       "  'blocks',\n",
       "  'were',\n",
       "  'ripped',\n",
       "  'from',\n",
       "  'the',\n",
       "  'parapets',\n",
       "  'and',\n",
       "  'sent',\n",
       "  'hurtling',\n",
       "  'into',\n",
       "  'the',\n",
       "  'wild',\n",
       "  'waters',\n",
       "  'of',\n",
       "  'the',\n",
       "  'narrow',\n",
       "  'sea'],\n",
       " ['her',\n",
       "  'mother',\n",
       "  'had',\n",
       "  'died',\n",
       "  'birthing',\n",
       "  'her',\n",
       "  'and',\n",
       "  'for',\n",
       "  'that',\n",
       "  'her',\n",
       "  'brother',\n",
       "  'viserys',\n",
       "  'had',\n",
       "  'never',\n",
       "  'page',\n",
       "  'forgiven',\n",
       "  'her'],\n",
       " ['she', 'did', 'not', 'remember', 'dragonstone', 'either'],\n",
       " ['they',\n",
       "  'had',\n",
       "  'run',\n",
       "  'again',\n",
       "  'just',\n",
       "  'before',\n",
       "  'the',\n",
       "  'usurper',\n",
       "  'brother',\n",
       "  'set',\n",
       "  'sail',\n",
       "  'with',\n",
       "  'his',\n",
       "  'new',\n",
       "  'built',\n",
       "  'fleet'],\n",
       " ['by',\n",
       "  'then',\n",
       "  'only',\n",
       "  'dragonstone',\n",
       "  'itself',\n",
       "  'the',\n",
       "  'ancient',\n",
       "  'seat',\n",
       "  'of',\n",
       "  'their',\n",
       "  'house',\n",
       "  'had',\n",
       "  'remained',\n",
       "  'of',\n",
       "  'the',\n",
       "  'seven',\n",
       "  'kingdoms',\n",
       "  'that',\n",
       "  'had',\n",
       "  'once',\n",
       "  'been',\n",
       "  'theirs'],\n",
       " ['it', 'would', 'not', 'remain', 'for', 'long'],\n",
       " ['the',\n",
       "  'garrison',\n",
       "  'had',\n",
       "  'been',\n",
       "  'prepared',\n",
       "  'to',\n",
       "  'sell',\n",
       "  'them',\n",
       "  'to',\n",
       "  'the',\n",
       "  'usurper',\n",
       "  'but',\n",
       "  'one',\n",
       "  'night',\n",
       "  'ser',\n",
       "  'willem',\n",
       "  'darry',\n",
       "  'and',\n",
       "  'four',\n",
       "  'loyal',\n",
       "  'men',\n",
       "  'had',\n",
       "  'broken',\n",
       "  'into',\n",
       "  'the',\n",
       "  'nursery',\n",
       "  'and',\n",
       "  'stolen',\n",
       "  'them',\n",
       "  'both',\n",
       "  'along',\n",
       "  'with',\n",
       "  'her',\n",
       "  'wet',\n",
       "  'nurse',\n",
       "  'and',\n",
       "  'set',\n",
       "  'sail',\n",
       "  'under',\n",
       "  'cover',\n",
       "  'of',\n",
       "  'darkness',\n",
       "  'for',\n",
       "  'the',\n",
       "  'safety',\n",
       "  'of',\n",
       "  'the',\n",
       "  'braavosian',\n",
       "  'coast'],\n",
       " ['she',\n",
       "  'remembered',\n",
       "  'ser',\n",
       "  'willem',\n",
       "  'dimly',\n",
       "  'great',\n",
       "  'grey',\n",
       "  'bear',\n",
       "  'of',\n",
       "  'man',\n",
       "  'halfblind',\n",
       "  'roaring',\n",
       "  'and',\n",
       "  'bellowing',\n",
       "  'orders',\n",
       "  'from',\n",
       "  'his',\n",
       "  'sickbed'],\n",
       " ['the',\n",
       "  'servants',\n",
       "  'had',\n",
       "  'lived',\n",
       "  'in',\n",
       "  'terror',\n",
       "  'of',\n",
       "  'him',\n",
       "  'but',\n",
       "  'he',\n",
       "  'had',\n",
       "  'always',\n",
       "  'been',\n",
       "  'kind',\n",
       "  'to',\n",
       "  'dany'],\n",
       " ['he',\n",
       "  'called',\n",
       "  'her',\n",
       "  'little',\n",
       "  'princess',\n",
       "  'and',\n",
       "  'sometimes',\n",
       "  'my',\n",
       "  'lady',\n",
       "  'and',\n",
       "  'his',\n",
       "  'hands',\n",
       "  'were',\n",
       "  'soft',\n",
       "  'as',\n",
       "  'old',\n",
       "  'leather'],\n",
       " ['he',\n",
       "  'never',\n",
       "  'left',\n",
       "  'his',\n",
       "  'bed',\n",
       "  'though',\n",
       "  'and',\n",
       "  'the',\n",
       "  'smell',\n",
       "  'of',\n",
       "  'sickness',\n",
       "  'clung',\n",
       "  'to',\n",
       "  'him',\n",
       "  'day',\n",
       "  'and',\n",
       "  'night',\n",
       "  'hot',\n",
       "  'moist',\n",
       "  'sickly',\n",
       "  'sweet',\n",
       "  'odor'],\n",
       " ['that',\n",
       "  'was',\n",
       "  'when',\n",
       "  'they',\n",
       "  'lived',\n",
       "  'in',\n",
       "  'braavos',\n",
       "  'in',\n",
       "  'the',\n",
       "  'big',\n",
       "  'house',\n",
       "  'with',\n",
       "  'the',\n",
       "  'red',\n",
       "  'door'],\n",
       " ['dany',\n",
       "  'had',\n",
       "  'her',\n",
       "  'own',\n",
       "  'room',\n",
       "  'there',\n",
       "  'with',\n",
       "  'lemon',\n",
       "  'tree',\n",
       "  'outside',\n",
       "  'her',\n",
       "  'window'],\n",
       " ['after',\n",
       "  'ser',\n",
       "  'willem',\n",
       "  'had',\n",
       "  'died',\n",
       "  'the',\n",
       "  'servants',\n",
       "  'had',\n",
       "  'stolen',\n",
       "  'what',\n",
       "  'little',\n",
       "  'money',\n",
       "  'they',\n",
       "  'had',\n",
       "  'left',\n",
       "  'and',\n",
       "  'soon',\n",
       "  'after',\n",
       "  'they',\n",
       "  'had',\n",
       "  'been',\n",
       "  'put',\n",
       "  'out',\n",
       "  'of',\n",
       "  'the',\n",
       "  'big',\n",
       "  'house'],\n",
       " ['dany',\n",
       "  'had',\n",
       "  'cried',\n",
       "  'when',\n",
       "  'the',\n",
       "  'red',\n",
       "  'door',\n",
       "  'closed',\n",
       "  'behind',\n",
       "  'them',\n",
       "  'forever'],\n",
       " ['they',\n",
       "  'had',\n",
       "  'wandered',\n",
       "  'since',\n",
       "  'then',\n",
       "  'from',\n",
       "  'braavos',\n",
       "  'to',\n",
       "  'myr',\n",
       "  'from',\n",
       "  'myr',\n",
       "  'to',\n",
       "  'tyrosh',\n",
       "  'and',\n",
       "  'on',\n",
       "  'to',\n",
       "  'qohor',\n",
       "  'and',\n",
       "  'volantis',\n",
       "  'and',\n",
       "  'lys',\n",
       "  'never',\n",
       "  'staying',\n",
       "  'long',\n",
       "  'in',\n",
       "  'any',\n",
       "  'one',\n",
       "  'place'],\n",
       " ['her', 'brother', 'would', 'not', 'allow', 'it'],\n",
       " ['the',\n",
       "  'usurper',\n",
       "  'hired',\n",
       "  'knives',\n",
       "  'were',\n",
       "  'close',\n",
       "  'behind',\n",
       "  'them',\n",
       "  'he',\n",
       "  'insisted',\n",
       "  'though',\n",
       "  'dany',\n",
       "  'had',\n",
       "  'never',\n",
       "  'seen',\n",
       "  'one'],\n",
       " ['at',\n",
       "  'first',\n",
       "  'the',\n",
       "  'magisters',\n",
       "  'and',\n",
       "  'archons',\n",
       "  'and',\n",
       "  'merchant',\n",
       "  'princes',\n",
       "  'were',\n",
       "  'pleased',\n",
       "  'to',\n",
       "  'welcome',\n",
       "  'the',\n",
       "  'last',\n",
       "  'targaryens',\n",
       "  'to',\n",
       "  'their',\n",
       "  'homes',\n",
       "  'and',\n",
       "  'tables',\n",
       "  'but',\n",
       "  'as',\n",
       "  'the',\n",
       "  'years',\n",
       "  'passed',\n",
       "  'and',\n",
       "  'the',\n",
       "  'usurper',\n",
       "  'continued',\n",
       "  'to',\n",
       "  'sit',\n",
       "  'upon',\n",
       "  'the',\n",
       "  'iron',\n",
       "  'throne',\n",
       "  'doors',\n",
       "  'closed',\n",
       "  'and',\n",
       "  'their',\n",
       "  'lives',\n",
       "  'grew',\n",
       "  'meaner'],\n",
       " ['years',\n",
       "  'past',\n",
       "  'they',\n",
       "  'had',\n",
       "  'been',\n",
       "  'forced',\n",
       "  'to',\n",
       "  'sell',\n",
       "  'their',\n",
       "  'last',\n",
       "  'few',\n",
       "  'treasures',\n",
       "  'and',\n",
       "  'now',\n",
       "  'even',\n",
       "  'the',\n",
       "  'coin',\n",
       "  'they',\n",
       "  'had',\n",
       "  'gotten',\n",
       "  'from',\n",
       "  'mother',\n",
       "  'crown',\n",
       "  'had',\n",
       "  'gone'],\n",
       " ['in',\n",
       "  'the',\n",
       "  'alleys',\n",
       "  'and',\n",
       "  'wine',\n",
       "  'sinks',\n",
       "  'of',\n",
       "  'pentos',\n",
       "  'they',\n",
       "  'called',\n",
       "  'her',\n",
       "  'brother',\n",
       "  'the',\n",
       "  'beggar',\n",
       "  'king'],\n",
       " ['dany', 'did', 'not', 'want', 'to', 'know', 'what', 'they', 'called', 'her'],\n",
       " ['we',\n",
       "  'will',\n",
       "  'have',\n",
       "  'it',\n",
       "  'all',\n",
       "  'back',\n",
       "  'someday',\n",
       "  'sweet',\n",
       "  'sister',\n",
       "  'he',\n",
       "  'would',\n",
       "  'promise',\n",
       "  'her'],\n",
       " ['sometimes', 'his', 'hands', 'shook', 'when', 'he', 'talked', 'about', 'it'],\n",
       " ['the',\n",
       "  'jewels',\n",
       "  'and',\n",
       "  'the',\n",
       "  'silks',\n",
       "  'dragonstone',\n",
       "  'and',\n",
       "  'king',\n",
       "  'landing',\n",
       "  'the',\n",
       "  'iron',\n",
       "  'throne',\n",
       "  'and',\n",
       "  'the',\n",
       "  'seven',\n",
       "  'kingdoms',\n",
       "  'all',\n",
       "  'they',\n",
       "  'have',\n",
       "  'taken',\n",
       "  'from',\n",
       "  'us',\n",
       "  'we',\n",
       "  'will',\n",
       "  'have',\n",
       "  'it',\n",
       "  'back'],\n",
       " ['viserys', 'lived', 'for', 'that', 'day'],\n",
       " ['all',\n",
       "  'that',\n",
       "  'daenerys',\n",
       "  'wanted',\n",
       "  'back',\n",
       "  'was',\n",
       "  'the',\n",
       "  'big',\n",
       "  'house',\n",
       "  'with',\n",
       "  'the',\n",
       "  'red',\n",
       "  'door',\n",
       "  'the',\n",
       "  'lemon',\n",
       "  'tree',\n",
       "  'outside',\n",
       "  'her',\n",
       "  'window',\n",
       "  'the',\n",
       "  'childhood',\n",
       "  'she',\n",
       "  'had',\n",
       "  'never',\n",
       "  'known'],\n",
       " ['there', 'came', 'soft', 'knock', 'on', 'her', 'door'],\n",
       " ['come', 'dany', 'said', 'turning', 'away', 'from', 'the', 'window'],\n",
       " ['illyrio',\n",
       "  'servants',\n",
       "  'entered',\n",
       "  'bowed',\n",
       "  'and',\n",
       "  'set',\n",
       "  'about',\n",
       "  'their',\n",
       "  'business'],\n",
       " ['they',\n",
       "  'were',\n",
       "  'slaves',\n",
       "  'gift',\n",
       "  'from',\n",
       "  'one',\n",
       "  'of',\n",
       "  'the',\n",
       "  'magister',\n",
       "  'many',\n",
       "  'dothraki',\n",
       "  'friends'],\n",
       " ['there',\n",
       "  'was',\n",
       "  'no',\n",
       "  'slavery',\n",
       "  'in',\n",
       "  'the',\n",
       "  'free',\n",
       "  'city',\n",
       "  'of',\n",
       "  'pentos'],\n",
       " ['nonetheless', 'they', 'were', 'slaves'],\n",
       " ['the',\n",
       "  'old',\n",
       "  'woman',\n",
       "  'small',\n",
       "  'and',\n",
       "  'grey',\n",
       "  'as',\n",
       "  'mouse',\n",
       "  'never',\n",
       "  'said',\n",
       "  'word',\n",
       "  'but',\n",
       "  'the',\n",
       "  'girl',\n",
       "  'made',\n",
       "  'up',\n",
       "  'for',\n",
       "  'it'],\n",
       " ['she',\n",
       "  'was',\n",
       "  'illyrio',\n",
       "  'favorite',\n",
       "  'fair',\n",
       "  'haired',\n",
       "  'blue',\n",
       "  'eyed',\n",
       "  'wench',\n",
       "  'of',\n",
       "  'sixteen',\n",
       "  'who',\n",
       "  'chattered',\n",
       "  'constantly',\n",
       "  'as',\n",
       "  'she',\n",
       "  'worked'],\n",
       " ['they',\n",
       "  'filled',\n",
       "  'her',\n",
       "  'bath',\n",
       "  'with',\n",
       "  'hot',\n",
       "  'water',\n",
       "  'brought',\n",
       "  'up',\n",
       "  'from',\n",
       "  'the',\n",
       "  'kitchen',\n",
       "  'and',\n",
       "  'scented',\n",
       "  'it',\n",
       "  'with',\n",
       "  'fragrant',\n",
       "  'oils'],\n",
       " ['the',\n",
       "  'girl',\n",
       "  'pulled',\n",
       "  'the',\n",
       "  'rough',\n",
       "  'cotton',\n",
       "  'tunic',\n",
       "  'over',\n",
       "  'dany',\n",
       "  'head',\n",
       "  'and',\n",
       "  'helped',\n",
       "  'her',\n",
       "  'into',\n",
       "  'the',\n",
       "  'tub'],\n",
       " ['the',\n",
       "  'water',\n",
       "  'was',\n",
       "  'scalding',\n",
       "  'hot',\n",
       "  'but',\n",
       "  'daenerys',\n",
       "  'did',\n",
       "  'not',\n",
       "  'flinch',\n",
       "  'or',\n",
       "  'cry',\n",
       "  'out'],\n",
       " ['she', 'liked', 'the', 'heat'],\n",
       " ['it', 'made', 'her', 'feel', 'clean'],\n",
       " ['besides',\n",
       "  'her',\n",
       "  'brother',\n",
       "  'had',\n",
       "  'often',\n",
       "  'told',\n",
       "  'her',\n",
       "  'that',\n",
       "  'it',\n",
       "  'was',\n",
       "  'never',\n",
       "  'too',\n",
       "  'hot',\n",
       "  'for',\n",
       "  'targaryen'],\n",
       " ['ours', 'is', 'the', 'house', 'of', 'the', 'dragon', 'he', 'would', 'say'],\n",
       " ['the', 'fire', 'is', 'in', 'our', 'blood'],\n",
       " ['the',\n",
       "  'old',\n",
       "  'woman',\n",
       "  'washed',\n",
       "  'her',\n",
       "  'long',\n",
       "  'silver',\n",
       "  'pale',\n",
       "  'hair',\n",
       "  'and',\n",
       "  'gently',\n",
       "  'combed',\n",
       "  'out',\n",
       "  'the',\n",
       "  'snags',\n",
       "  'all',\n",
       "  'in',\n",
       "  'silence'],\n",
       " ['the',\n",
       "  'girl',\n",
       "  'scrubbed',\n",
       "  'her',\n",
       "  'back',\n",
       "  'and',\n",
       "  'her',\n",
       "  'feet',\n",
       "  'and',\n",
       "  'told',\n",
       "  'her',\n",
       "  'how',\n",
       "  'lucky',\n",
       "  'she',\n",
       "  'was'],\n",
       " ['drogo',\n",
       "  'is',\n",
       "  'so',\n",
       "  'rich',\n",
       "  'that',\n",
       "  'even',\n",
       "  'his',\n",
       "  'slaves',\n",
       "  'page',\n",
       "  'wear',\n",
       "  'golden',\n",
       "  'collars'],\n",
       " ['hundred',\n",
       "  'thousand',\n",
       "  'men',\n",
       "  'ride',\n",
       "  'in',\n",
       "  'his',\n",
       "  'khalasar',\n",
       "  'and',\n",
       "  'his',\n",
       "  'palace',\n",
       "  'in',\n",
       "  'vaes',\n",
       "  'dothrak',\n",
       "  'has',\n",
       "  'two',\n",
       "  'hundred',\n",
       "  'rooms',\n",
       "  'and',\n",
       "  'doors',\n",
       "  'of',\n",
       "  'solid',\n",
       "  'silver'],\n",
       " ['there',\n",
       "  'was',\n",
       "  'more',\n",
       "  'like',\n",
       "  'that',\n",
       "  'so',\n",
       "  'much',\n",
       "  'more',\n",
       "  'what',\n",
       "  'handsome',\n",
       "  'man',\n",
       "  'the',\n",
       "  'khal',\n",
       "  'was',\n",
       "  'so',\n",
       "  'tall',\n",
       "  'and',\n",
       "  'fierce',\n",
       "  'fearless',\n",
       "  'in',\n",
       "  'battle',\n",
       "  'the',\n",
       "  'best',\n",
       "  'rider',\n",
       "  'ever',\n",
       "  'to',\n",
       "  'mount',\n",
       "  'horse',\n",
       "  'demon',\n",
       "  'archer'],\n",
       " ['daenerys', 'said', 'nothing'],\n",
       " ...]"
      ]
     },
     "execution_count": 14,
     "metadata": {},
     "output_type": "execute_result"
    }
   ],
   "source": [
    "story"
   ]
  },
  {
   "cell_type": "code",
   "execution_count": 15,
   "metadata": {},
   "outputs": [],
   "source": [
    "model = gensim.models.Word2Vec(\n",
    "    window = 10,\n",
    "    min_count=2\n",
    ")"
   ]
  },
  {
   "cell_type": "code",
   "execution_count": 16,
   "metadata": {},
   "outputs": [],
   "source": [
    "model.build_vocab(story)"
   ]
  },
  {
   "cell_type": "code",
   "execution_count": 19,
   "metadata": {},
   "outputs": [
    {
     "data": {
      "text/plain": [
       "(6574456, 8625265)"
      ]
     },
     "execution_count": 19,
     "metadata": {},
     "output_type": "execute_result"
    }
   ],
   "source": [
    "model.train(story,total_examples=model.corpus_count,epochs=model.epochs)"
   ]
  },
  {
   "cell_type": "code",
   "execution_count": 20,
   "metadata": {},
   "outputs": [
    {
     "data": {
      "text/plain": [
       "[('stormborn', 0.8256469368934631),\n",
       " ('queen', 0.7970966100692749),\n",
       " ('targaryen', 0.7909548282623291),\n",
       " ('unburnt', 0.7398616671562195),\n",
       " ('princess', 0.7351241707801819),\n",
       " ('elia', 0.6995362043380737),\n",
       " ('viserys', 0.6982502341270447),\n",
       " ('myrcella', 0.6934170126914978),\n",
       " ('margaery', 0.6751804351806641),\n",
       " ('prince', 0.6467543840408325)]"
      ]
     },
     "execution_count": 20,
     "metadata": {},
     "output_type": "execute_result"
    }
   ],
   "source": [
    "model.wv.most_similar('daenerys')"
   ]
  },
  {
   "cell_type": "code",
   "execution_count": 21,
   "metadata": {},
   "outputs": [
    {
     "data": {
      "text/plain": [
       "'jon'"
      ]
     },
     "execution_count": 21,
     "metadata": {},
     "output_type": "execute_result"
    }
   ],
   "source": [
    "model.wv.doesnt_match(['jon','rikon','robb','arya','sansa','bran'])"
   ]
  },
  {
   "cell_type": "code",
   "execution_count": 22,
   "metadata": {},
   "outputs": [
    {
     "data": {
      "text/plain": [
       "'bronn'"
      ]
     },
     "execution_count": 22,
     "metadata": {},
     "output_type": "execute_result"
    }
   ],
   "source": [
    "model.wv.doesnt_match(['cersei','jaime','bronn','tyrlon'])"
   ]
  },
  {
   "cell_type": "code",
   "execution_count": 23,
   "metadata": {},
   "outputs": [
    {
     "data": {
      "text/plain": [
       "array([-1.1936463 , -1.5324577 ,  0.01449556, -2.4299138 ,  0.13139135,\n",
       "        2.141432  ,  0.6281789 ,  0.15821268, -2.1988187 ,  0.6807082 ,\n",
       "       -1.1941508 , -0.02711911, -2.1889532 ,  0.20194288, -1.1555327 ,\n",
       "        0.03756507, -1.585883  ,  1.3212374 ,  0.47628134, -2.3622293 ,\n",
       "        1.6437526 , -1.1363684 ,  0.7458202 ,  1.2621689 ,  0.0811938 ,\n",
       "       -1.0620826 ,  1.1816784 , -0.28292453, -0.11231428,  1.0518475 ,\n",
       "        0.504466  , -1.5971738 , -0.21265337,  0.13195686,  1.566329  ,\n",
       "       -0.14661832,  0.5002338 , -0.12688668,  0.2887449 , -0.904037  ,\n",
       "       -1.7149336 , -1.6952006 , -2.1305084 ,  3.3335984 ,  0.94811213,\n",
       "        0.28397107, -0.41555247,  1.2441821 , -0.63433737,  0.65976566,\n",
       "       -0.1988092 , -0.78647643,  1.9528567 , -0.71317255, -1.8215324 ,\n",
       "        1.0691304 ,  0.11475045, -2.8771806 ,  1.1264162 ,  0.2532821 ,\n",
       "        2.220038  ,  2.3903723 ,  0.35461313, -1.0219501 , -0.14768767,\n",
       "       -0.69316113,  1.5593445 ,  1.0583471 , -0.824819  , -0.89602256,\n",
       "        2.3104424 ,  0.07765345, -1.8801323 , -1.9583486 ,  1.4135336 ,\n",
       "        1.926954  ,  0.2663803 ,  2.2272086 ,  0.5587427 , -2.0442998 ,\n",
       "        0.04131084, -0.62589556, -1.7418431 , -0.01709935, -0.33421066,\n",
       "        1.7991139 ,  0.44379777, -2.0080354 , -1.1835418 , -1.2711841 ,\n",
       "       -0.7712576 ,  1.8962786 ,  1.9008641 , -0.12829208,  3.5352106 ,\n",
       "       -0.14452226,  0.46162686, -1.5210938 ,  1.4576219 ,  1.5973829 ],\n",
       "      dtype=float32)"
      ]
     },
     "execution_count": 23,
     "metadata": {},
     "output_type": "execute_result"
    }
   ],
   "source": [
    "model.wv['jon']"
   ]
  },
  {
   "cell_type": "code",
   "execution_count": 24,
   "metadata": {},
   "outputs": [
    {
     "data": {
      "text/plain": [
       "0.85084033"
      ]
     },
     "execution_count": 24,
     "metadata": {},
     "output_type": "execute_result"
    }
   ],
   "source": [
    "model.wv.similarity('arya','sansa')"
   ]
  },
  {
   "cell_type": "code",
   "execution_count": 25,
   "metadata": {},
   "outputs": [],
   "source": [
    "from sklearn.decomposition import PCA"
   ]
  },
  {
   "cell_type": "code",
   "execution_count": 26,
   "metadata": {},
   "outputs": [],
   "source": [
    "pca = PCA(n_components=3)\n",
    "# to convert it into a 3d vector"
   ]
  },
  {
   "cell_type": "code",
   "execution_count": 27,
   "metadata": {},
   "outputs": [],
   "source": [
    "X = pca.fit_transform(model.wv.get_normed_vectors())"
   ]
  },
  {
   "cell_type": "code",
   "execution_count": 29,
   "metadata": {},
   "outputs": [
    {
     "data": {
      "text/plain": [
       "(17869, 3)"
      ]
     },
     "execution_count": 29,
     "metadata": {},
     "output_type": "execute_result"
    }
   ],
   "source": [
    "X.shape"
   ]
  },
  {
   "cell_type": "code",
   "execution_count": 31,
   "metadata": {},
   "outputs": [],
   "source": [
    "y = model.wv.index_to_key"
   ]
  },
  {
   "cell_type": "code",
   "execution_count": 33,
   "metadata": {},
   "outputs": [
    {
     "data": {
      "application/vnd.plotly.v1+json": {
       "config": {
        "plotlyServerURL": "https://plot.ly"
       },
       "data": [
        {
         "hovertemplate": "color=the<br>0=%{x}<br>1=%{y}<br>2=%{z}<extra></extra>",
         "legendgroup": "the",
         "marker": {
          "color": "#636efa",
          "symbol": "circle"
         },
         "mode": "markers",
         "name": "the",
         "scene": "scene",
         "showlegend": true,
         "type": "scatter3d",
         "x": [
          -0.22142799198627472
         ],
         "y": [
          0.5843024253845215
         ],
         "z": [
          -0.09307428449392319
         ]
        },
        {
         "hovertemplate": "color=and<br>0=%{x}<br>1=%{y}<br>2=%{z}<extra></extra>",
         "legendgroup": "and",
         "marker": {
          "color": "#EF553B",
          "symbol": "circle"
         },
         "mode": "markers",
         "name": "and",
         "scene": "scene",
         "showlegend": true,
         "type": "scatter3d",
         "x": [
          -0.19310815632343292
         ],
         "y": [
          0.33287832140922546
         ],
         "z": [
          -0.002783831674605608
         ]
        },
        {
         "hovertemplate": "color=to<br>0=%{x}<br>1=%{y}<br>2=%{z}<extra></extra>",
         "legendgroup": "to",
         "marker": {
          "color": "#00cc96",
          "symbol": "circle"
         },
         "mode": "markers",
         "name": "to",
         "scene": "scene",
         "showlegend": true,
         "type": "scatter3d",
         "x": [
          0.25422295928001404
         ],
         "y": [
          0.5891030430793762
         ],
         "z": [
          0.19914691150188446
         ]
        },
        {
         "hovertemplate": "color=of<br>0=%{x}<br>1=%{y}<br>2=%{z}<extra></extra>",
         "legendgroup": "of",
         "marker": {
          "color": "#ab63fa",
          "symbol": "circle"
         },
         "mode": "markers",
         "name": "of",
         "scene": "scene",
         "showlegend": true,
         "type": "scatter3d",
         "x": [
          -0.041135963052511215
         ],
         "y": [
          0.36953607201576233
         ],
         "z": [
          -0.16656826436519623
         ]
        },
        {
         "hovertemplate": "color=he<br>0=%{x}<br>1=%{y}<br>2=%{z}<extra></extra>",
         "legendgroup": "he",
         "marker": {
          "color": "#FFA15A",
          "symbol": "circle"
         },
         "mode": "markers",
         "name": "he",
         "scene": "scene",
         "showlegend": true,
         "type": "scatter3d",
         "x": [
          0.061737313866615295
         ],
         "y": [
          0.5498657822608948
         ],
         "z": [
          0.23189815878868103
         ]
        },
        {
         "hovertemplate": "color=his<br>0=%{x}<br>1=%{y}<br>2=%{z}<extra></extra>",
         "legendgroup": "his",
         "marker": {
          "color": "#19d3f3",
          "symbol": "circle"
         },
         "mode": "markers",
         "name": "his",
         "scene": "scene",
         "showlegend": true,
         "type": "scatter3d",
         "x": [
          -0.07715734839439392
         ],
         "y": [
          0.29320576786994934
         ],
         "z": [
          0.27951085567474365
         ]
        },
        {
         "hovertemplate": "color=was<br>0=%{x}<br>1=%{y}<br>2=%{z}<extra></extra>",
         "legendgroup": "was",
         "marker": {
          "color": "#FF6692",
          "symbol": "circle"
         },
         "mode": "markers",
         "name": "was",
         "scene": "scene",
         "showlegend": true,
         "type": "scatter3d",
         "x": [
          0.0677180290222168
         ],
         "y": [
          0.4013543725013733
         ],
         "z": [
          0.2799851894378662
         ]
        },
        {
         "hovertemplate": "color=you<br>0=%{x}<br>1=%{y}<br>2=%{z}<extra></extra>",
         "legendgroup": "you",
         "marker": {
          "color": "#B6E880",
          "symbol": "circle"
         },
         "mode": "markers",
         "name": "you",
         "scene": "scene",
         "showlegend": true,
         "type": "scatter3d",
         "x": [
          0.5185030698776245
         ],
         "y": [
          0.6149489879608154
         ],
         "z": [
          0.11199872195720673
         ]
        },
        {
         "hovertemplate": "color=her<br>0=%{x}<br>1=%{y}<br>2=%{z}<extra></extra>",
         "legendgroup": "her",
         "marker": {
          "color": "#FF97FF",
          "symbol": "circle"
         },
         "mode": "markers",
         "name": "her",
         "scene": "scene",
         "showlegend": true,
         "type": "scatter3d",
         "x": [
          -0.0406489260494709
         ],
         "y": [
          0.40922820568084717
         ],
         "z": [
          0.3301369249820709
         ]
        },
        {
         "hovertemplate": "color=in<br>0=%{x}<br>1=%{y}<br>2=%{z}<extra></extra>",
         "legendgroup": "in",
         "marker": {
          "color": "#FECB52",
          "symbol": "circle"
         },
         "mode": "markers",
         "name": "in",
         "scene": "scene",
         "showlegend": true,
         "type": "scatter3d",
         "x": [
          -0.11896834522485733
         ],
         "y": [
          0.4585539400577545
         ],
         "z": [
          0.03505253419280052
         ]
        },
        {
         "hovertemplate": "color=it<br>0=%{x}<br>1=%{y}<br>2=%{z}<extra></extra>",
         "legendgroup": "it",
         "marker": {
          "color": "#636efa",
          "symbol": "circle"
         },
         "mode": "markers",
         "name": "it",
         "scene": "scene",
         "showlegend": true,
         "type": "scatter3d",
         "x": [
          0.030965330079197884
         ],
         "y": [
          0.6289224028587341
         ],
         "z": [
          0.2284364402294159
         ]
        },
        {
         "hovertemplate": "color=had<br>0=%{x}<br>1=%{y}<br>2=%{z}<extra></extra>",
         "legendgroup": "had",
         "marker": {
          "color": "#EF553B",
          "symbol": "circle"
         },
         "mode": "markers",
         "name": "had",
         "scene": "scene",
         "showlegend": true,
         "type": "scatter3d",
         "x": [
          0.09590311348438263
         ],
         "y": [
          0.508387565612793
         ],
         "z": [
          0.14720438420772552
         ]
        },
        {
         "hovertemplate": "color=that<br>0=%{x}<br>1=%{y}<br>2=%{z}<extra></extra>",
         "legendgroup": "that",
         "marker": {
          "color": "#00cc96",
          "symbol": "circle"
         },
         "mode": "markers",
         "name": "that",
         "scene": "scene",
         "showlegend": true,
         "type": "scatter3d",
         "x": [
          0.24896211922168732
         ],
         "y": [
          0.5994988083839417
         ],
         "z": [
          0.07177872955799103
         ]
        },
        {
         "hovertemplate": "color=she<br>0=%{x}<br>1=%{y}<br>2=%{z}<extra></extra>",
         "legendgroup": "she",
         "marker": {
          "color": "#ab63fa",
          "symbol": "circle"
         },
         "mode": "markers",
         "name": "she",
         "scene": "scene",
         "showlegend": true,
         "type": "scatter3d",
         "x": [
          0.019272925332188606
         ],
         "y": [
          0.5231022834777832
         ],
         "z": [
          0.2680656909942627
         ]
        },
        {
         "hovertemplate": "color=as<br>0=%{x}<br>1=%{y}<br>2=%{z}<extra></extra>",
         "legendgroup": "as",
         "marker": {
          "color": "#FFA15A",
          "symbol": "circle"
         },
         "mode": "markers",
         "name": "as",
         "scene": "scene",
         "showlegend": true,
         "type": "scatter3d",
         "x": [
          -0.027564551681280136
         ],
         "y": [
          0.4951300621032715
         ],
         "z": [
          0.2459094375371933
         ]
        },
        {
         "hovertemplate": "color=with<br>0=%{x}<br>1=%{y}<br>2=%{z}<extra></extra>",
         "legendgroup": "with",
         "marker": {
          "color": "#19d3f3",
          "symbol": "circle"
         },
         "mode": "markers",
         "name": "with",
         "scene": "scene",
         "showlegend": true,
         "type": "scatter3d",
         "x": [
          -0.15020635724067688
         ],
         "y": [
          0.2675917446613312
         ],
         "z": [
          0.15508870780467987
         ]
        },
        {
         "hovertemplate": "color=him<br>0=%{x}<br>1=%{y}<br>2=%{z}<extra></extra>",
         "legendgroup": "him",
         "marker": {
          "color": "#FF6692",
          "symbol": "circle"
         },
         "mode": "markers",
         "name": "him",
         "scene": "scene",
         "showlegend": true,
         "type": "scatter3d",
         "x": [
          0.07272786647081375
         ],
         "y": [
          0.5478276014328003
         ],
         "z": [
          0.26420626044273376
         ]
        },
        {
         "hovertemplate": "color=not<br>0=%{x}<br>1=%{y}<br>2=%{z}<extra></extra>",
         "legendgroup": "not",
         "marker": {
          "color": "#B6E880",
          "symbol": "circle"
         },
         "mode": "markers",
         "name": "not",
         "scene": "scene",
         "showlegend": true,
         "type": "scatter3d",
         "x": [
          0.4171479046344757
         ],
         "y": [
          0.5802304744720459
         ],
         "z": [
          0.18544749915599823
         ]
        },
        {
         "hovertemplate": "color=but<br>0=%{x}<br>1=%{y}<br>2=%{z}<extra></extra>",
         "legendgroup": "but",
         "marker": {
          "color": "#FF97FF",
          "symbol": "circle"
         },
         "mode": "markers",
         "name": "but",
         "scene": "scene",
         "showlegend": true,
         "type": "scatter3d",
         "x": [
          0.19989222288131714
         ],
         "y": [
          0.6079967021942139
         ],
         "z": [
          0.18216155469417572
         ]
        },
        {
         "hovertemplate": "color=for<br>0=%{x}<br>1=%{y}<br>2=%{z}<extra></extra>",
         "legendgroup": "for",
         "marker": {
          "color": "#FECB52",
          "symbol": "circle"
         },
         "mode": "markers",
         "name": "for",
         "scene": "scene",
         "showlegend": true,
         "type": "scatter3d",
         "x": [
          0.39812543988227844
         ],
         "y": [
          0.5373446941375732
         ],
         "z": [
          0.15056945383548737
         ]
        },
        {
         "hovertemplate": "color=they<br>0=%{x}<br>1=%{y}<br>2=%{z}<extra></extra>",
         "legendgroup": "they",
         "marker": {
          "color": "#636efa",
          "symbol": "circle"
         },
         "mode": "markers",
         "name": "they",
         "scene": "scene",
         "showlegend": true,
         "type": "scatter3d",
         "x": [
          -0.02864092029631138
         ],
         "y": [
          0.7175837159156799
         ],
         "z": [
          -0.07876982539892197
         ]
        },
        {
         "hovertemplate": "color=is<br>0=%{x}<br>1=%{y}<br>2=%{z}<extra></extra>",
         "legendgroup": "is",
         "marker": {
          "color": "#EF553B",
          "symbol": "circle"
         },
         "mode": "markers",
         "name": "is",
         "scene": "scene",
         "showlegend": true,
         "type": "scatter3d",
         "x": [
          0.5239814519882202
         ],
         "y": [
          0.48037487268447876
         ],
         "z": [
          0.1351270079612732
         ]
        },
        {
         "hovertemplate": "color=at<br>0=%{x}<br>1=%{y}<br>2=%{z}<extra></extra>",
         "legendgroup": "at",
         "marker": {
          "color": "#00cc96",
          "symbol": "circle"
         },
         "mode": "markers",
         "name": "at",
         "scene": "scene",
         "showlegend": true,
         "type": "scatter3d",
         "x": [
          0.010010767728090286
         ],
         "y": [
          0.38351765275001526
         ],
         "z": [
          0.3008837401866913
         ]
        },
        {
         "hovertemplate": "color=on<br>0=%{x}<br>1=%{y}<br>2=%{z}<extra></extra>",
         "legendgroup": "on",
         "marker": {
          "color": "#ab63fa",
          "symbol": "circle"
         },
         "mode": "markers",
         "name": "on",
         "scene": "scene",
         "showlegend": true,
         "type": "scatter3d",
         "x": [
          -0.2488052248954773
         ],
         "y": [
          0.4758337438106537
         ],
         "z": [
          0.19133557379245758
         ]
        },
        {
         "hovertemplate": "color=said<br>0=%{x}<br>1=%{y}<br>2=%{z}<extra></extra>",
         "legendgroup": "said",
         "marker": {
          "color": "#FFA15A",
          "symbol": "circle"
         },
         "mode": "markers",
         "name": "said",
         "scene": "scene",
         "showlegend": true,
         "type": "scatter3d",
         "x": [
          0.5107823014259338
         ],
         "y": [
          0.4613448977470398
         ],
         "z": [
          0.5023409724235535
         ]
        },
        {
         "hovertemplate": "color=my<br>0=%{x}<br>1=%{y}<br>2=%{z}<extra></extra>",
         "legendgroup": "my",
         "marker": {
          "color": "#19d3f3",
          "symbol": "circle"
         },
         "mode": "markers",
         "name": "my",
         "scene": "scene",
         "showlegend": true,
         "type": "scatter3d",
         "x": [
          0.44782954454421997
         ],
         "y": [
          0.5022733807563782
         ],
         "z": [
          0.14189809560775757
         ]
        },
        {
         "hovertemplate": "color=have<br>0=%{x}<br>1=%{y}<br>2=%{z}<extra></extra>",
         "legendgroup": "have",
         "marker": {
          "color": "#FF6692",
          "symbol": "circle"
         },
         "mode": "markers",
         "name": "have",
         "scene": "scene",
         "showlegend": true,
         "type": "scatter3d",
         "x": [
          0.3415963649749756
         ],
         "y": [
          0.6184178590774536
         ],
         "z": [
          0.11014221608638763
         ]
        },
        {
         "hovertemplate": "color=be<br>0=%{x}<br>1=%{y}<br>2=%{z}<extra></extra>",
         "legendgroup": "be",
         "marker": {
          "color": "#B6E880",
          "symbol": "circle"
         },
         "mode": "markers",
         "name": "be",
         "scene": "scene",
         "showlegend": true,
         "type": "scatter3d",
         "x": [
          0.34817227721214294
         ],
         "y": [
          0.6536093950271606
         ],
         "z": [
          0.08441459387540817
         ]
        },
        {
         "hovertemplate": "color=them<br>0=%{x}<br>1=%{y}<br>2=%{z}<extra></extra>",
         "legendgroup": "them",
         "marker": {
          "color": "#FF97FF",
          "symbol": "circle"
         },
         "mode": "markers",
         "name": "them",
         "scene": "scene",
         "showlegend": true,
         "type": "scatter3d",
         "x": [
          -0.03876665234565735
         ],
         "y": [
          0.6952484846115112
         ],
         "z": [
          -0.028313616290688515
         ]
        },
        {
         "hovertemplate": "color=lord<br>0=%{x}<br>1=%{y}<br>2=%{z}<extra></extra>",
         "legendgroup": "lord",
         "marker": {
          "color": "#FECB52",
          "symbol": "circle"
         },
         "mode": "markers",
         "name": "lord",
         "scene": "scene",
         "showlegend": true,
         "type": "scatter3d",
         "x": [
          0.4642805755138397
         ],
         "y": [
          0.4449392855167389
         ],
         "z": [
          0.029699215665459633
         ]
        },
        {
         "hovertemplate": "color=no<br>0=%{x}<br>1=%{y}<br>2=%{z}<extra></extra>",
         "legendgroup": "no",
         "marker": {
          "color": "#636efa",
          "symbol": "circle"
         },
         "mode": "markers",
         "name": "no",
         "scene": "scene",
         "showlegend": true,
         "type": "scatter3d",
         "x": [
          0.3537687659263611
         ],
         "y": [
          0.5396317839622498
         ],
         "z": [
          0.0582611970603466
         ]
        },
        {
         "hovertemplate": "color=from<br>0=%{x}<br>1=%{y}<br>2=%{z}<extra></extra>",
         "legendgroup": "from",
         "marker": {
          "color": "#EF553B",
          "symbol": "circle"
         },
         "mode": "markers",
         "name": "from",
         "scene": "scene",
         "showlegend": true,
         "type": "scatter3d",
         "x": [
          -0.21112805604934692
         ],
         "y": [
          0.45126625895500183
         ],
         "z": [
          0.1445934772491455
         ]
        },
        {
         "hovertemplate": "color=were<br>0=%{x}<br>1=%{y}<br>2=%{z}<extra></extra>",
         "legendgroup": "were",
         "marker": {
          "color": "#00cc96",
          "symbol": "circle"
         },
         "mode": "markers",
         "name": "were",
         "scene": "scene",
         "showlegend": true,
         "type": "scatter3d",
         "x": [
          -0.07712290436029434
         ],
         "y": [
          0.5015039443969727
         ],
         "z": [
          0.012892949394881725
         ]
        },
        {
         "hovertemplate": "color=would<br>0=%{x}<br>1=%{y}<br>2=%{z}<extra></extra>",
         "legendgroup": "would",
         "marker": {
          "color": "#ab63fa",
          "symbol": "circle"
         },
         "mode": "markers",
         "name": "would",
         "scene": "scene",
         "showlegend": true,
         "type": "scatter3d",
         "x": [
          0.3767577111721039
         ],
         "y": [
          0.5734262466430664
         ],
         "z": [
          0.2451309859752655
         ]
        },
        {
         "hovertemplate": "color=me<br>0=%{x}<br>1=%{y}<br>2=%{z}<extra></extra>",
         "legendgroup": "me",
         "marker": {
          "color": "#FFA15A",
          "symbol": "circle"
         },
         "mode": "markers",
         "name": "me",
         "scene": "scene",
         "showlegend": true,
         "type": "scatter3d",
         "x": [
          0.48820948600769043
         ],
         "y": [
          0.5990185737609863
         ],
         "z": [
          0.17209400236606598
         ]
        },
        {
         "hovertemplate": "color=your<br>0=%{x}<br>1=%{y}<br>2=%{z}<extra></extra>",
         "legendgroup": "your",
         "marker": {
          "color": "#19d3f3",
          "symbol": "circle"
         },
         "mode": "markers",
         "name": "your",
         "scene": "scene",
         "showlegend": true,
         "type": "scatter3d",
         "x": [
          0.39690226316452026
         ],
         "y": [
          0.4962228536605835
         ],
         "z": [
          0.13617919385433197
         ]
        },
        {
         "hovertemplate": "color=one<br>0=%{x}<br>1=%{y}<br>2=%{z}<extra></extra>",
         "legendgroup": "one",
         "marker": {
          "color": "#FF6692",
          "symbol": "circle"
         },
         "mode": "markers",
         "name": "one",
         "scene": "scene",
         "showlegend": true,
         "type": "scatter3d",
         "x": [
          -0.00901808962225914
         ],
         "y": [
          0.6021990776062012
         ],
         "z": [
          0.10233348608016968
         ]
        },
        {
         "hovertemplate": "color=all<br>0=%{x}<br>1=%{y}<br>2=%{z}<extra></extra>",
         "legendgroup": "all",
         "marker": {
          "color": "#B6E880",
          "symbol": "circle"
         },
         "mode": "markers",
         "name": "all",
         "scene": "scene",
         "showlegend": true,
         "type": "scatter3d",
         "x": [
          0.16280633211135864
         ],
         "y": [
          0.7137986421585083
         ],
         "z": [
          -0.03245997801423073
         ]
        },
        {
         "hovertemplate": "color=when<br>0=%{x}<br>1=%{y}<br>2=%{z}<extra></extra>",
         "legendgroup": "when",
         "marker": {
          "color": "#FF97FF",
          "symbol": "circle"
         },
         "mode": "markers",
         "name": "when",
         "scene": "scene",
         "showlegend": true,
         "type": "scatter3d",
         "x": [
          0.0887996181845665
         ],
         "y": [
          0.5762633681297302
         ],
         "z": [
          0.3128364384174347
         ]
        },
        {
         "hovertemplate": "color=will<br>0=%{x}<br>1=%{y}<br>2=%{z}<extra></extra>",
         "legendgroup": "will",
         "marker": {
          "color": "#FECB52",
          "symbol": "circle"
         },
         "mode": "markers",
         "name": "will",
         "scene": "scene",
         "showlegend": true,
         "type": "scatter3d",
         "x": [
          0.4695966839790344
         ],
         "y": [
          0.5530633926391602
         ],
         "z": [
          0.1678835153579712
         ]
        },
        {
         "hovertemplate": "color=ser<br>0=%{x}<br>1=%{y}<br>2=%{z}<extra></extra>",
         "legendgroup": "ser",
         "marker": {
          "color": "#636efa",
          "symbol": "circle"
         },
         "mode": "markers",
         "name": "ser",
         "scene": "scene",
         "showlegend": true,
         "type": "scatter3d",
         "x": [
          0.35953113436698914
         ],
         "y": [
          0.27826812863349915
         ],
         "z": [
          0.11054329574108124
         ]
        },
        {
         "hovertemplate": "color=if<br>0=%{x}<br>1=%{y}<br>2=%{z}<extra></extra>",
         "legendgroup": "if",
         "marker": {
          "color": "#EF553B",
          "symbol": "circle"
         },
         "mode": "markers",
         "name": "if",
         "scene": "scene",
         "showlegend": true,
         "type": "scatter3d",
         "x": [
          0.3471924960613251
         ],
         "y": [
          0.6615826487541199
         ],
         "z": [
          0.2943555414676666
         ]
        },
        {
         "hovertemplate": "color=so<br>0=%{x}<br>1=%{y}<br>2=%{z}<extra></extra>",
         "legendgroup": "so",
         "marker": {
          "color": "#00cc96",
          "symbol": "circle"
         },
         "mode": "markers",
         "name": "so",
         "scene": "scene",
         "showlegend": true,
         "type": "scatter3d",
         "x": [
          0.13119959831237793
         ],
         "y": [
          0.557788610458374
         ],
         "z": [
          0.27329838275909424
         ]
        },
        {
         "hovertemplate": "color=their<br>0=%{x}<br>1=%{y}<br>2=%{z}<extra></extra>",
         "legendgroup": "their",
         "marker": {
          "color": "#ab63fa",
          "symbol": "circle"
         },
         "mode": "markers",
         "name": "their",
         "scene": "scene",
         "showlegend": true,
         "type": "scatter3d",
         "x": [
          -0.10363052785396576
         ],
         "y": [
          0.5397475957870483
         ],
         "z": [
          -0.21293124556541443
         ]
        },
        {
         "hovertemplate": "color=could<br>0=%{x}<br>1=%{y}<br>2=%{z}<extra></extra>",
         "legendgroup": "could",
         "marker": {
          "color": "#FFA15A",
          "symbol": "circle"
         },
         "mode": "markers",
         "name": "could",
         "scene": "scene",
         "showlegend": true,
         "type": "scatter3d",
         "x": [
          0.061477676033973694
         ],
         "y": [
          0.5052915215492249
         ],
         "z": [
          0.275481641292572
         ]
        },
        {
         "hovertemplate": "color=are<br>0=%{x}<br>1=%{y}<br>2=%{z}<extra></extra>",
         "legendgroup": "are",
         "marker": {
          "color": "#19d3f3",
          "symbol": "circle"
         },
         "mode": "markers",
         "name": "are",
         "scene": "scene",
         "showlegend": true,
         "type": "scatter3d",
         "x": [
          0.3647173345088959
         ],
         "y": [
          0.5312983393669128
         ],
         "z": [
          -0.04643753170967102
         ]
        },
        {
         "hovertemplate": "color=we<br>0=%{x}<br>1=%{y}<br>2=%{z}<extra></extra>",
         "legendgroup": "we",
         "marker": {
          "color": "#FF6692",
          "symbol": "circle"
         },
         "mode": "markers",
         "name": "we",
         "scene": "scene",
         "showlegend": true,
         "type": "scatter3d",
         "x": [
          0.3396836221218109
         ],
         "y": [
          0.7440631985664368
         ],
         "z": [
          -0.04864945262670517
         ]
        },
        {
         "hovertemplate": "color=man<br>0=%{x}<br>1=%{y}<br>2=%{z}<extra></extra>",
         "legendgroup": "man",
         "marker": {
          "color": "#B6E880",
          "symbol": "circle"
         },
         "mode": "markers",
         "name": "man",
         "scene": "scene",
         "showlegend": true,
         "type": "scatter3d",
         "x": [
          0.08910691738128662
         ],
         "y": [
          0.5044940710067749
         ],
         "z": [
          0.1115342453122139
         ]
        },
        {
         "hovertemplate": "color=there<br>0=%{x}<br>1=%{y}<br>2=%{z}<extra></extra>",
         "legendgroup": "there",
         "marker": {
          "color": "#FF97FF",
          "symbol": "circle"
         },
         "mode": "markers",
         "name": "there",
         "scene": "scene",
         "showlegend": true,
         "type": "scatter3d",
         "x": [
          0.03337515518069267
         ],
         "y": [
          0.6230866312980652
         ],
         "z": [
          -0.013743484392762184
         ]
        },
        {
         "hovertemplate": "color=this<br>0=%{x}<br>1=%{y}<br>2=%{z}<extra></extra>",
         "legendgroup": "this",
         "marker": {
          "color": "#FECB52",
          "symbol": "circle"
         },
         "mode": "markers",
         "name": "this",
         "scene": "scene",
         "showlegend": true,
         "type": "scatter3d",
         "x": [
          0.3768328130245209
         ],
         "y": [
          0.6194491982460022
         ],
         "z": [
          0.06835281848907471
         ]
        },
        {
         "hovertemplate": "color=up<br>0=%{x}<br>1=%{y}<br>2=%{z}<extra></extra>",
         "legendgroup": "up",
         "marker": {
          "color": "#636efa",
          "symbol": "circle"
         },
         "mode": "markers",
         "name": "up",
         "scene": "scene",
         "showlegend": true,
         "type": "scatter3d",
         "x": [
          -0.422053724527359
         ],
         "y": [
          0.5518409609794617
         ],
         "z": [
          0.283199280500412
         ]
        },
        {
         "hovertemplate": "color=been<br>0=%{x}<br>1=%{y}<br>2=%{z}<extra></extra>",
         "legendgroup": "been",
         "marker": {
          "color": "#EF553B",
          "symbol": "circle"
         },
         "mode": "markers",
         "name": "been",
         "scene": "scene",
         "showlegend": true,
         "type": "scatter3d",
         "x": [
          0.13595540821552277
         ],
         "y": [
          0.529298722743988
         ],
         "z": [
          0.1073378175497055
         ]
        },
        {
         "hovertemplate": "color=what<br>0=%{x}<br>1=%{y}<br>2=%{z}<extra></extra>",
         "legendgroup": "what",
         "marker": {
          "color": "#00cc96",
          "symbol": "circle"
         },
         "mode": "markers",
         "name": "what",
         "scene": "scene",
         "showlegend": true,
         "type": "scatter3d",
         "x": [
          0.3524205982685089
         ],
         "y": [
          0.6122069954872131
         ],
         "z": [
          0.07079882174730301
         ]
        },
        {
         "hovertemplate": "color=did<br>0=%{x}<br>1=%{y}<br>2=%{z}<extra></extra>",
         "legendgroup": "did",
         "marker": {
          "color": "#ab63fa",
          "symbol": "circle"
         },
         "mode": "markers",
         "name": "did",
         "scene": "scene",
         "showlegend": true,
         "type": "scatter3d",
         "x": [
          0.3281559944152832
         ],
         "y": [
          0.4559198021888733
         ],
         "z": [
          0.3776688575744629
         ]
        },
        {
         "hovertemplate": "color=by<br>0=%{x}<br>1=%{y}<br>2=%{z}<extra></extra>",
         "legendgroup": "by",
         "marker": {
          "color": "#FFA15A",
          "symbol": "circle"
         },
         "mode": "markers",
         "name": "by",
         "scene": "scene",
         "showlegend": true,
         "type": "scatter3d",
         "x": [
          -0.010806574486196041
         ],
         "y": [
          0.4467189311981201
         ],
         "z": [
          -0.011608914472162724
         ]
        },
        {
         "hovertemplate": "color=do<br>0=%{x}<br>1=%{y}<br>2=%{z}<extra></extra>",
         "legendgroup": "do",
         "marker": {
          "color": "#19d3f3",
          "symbol": "circle"
         },
         "mode": "markers",
         "name": "do",
         "scene": "scene",
         "showlegend": true,
         "type": "scatter3d",
         "x": [
          0.5293298959732056
         ],
         "y": [
          0.5389245748519897
         ],
         "z": [
          0.25118517875671387
         ]
        },
        {
         "hovertemplate": "color=men<br>0=%{x}<br>1=%{y}<br>2=%{z}<extra></extra>",
         "legendgroup": "men",
         "marker": {
          "color": "#FF6692",
          "symbol": "circle"
         },
         "mode": "markers",
         "name": "men",
         "scene": "scene",
         "showlegend": true,
         "type": "scatter3d",
         "x": [
          0.054294854402542114
         ],
         "y": [
          0.7453859448432922
         ],
         "z": [
          -0.2700425982475281
         ]
        },
        {
         "hovertemplate": "color=back<br>0=%{x}<br>1=%{y}<br>2=%{z}<extra></extra>",
         "legendgroup": "back",
         "marker": {
          "color": "#B6E880",
          "symbol": "circle"
         },
         "mode": "markers",
         "name": "back",
         "scene": "scene",
         "showlegend": true,
         "type": "scatter3d",
         "x": [
          -0.21551109850406647
         ],
         "y": [
          0.6050946116447449
         ],
         "z": [
          0.43725332617759705
         ]
        },
        {
         "hovertemplate": "color=out<br>0=%{x}<br>1=%{y}<br>2=%{z}<extra></extra>",
         "legendgroup": "out",
         "marker": {
          "color": "#FF97FF",
          "symbol": "circle"
         },
         "mode": "markers",
         "name": "out",
         "scene": "scene",
         "showlegend": true,
         "type": "scatter3d",
         "x": [
          -0.2903023362159729
         ],
         "y": [
          0.549729585647583
         ],
         "z": [
          0.3018622398376465
         ]
        },
        {
         "hovertemplate": "color=more<br>0=%{x}<br>1=%{y}<br>2=%{z}<extra></extra>",
         "legendgroup": "more",
         "marker": {
          "color": "#FECB52",
          "symbol": "circle"
         },
         "mode": "markers",
         "name": "more",
         "scene": "scene",
         "showlegend": true,
         "type": "scatter3d",
         "x": [
          0.19256047904491425
         ],
         "y": [
          0.5987951159477234
         ],
         "z": [
          0.02063404954969883
         ]
        },
        {
         "hovertemplate": "color=or<br>0=%{x}<br>1=%{y}<br>2=%{z}<extra></extra>",
         "legendgroup": "or",
         "marker": {
          "color": "#636efa",
          "symbol": "circle"
         },
         "mode": "markers",
         "name": "or",
         "scene": "scene",
         "showlegend": true,
         "type": "scatter3d",
         "x": [
          0.2867273986339569
         ],
         "y": [
          0.5981137752532959
         ],
         "z": [
          0.07531380653381348
         ]
        },
        {
         "hovertemplate": "color=king<br>0=%{x}<br>1=%{y}<br>2=%{z}<extra></extra>",
         "legendgroup": "king",
         "marker": {
          "color": "#EF553B",
          "symbol": "circle"
         },
         "mode": "markers",
         "name": "king",
         "scene": "scene",
         "showlegend": true,
         "type": "scatter3d",
         "x": [
          0.38958585262298584
         ],
         "y": [
          0.6608763933181763
         ],
         "z": [
          -0.0022994563914835453
         ]
        },
        {
         "hovertemplate": "color=who<br>0=%{x}<br>1=%{y}<br>2=%{z}<extra></extra>",
         "legendgroup": "who",
         "marker": {
          "color": "#00cc96",
          "symbol": "circle"
         },
         "mode": "markers",
         "name": "who",
         "scene": "scene",
         "showlegend": true,
         "type": "scatter3d",
         "x": [
          0.3846993148326874
         ],
         "y": [
          0.6015225648880005
         ],
         "z": [
          -0.12818171083927155
         ]
        },
        {
         "hovertemplate": "color=well<br>0=%{x}<br>1=%{y}<br>2=%{z}<extra></extra>",
         "legendgroup": "well",
         "marker": {
          "color": "#ab63fa",
          "symbol": "circle"
         },
         "mode": "markers",
         "name": "well",
         "scene": "scene",
         "showlegend": true,
         "type": "scatter3d",
         "x": [
          0.2767623960971832
         ],
         "y": [
          0.5940229296684265
         ],
         "z": [
          0.030759738758206367
         ]
        },
        {
         "hovertemplate": "color=down<br>0=%{x}<br>1=%{y}<br>2=%{z}<extra></extra>",
         "legendgroup": "down",
         "marker": {
          "color": "#FFA15A",
          "symbol": "circle"
         },
         "mode": "markers",
         "name": "down",
         "scene": "scene",
         "showlegend": true,
         "type": "scatter3d",
         "x": [
          -0.46865254640579224
         ],
         "y": [
          0.5759109854698181
         ],
         "z": [
          0.33269786834716797
         ]
        },
        {
         "hovertemplate": "color=than<br>0=%{x}<br>1=%{y}<br>2=%{z}<extra></extra>",
         "legendgroup": "than",
         "marker": {
          "color": "#19d3f3",
          "symbol": "circle"
         },
         "mode": "markers",
         "name": "than",
         "scene": "scene",
         "showlegend": true,
         "type": "scatter3d",
         "x": [
          0.17280271649360657
         ],
         "y": [
          0.467710942029953
         ],
         "z": [
          0.13595211505889893
         ]
        },
        {
         "hovertemplate": "color=only<br>0=%{x}<br>1=%{y}<br>2=%{z}<extra></extra>",
         "legendgroup": "only",
         "marker": {
          "color": "#FF6692",
          "symbol": "circle"
         },
         "mode": "markers",
         "name": "only",
         "scene": "scene",
         "showlegend": true,
         "type": "scatter3d",
         "x": [
          0.25306805968284607
         ],
         "y": [
          0.581463634967804
         ],
         "z": [
          0.045588407665491104
         ]
        },
        {
         "hovertemplate": "color=like<br>0=%{x}<br>1=%{y}<br>2=%{z}<extra></extra>",
         "legendgroup": "like",
         "marker": {
          "color": "#B6E880",
          "symbol": "circle"
         },
         "mode": "markers",
         "name": "like",
         "scene": "scene",
         "showlegend": true,
         "type": "scatter3d",
         "x": [
          -0.09372414648532867
         ],
         "y": [
          0.38648372888565063
         ],
         "z": [
          0.23233720660209656
         ]
        },
        {
         "hovertemplate": "color=jon<br>0=%{x}<br>1=%{y}<br>2=%{z}<extra></extra>",
         "legendgroup": "jon",
         "marker": {
          "color": "#FF97FF",
          "symbol": "circle"
         },
         "mode": "markers",
         "name": "jon",
         "scene": "scene",
         "showlegend": true,
         "type": "scatter3d",
         "x": [
          0.03540408983826637
         ],
         "y": [
          0.40514785051345825
         ],
         "z": [
          0.20492768287658691
         ]
        },
        {
         "hovertemplate": "color=some<br>0=%{x}<br>1=%{y}<br>2=%{z}<extra></extra>",
         "legendgroup": "some",
         "marker": {
          "color": "#FECB52",
          "symbol": "circle"
         },
         "mode": "markers",
         "name": "some",
         "scene": "scene",
         "showlegend": true,
         "type": "scatter3d",
         "x": [
          0.08618326485157013
         ],
         "y": [
          0.552767276763916
         ],
         "z": [
          -0.17891545593738556
         ]
        },
        {
         "hovertemplate": "color=old<br>0=%{x}<br>1=%{y}<br>2=%{z}<extra></extra>",
         "legendgroup": "old",
         "marker": {
          "color": "#636efa",
          "symbol": "circle"
         },
         "mode": "markers",
         "name": "old",
         "scene": "scene",
         "showlegend": true,
         "type": "scatter3d",
         "x": [
          0.12627458572387695
         ],
         "y": [
          0.3816961646080017
         ],
         "z": [
          -0.054810136556625366
         ]
        },
        {
         "hovertemplate": "color=hand<br>0=%{x}<br>1=%{y}<br>2=%{z}<extra></extra>",
         "legendgroup": "hand",
         "marker": {
          "color": "#EF553B",
          "symbol": "circle"
         },
         "mode": "markers",
         "name": "hand",
         "scene": "scene",
         "showlegend": true,
         "type": "scatter3d",
         "x": [
          -0.07478218525648117
         ],
         "y": [
          0.49062129855155945
         ],
         "z": [
          0.4331384599208832
         ]
        },
        {
         "hovertemplate": "color=even<br>0=%{x}<br>1=%{y}<br>2=%{z}<extra></extra>",
         "legendgroup": "even",
         "marker": {
          "color": "#00cc96",
          "symbol": "circle"
         },
         "mode": "markers",
         "name": "even",
         "scene": "scene",
         "showlegend": true,
         "type": "scatter3d",
         "x": [
          0.15081799030303955
         ],
         "y": [
          0.5629128217697144
         ],
         "z": [
          0.05146047845482826
         ]
        },
        {
         "hovertemplate": "color=too<br>0=%{x}<br>1=%{y}<br>2=%{z}<extra></extra>",
         "legendgroup": "too",
         "marker": {
          "color": "#ab63fa",
          "symbol": "circle"
         },
         "mode": "markers",
         "name": "too",
         "scene": "scene",
         "showlegend": true,
         "type": "scatter3d",
         "x": [
          0.19268734753131866
         ],
         "y": [
          0.4945961534976959
         ],
         "z": [
          0.18652823567390442
         ]
        },
        {
         "hovertemplate": "color=before<br>0=%{x}<br>1=%{y}<br>2=%{z}<extra></extra>",
         "legendgroup": "before",
         "marker": {
          "color": "#FFA15A",
          "symbol": "circle"
         },
         "mode": "markers",
         "name": "before",
         "scene": "scene",
         "showlegend": true,
         "type": "scatter3d",
         "x": [
          0.0771484449505806
         ],
         "y": [
          0.6837595701217651
         ],
         "z": [
          0.23826178908348083
         ]
        },
        {
         "hovertemplate": "color=never<br>0=%{x}<br>1=%{y}<br>2=%{z}<extra></extra>",
         "legendgroup": "never",
         "marker": {
          "color": "#19d3f3",
          "symbol": "circle"
         },
         "mode": "markers",
         "name": "never",
         "scene": "scene",
         "showlegend": true,
         "type": "scatter3d",
         "x": [
          0.438190221786499
         ],
         "y": [
          0.5994659066200256
         ],
         "z": [
          0.21654102206230164
         ]
        },
        {
         "hovertemplate": "color=tyrion<br>0=%{x}<br>1=%{y}<br>2=%{z}<extra></extra>",
         "legendgroup": "tyrion",
         "marker": {
          "color": "#FF6692",
          "symbol": "circle"
         },
         "mode": "markers",
         "name": "tyrion",
         "scene": "scene",
         "showlegend": true,
         "type": "scatter3d",
         "x": [
          0.11170603334903717
         ],
         "y": [
          0.271922767162323
         ],
         "z": [
          0.3342910706996918
         ]
        },
        {
         "hovertemplate": "color=off<br>0=%{x}<br>1=%{y}<br>2=%{z}<extra></extra>",
         "legendgroup": "off",
         "marker": {
          "color": "#B6E880",
          "symbol": "circle"
         },
         "mode": "markers",
         "name": "off",
         "scene": "scene",
         "showlegend": true,
         "type": "scatter3d",
         "x": [
          -0.32350802421569824
         ],
         "y": [
          0.44547027349472046
         ],
         "z": [
          0.3998589813709259
         ]
        },
        {
         "hovertemplate": "color=an<br>0=%{x}<br>1=%{y}<br>2=%{z}<extra></extra>",
         "legendgroup": "an",
         "marker": {
          "color": "#FF97FF",
          "symbol": "circle"
         },
         "mode": "markers",
         "name": "an",
         "scene": "scene",
         "showlegend": true,
         "type": "scatter3d",
         "x": [
          0.011330039240419865
         ],
         "y": [
          0.3621388375759125
         ],
         "z": [
          0.06025584414601326
         ]
        },
        {
         "hovertemplate": "color=see<br>0=%{x}<br>1=%{y}<br>2=%{z}<extra></extra>",
         "legendgroup": "see",
         "marker": {
          "color": "#FECB52",
          "symbol": "circle"
         },
         "mode": "markers",
         "name": "see",
         "scene": "scene",
         "showlegend": true,
         "type": "scatter3d",
         "x": [
          0.1155196949839592
         ],
         "y": [
          0.6515594720840454
         ],
         "z": [
          0.3392343819141388
         ]
        },
        {
         "hovertemplate": "color=know<br>0=%{x}<br>1=%{y}<br>2=%{z}<extra></extra>",
         "legendgroup": "know",
         "marker": {
          "color": "#636efa",
          "symbol": "circle"
         },
         "mode": "markers",
         "name": "know",
         "scene": "scene",
         "showlegend": true,
         "type": "scatter3d",
         "x": [
          0.5464878082275391
         ],
         "y": [
          0.5783097743988037
         ],
         "z": [
          0.20844781398773193
         ]
        },
        {
         "hovertemplate": "color=into<br>0=%{x}<br>1=%{y}<br>2=%{z}<extra></extra>",
         "legendgroup": "into",
         "marker": {
          "color": "#EF553B",
          "symbol": "circle"
         },
         "mode": "markers",
         "name": "into",
         "scene": "scene",
         "showlegend": true,
         "type": "scatter3d",
         "x": [
          -0.4367969036102295
         ],
         "y": [
          0.4188876152038574
         ],
         "z": [
          0.3665304481983185
         ]
        },
        {
         "hovertemplate": "color=made<br>0=%{x}<br>1=%{y}<br>2=%{z}<extra></extra>",
         "legendgroup": "made",
         "marker": {
          "color": "#00cc96",
          "symbol": "circle"
         },
         "mode": "markers",
         "name": "made",
         "scene": "scene",
         "showlegend": true,
         "type": "scatter3d",
         "x": [
          -0.004425510764122009
         ],
         "y": [
          0.4050915539264679
         ],
         "z": [
          0.38572272658348083
         ]
        },
        {
         "hovertemplate": "color=father<br>0=%{x}<br>1=%{y}<br>2=%{z}<extra></extra>",
         "legendgroup": "father",
         "marker": {
          "color": "#ab63fa",
          "symbol": "circle"
         },
         "mode": "markers",
         "name": "father",
         "scene": "scene",
         "showlegend": true,
         "type": "scatter3d",
         "x": [
          0.4787820875644684
         ],
         "y": [
          0.6557313203811646
         ],
         "z": [
          0.1504485309123993
         ]
        },
        {
         "hovertemplate": "color=now<br>0=%{x}<br>1=%{y}<br>2=%{z}<extra></extra>",
         "legendgroup": "now",
         "marker": {
          "color": "#FFA15A",
          "symbol": "circle"
         },
         "mode": "markers",
         "name": "now",
         "scene": "scene",
         "showlegend": true,
         "type": "scatter3d",
         "x": [
          0.30679044127464294
         ],
         "y": [
          0.7114443182945251
         ],
         "z": [
          0.16274511814117432
         ]
        },
        {
         "hovertemplate": "color=eyes<br>0=%{x}<br>1=%{y}<br>2=%{z}<extra></extra>",
         "legendgroup": "eyes",
         "marker": {
          "color": "#19d3f3",
          "symbol": "circle"
         },
         "mode": "markers",
         "name": "eyes",
         "scene": "scene",
         "showlegend": true,
         "type": "scatter3d",
         "x": [
          -0.20531558990478516
         ],
         "y": [
          0.47052326798439026
         ],
         "z": [
          0.33606505393981934
         ]
        },
        {
         "hovertemplate": "color=black<br>0=%{x}<br>1=%{y}<br>2=%{z}<extra></extra>",
         "legendgroup": "black",
         "marker": {
          "color": "#FF6692",
          "symbol": "circle"
         },
         "mode": "markers",
         "name": "black",
         "scene": "scene",
         "showlegend": true,
         "type": "scatter3d",
         "x": [
          -0.4330102503299713
         ],
         "y": [
          0.37571457028388977
         ],
         "z": [
          -0.11929026991128922
         ]
        },
        {
         "hovertemplate": "color=told<br>0=%{x}<br>1=%{y}<br>2=%{z}<extra></extra>",
         "legendgroup": "told",
         "marker": {
          "color": "#B6E880",
          "symbol": "circle"
         },
         "mode": "markers",
         "name": "told",
         "scene": "scene",
         "showlegend": true,
         "type": "scatter3d",
         "x": [
          0.4620227813720703
         ],
         "y": [
          0.5580755472183228
         ],
         "z": [
          0.4862428307533264
         ]
        },
        {
         "hovertemplate": "color=thought<br>0=%{x}<br>1=%{y}<br>2=%{z}<extra></extra>",
         "legendgroup": "thought",
         "marker": {
          "color": "#FF97FF",
          "symbol": "circle"
         },
         "mode": "markers",
         "name": "thought",
         "scene": "scene",
         "showlegend": true,
         "type": "scatter3d",
         "x": [
          0.31642505526542664
         ],
         "y": [
          0.5949327945709229
         ],
         "z": [
          0.5270418524742126
         ]
        },
        {
         "hovertemplate": "color=lady<br>0=%{x}<br>1=%{y}<br>2=%{z}<extra></extra>",
         "legendgroup": "lady",
         "marker": {
          "color": "#FECB52",
          "symbol": "circle"
         },
         "mode": "markers",
         "name": "lady",
         "scene": "scene",
         "showlegend": true,
         "type": "scatter3d",
         "x": [
          0.5318703651428223
         ],
         "y": [
          0.37302538752555847
         ],
         "z": [
          0.1371418684720993
         ]
        },
        {
         "hovertemplate": "color=time<br>0=%{x}<br>1=%{y}<br>2=%{z}<extra></extra>",
         "legendgroup": "time",
         "marker": {
          "color": "#636efa",
          "symbol": "circle"
         },
         "mode": "markers",
         "name": "time",
         "scene": "scene",
         "showlegend": true,
         "type": "scatter3d",
         "x": [
          0.0361911877989769
         ],
         "y": [
          0.7070139646530151
         ],
         "z": [
          0.31253108382225037
         ]
        },
        {
         "hovertemplate": "color=then<br>0=%{x}<br>1=%{y}<br>2=%{z}<extra></extra>",
         "legendgroup": "then",
         "marker": {
          "color": "#EF553B",
          "symbol": "circle"
         },
         "mode": "markers",
         "name": "then",
         "scene": "scene",
         "showlegend": true,
         "type": "scatter3d",
         "x": [
          -0.13488435745239258
         ],
         "y": [
          0.525008499622345
         ],
         "z": [
          0.4882391393184662
         ]
        },
        {
         "hovertemplate": "color=how<br>0=%{x}<br>1=%{y}<br>2=%{z}<extra></extra>",
         "legendgroup": "how",
         "marker": {
          "color": "#00cc96",
          "symbol": "circle"
         },
         "mode": "markers",
         "name": "how",
         "scene": "scene",
         "showlegend": true,
         "type": "scatter3d",
         "x": [
          0.33341991901397705
         ],
         "y": [
          0.5365318655967712
         ],
         "z": [
          0.20610281825065613
         ]
        },
        {
         "hovertemplate": "color=long<br>0=%{x}<br>1=%{y}<br>2=%{z}<extra></extra>",
         "legendgroup": "long",
         "marker": {
          "color": "#ab63fa",
          "symbol": "circle"
         },
         "mode": "markers",
         "name": "long",
         "scene": "scene",
         "showlegend": true,
         "type": "scatter3d",
         "x": [
          -0.19731919467449188
         ],
         "y": [
          0.5184124112129211
         ],
         "z": [
          0.062122367322444916
         ]
        },
        {
         "hovertemplate": "color=has<br>0=%{x}<br>1=%{y}<br>2=%{z}<extra></extra>",
         "legendgroup": "has",
         "marker": {
          "color": "#FFA15A",
          "symbol": "circle"
         },
         "mode": "markers",
         "name": "has",
         "scene": "scene",
         "showlegend": true,
         "type": "scatter3d",
         "x": [
          0.48069873452186584
         ],
         "y": [
          0.4725096523761749
         ],
         "z": [
          0.038177505135536194
         ]
        },
        {
         "hovertemplate": "color=might<br>0=%{x}<br>1=%{y}<br>2=%{z}<extra></extra>",
         "legendgroup": "might",
         "marker": {
          "color": "#19d3f3",
          "symbol": "circle"
         },
         "mode": "markers",
         "name": "might",
         "scene": "scene",
         "showlegend": true,
         "type": "scatter3d",
         "x": [
          0.3900700509548187
         ],
         "y": [
          0.48029911518096924
         ],
         "z": [
          0.21651591360569
         ]
        },
        {
         "hovertemplate": "color=us<br>0=%{x}<br>1=%{y}<br>2=%{z}<extra></extra>",
         "legendgroup": "us",
         "marker": {
          "color": "#FF6692",
          "symbol": "circle"
         },
         "mode": "markers",
         "name": "us",
         "scene": "scene",
         "showlegend": true,
         "type": "scatter3d",
         "x": [
          0.4050830900669098
         ],
         "y": [
          0.7491406798362732
         ],
         "z": [
          -0.11670336872339249
         ]
        },
        {
         "hovertemplate": "color=come<br>0=%{x}<br>1=%{y}<br>2=%{z}<extra></extra>",
         "legendgroup": "come",
         "marker": {
          "color": "#B6E880",
          "symbol": "circle"
         },
         "mode": "markers",
         "name": "come",
         "scene": "scene",
         "showlegend": true,
         "type": "scatter3d",
         "x": [
          0.31126731634140015
         ],
         "y": [
          0.8066205978393555
         ],
         "z": [
          0.21699978411197662
         ]
        },
        {
         "hovertemplate": "color=where<br>0=%{x}<br>1=%{y}<br>2=%{z}<extra></extra>",
         "legendgroup": "where",
         "marker": {
          "color": "#FF97FF",
          "symbol": "circle"
         },
         "mode": "markers",
         "name": "where",
         "scene": "scene",
         "showlegend": true,
         "type": "scatter3d",
         "x": [
          -0.21944177150726318
         ],
         "y": [
          0.6300381422042847
         ],
         "z": [
          0.04229705035686493
         ]
        },
        {
         "hovertemplate": "color=here<br>0=%{x}<br>1=%{y}<br>2=%{z}<extra></extra>",
         "legendgroup": "here",
         "marker": {
          "color": "#FECB52",
          "symbol": "circle"
         },
         "mode": "markers",
         "name": "here",
         "scene": "scene",
         "showlegend": true,
         "type": "scatter3d",
         "x": [
          0.30724549293518066
         ],
         "y": [
          0.7530995011329651
         ],
         "z": [
          0.0017259367741644382
         ]
        },
        {
         "hovertemplate": "color=can<br>0=%{x}<br>1=%{y}<br>2=%{z}<extra></extra>",
         "legendgroup": "can",
         "marker": {
          "color": "#636efa",
          "symbol": "circle"
         },
         "mode": "markers",
         "name": "can",
         "scene": "scene",
         "showlegend": true,
         "type": "scatter3d",
         "x": [
          0.36461982131004333
         ],
         "y": [
          0.5024962425231934
         ],
         "z": [
          0.16242672502994537
         ]
        },
        {
         "hovertemplate": "color=through<br>0=%{x}<br>1=%{y}<br>2=%{z}<extra></extra>",
         "legendgroup": "through",
         "marker": {
          "color": "#EF553B",
          "symbol": "circle"
         },
         "mode": "markers",
         "name": "through",
         "scene": "scene",
         "showlegend": true,
         "type": "scatter3d",
         "x": [
          -0.549280047416687
         ],
         "y": [
          0.4207497239112854
         ],
         "z": [
          0.24041372537612915
         ]
        },
        {
         "hovertemplate": "color=still<br>0=%{x}<br>1=%{y}<br>2=%{z}<extra></extra>",
         "legendgroup": "still",
         "marker": {
          "color": "#00cc96",
          "symbol": "circle"
         },
         "mode": "markers",
         "name": "still",
         "scene": "scene",
         "showlegend": true,
         "type": "scatter3d",
         "x": [
          -0.07633797079324722
         ],
         "y": [
          0.5900644063949585
         ],
         "z": [
          0.08884448558092117
         ]
        },
        {
         "hovertemplate": "color=face<br>0=%{x}<br>1=%{y}<br>2=%{z}<extra></extra>",
         "legendgroup": "face",
         "marker": {
          "color": "#ab63fa",
          "symbol": "circle"
         },
         "mode": "markers",
         "name": "face",
         "scene": "scene",
         "showlegend": true,
         "type": "scatter3d",
         "x": [
          -0.27400851249694824
         ],
         "y": [
          0.3857736587524414
         ],
         "z": [
          0.4580990672111511
         ]
        },
        {
         "hovertemplate": "color=head<br>0=%{x}<br>1=%{y}<br>2=%{z}<extra></extra>",
         "legendgroup": "head",
         "marker": {
          "color": "#FFA15A",
          "symbol": "circle"
         },
         "mode": "markers",
         "name": "head",
         "scene": "scene",
         "showlegend": true,
         "type": "scatter3d",
         "x": [
          -0.29121679067611694
         ],
         "y": [
          0.41573798656463623
         ],
         "z": [
          0.4614543914794922
         ]
        },
        {
         "hovertemplate": "color=red<br>0=%{x}<br>1=%{y}<br>2=%{z}<extra></extra>",
         "legendgroup": "red",
         "marker": {
          "color": "#19d3f3",
          "symbol": "circle"
         },
         "mode": "markers",
         "name": "red",
         "scene": "scene",
         "showlegend": true,
         "type": "scatter3d",
         "x": [
          -0.3213707208633423
         ],
         "y": [
          0.27264222502708435
         ],
         "z": [
          -0.09901846200227737
         ]
        },
        {
         "hovertemplate": "color=way<br>0=%{x}<br>1=%{y}<br>2=%{z}<extra></extra>",
         "legendgroup": "way",
         "marker": {
          "color": "#FF6692",
          "symbol": "circle"
         },
         "mode": "markers",
         "name": "way",
         "scene": "scene",
         "showlegend": true,
         "type": "scatter3d",
         "x": [
          -0.12693741917610168
         ],
         "y": [
          0.7610540390014648
         ],
         "z": [
          0.2154293805360794
         ]
        },
        {
         "hovertemplate": "color=page<br>0=%{x}<br>1=%{y}<br>2=%{z}<extra></extra>",
         "legendgroup": "page",
         "marker": {
          "color": "#B6E880",
          "symbol": "circle"
         },
         "mode": "markers",
         "name": "page",
         "scene": "scene",
         "showlegend": true,
         "type": "scatter3d",
         "x": [
          0.2583732604980469
         ],
         "y": [
          0.31830304861068726
         ],
         "z": [
          0.25185757875442505
         ]
        },
        {
         "hovertemplate": "color=boy<br>0=%{x}<br>1=%{y}<br>2=%{z}<extra></extra>",
         "legendgroup": "boy",
         "marker": {
          "color": "#FF97FF",
          "symbol": "circle"
         },
         "mode": "markers",
         "name": "boy",
         "scene": "scene",
         "showlegend": true,
         "type": "scatter3d",
         "x": [
          0.32706642150878906
         ],
         "y": [
          0.4010314345359802
         ],
         "z": [
          0.12937873601913452
         ]
        },
        {
         "hovertemplate": "color=must<br>0=%{x}<br>1=%{y}<br>2=%{z}<extra></extra>",
         "legendgroup": "must",
         "marker": {
          "color": "#FECB52",
          "symbol": "circle"
         },
         "mode": "markers",
         "name": "must",
         "scene": "scene",
         "showlegend": true,
         "type": "scatter3d",
         "x": [
          0.5243883728981018
         ],
         "y": [
          0.5197124481201172
         ],
         "z": [
          0.175955668091774
         ]
        },
        {
         "hovertemplate": "color=once<br>0=%{x}<br>1=%{y}<br>2=%{z}<extra></extra>",
         "legendgroup": "once",
         "marker": {
          "color": "#636efa",
          "symbol": "circle"
         },
         "mode": "markers",
         "name": "once",
         "scene": "scene",
         "showlegend": true,
         "type": "scatter3d",
         "x": [
          0.19446596503257751
         ],
         "y": [
          0.5829750299453735
         ],
         "z": [
          0.17895494401454926
         ]
        },
        {
         "hovertemplate": "color=good<br>0=%{x}<br>1=%{y}<br>2=%{z}<extra></extra>",
         "legendgroup": "good",
         "marker": {
          "color": "#EF553B",
          "symbol": "circle"
         },
         "mode": "markers",
         "name": "good",
         "scene": "scene",
         "showlegend": true,
         "type": "scatter3d",
         "x": [
          0.4787270426750183
         ],
         "y": [
          0.5003905892372131
         ],
         "z": [
          0.09336000680923462
         ]
        },
        {
         "hovertemplate": "color=two<br>0=%{x}<br>1=%{y}<br>2=%{z}<extra></extra>",
         "legendgroup": "two",
         "marker": {
          "color": "#00cc96",
          "symbol": "circle"
         },
         "mode": "markers",
         "name": "two",
         "scene": "scene",
         "showlegend": true,
         "type": "scatter3d",
         "x": [
          -0.200332909822464
         ],
         "y": [
          0.558076798915863
         ],
         "z": [
          -0.2033095359802246
         ]
        },
        {
         "hovertemplate": "color=over<br>0=%{x}<br>1=%{y}<br>2=%{z}<extra></extra>",
         "legendgroup": "over",
         "marker": {
          "color": "#ab63fa",
          "symbol": "circle"
         },
         "mode": "markers",
         "name": "over",
         "scene": "scene",
         "showlegend": true,
         "type": "scatter3d",
         "x": [
          -0.5177995562553406
         ],
         "y": [
          0.35976988077163696
         ],
         "z": [
          0.32767266035079956
         ]
        },
        {
         "hovertemplate": "color=little<br>0=%{x}<br>1=%{y}<br>2=%{z}<extra></extra>",
         "legendgroup": "little",
         "marker": {
          "color": "#FFA15A",
          "symbol": "circle"
         },
         "mode": "markers",
         "name": "little",
         "scene": "scene",
         "showlegend": true,
         "type": "scatter3d",
         "x": [
          0.22250166535377502
         ],
         "y": [
          0.3385445475578308
         ],
         "z": [
          0.23678307235240936
         ]
        },
        {
         "hovertemplate": "color=about<br>0=%{x}<br>1=%{y}<br>2=%{z}<extra></extra>",
         "legendgroup": "about",
         "marker": {
          "color": "#19d3f3",
          "symbol": "circle"
         },
         "mode": "markers",
         "name": "about",
         "scene": "scene",
         "showlegend": true,
         "type": "scatter3d",
         "x": [
          0.12176563590765
         ],
         "y": [
          0.232294961810112
         ],
         "z": [
          0.3340964615345001
         ]
        },
        {
         "hovertemplate": "color=brother<br>0=%{x}<br>1=%{y}<br>2=%{z}<extra></extra>",
         "legendgroup": "brother",
         "marker": {
          "color": "#FF6692",
          "symbol": "circle"
         },
         "mode": "markers",
         "name": "brother",
         "scene": "scene",
         "showlegend": true,
         "type": "scatter3d",
         "x": [
          0.5226215124130249
         ],
         "y": [
          0.5741065740585327
         ],
         "z": [
          0.16395939886569977
         ]
        },
        {
         "hovertemplate": "color=took<br>0=%{x}<br>1=%{y}<br>2=%{z}<extra></extra>",
         "legendgroup": "took",
         "marker": {
          "color": "#B6E880",
          "symbol": "circle"
         },
         "mode": "markers",
         "name": "took",
         "scene": "scene",
         "showlegend": true,
         "type": "scatter3d",
         "x": [
          0.026961607858538628
         ],
         "y": [
          0.44670766592025757
         ],
         "z": [
          0.5428009629249573
         ]
        },
        {
         "hovertemplate": "color=came<br>0=%{x}<br>1=%{y}<br>2=%{z}<extra></extra>",
         "legendgroup": "came",
         "marker": {
          "color": "#FF97FF",
          "symbol": "circle"
         },
         "mode": "markers",
         "name": "came",
         "scene": "scene",
         "showlegend": true,
         "type": "scatter3d",
         "x": [
          -0.12707339227199554
         ],
         "y": [
          0.5671650171279907
         ],
         "z": [
          0.31238967180252075
         ]
        },
        {
         "hovertemplate": "color=other<br>0=%{x}<br>1=%{y}<br>2=%{z}<extra></extra>",
         "legendgroup": "other",
         "marker": {
          "color": "#FECB52",
          "symbol": "circle"
         },
         "mode": "markers",
         "name": "other",
         "scene": "scene",
         "showlegend": true,
         "type": "scatter3d",
         "x": [
          -0.022399524226784706
         ],
         "y": [
          0.5949437022209167
         ],
         "z": [
          -0.1322803497314453
         ]
        },
        {
         "hovertemplate": "color=though<br>0=%{x}<br>1=%{y}<br>2=%{z}<extra></extra>",
         "legendgroup": "though",
         "marker": {
          "color": "#636efa",
          "symbol": "circle"
         },
         "mode": "markers",
         "name": "though",
         "scene": "scene",
         "showlegend": true,
         "type": "scatter3d",
         "x": [
          0.19292445480823517
         ],
         "y": [
          0.5036640763282776
         ],
         "z": [
          0.18178823590278625
         ]
        },
        {
         "hovertemplate": "color=again<br>0=%{x}<br>1=%{y}<br>2=%{z}<extra></extra>",
         "legendgroup": "again",
         "marker": {
          "color": "#EF553B",
          "symbol": "circle"
         },
         "mode": "markers",
         "name": "again",
         "scene": "scene",
         "showlegend": true,
         "type": "scatter3d",
         "x": [
          -0.10845666378736496
         ],
         "y": [
          0.5348263382911682
         ],
         "z": [
          0.5488674640655518
         ]
        },
        {
         "hovertemplate": "color=say<br>0=%{x}<br>1=%{y}<br>2=%{z}<extra></extra>",
         "legendgroup": "say",
         "marker": {
          "color": "#00cc96",
          "symbol": "circle"
         },
         "mode": "markers",
         "name": "say",
         "scene": "scene",
         "showlegend": true,
         "type": "scatter3d",
         "x": [
          0.5289239287376404
         ],
         "y": [
          0.5678163170814514
         ],
         "z": [
          0.36157941818237305
         ]
        },
        {
         "hovertemplate": "color=night<br>0=%{x}<br>1=%{y}<br>2=%{z}<extra></extra>",
         "legendgroup": "night",
         "marker": {
          "color": "#ab63fa",
          "symbol": "circle"
         },
         "mode": "markers",
         "name": "night",
         "scene": "scene",
         "showlegend": true,
         "type": "scatter3d",
         "x": [
          -0.04714277386665344
         ],
         "y": [
          0.7932681441307068
         ],
         "z": [
          0.10407261550426483
         ]
        },
        {
         "hovertemplate": "color=three<br>0=%{x}<br>1=%{y}<br>2=%{z}<extra></extra>",
         "legendgroup": "three",
         "marker": {
          "color": "#FFA15A",
          "symbol": "circle"
         },
         "mode": "markers",
         "name": "three",
         "scene": "scene",
         "showlegend": true,
         "type": "scatter3d",
         "x": [
          -0.06056778505444527
         ],
         "y": [
          0.5358885526657104
         ],
         "z": [
          -0.3339657485485077
         ]
        },
        {
         "hovertemplate": "color=should<br>0=%{x}<br>1=%{y}<br>2=%{z}<extra></extra>",
         "legendgroup": "should",
         "marker": {
          "color": "#19d3f3",
          "symbol": "circle"
         },
         "mode": "markers",
         "name": "should",
         "scene": "scene",
         "showlegend": true,
         "type": "scatter3d",
         "x": [
          0.5122830271720886
         ],
         "y": [
          0.5043104887008667
         ],
         "z": [
          0.2259848713874817
         ]
        },
        {
         "hovertemplate": "color=away<br>0=%{x}<br>1=%{y}<br>2=%{z}<extra></extra>",
         "legendgroup": "away",
         "marker": {
          "color": "#FF6692",
          "symbol": "circle"
         },
         "mode": "markers",
         "name": "away",
         "scene": "scene",
         "showlegend": true,
         "type": "scatter3d",
         "x": [
          -0.21373918652534485
         ],
         "y": [
          0.5568268299102783
         ],
         "z": [
          0.40902504324913025
         ]
        },
        {
         "hovertemplate": "color=queen<br>0=%{x}<br>1=%{y}<br>2=%{z}<extra></extra>",
         "legendgroup": "queen",
         "marker": {
          "color": "#B6E880",
          "symbol": "circle"
         },
         "mode": "markers",
         "name": "queen",
         "scene": "scene",
         "showlegend": true,
         "type": "scatter3d",
         "x": [
          0.495330274105072
         ],
         "y": [
          0.513076901435852
         ],
         "z": [
          0.07216770946979523
         ]
        },
        {
         "hovertemplate": "color=dead<br>0=%{x}<br>1=%{y}<br>2=%{z}<extra></extra>",
         "legendgroup": "dead",
         "marker": {
          "color": "#FF97FF",
          "symbol": "circle"
         },
         "mode": "markers",
         "name": "dead",
         "scene": "scene",
         "showlegend": true,
         "type": "scatter3d",
         "x": [
          0.05999815836548805
         ],
         "y": [
          0.6293249726295471
         ],
         "z": [
          0.08625169098377228
         ]
        },
        {
         "hovertemplate": "color=own<br>0=%{x}<br>1=%{y}<br>2=%{z}<extra></extra>",
         "legendgroup": "own",
         "marker": {
          "color": "#FECB52",
          "symbol": "circle"
         },
         "mode": "markers",
         "name": "own",
         "scene": "scene",
         "showlegend": true,
         "type": "scatter3d",
         "x": [
          0.29909881949424744
         ],
         "y": [
          0.6082350015640259
         ],
         "z": [
          0.08523334562778473
         ]
        },
        {
         "hovertemplate": "color=its<br>0=%{x}<br>1=%{y}<br>2=%{z}<extra></extra>",
         "legendgroup": "its",
         "marker": {
          "color": "#636efa",
          "symbol": "circle"
         },
         "mode": "markers",
         "name": "its",
         "scene": "scene",
         "showlegend": true,
         "type": "scatter3d",
         "x": [
          -0.5062592029571533
         ],
         "y": [
          0.40790268778800964
         ],
         "z": [
          -0.16178864240646362
         ]
        },
        {
         "hovertemplate": "color=am<br>0=%{x}<br>1=%{y}<br>2=%{z}<extra></extra>",
         "legendgroup": "am",
         "marker": {
          "color": "#EF553B",
          "symbol": "circle"
         },
         "mode": "markers",
         "name": "am",
         "scene": "scene",
         "showlegend": true,
         "type": "scatter3d",
         "x": [
          0.6383368372917175
         ],
         "y": [
          0.44441911578178406
         ],
         "z": [
          0.1349891871213913
         ]
        },
        {
         "hovertemplate": "color=son<br>0=%{x}<br>1=%{y}<br>2=%{z}<extra></extra>",
         "legendgroup": "son",
         "marker": {
          "color": "#00cc96",
          "symbol": "circle"
         },
         "mode": "markers",
         "name": "son",
         "scene": "scene",
         "showlegend": true,
         "type": "scatter3d",
         "x": [
          0.5602736473083496
         ],
         "y": [
          0.4154762029647827
         ],
         "z": [
          -0.02130693756043911
         ]
        },
        {
         "hovertemplate": "color=blood<br>0=%{x}<br>1=%{y}<br>2=%{z}<extra></extra>",
         "legendgroup": "blood",
         "marker": {
          "color": "#ab63fa",
          "symbol": "circle"
         },
         "mode": "markers",
         "name": "blood",
         "scene": "scene",
         "showlegend": true,
         "type": "scatter3d",
         "x": [
          -0.2166578322649002
         ],
         "y": [
          0.5165389776229858
         ],
         "z": [
          0.1597190499305725
         ]
        },
        {
         "hovertemplate": "color=take<br>0=%{x}<br>1=%{y}<br>2=%{z}<extra></extra>",
         "legendgroup": "take",
         "marker": {
          "color": "#FFA15A",
          "symbol": "circle"
         },
         "mode": "markers",
         "name": "take",
         "scene": "scene",
         "showlegend": true,
         "type": "scatter3d",
         "x": [
          0.44592127203941345
         ],
         "y": [
          0.6917765140533447
         ],
         "z": [
          0.34724146127700806
         ]
        },
        {
         "hovertemplate": "color=go<br>0=%{x}<br>1=%{y}<br>2=%{z}<extra></extra>",
         "legendgroup": "go",
         "marker": {
          "color": "#19d3f3",
          "symbol": "circle"
         },
         "mode": "markers",
         "name": "go",
         "scene": "scene",
         "showlegend": true,
         "type": "scatter3d",
         "x": [
          0.2382531464099884
         ],
         "y": [
          0.7069276571273804
         ],
         "z": [
          0.3637121319770813
         ]
        },
        {
         "hovertemplate": "color=half<br>0=%{x}<br>1=%{y}<br>2=%{z}<extra></extra>",
         "legendgroup": "half",
         "marker": {
          "color": "#FF6692",
          "symbol": "circle"
         },
         "mode": "markers",
         "name": "half",
         "scene": "scene",
         "showlegend": true,
         "type": "scatter3d",
         "x": [
          -0.23558026552200317
         ],
         "y": [
          0.5639997124671936
         ],
         "z": [
          0.01616823859512806
         ]
        },
        {
         "hovertemplate": "color=make<br>0=%{x}<br>1=%{y}<br>2=%{z}<extra></extra>",
         "legendgroup": "make",
         "marker": {
          "color": "#B6E880",
          "symbol": "circle"
         },
         "mode": "markers",
         "name": "make",
         "scene": "scene",
         "showlegend": true,
         "type": "scatter3d",
         "x": [
          0.43874675035476685
         ],
         "y": [
          0.5960556864738464
         ],
         "z": [
          0.3260587453842163
         ]
        },
        {
         "hovertemplate": "color=arya<br>0=%{x}<br>1=%{y}<br>2=%{z}<extra></extra>",
         "legendgroup": "arya",
         "marker": {
          "color": "#FF97FF",
          "symbol": "circle"
         },
         "mode": "markers",
         "name": "arya",
         "scene": "scene",
         "showlegend": true,
         "type": "scatter3d",
         "x": [
          -0.09062691032886505
         ],
         "y": [
          0.38993188738822937
         ],
         "z": [
          0.3974984586238861
         ]
        },
        {
         "hovertemplate": "color=saw<br>0=%{x}<br>1=%{y}<br>2=%{z}<extra></extra>",
         "legendgroup": "saw",
         "marker": {
          "color": "#FECB52",
          "symbol": "circle"
         },
         "mode": "markers",
         "name": "saw",
         "scene": "scene",
         "showlegend": true,
         "type": "scatter3d",
         "x": [
          -0.14827445149421692
         ],
         "y": [
          0.44315093755722046
         ],
         "z": [
          0.41744160652160645
         ]
        },
        {
         "hovertemplate": "color=white<br>0=%{x}<br>1=%{y}<br>2=%{z}<extra></extra>",
         "legendgroup": "white",
         "marker": {
          "color": "#636efa",
          "symbol": "circle"
         },
         "mode": "markers",
         "name": "white",
         "scene": "scene",
         "showlegend": true,
         "type": "scatter3d",
         "x": [
          -0.39650610089302063
         ],
         "y": [
          0.27016177773475647
         ],
         "z": [
          -0.07880496233701706
         ]
        },
        {
         "hovertemplate": "color=day<br>0=%{x}<br>1=%{y}<br>2=%{z}<extra></extra>",
         "legendgroup": "day",
         "marker": {
          "color": "#EF553B",
          "symbol": "circle"
         },
         "mode": "markers",
         "name": "day",
         "scene": "scene",
         "showlegend": true,
         "type": "scatter3d",
         "x": [
          0.13349424302577972
         ],
         "y": [
          0.7680858969688416
         ],
         "z": [
          0.03266383334994316
         ]
        },
        {
         "hovertemplate": "color=first<br>0=%{x}<br>1=%{y}<br>2=%{z}<extra></extra>",
         "legendgroup": "first",
         "marker": {
          "color": "#00cc96",
          "symbol": "circle"
         },
         "mode": "markers",
         "name": "first",
         "scene": "scene",
         "showlegend": true,
         "type": "scatter3d",
         "x": [
          0.1935514360666275
         ],
         "y": [
          0.6827200055122375
         ],
         "z": [
          0.09451429545879364
         ]
        },
        {
         "hovertemplate": "color=himself<br>0=%{x}<br>1=%{y}<br>2=%{z}<extra></extra>",
         "legendgroup": "himself",
         "marker": {
          "color": "#ab63fa",
          "symbol": "circle"
         },
         "mode": "markers",
         "name": "himself",
         "scene": "scene",
         "showlegend": true,
         "type": "scatter3d",
         "x": [
          0.12689810991287231
         ],
         "y": [
          0.4194900393486023
         ],
         "z": [
          0.26882487535476685
         ]
        },
        {
         "hovertemplate": "color=jaime<br>0=%{x}<br>1=%{y}<br>2=%{z}<extra></extra>",
         "legendgroup": "jaime",
         "marker": {
          "color": "#FFA15A",
          "symbol": "circle"
         },
         "mode": "markers",
         "name": "jaime",
         "scene": "scene",
         "showlegend": true,
         "type": "scatter3d",
         "x": [
          0.19116973876953125
         ],
         "y": [
          0.3541308045387268
         ],
         "z": [
          0.23734232783317566
         ]
        },
        {
         "hovertemplate": "color=our<br>0=%{x}<br>1=%{y}<br>2=%{z}<extra></extra>",
         "legendgroup": "our",
         "marker": {
          "color": "#19d3f3",
          "symbol": "circle"
         },
         "mode": "markers",
         "name": "our",
         "scene": "scene",
         "showlegend": true,
         "type": "scatter3d",
         "x": [
          0.4545728266239166
         ],
         "y": [
          0.596399188041687
         ],
         "z": [
          -0.22437606751918793
         ]
        },
        {
         "hovertemplate": "color=look<br>0=%{x}<br>1=%{y}<br>2=%{z}<extra></extra>",
         "legendgroup": "look",
         "marker": {
          "color": "#FF6692",
          "symbol": "circle"
         },
         "mode": "markers",
         "name": "look",
         "scene": "scene",
         "showlegend": true,
         "type": "scatter3d",
         "x": [
          0.08303586393594742
         ],
         "y": [
          0.5099720358848572
         ],
         "z": [
          0.40719568729400635
         ]
        },
        {
         "hovertemplate": "color=want<br>0=%{x}<br>1=%{y}<br>2=%{z}<extra></extra>",
         "legendgroup": "want",
         "marker": {
          "color": "#B6E880",
          "symbol": "circle"
         },
         "mode": "markers",
         "name": "want",
         "scene": "scene",
         "showlegend": true,
         "type": "scatter3d",
         "x": [
          0.4515516459941864
         ],
         "y": [
          0.5441633462905884
         ],
         "z": [
          0.3675621747970581
         ]
        },
        {
         "hovertemplate": "color=after<br>0=%{x}<br>1=%{y}<br>2=%{z}<extra></extra>",
         "legendgroup": "after",
         "marker": {
          "color": "#FF97FF",
          "symbol": "circle"
         },
         "mode": "markers",
         "name": "after",
         "scene": "scene",
         "showlegend": true,
         "type": "scatter3d",
         "x": [
          0.1787739396095276
         ],
         "y": [
          0.564868152141571
         ],
         "z": [
          0.29039856791496277
         ]
        },
        {
         "hovertemplate": "color=much<br>0=%{x}<br>1=%{y}<br>2=%{z}<extra></extra>",
         "legendgroup": "much",
         "marker": {
          "color": "#FECB52",
          "symbol": "circle"
         },
         "mode": "markers",
         "name": "much",
         "scene": "scene",
         "showlegend": true,
         "type": "scatter3d",
         "x": [
          0.3354012072086334
         ],
         "y": [
          0.5173406004905701
         ],
         "z": [
          0.17758779227733612
         ]
        },
        {
         "hovertemplate": "color=enough<br>0=%{x}<br>1=%{y}<br>2=%{z}<extra></extra>",
         "legendgroup": "enough",
         "marker": {
          "color": "#636efa",
          "symbol": "circle"
         },
         "mode": "markers",
         "name": "enough",
         "scene": "scene",
         "showlegend": true,
         "type": "scatter3d",
         "x": [
          0.16337619721889496
         ],
         "y": [
          0.5727053284645081
         ],
         "z": [
          0.15305985510349274
         ]
        },
        {
         "hovertemplate": "color=tell<br>0=%{x}<br>1=%{y}<br>2=%{z}<extra></extra>",
         "legendgroup": "tell",
         "marker": {
          "color": "#EF553B",
          "symbol": "circle"
         },
         "mode": "markers",
         "name": "tell",
         "scene": "scene",
         "showlegend": true,
         "type": "scatter3d",
         "x": [
          0.5270357131958008
         ],
         "y": [
          0.5829502940177917
         ],
         "z": [
          0.4015501141548157
         ]
        },
        {
         "hovertemplate": "color=sword<br>0=%{x}<br>1=%{y}<br>2=%{z}<extra></extra>",
         "legendgroup": "sword",
         "marker": {
          "color": "#00cc96",
          "symbol": "circle"
         },
         "mode": "markers",
         "name": "sword",
         "scene": "scene",
         "showlegend": true,
         "type": "scatter3d",
         "x": [
          -0.10649613291025162
         ],
         "y": [
          0.5536258816719055
         ],
         "z": [
          0.33012643456459045
         ]
        },
        {
         "hovertemplate": "color=great<br>0=%{x}<br>1=%{y}<br>2=%{z}<extra></extra>",
         "legendgroup": "great",
         "marker": {
          "color": "#ab63fa",
          "symbol": "circle"
         },
         "mode": "markers",
         "name": "great",
         "scene": "scene",
         "showlegend": true,
         "type": "scatter3d",
         "x": [
          -0.0927991047501564
         ],
         "y": [
          0.5199863314628601
         ],
         "z": [
          -0.4238085448741913
         ]
        },
        {
         "hovertemplate": "color=looked<br>0=%{x}<br>1=%{y}<br>2=%{z}<extra></extra>",
         "legendgroup": "looked",
         "marker": {
          "color": "#FFA15A",
          "symbol": "circle"
         },
         "mode": "markers",
         "name": "looked",
         "scene": "scene",
         "showlegend": true,
         "type": "scatter3d",
         "x": [
          -0.07525209337472916
         ],
         "y": [
          0.30406132340431213
         ],
         "z": [
          0.46616026759147644
         ]
        },
        {
         "hovertemplate": "color=bran<br>0=%{x}<br>1=%{y}<br>2=%{z}<extra></extra>",
         "legendgroup": "bran",
         "marker": {
          "color": "#19d3f3",
          "symbol": "circle"
         },
         "mode": "markers",
         "name": "bran",
         "scene": "scene",
         "showlegend": true,
         "type": "scatter3d",
         "x": [
          -0.02209307812154293
         ],
         "y": [
          0.3958047330379486
         ],
         "z": [
          0.3751630187034607
         ]
        },
        {
         "hovertemplate": "color=ll<br>0=%{x}<br>1=%{y}<br>2=%{z}<extra></extra>",
         "legendgroup": "ll",
         "marker": {
          "color": "#FF6692",
          "symbol": "circle"
         },
         "mode": "markers",
         "name": "ll",
         "scene": "scene",
         "showlegend": true,
         "type": "scatter3d",
         "x": [
          0.32567307353019714
         ],
         "y": [
          0.4939642548561096
         ],
         "z": [
          0.3077470660209656
         ]
        },
        {
         "hovertemplate": "color=girl<br>0=%{x}<br>1=%{y}<br>2=%{z}<extra></extra>",
         "legendgroup": "girl",
         "marker": {
          "color": "#B6E880",
          "symbol": "circle"
         },
         "mode": "markers",
         "name": "girl",
         "scene": "scene",
         "showlegend": true,
         "type": "scatter3d",
         "x": [
          0.27442067861557007
         ],
         "y": [
          0.3948017954826355
         ],
         "z": [
          0.1642724722623825
         ]
        },
        {
         "hovertemplate": "color=left<br>0=%{x}<br>1=%{y}<br>2=%{z}<extra></extra>",
         "legendgroup": "left",
         "marker": {
          "color": "#FF97FF",
          "symbol": "circle"
         },
         "mode": "markers",
         "name": "left",
         "scene": "scene",
         "showlegend": true,
         "type": "scatter3d",
         "x": [
          -0.20151399075984955
         ],
         "y": [
          0.5484618544578552
         ],
         "z": [
          0.3390878438949585
         ]
        },
        {
         "hovertemplate": "color=knew<br>0=%{x}<br>1=%{y}<br>2=%{z}<extra></extra>",
         "legendgroup": "knew",
         "marker": {
          "color": "#FECB52",
          "symbol": "circle"
         },
         "mode": "markers",
         "name": "knew",
         "scene": "scene",
         "showlegend": true,
         "type": "scatter3d",
         "x": [
          0.32170942425727844
         ],
         "y": [
          0.5465284585952759
         ],
         "z": [
          0.36914461851119995
         ]
        },
        {
         "hovertemplate": "color=gave<br>0=%{x}<br>1=%{y}<br>2=%{z}<extra></extra>",
         "legendgroup": "gave",
         "marker": {
          "color": "#636efa",
          "symbol": "circle"
         },
         "mode": "markers",
         "name": "gave",
         "scene": "scene",
         "showlegend": true,
         "type": "scatter3d",
         "x": [
          0.13326290249824524
         ],
         "y": [
          0.15835611522197723
         ],
         "z": [
          0.7180994153022766
         ]
        },
        {
         "hovertemplate": "color=asked<br>0=%{x}<br>1=%{y}<br>2=%{z}<extra></extra>",
         "legendgroup": "asked",
         "marker": {
          "color": "#EF553B",
          "symbol": "circle"
         },
         "mode": "markers",
         "name": "asked",
         "scene": "scene",
         "showlegend": true,
         "type": "scatter3d",
         "x": [
          0.452068567276001
         ],
         "y": [
          0.22758252918720245
         ],
         "z": [
          0.6141586899757385
         ]
        },
        {
         "hovertemplate": "color=called<br>0=%{x}<br>1=%{y}<br>2=%{z}<extra></extra>",
         "legendgroup": "called",
         "marker": {
          "color": "#00cc96",
          "symbol": "circle"
         },
         "mode": "markers",
         "name": "called",
         "scene": "scene",
         "showlegend": true,
         "type": "scatter3d",
         "x": [
          0.3703279495239258
         ],
         "y": [
          0.2863938808441162
         ],
         "z": [
          0.15660212934017181
         ]
        },
        {
         "hovertemplate": "color=wall<br>0=%{x}<br>1=%{y}<br>2=%{z}<extra></extra>",
         "legendgroup": "wall",
         "marker": {
          "color": "#ab63fa",
          "symbol": "circle"
         },
         "mode": "markers",
         "name": "wall",
         "scene": "scene",
         "showlegend": true,
         "type": "scatter3d",
         "x": [
          -0.25338026881217957
         ],
         "y": [
          0.8475791215896606
         ],
         "z": [
          -0.06960635632276535
         ]
        },
        {
         "hovertemplate": "color=every<br>0=%{x}<br>1=%{y}<br>2=%{z}<extra></extra>",
         "legendgroup": "every",
         "marker": {
          "color": "#FFA15A",
          "symbol": "circle"
         },
         "mode": "markers",
         "name": "every",
         "scene": "scene",
         "showlegend": true,
         "type": "scatter3d",
         "x": [
          -0.02191518247127533
         ],
         "y": [
          0.5730554461479187
         ],
         "z": [
          0.025450604036450386
         ]
        },
        {
         "hovertemplate": "color=heard<br>0=%{x}<br>1=%{y}<br>2=%{z}<extra></extra>",
         "legendgroup": "heard",
         "marker": {
          "color": "#19d3f3",
          "symbol": "circle"
         },
         "mode": "markers",
         "name": "heard",
         "scene": "scene",
         "showlegend": true,
         "type": "scatter3d",
         "x": [
          0.07840925455093384
         ],
         "y": [
          0.5004623532295227
         ],
         "z": [
          0.4002930223941803
         ]
        },
        {
         "hovertemplate": "color=maester<br>0=%{x}<br>1=%{y}<br>2=%{z}<extra></extra>",
         "legendgroup": "maester",
         "marker": {
          "color": "#FF6692",
          "symbol": "circle"
         },
         "mode": "markers",
         "name": "maester",
         "scene": "scene",
         "showlegend": true,
         "type": "scatter3d",
         "x": [
          0.31099411845207214
         ],
         "y": [
          0.3245864808559418
         ],
         "z": [
          0.21818825602531433
         ]
        },
        {
         "hovertemplate": "color=yet<br>0=%{x}<br>1=%{y}<br>2=%{z}<extra></extra>",
         "legendgroup": "yet",
         "marker": {
          "color": "#B6E880",
          "symbol": "circle"
         },
         "mode": "markers",
         "name": "yet",
         "scene": "scene",
         "showlegend": true,
         "type": "scatter3d",
         "x": [
          0.2491687834262848
         ],
         "y": [
          0.5869492888450623
         ],
         "z": [
          0.08669145405292511
         ]
        },
        {
         "hovertemplate": "color=let<br>0=%{x}<br>1=%{y}<br>2=%{z}<extra></extra>",
         "legendgroup": "let",
         "marker": {
          "color": "#FF97FF",
          "symbol": "circle"
         },
         "mode": "markers",
         "name": "let",
         "scene": "scene",
         "showlegend": true,
         "type": "scatter3d",
         "x": [
          0.2669680118560791
         ],
         "y": [
          0.47262948751449585
         ],
         "z": [
          0.5087370276451111
         ]
        },
        {
         "hovertemplate": "color=went<br>0=%{x}<br>1=%{y}<br>2=%{z}<extra></extra>",
         "legendgroup": "went",
         "marker": {
          "color": "#FECB52",
          "symbol": "circle"
         },
         "mode": "markers",
         "name": "went",
         "scene": "scene",
         "showlegend": true,
         "type": "scatter3d",
         "x": [
          -0.20210538804531097
         ],
         "y": [
          0.4812465012073517
         ],
         "z": [
          0.5093626976013184
         ]
        },
        {
         "hovertemplate": "color=sansa<br>0=%{x}<br>1=%{y}<br>2=%{z}<extra></extra>",
         "legendgroup": "sansa",
         "marker": {
          "color": "#636efa",
          "symbol": "circle"
         },
         "mode": "markers",
         "name": "sansa",
         "scene": "scene",
         "showlegend": true,
         "type": "scatter3d",
         "x": [
          0.19138452410697937
         ],
         "y": [
          0.31310367584228516
         ],
         "z": [
          0.4245464503765106
         ]
        },
        {
         "hovertemplate": "color=turned<br>0=%{x}<br>1=%{y}<br>2=%{z}<extra></extra>",
         "legendgroup": "turned",
         "marker": {
          "color": "#EF553B",
          "symbol": "circle"
         },
         "mode": "markers",
         "name": "turned",
         "scene": "scene",
         "showlegend": true,
         "type": "scatter3d",
         "x": [
          -0.2634681463241577
         ],
         "y": [
          0.3533238172531128
         ],
         "z": [
          0.5764368772506714
         ]
        },
        {
         "hovertemplate": "color=why<br>0=%{x}<br>1=%{y}<br>2=%{z}<extra></extra>",
         "legendgroup": "why",
         "marker": {
          "color": "#00cc96",
          "symbol": "circle"
         },
         "mode": "markers",
         "name": "why",
         "scene": "scene",
         "showlegend": true,
         "type": "scatter3d",
         "x": [
          0.608752429485321
         ],
         "y": [
          0.5365837216377258
         ],
         "z": [
          0.23798850178718567
         ]
        },
        {
         "hovertemplate": "color=behind<br>0=%{x}<br>1=%{y}<br>2=%{z}<extra></extra>",
         "legendgroup": "behind",
         "marker": {
          "color": "#ab63fa",
          "symbol": "circle"
         },
         "mode": "markers",
         "name": "behind",
         "scene": "scene",
         "showlegend": true,
         "type": "scatter3d",
         "x": [
          -0.449796199798584
         ],
         "y": [
          0.4358625113964081
         ],
         "z": [
          0.2056368887424469
         ]
        },
        {
         "hovertemplate": "color=need<br>0=%{x}<br>1=%{y}<br>2=%{z}<extra></extra>",
         "legendgroup": "need",
         "marker": {
          "color": "#FFA15A",
          "symbol": "circle"
         },
         "mode": "markers",
         "name": "need",
         "scene": "scene",
         "showlegend": true,
         "type": "scatter3d",
         "x": [
          0.40337398648262024
         ],
         "y": [
          0.6401563882827759
         ],
         "z": [
          0.19107508659362793
         ]
        },
        {
         "hovertemplate": "color=dany<br>0=%{x}<br>1=%{y}<br>2=%{z}<extra></extra>",
         "legendgroup": "dany",
         "marker": {
          "color": "#19d3f3",
          "symbol": "circle"
         },
         "mode": "markers",
         "name": "dany",
         "scene": "scene",
         "showlegend": true,
         "type": "scatter3d",
         "x": [
          -0.09333518892526627
         ],
         "y": [
          0.3452681005001068
         ],
         "z": [
          0.1685854196548462
         ]
        },
        {
         "hovertemplate": "color=around<br>0=%{x}<br>1=%{y}<br>2=%{z}<extra></extra>",
         "legendgroup": "around",
         "marker": {
          "color": "#FF6692",
          "symbol": "circle"
         },
         "mode": "markers",
         "name": "around",
         "scene": "scene",
         "showlegend": true,
         "type": "scatter3d",
         "x": [
          -0.5527621507644653
         ],
         "y": [
          0.3745092749595642
         ],
         "z": [
          0.3034842312335968
         ]
        },
        {
         "hovertemplate": "color=just<br>0=%{x}<br>1=%{y}<br>2=%{z}<extra></extra>",
         "legendgroup": "just",
         "marker": {
          "color": "#B6E880",
          "symbol": "circle"
         },
         "mode": "markers",
         "name": "just",
         "scene": "scene",
         "showlegend": true,
         "type": "scatter3d",
         "x": [
          0.21669843792915344
         ],
         "y": [
          0.5547568798065186
         ],
         "z": [
          0.37988612055778503
         ]
        },
        {
         "hovertemplate": "color=another<br>0=%{x}<br>1=%{y}<br>2=%{z}<extra></extra>",
         "legendgroup": "another",
         "marker": {
          "color": "#FF97FF",
          "symbol": "circle"
         },
         "mode": "markers",
         "name": "another",
         "scene": "scene",
         "showlegend": true,
         "type": "scatter3d",
         "x": [
          -0.016491444781422615
         ],
         "y": [
          0.4984854757785797
         ],
         "z": [
          0.15316441655158997
         ]
        },
        {
         "hovertemplate": "color=beneath<br>0=%{x}<br>1=%{y}<br>2=%{z}<extra></extra>",
         "legendgroup": "beneath",
         "marker": {
          "color": "#FECB52",
          "symbol": "circle"
         },
         "mode": "markers",
         "name": "beneath",
         "scene": "scene",
         "showlegend": true,
         "type": "scatter3d",
         "x": [
          -0.5893904566764832
         ],
         "y": [
          0.3900158107280731
         ],
         "z": [
          0.16364403069019318
         ]
        },
        {
         "hovertemplate": "color=across<br>0=%{x}<br>1=%{y}<br>2=%{z}<extra></extra>",
         "legendgroup": "across",
         "marker": {
          "color": "#636efa",
          "symbol": "circle"
         },
         "mode": "markers",
         "name": "across",
         "scene": "scene",
         "showlegend": true,
         "type": "scatter3d",
         "x": [
          -0.5427516102790833
         ],
         "y": [
          0.3796983063220978
         ],
         "z": [
          0.2103184461593628
         ]
        },
        {
         "hovertemplate": "color=snow<br>0=%{x}<br>1=%{y}<br>2=%{z}<extra></extra>",
         "legendgroup": "snow",
         "marker": {
          "color": "#EF553B",
          "symbol": "circle"
         },
         "mode": "markers",
         "name": "snow",
         "scene": "scene",
         "showlegend": true,
         "type": "scatter3d",
         "x": [
          -0.25223201513290405
         ],
         "y": [
          0.5047651529312134
         ],
         "z": [
          0.19926685094833374
         ]
        },
        {
         "hovertemplate": "color=keep<br>0=%{x}<br>1=%{y}<br>2=%{z}<extra></extra>",
         "legendgroup": "keep",
         "marker": {
          "color": "#00cc96",
          "symbol": "circle"
         },
         "mode": "markers",
         "name": "keep",
         "scene": "scene",
         "showlegend": true,
         "type": "scatter3d",
         "x": [
          0.0866071879863739
         ],
         "y": [
          0.7696017026901245
         ],
         "z": [
          0.23403607308864594
         ]
        },
        {
         "hovertemplate": "color=gods<br>0=%{x}<br>1=%{y}<br>2=%{z}<extra></extra>",
         "legendgroup": "gods",
         "marker": {
          "color": "#ab63fa",
          "symbol": "circle"
         },
         "mode": "markers",
         "name": "gods",
         "scene": "scene",
         "showlegend": true,
         "type": "scatter3d",
         "x": [
          0.39029785990715027
         ],
         "y": [
          0.6866816878318787
         ],
         "z": [
          -0.18291470408439636
         ]
        },
        {
         "hovertemplate": "color=found<br>0=%{x}<br>1=%{y}<br>2=%{z}<extra></extra>",
         "legendgroup": "found",
         "marker": {
          "color": "#FFA15A",
          "symbol": "circle"
         },
         "mode": "markers",
         "name": "found",
         "scene": "scene",
         "showlegend": true,
         "type": "scatter3d",
         "x": [
          -0.10520441830158234
         ],
         "y": [
          0.481292724609375
         ],
         "z": [
          0.4573751389980316
         ]
        },
        {
         "hovertemplate": "color=knight<br>0=%{x}<br>1=%{y}<br>2=%{z}<extra></extra>",
         "legendgroup": "knight",
         "marker": {
          "color": "#19d3f3",
          "symbol": "circle"
         },
         "mode": "markers",
         "name": "knight",
         "scene": "scene",
         "showlegend": true,
         "type": "scatter3d",
         "x": [
          0.2775988280773163
         ],
         "y": [
          0.3633742332458496
         ],
         "z": [
          -0.04855133965611458
         ]
        },
        {
         "hovertemplate": "color=woman<br>0=%{x}<br>1=%{y}<br>2=%{z}<extra></extra>",
         "legendgroup": "woman",
         "marker": {
          "color": "#FF6692",
          "symbol": "circle"
         },
         "mode": "markers",
         "name": "woman",
         "scene": "scene",
         "showlegend": true,
         "type": "scatter3d",
         "x": [
          0.10571736842393875
         ],
         "y": [
          0.38934066891670227
         ],
         "z": [
          0.16935747861862183
         ]
        },
        {
         "hovertemplate": "color=gold<br>0=%{x}<br>1=%{y}<br>2=%{z}<extra></extra>",
         "legendgroup": "gold",
         "marker": {
          "color": "#B6E880",
          "symbol": "circle"
         },
         "mode": "markers",
         "name": "gold",
         "scene": "scene",
         "showlegend": true,
         "type": "scatter3d",
         "x": [
          -0.0935395285487175
         ],
         "y": [
          0.4023163914680481
         ],
         "z": [
          -0.23897287249565125
         ]
        },
        {
         "hovertemplate": "color=any<br>0=%{x}<br>1=%{y}<br>2=%{z}<extra></extra>",
         "legendgroup": "any",
         "marker": {
          "color": "#FF97FF",
          "symbol": "circle"
         },
         "mode": "markers",
         "name": "any",
         "scene": "scene",
         "showlegend": true,
         "type": "scatter3d",
         "x": [
          0.4164966940879822
         ],
         "y": [
          0.5976909399032593
         ],
         "z": [
          -0.05201290175318718
         ]
        },
        {
         "hovertemplate": "color=last<br>0=%{x}<br>1=%{y}<br>2=%{z}<extra></extra>",
         "legendgroup": "last",
         "marker": {
          "color": "#FECB52",
          "symbol": "circle"
         },
         "mode": "markers",
         "name": "last",
         "scene": "scene",
         "showlegend": true,
         "type": "scatter3d",
         "x": [
          0.1195235401391983
         ],
         "y": [
          0.5930455327033997
         ],
         "z": [
          0.13378669321537018
         ]
        },
        {
         "hovertemplate": "color=grace<br>0=%{x}<br>1=%{y}<br>2=%{z}<extra></extra>",
         "legendgroup": "grace",
         "marker": {
          "color": "#636efa",
          "symbol": "circle"
         },
         "mode": "markers",
         "name": "grace",
         "scene": "scene",
         "showlegend": true,
         "type": "scatter3d",
         "x": [
          0.562518835067749
         ],
         "y": [
          0.5191012620925903
         ],
         "z": [
          0.05858920142054558
         ]
        },
        {
         "hovertemplate": "color=those<br>0=%{x}<br>1=%{y}<br>2=%{z}<extra></extra>",
         "legendgroup": "those",
         "marker": {
          "color": "#EF553B",
          "symbol": "circle"
         },
         "mode": "markers",
         "name": "those",
         "scene": "scene",
         "showlegend": true,
         "type": "scatter3d",
         "x": [
          0.06446552276611328
         ],
         "y": [
          0.6310829520225525
         ],
         "z": [
          -0.3484082818031311
         ]
        },
        {
         "hovertemplate": "color=castle<br>0=%{x}<br>1=%{y}<br>2=%{z}<extra></extra>",
         "legendgroup": "castle",
         "marker": {
          "color": "#00cc96",
          "symbol": "circle"
         },
         "mode": "markers",
         "name": "castle",
         "scene": "scene",
         "showlegend": true,
         "type": "scatter3d",
         "x": [
          0.04775777831673622
         ],
         "y": [
          0.8601393103599548
         ],
         "z": [
          -0.24908749759197235
         ]
        },
        {
         "hovertemplate": "color=think<br>0=%{x}<br>1=%{y}<br>2=%{z}<extra></extra>",
         "legendgroup": "think",
         "marker": {
          "color": "#ab63fa",
          "symbol": "circle"
         },
         "mode": "markers",
         "name": "think",
         "scene": "scene",
         "showlegend": true,
         "type": "scatter3d",
         "x": [
          0.46540912985801697
         ],
         "y": [
          0.6037192344665527
         ],
         "z": [
          0.3376353085041046
         ]
        },
        {
         "hovertemplate": "color=many<br>0=%{x}<br>1=%{y}<br>2=%{z}<extra></extra>",
         "legendgroup": "many",
         "marker": {
          "color": "#FFA15A",
          "symbol": "circle"
         },
         "mode": "markers",
         "name": "many",
         "scene": "scene",
         "showlegend": true,
         "type": "scatter3d",
         "x": [
          0.18400193750858307
         ],
         "y": [
          0.5613611936569214
         ],
         "z": [
          -0.30552005767822266
         ]
        },
        {
         "hovertemplate": "color=hair<br>0=%{x}<br>1=%{y}<br>2=%{z}<extra></extra>",
         "legendgroup": "hair",
         "marker": {
          "color": "#19d3f3",
          "symbol": "circle"
         },
         "mode": "markers",
         "name": "hair",
         "scene": "scene",
         "showlegend": true,
         "type": "scatter3d",
         "x": [
          -0.3490116000175476
         ],
         "y": [
          0.20234930515289307
         ],
         "z": [
          0.33804231882095337
         ]
        },
        {
         "hovertemplate": "color=feet<br>0=%{x}<br>1=%{y}<br>2=%{z}<extra></extra>",
         "legendgroup": "feet",
         "marker": {
          "color": "#FF6692",
          "symbol": "circle"
         },
         "mode": "markers",
         "name": "feet",
         "scene": "scene",
         "showlegend": true,
         "type": "scatter3d",
         "x": [
          -0.46288931369781494
         ],
         "y": [
          0.508158802986145
         ],
         "z": [
          0.2844865024089813
         ]
        },
        {
         "hovertemplate": "color=against<br>0=%{x}<br>1=%{y}<br>2=%{z}<extra></extra>",
         "legendgroup": "against",
         "marker": {
          "color": "#B6E880",
          "symbol": "circle"
         },
         "mode": "markers",
         "name": "against",
         "scene": "scene",
         "showlegend": true,
         "type": "scatter3d",
         "x": [
          -0.3021783232688904
         ],
         "y": [
          0.4326145052909851
         ],
         "z": [
          0.28682273626327515
         ]
        },
        {
         "hovertemplate": "color=cersei<br>0=%{x}<br>1=%{y}<br>2=%{z}<extra></extra>",
         "legendgroup": "cersei",
         "marker": {
          "color": "#FF97FF",
          "symbol": "circle"
         },
         "mode": "markers",
         "name": "cersei",
         "scene": "scene",
         "showlegend": true,
         "type": "scatter3d",
         "x": [
          0.33762118220329285
         ],
         "y": [
          0.28760990500450134
         ],
         "z": [
          0.2635612189769745
         ]
        },
        {
         "hovertemplate": "color=hands<br>0=%{x}<br>1=%{y}<br>2=%{z}<extra></extra>",
         "legendgroup": "hands",
         "marker": {
          "color": "#FECB52",
          "symbol": "circle"
         },
         "mode": "markers",
         "name": "hands",
         "scene": "scene",
         "showlegend": true,
         "type": "scatter3d",
         "x": [
          -0.34635597467422485
         ],
         "y": [
          0.4345586597919464
         ],
         "z": [
          0.35005682706832886
         ]
        },
        {
         "hovertemplate": "color=stark<br>0=%{x}<br>1=%{y}<br>2=%{z}<extra></extra>",
         "legendgroup": "stark",
         "marker": {
          "color": "#636efa",
          "symbol": "circle"
         },
         "mode": "markers",
         "name": "stark",
         "scene": "scene",
         "showlegend": true,
         "type": "scatter3d",
         "x": [
          0.43528616428375244
         ],
         "y": [
          0.5290626883506775
         ],
         "z": [
          0.20891551673412323
         ]
        },
        {
         "hovertemplate": "color=stannis<br>0=%{x}<br>1=%{y}<br>2=%{z}<extra></extra>",
         "legendgroup": "stannis",
         "marker": {
          "color": "#EF553B",
          "symbol": "circle"
         },
         "mode": "markers",
         "name": "stannis",
         "scene": "scene",
         "showlegend": true,
         "type": "scatter3d",
         "x": [
          0.37600815296173096
         ],
         "y": [
          0.6080529689788818
         ],
         "z": [
          -0.09536338597536087
         ]
        },
        {
         "hovertemplate": "color=catelyn<br>0=%{x}<br>1=%{y}<br>2=%{z}<extra></extra>",
         "legendgroup": "catelyn",
         "marker": {
          "color": "#00cc96",
          "symbol": "circle"
         },
         "mode": "markers",
         "name": "catelyn",
         "scene": "scene",
         "showlegend": true,
         "type": "scatter3d",
         "x": [
          0.2437366247177124
         ],
         "y": [
          0.31151458621025085
         ],
         "z": [
          0.20931220054626465
         ]
        },
        {
         "hovertemplate": "color=seemed<br>0=%{x}<br>1=%{y}<br>2=%{z}<extra></extra>",
         "legendgroup": "seemed",
         "marker": {
          "color": "#ab63fa",
          "symbol": "circle"
         },
         "mode": "markers",
         "name": "seemed",
         "scene": "scene",
         "showlegend": true,
         "type": "scatter3d",
         "x": [
          -0.013921895064413548
         ],
         "y": [
          0.45183929800987244
         ],
         "z": [
          0.31555238366127014
         ]
        },
        {
         "hovertemplate": "color=may<br>0=%{x}<br>1=%{y}<br>2=%{z}<extra></extra>",
         "legendgroup": "may",
         "marker": {
          "color": "#FFA15A",
          "symbol": "circle"
         },
         "mode": "markers",
         "name": "may",
         "scene": "scene",
         "showlegend": true,
         "type": "scatter3d",
         "x": [
          0.5359639525413513
         ],
         "y": [
          0.4865906238555908
         ],
         "z": [
          0.1435735523700714
         ]
        },
        {
         "hovertemplate": "color=ever<br>0=%{x}<br>1=%{y}<br>2=%{z}<extra></extra>",
         "legendgroup": "ever",
         "marker": {
          "color": "#19d3f3",
          "symbol": "circle"
         },
         "mode": "markers",
         "name": "ever",
         "scene": "scene",
         "showlegend": true,
         "type": "scatter3d",
         "x": [
          0.41389885544776917
         ],
         "y": [
          0.5364164113998413
         ],
         "z": [
          0.09430509805679321
         ]
        },
        {
         "hovertemplate": "color=done<br>0=%{x}<br>1=%{y}<br>2=%{z}<extra></extra>",
         "legendgroup": "done",
         "marker": {
          "color": "#FF6692",
          "symbol": "circle"
         },
         "mode": "markers",
         "name": "done",
         "scene": "scene",
         "showlegend": true,
         "type": "scatter3d",
         "x": [
          0.4535866677761078
         ],
         "y": [
          0.6177240610122681
         ],
         "z": [
          0.2342570275068283
         ]
        },
        {
         "hovertemplate": "color=robb<br>0=%{x}<br>1=%{y}<br>2=%{z}<extra></extra>",
         "legendgroup": "robb",
         "marker": {
          "color": "#B6E880",
          "symbol": "circle"
         },
         "mode": "markers",
         "name": "robb",
         "scene": "scene",
         "showlegend": true,
         "type": "scatter3d",
         "x": [
          0.4034654498100281
         ],
         "y": [
          0.5065106749534607
         ],
         "z": [
          0.17669084668159485
         ]
        },
        {
         "hovertemplate": "color=find<br>0=%{x}<br>1=%{y}<br>2=%{z}<extra></extra>",
         "legendgroup": "find",
         "marker": {
          "color": "#FF97FF",
          "symbol": "circle"
         },
         "mode": "markers",
         "name": "find",
         "scene": "scene",
         "showlegend": true,
         "type": "scatter3d",
         "x": [
          0.34167957305908203
         ],
         "y": [
          0.6690410375595093
         ],
         "z": [
          0.3620660901069641
         ]
        },
        {
         "hovertemplate": "color=mother<br>0=%{x}<br>1=%{y}<br>2=%{z}<extra></extra>",
         "legendgroup": "mother",
         "marker": {
          "color": "#FECB52",
          "symbol": "circle"
         },
         "mode": "markers",
         "name": "mother",
         "scene": "scene",
         "showlegend": true,
         "type": "scatter3d",
         "x": [
          0.4725523293018341
         ],
         "y": [
          0.5229870080947876
         ],
         "z": [
          0.13533072173595428
         ]
        },
        {
         "hovertemplate": "color=prince<br>0=%{x}<br>1=%{y}<br>2=%{z}<extra></extra>",
         "legendgroup": "prince",
         "marker": {
          "color": "#636efa",
          "symbol": "circle"
         },
         "mode": "markers",
         "name": "prince",
         "scene": "scene",
         "showlegend": true,
         "type": "scatter3d",
         "x": [
          0.5359053611755371
         ],
         "y": [
          0.4230811893939972
         ],
         "z": [
          0.0857769101858139
         ]
        },
        {
         "hovertemplate": "color=lannister<br>0=%{x}<br>1=%{y}<br>2=%{z}<extra></extra>",
         "legendgroup": "lannister",
         "marker": {
          "color": "#EF553B",
          "symbol": "circle"
         },
         "mode": "markers",
         "name": "lannister",
         "scene": "scene",
         "showlegend": true,
         "type": "scatter3d",
         "x": [
          0.37575313448905945
         ],
         "y": [
          0.4169562757015228
         ],
         "z": [
          0.0217182245105505
         ]
        },
        {
         "hovertemplate": "color=hear<br>0=%{x}<br>1=%{y}<br>2=%{z}<extra></extra>",
         "legendgroup": "hear",
         "marker": {
          "color": "#00cc96",
          "symbol": "circle"
         },
         "mode": "markers",
         "name": "hear",
         "scene": "scene",
         "showlegend": true,
         "type": "scatter3d",
         "x": [
          0.12892429530620575
         ],
         "y": [
          0.5502433180809021
         ],
         "z": [
          0.44010916352272034
         ]
        },
        {
         "hovertemplate": "color=grey<br>0=%{x}<br>1=%{y}<br>2=%{z}<extra></extra>",
         "legendgroup": "grey",
         "marker": {
          "color": "#ab63fa",
          "symbol": "circle"
         },
         "mode": "markers",
         "name": "grey",
         "scene": "scene",
         "showlegend": true,
         "type": "scatter3d",
         "x": [
          -0.5035625100135803
         ],
         "y": [
          0.230934277176857
         ],
         "z": [
          -0.05411868914961815
         ]
        },
        {
         "hovertemplate": "color=name<br>0=%{x}<br>1=%{y}<br>2=%{z}<extra></extra>",
         "legendgroup": "name",
         "marker": {
          "color": "#FFA15A",
          "symbol": "circle"
         },
         "mode": "markers",
         "name": "name",
         "scene": "scene",
         "showlegend": true,
         "type": "scatter3d",
         "x": [
          0.5221604108810425
         ],
         "y": [
          0.6338022351264954
         ],
         "z": [
          0.18444931507110596
         ]
        },
        {
         "hovertemplate": "color=robert<br>0=%{x}<br>1=%{y}<br>2=%{z}<extra></extra>",
         "legendgroup": "robert",
         "marker": {
          "color": "#19d3f3",
          "symbol": "circle"
         },
         "mode": "markers",
         "name": "robert",
         "scene": "scene",
         "showlegend": true,
         "type": "scatter3d",
         "x": [
          0.5249203443527222
         ],
         "y": [
          0.4733429551124573
         ],
         "z": [
          0.042559217661619186
         ]
        },
        {
         "hovertemplate": "color=high<br>0=%{x}<br>1=%{y}<br>2=%{z}<extra></extra>",
         "legendgroup": "high",
         "marker": {
          "color": "#FF6692",
          "symbol": "circle"
         },
         "mode": "markers",
         "name": "high",
         "scene": "scene",
         "showlegend": true,
         "type": "scatter3d",
         "x": [
          -0.1949869841337204
         ],
         "y": [
          0.461660772562027
         ],
         "z": [
          -0.21125464141368866
         ]
        },
        {
         "hovertemplate": "color=put<br>0=%{x}<br>1=%{y}<br>2=%{z}<extra></extra>",
         "legendgroup": "put",
         "marker": {
          "color": "#B6E880",
          "symbol": "circle"
         },
         "mode": "markers",
         "name": "put",
         "scene": "scene",
         "showlegend": true,
         "type": "scatter3d",
         "x": [
          0.19206365942955017
         ],
         "y": [
          0.5493257641792297
         ],
         "z": [
          0.5961232781410217
         ]
        },
        {
         "hovertemplate": "color=stone<br>0=%{x}<br>1=%{y}<br>2=%{z}<extra></extra>",
         "legendgroup": "stone",
         "marker": {
          "color": "#FF97FF",
          "symbol": "circle"
         },
         "mode": "markers",
         "name": "stone",
         "scene": "scene",
         "showlegend": true,
         "type": "scatter3d",
         "x": [
          -0.6648153066635132
         ],
         "y": [
          0.5042648315429688
         ],
         "z": [
          -0.1961052268743515
         ]
        },
        {
         "hovertemplate": "color=wine<br>0=%{x}<br>1=%{y}<br>2=%{z}<extra></extra>",
         "legendgroup": "wine",
         "marker": {
          "color": "#FECB52",
          "symbol": "circle"
         },
         "mode": "markers",
         "name": "wine",
         "scene": "scene",
         "showlegend": true,
         "type": "scatter3d",
         "x": [
          -0.13369500637054443
         ],
         "y": [
          0.2863677144050598
         ],
         "z": [
          0.350088894367218
         ]
        },
        {
         "hovertemplate": "color=horse<br>0=%{x}<br>1=%{y}<br>2=%{z}<extra></extra>",
         "legendgroup": "horse",
         "marker": {
          "color": "#636efa",
          "symbol": "circle"
         },
         "mode": "markers",
         "name": "horse",
         "scene": "scene",
         "showlegend": true,
         "type": "scatter3d",
         "x": [
          -0.3553866446018219
         ],
         "y": [
          0.5258200764656067
         ],
         "z": [
          0.30720457434654236
         ]
        },
        {
         "hovertemplate": "color=hard<br>0=%{x}<br>1=%{y}<br>2=%{z}<extra></extra>",
         "legendgroup": "hard",
         "marker": {
          "color": "#EF553B",
          "symbol": "circle"
         },
         "mode": "markers",
         "name": "hard",
         "scene": "scene",
         "showlegend": true,
         "type": "scatter3d",
         "x": [
          -0.36278635263442993
         ],
         "y": [
          0.35040798783302307
         ],
         "z": [
          0.3617766797542572
         ]
        },
        {
         "hovertemplate": "color=upon<br>0=%{x}<br>1=%{y}<br>2=%{z}<extra></extra>",
         "legendgroup": "upon",
         "marker": {
          "color": "#00cc96",
          "symbol": "circle"
         },
         "mode": "markers",
         "name": "upon",
         "scene": "scene",
         "showlegend": true,
         "type": "scatter3d",
         "x": [
          -0.17766956984996796
         ],
         "y": [
          0.465162992477417
         ],
         "z": [
          0.09420458972454071
         ]
        },
        {
         "hovertemplate": "color=iron<br>0=%{x}<br>1=%{y}<br>2=%{z}<extra></extra>",
         "legendgroup": "iron",
         "marker": {
          "color": "#ab63fa",
          "symbol": "circle"
         },
         "mode": "markers",
         "name": "iron",
         "scene": "scene",
         "showlegend": true,
         "type": "scatter3d",
         "x": [
          -0.22075648605823517
         ],
         "y": [
          0.48265042901039124
         ],
         "z": [
          -0.1770387887954712
         ]
        },
        {
         "hovertemplate": "color=fire<br>0=%{x}<br>1=%{y}<br>2=%{z}<extra></extra>",
         "legendgroup": "fire",
         "marker": {
          "color": "#FFA15A",
          "symbol": "circle"
         },
         "mode": "markers",
         "name": "fire",
         "scene": "scene",
         "showlegend": true,
         "type": "scatter3d",
         "x": [
          -0.526380181312561
         ],
         "y": [
          0.6605009436607361
         ],
         "z": [
          0.008681065402925014
         ]
        },
        {
         "hovertemplate": "color=water<br>0=%{x}<br>1=%{y}<br>2=%{z}<extra></extra>",
         "legendgroup": "water",
         "marker": {
          "color": "#19d3f3",
          "symbol": "circle"
         },
         "mode": "markers",
         "name": "water",
         "scene": "scene",
         "showlegend": true,
         "type": "scatter3d",
         "x": [
          -0.5872202515602112
         ],
         "y": [
          0.520437479019165
         ],
         "z": [
          0.19823965430259705
         ]
        },
        {
         "hovertemplate": "color=until<br>0=%{x}<br>1=%{y}<br>2=%{z}<extra></extra>",
         "legendgroup": "until",
         "marker": {
          "color": "#FF6692",
          "symbol": "circle"
         },
         "mode": "markers",
         "name": "until",
         "scene": "scene",
         "showlegend": true,
         "type": "scatter3d",
         "x": [
          -0.17038139700889587
         ],
         "y": [
          0.5985307097434998
         ],
         "z": [
          0.38143256306648254
         ]
        },
        {
         "hovertemplate": "color=these<br>0=%{x}<br>1=%{y}<br>2=%{z}<extra></extra>",
         "legendgroup": "these",
         "marker": {
          "color": "#B6E880",
          "symbol": "circle"
         },
         "mode": "markers",
         "name": "these",
         "scene": "scene",
         "showlegend": true,
         "type": "scatter3d",
         "x": [
          0.3954237103462219
         ],
         "y": [
          0.6416927576065063
         ],
         "z": [
          -0.4264909625053406
         ]
        },
        {
         "hovertemplate": "color=voice<br>0=%{x}<br>1=%{y}<br>2=%{z}<extra></extra>",
         "legendgroup": "voice",
         "marker": {
          "color": "#FF97FF",
          "symbol": "circle"
         },
         "mode": "markers",
         "name": "voice",
         "scene": "scene",
         "showlegend": true,
         "type": "scatter3d",
         "x": [
          -0.05834921449422836
         ],
         "y": [
          0.2808787226676941
         ],
         "z": [
          0.37646493315696716
         ]
        },
        {
         "hovertemplate": "color=gone<br>0=%{x}<br>1=%{y}<br>2=%{z}<extra></extra>",
         "legendgroup": "gone",
         "marker": {
          "color": "#FECB52",
          "symbol": "circle"
         },
         "mode": "markers",
         "name": "gone",
         "scene": "scene",
         "showlegend": true,
         "type": "scatter3d",
         "x": [
          -0.0006099499296396971
         ],
         "y": [
          0.5922412276268005
         ],
         "z": [
          0.2629627287387848
         ]
        },
        {
         "hovertemplate": "color=give<br>0=%{x}<br>1=%{y}<br>2=%{z}<extra></extra>",
         "legendgroup": "give",
         "marker": {
          "color": "#636efa",
          "symbol": "circle"
         },
         "mode": "markers",
         "name": "give",
         "scene": "scene",
         "showlegend": true,
         "type": "scatter3d",
         "x": [
          0.5296128392219543
         ],
         "y": [
          0.526709794998169
         ],
         "z": [
          0.4138529896736145
         ]
        },
        {
         "hovertemplate": "color=seen<br>0=%{x}<br>1=%{y}<br>2=%{z}<extra></extra>",
         "legendgroup": "seen",
         "marker": {
          "color": "#EF553B",
          "symbol": "circle"
         },
         "mode": "markers",
         "name": "seen",
         "scene": "scene",
         "showlegend": true,
         "type": "scatter3d",
         "x": [
          0.11885900795459747
         ],
         "y": [
          0.6213356256484985
         ],
         "z": [
          0.21382294595241547
         ]
        },
        {
         "hovertemplate": "color=shall<br>0=%{x}<br>1=%{y}<br>2=%{z}<extra></extra>",
         "legendgroup": "shall",
         "marker": {
          "color": "#00cc96",
          "symbol": "circle"
         },
         "mode": "markers",
         "name": "shall",
         "scene": "scene",
         "showlegend": true,
         "type": "scatter3d",
         "x": [
          0.5039699673652649
         ],
         "y": [
          0.5318188667297363
         ],
         "z": [
          0.0860794261097908
         ]
        },
        {
         "hovertemplate": "color=better<br>0=%{x}<br>1=%{y}<br>2=%{z}<extra></extra>",
         "legendgroup": "better",
         "marker": {
          "color": "#ab63fa",
          "symbol": "circle"
         },
         "mode": "markers",
         "name": "better",
         "scene": "scene",
         "showlegend": true,
         "type": "scatter3d",
         "x": [
          0.37985995411872864
         ],
         "y": [
          0.5322612524032593
         ],
         "z": [
          0.09560208022594452
         ]
        },
        {
         "hovertemplate": "color=always<br>0=%{x}<br>1=%{y}<br>2=%{z}<extra></extra>",
         "legendgroup": "always",
         "marker": {
          "color": "#FFA15A",
          "symbol": "circle"
         },
         "mode": "markers",
         "name": "always",
         "scene": "scene",
         "showlegend": true,
         "type": "scatter3d",
         "x": [
          0.4385775923728943
         ],
         "y": [
          0.41576266288757324
         ],
         "z": [
          0.13865338265895844
         ]
        },
        {
         "hovertemplate": "color=years<br>0=%{x}<br>1=%{y}<br>2=%{z}<extra></extra>",
         "legendgroup": "years",
         "marker": {
          "color": "#19d3f3",
          "symbol": "circle"
         },
         "mode": "markers",
         "name": "years",
         "scene": "scene",
         "showlegend": true,
         "type": "scatter3d",
         "x": [
          0.27856317162513733
         ],
         "y": [
          0.598309338092804
         ],
         "z": [
          -0.17283831536769867
         ]
        },
        {
         "hovertemplate": "color=ned<br>0=%{x}<br>1=%{y}<br>2=%{z}<extra></extra>",
         "legendgroup": "ned",
         "marker": {
          "color": "#FF6692",
          "symbol": "circle"
         },
         "mode": "markers",
         "name": "ned",
         "scene": "scene",
         "showlegend": true,
         "type": "scatter3d",
         "x": [
          0.2724095582962036
         ],
         "y": [
          0.34489792585372925
         ],
         "z": [
          0.2255350947380066
         ]
        },
        {
         "hovertemplate": "color=between<br>0=%{x}<br>1=%{y}<br>2=%{z}<extra></extra>",
         "legendgroup": "between",
         "marker": {
          "color": "#B6E880",
          "symbol": "circle"
         },
         "mode": "markers",
         "name": "between",
         "scene": "scene",
         "showlegend": true,
         "type": "scatter3d",
         "x": [
          -0.4420332908630371
         ],
         "y": [
          0.38122883439064026
         ],
         "z": [
          0.20433199405670166
         ]
        },
        {
         "hovertemplate": "color=dark<br>0=%{x}<br>1=%{y}<br>2=%{z}<extra></extra>",
         "legendgroup": "dark",
         "marker": {
          "color": "#FF97FF",
          "symbol": "circle"
         },
         "mode": "markers",
         "name": "dark",
         "scene": "scene",
         "showlegend": true,
         "type": "scatter3d",
         "x": [
          -0.5580623745918274
         ],
         "y": [
          0.41208264231681824
         ],
         "z": [
          0.0005970571073703468
         ]
        },
        {
         "hovertemplate": "color=sam<br>0=%{x}<br>1=%{y}<br>2=%{z}<extra></extra>",
         "legendgroup": "sam",
         "marker": {
          "color": "#FECB52",
          "symbol": "circle"
         },
         "mode": "markers",
         "name": "sam",
         "scene": "scene",
         "showlegend": true,
         "type": "scatter3d",
         "x": [
          -0.03976297006011009
         ],
         "y": [
          0.30938056111335754
         ],
         "z": [
          0.3744698762893677
         ]
        },
        {
         "hovertemplate": "color=place<br>0=%{x}<br>1=%{y}<br>2=%{z}<extra></extra>",
         "legendgroup": "place",
         "marker": {
          "color": "#636efa",
          "symbol": "circle"
         },
         "mode": "markers",
         "name": "place",
         "scene": "scene",
         "showlegend": true,
         "type": "scatter3d",
         "x": [
          0.15272507071495056
         ],
         "y": [
          0.8150408267974854
         ],
         "z": [
          -0.03501644358038902
         ]
        },
        {
         "hovertemplate": "color=cold<br>0=%{x}<br>1=%{y}<br>2=%{z}<extra></extra>",
         "legendgroup": "cold",
         "marker": {
          "color": "#EF553B",
          "symbol": "circle"
         },
         "mode": "markers",
         "name": "cold",
         "scene": "scene",
         "showlegend": true,
         "type": "scatter3d",
         "x": [
          -0.3960854411125183
         ],
         "y": [
          0.46614235639572144
         ],
         "z": [
          0.17260053753852844
         ]
        },
        {
         "hovertemplate": "color=small<br>0=%{x}<br>1=%{y}<br>2=%{z}<extra></extra>",
         "legendgroup": "small",
         "marker": {
          "color": "#00cc96",
          "symbol": "circle"
         },
         "mode": "markers",
         "name": "small",
         "scene": "scene",
         "showlegend": true,
         "type": "scatter3d",
         "x": [
          -0.27674028277397156
         ],
         "y": [
          0.37332382798194885
         ],
         "z": [
          -0.20617501437664032
         ]
        },
        {
         "hovertemplate": "color=most<br>0=%{x}<br>1=%{y}<br>2=%{z}<extra></extra>",
         "legendgroup": "most",
         "marker": {
          "color": "#ab63fa",
          "symbol": "circle"
         },
         "mode": "markers",
         "name": "most",
         "scene": "scene",
         "showlegend": true,
         "type": "scatter3d",
         "x": [
          0.42931801080703735
         ],
         "y": [
          0.5971861481666565
         ],
         "z": [
          -0.3448987603187561
         ]
        },
        {
         "hovertemplate": "color=hundred<br>0=%{x}<br>1=%{y}<br>2=%{z}<extra></extra>",
         "legendgroup": "hundred",
         "marker": {
          "color": "#FFA15A",
          "symbol": "circle"
         },
         "mode": "markers",
         "name": "hundred",
         "scene": "scene",
         "showlegend": true,
         "type": "scatter3d",
         "x": [
          -0.02823508530855179
         ],
         "y": [
          0.585124671459198
         ],
         "z": [
          -0.40625840425491333
         ]
        },
        {
         "hovertemplate": "color=winterfell<br>0=%{x}<br>1=%{y}<br>2=%{z}<extra></extra>",
         "legendgroup": "winterfell",
         "marker": {
          "color": "#19d3f3",
          "symbol": "circle"
         },
         "mode": "markers",
         "name": "winterfell",
         "scene": "scene",
         "showlegend": true,
         "type": "scatter3d",
         "x": [
          0.3480853736400604
         ],
         "y": [
          0.7327420711517334
         ],
         "z": [
          -0.06580641865730286
         ]
        },
        {
         "hovertemplate": "color=stood<br>0=%{x}<br>1=%{y}<br>2=%{z}<extra></extra>",
         "legendgroup": "stood",
         "marker": {
          "color": "#FF6692",
          "symbol": "circle"
         },
         "mode": "markers",
         "name": "stood",
         "scene": "scene",
         "showlegend": true,
         "type": "scatter3d",
         "x": [
          -0.31493186950683594
         ],
         "y": [
          0.4117865264415741
         ],
         "z": [
          0.15880997478961945
         ]
        },
        {
         "hovertemplate": "color=end<br>0=%{x}<br>1=%{y}<br>2=%{z}<extra></extra>",
         "legendgroup": "end",
         "marker": {
          "color": "#B6E880",
          "symbol": "circle"
         },
         "mode": "markers",
         "name": "end",
         "scene": "scene",
         "showlegend": true,
         "type": "scatter3d",
         "x": [
          0.037489790469408035
         ],
         "y": [
          0.806033730506897
         ],
         "z": [
          0.010256463661789894
         ]
        },
        {
         "hovertemplate": "color=words<br>0=%{x}<br>1=%{y}<br>2=%{z}<extra></extra>",
         "legendgroup": "words",
         "marker": {
          "color": "#FF97FF",
          "symbol": "circle"
         },
         "mode": "markers",
         "name": "words",
         "scene": "scene",
         "showlegend": true,
         "type": "scatter3d",
         "x": [
          0.20138680934906006
         ],
         "y": [
          0.46759897470474243
         ],
         "z": [
          0.26204943656921387
         ]
        },
        {
         "hovertemplate": "color=sea<br>0=%{x}<br>1=%{y}<br>2=%{z}<extra></extra>",
         "legendgroup": "sea",
         "marker": {
          "color": "#FECB52",
          "symbol": "circle"
         },
         "mode": "markers",
         "name": "sea",
         "scene": "scene",
         "showlegend": true,
         "type": "scatter3d",
         "x": [
          -0.18215733766555786
         ],
         "y": [
          0.7931467890739441
         ],
         "z": [
          -0.33129897713661194
         ]
        },
        {
         "hovertemplate": "color=right<br>0=%{x}<br>1=%{y}<br>2=%{z}<extra></extra>",
         "legendgroup": "right",
         "marker": {
          "color": "#636efa",
          "symbol": "circle"
         },
         "mode": "markers",
         "name": "right",
         "scene": "scene",
         "showlegend": true,
         "type": "scatter3d",
         "x": [
          -0.16760127246379852
         ],
         "y": [
          0.5627236366271973
         ],
         "z": [
          0.379879355430603
         ]
        },
        {
         "hovertemplate": "color=nothing<br>0=%{x}<br>1=%{y}<br>2=%{z}<extra></extra>",
         "legendgroup": "nothing",
         "marker": {
          "color": "#EF553B",
          "symbol": "circle"
         },
         "mode": "markers",
         "name": "nothing",
         "scene": "scene",
         "showlegend": true,
         "type": "scatter3d",
         "x": [
          0.19408687949180603
         ],
         "y": [
          0.5187022089958191
         ],
         "z": [
          0.09467531740665436
         ]
        },
        {
         "hovertemplate": "color=sister<br>0=%{x}<br>1=%{y}<br>2=%{z}<extra></extra>",
         "legendgroup": "sister",
         "marker": {
          "color": "#00cc96",
          "symbol": "circle"
         },
         "mode": "markers",
         "name": "sister",
         "scene": "scene",
         "showlegend": true,
         "type": "scatter3d",
         "x": [
          0.587297797203064
         ],
         "y": [
          0.464785099029541
         ],
         "z": [
          0.20842157304286957
         ]
        },
        {
         "hovertemplate": "color=fingers<br>0=%{x}<br>1=%{y}<br>2=%{z}<extra></extra>",
         "legendgroup": "fingers",
         "marker": {
          "color": "#ab63fa",
          "symbol": "circle"
         },
         "mode": "markers",
         "name": "fingers",
         "scene": "scene",
         "showlegend": true,
         "type": "scatter3d",
         "x": [
          -0.514013409614563
         ],
         "y": [
          0.3394429683685303
         ],
         "z": [
          0.45385995507240295
         ]
        },
        {
         "hovertemplate": "color=walls<br>0=%{x}<br>1=%{y}<br>2=%{z}<extra></extra>",
         "legendgroup": "walls",
         "marker": {
          "color": "#FFA15A",
          "symbol": "circle"
         },
         "mode": "markers",
         "name": "walls",
         "scene": "scene",
         "showlegend": true,
         "type": "scatter3d",
         "x": [
          -0.46408045291900635
         ],
         "y": [
          0.7274858355522156
         ],
         "z": [
          -0.3342970311641693
         ]
        },
        {
         "hovertemplate": "color=same<br>0=%{x}<br>1=%{y}<br>2=%{z}<extra></extra>",
         "legendgroup": "same",
         "marker": {
          "color": "#19d3f3",
          "symbol": "circle"
         },
         "mode": "markers",
         "name": "same",
         "scene": "scene",
         "showlegend": true,
         "type": "scatter3d",
         "x": [
          0.22894014418125153
         ],
         "y": [
          0.5182059407234192
         ],
         "z": [
          0.12210603058338165
         ]
        },
        {
         "hovertemplate": "color=cloak<br>0=%{x}<br>1=%{y}<br>2=%{z}<extra></extra>",
         "legendgroup": "cloak",
         "marker": {
          "color": "#FF6692",
          "symbol": "circle"
         },
         "mode": "markers",
         "name": "cloak",
         "scene": "scene",
         "showlegend": true,
         "type": "scatter3d",
         "x": [
          -0.4583493769168854
         ],
         "y": [
          0.2751559615135193
         ],
         "z": [
          0.2567150592803955
         ]
        },
        {
         "hovertemplate": "color=house<br>0=%{x}<br>1=%{y}<br>2=%{z}<extra></extra>",
         "legendgroup": "house",
         "marker": {
          "color": "#B6E880",
          "symbol": "circle"
         },
         "mode": "markers",
         "name": "house",
         "scene": "scene",
         "showlegend": true,
         "type": "scatter3d",
         "x": [
          0.2762370705604553
         ],
         "y": [
          0.44028913974761963
         ],
         "z": [
          -0.23519375920295715
         ]
        },
        {
         "hovertemplate": "color=young<br>0=%{x}<br>1=%{y}<br>2=%{z}<extra></extra>",
         "legendgroup": "young",
         "marker": {
          "color": "#FF97FF",
          "symbol": "circle"
         },
         "mode": "markers",
         "name": "young",
         "scene": "scene",
         "showlegend": true,
         "type": "scatter3d",
         "x": [
          0.4450773000717163
         ],
         "y": [
          0.25043097138404846
         ],
         "z": [
          0.0018853350775316358
         ]
        },
        {
         "hovertemplate": "color=does<br>0=%{x}<br>1=%{y}<br>2=%{z}<extra></extra>",
         "legendgroup": "does",
         "marker": {
          "color": "#FECB52",
          "symbol": "circle"
         },
         "mode": "markers",
         "name": "does",
         "scene": "scene",
         "showlegend": true,
         "type": "scatter3d",
         "x": [
          0.5891886353492737
         ],
         "y": [
          0.3755281865596771
         ],
         "z": [
          0.28228846192359924
         ]
        },
        {
         "hovertemplate": "color=beside<br>0=%{x}<br>1=%{y}<br>2=%{z}<extra></extra>",
         "legendgroup": "beside",
         "marker": {
          "color": "#636efa",
          "symbol": "circle"
         },
         "mode": "markers",
         "name": "beside",
         "scene": "scene",
         "showlegend": true,
         "type": "scatter3d",
         "x": [
          -0.2852240204811096
         ],
         "y": [
          0.3738609552383423
         ],
         "z": [
          0.3793832063674927
         ]
        },
        {
         "hovertemplate": "color=get<br>0=%{x}<br>1=%{y}<br>2=%{z}<extra></extra>",
         "legendgroup": "get",
         "marker": {
          "color": "#EF553B",
          "symbol": "circle"
         },
         "mode": "markers",
         "name": "get",
         "scene": "scene",
         "showlegend": true,
         "type": "scatter3d",
         "x": [
          0.1791754513978958
         ],
         "y": [
          0.6935011148452759
         ],
         "z": [
          0.449364572763443
         ]
        },
        {
         "hovertemplate": "color=seven<br>0=%{x}<br>1=%{y}<br>2=%{z}<extra></extra>",
         "legendgroup": "seven",
         "marker": {
          "color": "#00cc96",
          "symbol": "circle"
         },
         "mode": "markers",
         "name": "seven",
         "scene": "scene",
         "showlegend": true,
         "type": "scatter3d",
         "x": [
          0.3115052282810211
         ],
         "y": [
          0.6799490451812744
         ],
         "z": [
          -0.5296893119812012
         ]
        },
        {
         "hovertemplate": "color=mouth<br>0=%{x}<br>1=%{y}<br>2=%{z}<extra></extra>",
         "legendgroup": "mouth",
         "marker": {
          "color": "#ab63fa",
          "symbol": "circle"
         },
         "mode": "markers",
         "name": "mouth",
         "scene": "scene",
         "showlegend": true,
         "type": "scatter3d",
         "x": [
          -0.3884316682815552
         ],
         "y": [
          0.3049459755420685
         ],
         "z": [
          0.5206348896026611
         ]
        },
        {
         "hovertemplate": "color=watch<br>0=%{x}<br>1=%{y}<br>2=%{z}<extra></extra>",
         "legendgroup": "watch",
         "marker": {
          "color": "#FFA15A",
          "symbol": "circle"
         },
         "mode": "markers",
         "name": "watch",
         "scene": "scene",
         "showlegend": true,
         "type": "scatter3d",
         "x": [
          0.3007168173789978
         ],
         "y": [
          0.6740254163742065
         ],
         "z": [
          -0.16124941408634186
         ]
        },
        {
         "hovertemplate": "color=door<br>0=%{x}<br>1=%{y}<br>2=%{z}<extra></extra>",
         "legendgroup": "door",
         "marker": {
          "color": "#19d3f3",
          "symbol": "circle"
         },
         "mode": "markers",
         "name": "door",
         "scene": "scene",
         "showlegend": true,
         "type": "scatter3d",
         "x": [
          -0.4749988615512848
         ],
         "y": [
          0.5116351842880249
         ],
         "z": [
          0.34923991560935974
         ]
        },
        {
         "hovertemplate": "color=green<br>0=%{x}<br>1=%{y}<br>2=%{z}<extra></extra>",
         "legendgroup": "green",
         "marker": {
          "color": "#FF6692",
          "symbol": "circle"
         },
         "mode": "markers",
         "name": "green",
         "scene": "scene",
         "showlegend": true,
         "type": "scatter3d",
         "x": [
          -0.46349939703941345
         ],
         "y": [
          0.2425999641418457
         ],
         "z": [
          -0.1978105902671814
         ]
        },
        {
         "hovertemplate": "color=big<br>0=%{x}<br>1=%{y}<br>2=%{z}<extra></extra>",
         "legendgroup": "big",
         "marker": {
          "color": "#B6E880",
          "symbol": "circle"
         },
         "mode": "markers",
         "name": "big",
         "scene": "scene",
         "showlegend": true,
         "type": "scatter3d",
         "x": [
          -0.27694666385650635
         ],
         "y": [
          0.14674611389636993
         ],
         "z": [
          0.13691259920597076
         ]
        },
        {
         "hovertemplate": "color=under<br>0=%{x}<br>1=%{y}<br>2=%{z}<extra></extra>",
         "legendgroup": "under",
         "marker": {
          "color": "#FF97FF",
          "symbol": "circle"
         },
         "mode": "markers",
         "name": "under",
         "scene": "scene",
         "showlegend": true,
         "type": "scatter3d",
         "x": [
          -0.5727835893630981
         ],
         "y": [
          0.3004418611526489
         ],
         "z": [
          0.28376278281211853
         ]
        },
        {
         "hovertemplate": "color=few<br>0=%{x}<br>1=%{y}<br>2=%{z}<extra></extra>",
         "legendgroup": "few",
         "marker": {
          "color": "#FECB52",
          "symbol": "circle"
         },
         "mode": "markers",
         "name": "few",
         "scene": "scene",
         "showlegend": true,
         "type": "scatter3d",
         "x": [
          -0.06874535232782364
         ],
         "y": [
          0.6039942502975464
         ],
         "z": [
          -0.2099086046218872
         ]
        },
        {
         "hovertemplate": "color=sent<br>0=%{x}<br>1=%{y}<br>2=%{z}<extra></extra>",
         "legendgroup": "sent",
         "marker": {
          "color": "#636efa",
          "symbol": "circle"
         },
         "mode": "markers",
         "name": "sent",
         "scene": "scene",
         "showlegend": true,
         "type": "scatter3d",
         "x": [
          0.2306952178478241
         ],
         "y": [
          0.5888322591781616
         ],
         "z": [
          0.4406445324420929
         ]
        },
        {
         "hovertemplate": "color=joffrey<br>0=%{x}<br>1=%{y}<br>2=%{z}<extra></extra>",
         "legendgroup": "joffrey",
         "marker": {
          "color": "#EF553B",
          "symbol": "circle"
         },
         "mode": "markers",
         "name": "joffrey",
         "scene": "scene",
         "showlegend": true,
         "type": "scatter3d",
         "x": [
          0.4835987091064453
         ],
         "y": [
          0.3701430857181549
         ],
         "z": [
          0.21326985955238342
         ]
        },
        {
         "hovertemplate": "color=brothers<br>0=%{x}<br>1=%{y}<br>2=%{z}<extra></extra>",
         "legendgroup": "brothers",
         "marker": {
          "color": "#00cc96",
          "symbol": "circle"
         },
         "mode": "markers",
         "name": "brothers",
         "scene": "scene",
         "showlegend": true,
         "type": "scatter3d",
         "x": [
          0.299139142036438
         ],
         "y": [
          0.6964926719665527
         ],
         "z": [
          -0.18824684619903564
         ]
        },
        {
         "hovertemplate": "color=perhaps<br>0=%{x}<br>1=%{y}<br>2=%{z}<extra></extra>",
         "legendgroup": "perhaps",
         "marker": {
          "color": "#ab63fa",
          "symbol": "circle"
         },
         "mode": "markers",
         "name": "perhaps",
         "scene": "scene",
         "showlegend": true,
         "type": "scatter3d",
         "x": [
          0.658743143081665
         ],
         "y": [
          0.545147716999054
         ],
         "z": [
          0.12726834416389465
         ]
        },
        {
         "hovertemplate": "color=almost<br>0=%{x}<br>1=%{y}<br>2=%{z}<extra></extra>",
         "legendgroup": "almost",
         "marker": {
          "color": "#FFA15A",
          "symbol": "circle"
         },
         "mode": "markers",
         "name": "almost",
         "scene": "scene",
         "showlegend": true,
         "type": "scatter3d",
         "x": [
          -0.25611796975135803
         ],
         "y": [
          0.32278120517730713
         ],
         "z": [
          0.45400935411453247
         ]
        },
        {
         "hovertemplate": "color=such<br>0=%{x}<br>1=%{y}<br>2=%{z}<extra></extra>",
         "legendgroup": "such",
         "marker": {
          "color": "#19d3f3",
          "symbol": "circle"
         },
         "mode": "markers",
         "name": "such",
         "scene": "scene",
         "showlegend": true,
         "type": "scatter3d",
         "x": [
          0.587503969669342
         ],
         "y": [
          0.4408606290817261
         ],
         "z": [
          -0.11246960610151291
         ]
        },
        {
         "hovertemplate": "color=wanted<br>0=%{x}<br>1=%{y}<br>2=%{z}<extra></extra>",
         "legendgroup": "wanted",
         "marker": {
          "color": "#FF6692",
          "symbol": "circle"
         },
         "mode": "markers",
         "name": "wanted",
         "scene": "scene",
         "showlegend": true,
         "type": "scatter3d",
         "x": [
          0.4355817139148712
         ],
         "y": [
          0.47712957859039307
         ],
         "z": [
          0.5908029079437256
         ]
        },
        {
         "hovertemplate": "color=true<br>0=%{x}<br>1=%{y}<br>2=%{z}<extra></extra>",
         "legendgroup": "true",
         "marker": {
          "color": "#B6E880",
          "symbol": "circle"
         },
         "mode": "markers",
         "name": "true",
         "scene": "scene",
         "showlegend": true,
         "type": "scatter3d",
         "x": [
          0.6683626174926758
         ],
         "y": [
          0.4746931493282318
         ],
         "z": [
          -0.049590710550546646
         ]
        },
        {
         "hovertemplate": "color=leave<br>0=%{x}<br>1=%{y}<br>2=%{z}<extra></extra>",
         "legendgroup": "leave",
         "marker": {
          "color": "#FF97FF",
          "symbol": "circle"
         },
         "mode": "markers",
         "name": "leave",
         "scene": "scene",
         "showlegend": true,
         "type": "scatter3d",
         "x": [
          0.4218825399875641
         ],
         "y": [
          0.7056173086166382
         ],
         "z": [
          0.36607179045677185
         ]
        },
        {
         "hovertemplate": "color=while<br>0=%{x}<br>1=%{y}<br>2=%{z}<extra></extra>",
         "legendgroup": "while",
         "marker": {
          "color": "#FECB52",
          "symbol": "circle"
         },
         "mode": "markers",
         "name": "while",
         "scene": "scene",
         "showlegend": true,
         "type": "scatter3d",
         "x": [
          -0.3471238613128662
         ],
         "y": [
          0.48881465196609497
         ],
         "z": [
          0.21876247227191925
         ]
        },
        {
         "hovertemplate": "color=don<br>0=%{x}<br>1=%{y}<br>2=%{z}<extra></extra>",
         "legendgroup": "don",
         "marker": {
          "color": "#636efa",
          "symbol": "circle"
         },
         "mode": "markers",
         "name": "don",
         "scene": "scene",
         "showlegend": true,
         "type": "scatter3d",
         "x": [
          0.4745340645313263
         ],
         "y": [
          0.3362348675727844
         ],
         "z": [
          0.3336927890777588
         ]
        },
        {
         "hovertemplate": "color=kings<br>0=%{x}<br>1=%{y}<br>2=%{z}<extra></extra>",
         "legendgroup": "kings",
         "marker": {
          "color": "#EF553B",
          "symbol": "circle"
         },
         "mode": "markers",
         "name": "kings",
         "scene": "scene",
         "showlegend": true,
         "type": "scatter3d",
         "x": [
          0.28800326585769653
         ],
         "y": [
          0.6807032227516174
         ],
         "z": [
          -0.23907847702503204
         ]
        },
        {
         "hovertemplate": "color=arms<br>0=%{x}<br>1=%{y}<br>2=%{z}<extra></extra>",
         "legendgroup": "arms",
         "marker": {
          "color": "#00cc96",
          "symbol": "circle"
         },
         "mode": "markers",
         "name": "arms",
         "scene": "scene",
         "showlegend": true,
         "type": "scatter3d",
         "x": [
          -0.22868305444717407
         ],
         "y": [
          0.4070848226547241
         ],
         "z": [
          0.18230067193508148
         ]
        },
        {
         "hovertemplate": "color=light<br>0=%{x}<br>1=%{y}<br>2=%{z}<extra></extra>",
         "legendgroup": "light",
         "marker": {
          "color": "#ab63fa",
          "symbol": "circle"
         },
         "mode": "markers",
         "name": "light",
         "scene": "scene",
         "showlegend": true,
         "type": "scatter3d",
         "x": [
          -0.43600645661354065
         ],
         "y": [
          0.6066197156906128
         ],
         "z": [
          0.020155537873506546
         ]
        },
        {
         "hovertemplate": "color=wind<br>0=%{x}<br>1=%{y}<br>2=%{z}<extra></extra>",
         "legendgroup": "wind",
         "marker": {
          "color": "#FFA15A",
          "symbol": "circle"
         },
         "mode": "markers",
         "name": "wind",
         "scene": "scene",
         "showlegend": true,
         "type": "scatter3d",
         "x": [
          -0.604157567024231
         ],
         "y": [
          0.5488461256027222
         ],
         "z": [
          0.07397095113992691
         ]
        },
        {
         "hovertemplate": "color=daughter<br>0=%{x}<br>1=%{y}<br>2=%{z}<extra></extra>",
         "legendgroup": "daughter",
         "marker": {
          "color": "#19d3f3",
          "symbol": "circle"
         },
         "mode": "markers",
         "name": "daughter",
         "scene": "scene",
         "showlegend": true,
         "type": "scatter3d",
         "x": [
          0.5489150285720825
         ],
         "y": [
          0.30770692229270935
         ],
         "z": [
          -0.022643690928816795
         ]
        },
        {
         "hovertemplate": "color=herself<br>0=%{x}<br>1=%{y}<br>2=%{z}<extra></extra>",
         "legendgroup": "herself",
         "marker": {
          "color": "#FF6692",
          "symbol": "circle"
         },
         "mode": "markers",
         "name": "herself",
         "scene": "scene",
         "showlegend": true,
         "type": "scatter3d",
         "x": [
          0.04630562290549278
         ],
         "y": [
          0.34617066383361816
         ],
         "z": [
          0.35719242691993713
         ]
        },
        {
         "hovertemplate": "color=sweet<br>0=%{x}<br>1=%{y}<br>2=%{z}<extra></extra>",
         "legendgroup": "sweet",
         "marker": {
          "color": "#B6E880",
          "symbol": "circle"
         },
         "mode": "markers",
         "name": "sweet",
         "scene": "scene",
         "showlegend": true,
         "type": "scatter3d",
         "x": [
          0.3720319867134094
         ],
         "y": [
          0.22334983944892883
         ],
         "z": [
          0.2682117819786072
         ]
        },
        {
         "hovertemplate": "color=others<br>0=%{x}<br>1=%{y}<br>2=%{z}<extra></extra>",
         "legendgroup": "others",
         "marker": {
          "color": "#FF97FF",
          "symbol": "circle"
         },
         "mode": "markers",
         "name": "others",
         "scene": "scene",
         "showlegend": true,
         "type": "scatter3d",
         "x": [
          0.03286520019173622
         ],
         "y": [
          0.635302722454071
         ],
         "z": [
          -0.19458052515983582
         ]
        },
        {
         "hovertemplate": "color=lost<br>0=%{x}<br>1=%{y}<br>2=%{z}<extra></extra>",
         "legendgroup": "lost",
         "marker": {
          "color": "#FECB52",
          "symbol": "circle"
         },
         "mode": "markers",
         "name": "lost",
         "scene": "scene",
         "showlegend": true,
         "type": "scatter3d",
         "x": [
          0.22520475089550018
         ],
         "y": [
          0.5537059307098389
         ],
         "z": [
          0.25644567608833313
         ]
        },
        {
         "hovertemplate": "color=children<br>0=%{x}<br>1=%{y}<br>2=%{z}<extra></extra>",
         "legendgroup": "children",
         "marker": {
          "color": "#636efa",
          "symbol": "circle"
         },
         "mode": "markers",
         "name": "children",
         "scene": "scene",
         "showlegend": true,
         "type": "scatter3d",
         "x": [
          0.35424500703811646
         ],
         "y": [
          0.6915130019187927
         ],
         "z": [
          -0.3251878321170807
         ]
        },
        {
         "hovertemplate": "color=city<br>0=%{x}<br>1=%{y}<br>2=%{z}<extra></extra>",
         "legendgroup": "city",
         "marker": {
          "color": "#EF553B",
          "symbol": "circle"
         },
         "mode": "markers",
         "name": "city",
         "scene": "scene",
         "showlegend": true,
         "type": "scatter3d",
         "x": [
          0.07340347766876221
         ],
         "y": [
          0.8625964522361755
         ],
         "z": [
          -0.400762140750885
         ]
        },
        {
         "hovertemplate": "color=each<br>0=%{x}<br>1=%{y}<br>2=%{z}<extra></extra>",
         "legendgroup": "each",
         "marker": {
          "color": "#00cc96",
          "symbol": "circle"
         },
         "mode": "markers",
         "name": "each",
         "scene": "scene",
         "showlegend": true,
         "type": "scatter3d",
         "x": [
          -0.2683696448802948
         ],
         "y": [
          0.5665063858032227
         ],
         "z": [
          -0.08982507884502411
         ]
        },
        {
         "hovertemplate": "color=felt<br>0=%{x}<br>1=%{y}<br>2=%{z}<extra></extra>",
         "legendgroup": "felt",
         "marker": {
          "color": "#ab63fa",
          "symbol": "circle"
         },
         "mode": "markers",
         "name": "felt",
         "scene": "scene",
         "showlegend": true,
         "type": "scatter3d",
         "x": [
          -0.17359623312950134
         ],
         "y": [
          0.3158382475376129
         ],
         "z": [
          0.6342233419418335
         ]
        },
        {
         "hovertemplate": "color=re<br>0=%{x}<br>1=%{y}<br>2=%{z}<extra></extra>",
         "legendgroup": "re",
         "marker": {
          "color": "#FFA15A",
          "symbol": "circle"
         },
         "mode": "markers",
         "name": "re",
         "scene": "scene",
         "showlegend": true,
         "type": "scatter3d",
         "x": [
          0.35907071828842163
         ],
         "y": [
          0.4505445063114166
         ],
         "z": [
          0.25473788380622864
         ]
        },
        {
         "hovertemplate": "color=theon<br>0=%{x}<br>1=%{y}<br>2=%{z}<extra></extra>",
         "legendgroup": "theon",
         "marker": {
          "color": "#19d3f3",
          "symbol": "circle"
         },
         "mode": "markers",
         "name": "theon",
         "scene": "scene",
         "showlegend": true,
         "type": "scatter3d",
         "x": [
          0.18549853563308716
         ],
         "y": [
          0.3126367926597595
         ],
         "z": [
          0.21818992495536804
         ]
        },
        {
         "hovertemplate": "color=side<br>0=%{x}<br>1=%{y}<br>2=%{z}<extra></extra>",
         "legendgroup": "side",
         "marker": {
          "color": "#FF6692",
          "symbol": "circle"
         },
         "mode": "markers",
         "name": "side",
         "scene": "scene",
         "showlegend": true,
         "type": "scatter3d",
         "x": [
          -0.3255813717842102
         ],
         "y": [
          0.6875783801078796
         ],
         "z": [
          0.1666082888841629
         ]
        },
        {
         "hovertemplate": "color=yes<br>0=%{x}<br>1=%{y}<br>2=%{z}<extra></extra>",
         "legendgroup": "yes",
         "marker": {
          "color": "#B6E880",
          "symbol": "circle"
         },
         "mode": "markers",
         "name": "yes",
         "scene": "scene",
         "showlegend": true,
         "type": "scatter3d",
         "x": [
          0.7099468111991882
         ],
         "y": [
          0.2349148392677307
         ],
         "z": [
          0.20714525878429413
         ]
        },
        {
         "hovertemplate": "color=best<br>0=%{x}<br>1=%{y}<br>2=%{z}<extra></extra>",
         "legendgroup": "best",
         "marker": {
          "color": "#FF97FF",
          "symbol": "circle"
         },
         "mode": "markers",
         "name": "best",
         "scene": "scene",
         "showlegend": true,
         "type": "scatter3d",
         "x": [
          0.4877229332923889
         ],
         "y": [
          0.6824266910552979
         ],
         "z": [
          0.1067039966583252
         ]
        },
        {
         "hovertemplate": "color=very<br>0=%{x}<br>1=%{y}<br>2=%{z}<extra></extra>",
         "legendgroup": "very",
         "marker": {
          "color": "#FECB52",
          "symbol": "circle"
         },
         "mode": "markers",
         "name": "very",
         "scene": "scene",
         "showlegend": true,
         "type": "scatter3d",
         "x": [
          0.3248658776283264
         ],
         "y": [
          0.3260776698589325
         ],
         "z": [
          0.07207048684358597
         ]
        },
        {
         "hovertemplate": "color=die<br>0=%{x}<br>1=%{y}<br>2=%{z}<extra></extra>",
         "legendgroup": "die",
         "marker": {
          "color": "#636efa",
          "symbol": "circle"
         },
         "mode": "markers",
         "name": "die",
         "scene": "scene",
         "showlegend": true,
         "type": "scatter3d",
         "x": [
          0.4513077735900879
         ],
         "y": [
          0.7143101096153259
         ],
         "z": [
          0.1697646677494049
         ]
        },
        {
         "hovertemplate": "color=brought<br>0=%{x}<br>1=%{y}<br>2=%{z}<extra></extra>",
         "legendgroup": "brought",
         "marker": {
          "color": "#EF553B",
          "symbol": "circle"
         },
         "mode": "markers",
         "name": "brought",
         "scene": "scene",
         "showlegend": true,
         "type": "scatter3d",
         "x": [
          0.13457518815994263
         ],
         "y": [
          0.436515212059021
         ],
         "z": [
          0.41251328587532043
         ]
        },
        {
         "hovertemplate": "color=soon<br>0=%{x}<br>1=%{y}<br>2=%{z}<extra></extra>",
         "legendgroup": "soon",
         "marker": {
          "color": "#00cc96",
          "symbol": "circle"
         },
         "mode": "markers",
         "name": "soon",
         "scene": "scene",
         "showlegend": true,
         "type": "scatter3d",
         "x": [
          0.19473329186439514
         ],
         "y": [
          0.5823829174041748
         ],
         "z": [
          0.1342434585094452
         ]
        },
        {
         "hovertemplate": "color=far<br>0=%{x}<br>1=%{y}<br>2=%{z}<extra></extra>",
         "legendgroup": "far",
         "marker": {
          "color": "#ab63fa",
          "symbol": "circle"
         },
         "mode": "markers",
         "name": "far",
         "scene": "scene",
         "showlegend": true,
         "type": "scatter3d",
         "x": [
          -0.013606815598905087
         ],
         "y": [
          0.6131939888000488
         ],
         "z": [
          0.03182225301861763
         ]
        },
        {
         "hovertemplate": "color=died<br>0=%{x}<br>1=%{y}<br>2=%{z}<extra></extra>",
         "legendgroup": "died",
         "marker": {
          "color": "#FFA15A",
          "symbol": "circle"
         },
         "mode": "markers",
         "name": "died",
         "scene": "scene",
         "showlegend": true,
         "type": "scatter3d",
         "x": [
          0.2846478819847107
         ],
         "y": [
          0.5071430206298828
         ],
         "z": [
          0.1394762396812439
         ]
        },
        {
         "hovertemplate": "color=north<br>0=%{x}<br>1=%{y}<br>2=%{z}<extra></extra>",
         "legendgroup": "north",
         "marker": {
          "color": "#19d3f3",
          "symbol": "circle"
         },
         "mode": "markers",
         "name": "north",
         "scene": "scene",
         "showlegend": true,
         "type": "scatter3d",
         "x": [
          0.07630931586027145
         ],
         "y": [
          0.8041568398475647
         ],
         "z": [
          -0.2075580209493637
         ]
        },
        {
         "hovertemplate": "color=fear<br>0=%{x}<br>1=%{y}<br>2=%{z}<extra></extra>",
         "legendgroup": "fear",
         "marker": {
          "color": "#FF6692",
          "symbol": "circle"
         },
         "mode": "markers",
         "name": "fear",
         "scene": "scene",
         "showlegend": true,
         "type": "scatter3d",
         "x": [
          0.33369380235671997
         ],
         "y": [
          0.5538833141326904
         ],
         "z": [
          0.24705858528614044
         ]
        },
        {
         "hovertemplate": "color=lords<br>0=%{x}<br>1=%{y}<br>2=%{z}<extra></extra>",
         "legendgroup": "lords",
         "marker": {
          "color": "#B6E880",
          "symbol": "circle"
         },
         "mode": "markers",
         "name": "lords",
         "scene": "scene",
         "showlegend": true,
         "type": "scatter3d",
         "x": [
          0.39185383915901184
         ],
         "y": [
          0.6326287984848022
         ],
         "z": [
          -0.3898641765117645
         ]
        },
        {
         "hovertemplate": "color=along<br>0=%{x}<br>1=%{y}<br>2=%{z}<extra></extra>",
         "legendgroup": "along",
         "marker": {
          "color": "#FF97FF",
          "symbol": "circle"
         },
         "mode": "markers",
         "name": "along",
         "scene": "scene",
         "showlegend": true,
         "type": "scatter3d",
         "x": [
          -0.4713115692138672
         ],
         "y": [
          0.5590482354164124
         ],
         "z": [
          -0.15892423689365387
         ]
        },
        {
         "hovertemplate": "color=both<br>0=%{x}<br>1=%{y}<br>2=%{z}<extra></extra>",
         "legendgroup": "both",
         "marker": {
          "color": "#FECB52",
          "symbol": "circle"
         },
         "mode": "markers",
         "name": "both",
         "scene": "scene",
         "showlegend": true,
         "type": "scatter3d",
         "x": [
          -0.005633607506752014
         ],
         "y": [
          0.4777849316596985
         ],
         "z": [
          0.033506590873003006
         ]
        },
        {
         "hovertemplate": "color=word<br>0=%{x}<br>1=%{y}<br>2=%{z}<extra></extra>",
         "legendgroup": "word",
         "marker": {
          "color": "#636efa",
          "symbol": "circle"
         },
         "mode": "markers",
         "name": "word",
         "scene": "scene",
         "showlegend": true,
         "type": "scatter3d",
         "x": [
          0.38799595832824707
         ],
         "y": [
          0.6819432973861694
         ],
         "z": [
          0.18654270470142365
         ]
        },
        {
         "hovertemplate": "color=child<br>0=%{x}<br>1=%{y}<br>2=%{z}<extra></extra>",
         "legendgroup": "child",
         "marker": {
          "color": "#EF553B",
          "symbol": "circle"
         },
         "mode": "markers",
         "name": "child",
         "scene": "scene",
         "showlegend": true,
         "type": "scatter3d",
         "x": [
          0.5080294609069824
         ],
         "y": [
          0.44656768441200256
         ],
         "z": [
          0.12819460034370422
         ]
        },
        {
         "hovertemplate": "color=taken<br>0=%{x}<br>1=%{y}<br>2=%{z}<extra></extra>",
         "legendgroup": "taken",
         "marker": {
          "color": "#00cc96",
          "symbol": "circle"
         },
         "mode": "markers",
         "name": "taken",
         "scene": "scene",
         "showlegend": true,
         "type": "scatter3d",
         "x": [
          0.29519209265708923
         ],
         "y": [
          0.6698794960975647
         ],
         "z": [
          0.20618563890457153
         ]
        },
        {
         "hovertemplate": "color=help<br>0=%{x}<br>1=%{y}<br>2=%{z}<extra></extra>",
         "legendgroup": "help",
         "marker": {
          "color": "#ab63fa",
          "symbol": "circle"
         },
         "mode": "markers",
         "name": "help",
         "scene": "scene",
         "showlegend": true,
         "type": "scatter3d",
         "x": [
          0.4578801989555359
         ],
         "y": [
          0.5208902359008789
         ],
         "z": [
          0.4478044807910919
         ]
        },
        {
         "hovertemplate": "color=battle<br>0=%{x}<br>1=%{y}<br>2=%{z}<extra></extra>",
         "legendgroup": "battle",
         "marker": {
          "color": "#FFA15A",
          "symbol": "circle"
         },
         "mode": "markers",
         "name": "battle",
         "scene": "scene",
         "showlegend": true,
         "type": "scatter3d",
         "x": [
          0.2693617343902588
         ],
         "y": [
          0.7698988318443298
         ],
         "z": [
          -0.2666528522968292
         ]
        },
        {
         "hovertemplate": "color=new<br>0=%{x}<br>1=%{y}<br>2=%{z}<extra></extra>",
         "legendgroup": "new",
         "marker": {
          "color": "#19d3f3",
          "symbol": "circle"
         },
         "mode": "markers",
         "name": "new",
         "scene": "scene",
         "showlegend": true,
         "type": "scatter3d",
         "x": [
          0.36052206158638
         ],
         "y": [
          0.5665090084075928
         ],
         "z": [
          -0.36509642004966736
         ]
        },
        {
         "hovertemplate": "color=brienne<br>0=%{x}<br>1=%{y}<br>2=%{z}<extra></extra>",
         "legendgroup": "brienne",
         "marker": {
          "color": "#FF6692",
          "symbol": "circle"
         },
         "mode": "markers",
         "name": "brienne",
         "scene": "scene",
         "showlegend": true,
         "type": "scatter3d",
         "x": [
          -0.08016365021467209
         ],
         "y": [
          0.2420426458120346
         ],
         "z": [
          0.24575334787368774
         ]
        },
        {
         "hovertemplate": "color=davos<br>0=%{x}<br>1=%{y}<br>2=%{z}<extra></extra>",
         "legendgroup": "davos",
         "marker": {
          "color": "#B6E880",
          "symbol": "circle"
         },
         "mode": "markers",
         "name": "davos",
         "scene": "scene",
         "showlegend": true,
         "type": "scatter3d",
         "x": [
          0.07888130098581314
         ],
         "y": [
          0.2261318862438202
         ],
         "z": [
          0.036124881356954575
         ]
        },
        {
         "hovertemplate": "color=something<br>0=%{x}<br>1=%{y}<br>2=%{z}<extra></extra>",
         "legendgroup": "something",
         "marker": {
          "color": "#FF97FF",
          "symbol": "circle"
         },
         "mode": "markers",
         "name": "something",
         "scene": "scene",
         "showlegend": true,
         "type": "scatter3d",
         "x": [
          0.0541999526321888
         ],
         "y": [
          0.3862976133823395
         ],
         "z": [
          0.33451417088508606
         ]
        },
        {
         "hovertemplate": "color=mean<br>0=%{x}<br>1=%{y}<br>2=%{z}<extra></extra>",
         "legendgroup": "mean",
         "marker": {
          "color": "#FECB52",
          "symbol": "circle"
         },
         "mode": "markers",
         "name": "mean",
         "scene": "scene",
         "showlegend": true,
         "type": "scatter3d",
         "x": [
          0.6173219084739685
         ],
         "y": [
          0.5411786437034607
         ],
         "z": [
          0.22487445175647736
         ]
        },
        {
         "hovertemplate": "color=hall<br>0=%{x}<br>1=%{y}<br>2=%{z}<extra></extra>",
         "legendgroup": "hall",
         "marker": {
          "color": "#636efa",
          "symbol": "circle"
         },
         "mode": "markers",
         "name": "hall",
         "scene": "scene",
         "showlegend": true,
         "type": "scatter3d",
         "x": [
          -0.36455872654914856
         ],
         "y": [
          0.6151185631752014
         ],
         "z": [
          -0.13762006163597107
         ]
        },
        {
         "hovertemplate": "color=rest<br>0=%{x}<br>1=%{y}<br>2=%{z}<extra></extra>",
         "legendgroup": "rest",
         "marker": {
          "color": "#EF553B",
          "symbol": "circle"
         },
         "mode": "markers",
         "name": "rest",
         "scene": "scene",
         "showlegend": true,
         "type": "scatter3d",
         "x": [
          0.11133170127868652
         ],
         "y": [
          0.7944866418838501
         ],
         "z": [
          -0.11575975269079208
         ]
        },
        {
         "hovertemplate": "color=wife<br>0=%{x}<br>1=%{y}<br>2=%{z}<extra></extra>",
         "legendgroup": "wife",
         "marker": {
          "color": "#00cc96",
          "symbol": "circle"
         },
         "mode": "markers",
         "name": "wife",
         "scene": "scene",
         "showlegend": true,
         "type": "scatter3d",
         "x": [
          0.5831344127655029
         ],
         "y": [
          0.40909868478775024
         ],
         "z": [
          0.009654848836362362
         ]
        },
        {
         "hovertemplate": "color=kill<br>0=%{x}<br>1=%{y}<br>2=%{z}<extra></extra>",
         "legendgroup": "kill",
         "marker": {
          "color": "#ab63fa",
          "symbol": "circle"
         },
         "mode": "markers",
         "name": "kill",
         "scene": "scene",
         "showlegend": true,
         "type": "scatter3d",
         "x": [
          0.5588622093200684
         ],
         "y": [
          0.5420284867286682
         ],
         "z": [
          0.45172318816185
         ]
        },
        {
         "hovertemplate": "color=sons<br>0=%{x}<br>1=%{y}<br>2=%{z}<extra></extra>",
         "legendgroup": "sons",
         "marker": {
          "color": "#FFA15A",
          "symbol": "circle"
         },
         "mode": "markers",
         "name": "sons",
         "scene": "scene",
         "showlegend": true,
         "type": "scatter3d",
         "x": [
          0.4552251398563385
         ],
         "y": [
          0.5559428930282593
         ],
         "z": [
          -0.2709071934223175
         ]
        },
        {
         "hovertemplate": "color=steel<br>0=%{x}<br>1=%{y}<br>2=%{z}<extra></extra>",
         "legendgroup": "steel",
         "marker": {
          "color": "#19d3f3",
          "symbol": "circle"
         },
         "mode": "markers",
         "name": "steel",
         "scene": "scene",
         "showlegend": true,
         "type": "scatter3d",
         "x": [
          -0.5920379161834717
         ],
         "y": [
          0.3395859897136688
         ],
         "z": [
          0.00007033505971776322
         ]
        },
        {
         "hovertemplate": "color=strong<br>0=%{x}<br>1=%{y}<br>2=%{z}<extra></extra>",
         "legendgroup": "strong",
         "marker": {
          "color": "#FF6692",
          "symbol": "circle"
         },
         "mode": "markers",
         "name": "strong",
         "scene": "scene",
         "showlegend": true,
         "type": "scatter3d",
         "x": [
          0.187401682138443
         ],
         "y": [
          0.2622899115085602
         ],
         "z": [
          0.02852383814752102
         ]
        },
        {
         "hovertemplate": "color=began<br>0=%{x}<br>1=%{y}<br>2=%{z}<extra></extra>",
         "legendgroup": "began",
         "marker": {
          "color": "#B6E880",
          "symbol": "circle"
         },
         "mode": "markers",
         "name": "began",
         "scene": "scene",
         "showlegend": true,
         "type": "scatter3d",
         "x": [
          -0.2963942587375641
         ],
         "y": [
          0.3851252496242523
         ],
         "z": [
          0.5523596405982971
         ]
        },
        {
         "hovertemplate": "color=days<br>0=%{x}<br>1=%{y}<br>2=%{z}<extra></extra>",
         "legendgroup": "days",
         "marker": {
          "color": "#FF97FF",
          "symbol": "circle"
         },
         "mode": "markers",
         "name": "days",
         "scene": "scene",
         "showlegend": true,
         "type": "scatter3d",
         "x": [
          0.11538198590278625
         ],
         "y": [
          0.7525453567504883
         ],
         "z": [
          -0.21354322135448456
         ]
        },
        {
         "hovertemplate": "color=sound<br>0=%{x}<br>1=%{y}<br>2=%{z}<extra></extra>",
         "legendgroup": "sound",
         "marker": {
          "color": "#FECB52",
          "symbol": "circle"
         },
         "mode": "markers",
         "name": "sound",
         "scene": "scene",
         "showlegend": true,
         "type": "scatter3d",
         "x": [
          -0.42348241806030273
         ],
         "y": [
          0.43351492285728455
         ],
         "z": [
          0.2544557750225067
         ]
        },
        {
         "hovertemplate": "color=past<br>0=%{x}<br>1=%{y}<br>2=%{z}<extra></extra>",
         "legendgroup": "past",
         "marker": {
          "color": "#636efa",
          "symbol": "circle"
         },
         "mode": "markers",
         "name": "past",
         "scene": "scene",
         "showlegend": true,
         "type": "scatter3d",
         "x": [
          -0.3771636486053467
         ],
         "y": [
          0.4912511110305786
         ],
         "z": [
          0.06301729381084442
         ]
        },
        {
         "hovertemplate": "color=tywin<br>0=%{x}<br>1=%{y}<br>2=%{z}<extra></extra>",
         "legendgroup": "tywin",
         "marker": {
          "color": "#EF553B",
          "symbol": "circle"
         },
         "mode": "markers",
         "name": "tywin",
         "scene": "scene",
         "showlegend": true,
         "type": "scatter3d",
         "x": [
          0.38270241022109985
         ],
         "y": [
          0.3429395854473114
         ],
         "z": [
          0.006835424341261387
         ]
        },
        {
         "hovertemplate": "color=dragons<br>0=%{x}<br>1=%{y}<br>2=%{z}<extra></extra>",
         "legendgroup": "dragons",
         "marker": {
          "color": "#00cc96",
          "symbol": "circle"
         },
         "mode": "markers",
         "name": "dragons",
         "scene": "scene",
         "showlegend": true,
         "type": "scatter3d",
         "x": [
          0.14095905423164368
         ],
         "y": [
          0.652703583240509
         ],
         "z": [
          -0.36881253123283386
         ]
        },
        {
         "hovertemplate": "color=tower<br>0=%{x}<br>1=%{y}<br>2=%{z}<extra></extra>",
         "legendgroup": "tower",
         "marker": {
          "color": "#ab63fa",
          "symbol": "circle"
         },
         "mode": "markers",
         "name": "tower",
         "scene": "scene",
         "showlegend": true,
         "type": "scatter3d",
         "x": [
          -0.34667137265205383
         ],
         "y": [
          0.7022726535797119
         ],
         "z": [
          -0.10992554575204849
         ]
        },
        {
         "hovertemplate": "color=killed<br>0=%{x}<br>1=%{y}<br>2=%{z}<extra></extra>",
         "legendgroup": "killed",
         "marker": {
          "color": "#FFA15A",
          "symbol": "circle"
         },
         "mode": "markers",
         "name": "killed",
         "scene": "scene",
         "showlegend": true,
         "type": "scatter3d",
         "x": [
          0.542189359664917
         ],
         "y": [
          0.4756409227848053
         ],
         "z": [
          0.37923553586006165
         ]
        },
        {
         "hovertemplate": "color=life<br>0=%{x}<br>1=%{y}<br>2=%{z}<extra></extra>",
         "legendgroup": "life",
         "marker": {
          "color": "#19d3f3",
          "symbol": "circle"
         },
         "mode": "markers",
         "name": "life",
         "scene": "scene",
         "showlegend": true,
         "type": "scatter3d",
         "x": [
          0.41497984528541565
         ],
         "y": [
          0.7677001953125
         ],
         "z": [
          -0.023342426866292953
         ]
        },
        {
         "hovertemplate": "color=arm<br>0=%{x}<br>1=%{y}<br>2=%{z}<extra></extra>",
         "legendgroup": "arm",
         "marker": {
          "color": "#FF6692",
          "symbol": "circle"
         },
         "mode": "markers",
         "name": "arm",
         "scene": "scene",
         "showlegend": true,
         "type": "scatter3d",
         "x": [
          -0.41245460510253906
         ],
         "y": [
          0.3496977984905243
         ],
         "z": [
          0.5482998490333557
         ]
        },
        {
         "hovertemplate": "color=tried<br>0=%{x}<br>1=%{y}<br>2=%{z}<extra></extra>",
         "legendgroup": "tried",
         "marker": {
          "color": "#B6E880",
          "symbol": "circle"
         },
         "mode": "markers",
         "name": "tried",
         "scene": "scene",
         "showlegend": true,
         "type": "scatter3d",
         "x": [
          0.08304134756326675
         ],
         "y": [
          0.3812718689441681
         ],
         "z": [
          0.6726464629173279
         ]
        },
        {
         "hovertemplate": "color=free<br>0=%{x}<br>1=%{y}<br>2=%{z}<extra></extra>",
         "legendgroup": "free",
         "marker": {
          "color": "#FF97FF",
          "symbol": "circle"
         },
         "mode": "markers",
         "name": "free",
         "scene": "scene",
         "showlegend": true,
         "type": "scatter3d",
         "x": [
          0.14398792386054993
         ],
         "y": [
          0.6805518865585327
         ],
         "z": [
          -0.1911892294883728
         ]
        },
        {
         "hovertemplate": "color=knights<br>0=%{x}<br>1=%{y}<br>2=%{z}<extra></extra>",
         "legendgroup": "knights",
         "marker": {
          "color": "#FECB52",
          "symbol": "circle"
         },
         "mode": "markers",
         "name": "knights",
         "scene": "scene",
         "showlegend": true,
         "type": "scatter3d",
         "x": [
          0.18127290904521942
         ],
         "y": [
          0.5562062859535217
         ],
         "z": [
          -0.4440203607082367
         ]
        },
        {
         "hovertemplate": "color=thing<br>0=%{x}<br>1=%{y}<br>2=%{z}<extra></extra>",
         "legendgroup": "thing",
         "marker": {
          "color": "#636efa",
          "symbol": "circle"
         },
         "mode": "markers",
         "name": "thing",
         "scene": "scene",
         "showlegend": true,
         "type": "scatter3d",
         "x": [
          0.16636648774147034
         ],
         "y": [
          0.5836424231529236
         ],
         "z": [
          0.15588395297527313
         ]
        },
        {
         "hovertemplate": "color=bloody<br>0=%{x}<br>1=%{y}<br>2=%{z}<extra></extra>",
         "legendgroup": "bloody",
         "marker": {
          "color": "#EF553B",
          "symbol": "circle"
         },
         "mode": "markers",
         "name": "bloody",
         "scene": "scene",
         "showlegend": true,
         "type": "scatter3d",
         "x": [
          -0.02723979391157627
         ],
         "y": [
          0.5072345733642578
         ],
         "z": [
          0.22506366670131683
         ]
        },
        {
         "hovertemplate": "color=bear<br>0=%{x}<br>1=%{y}<br>2=%{z}<extra></extra>",
         "legendgroup": "bear",
         "marker": {
          "color": "#00cc96",
          "symbol": "circle"
         },
         "mode": "markers",
         "name": "bear",
         "scene": "scene",
         "showlegend": true,
         "type": "scatter3d",
         "x": [
          0.12183019518852234
         ],
         "y": [
          0.48776108026504517
         ],
         "z": [
          0.06413751095533371
         ]
        },
        {
         "hovertemplate": "color=pale<br>0=%{x}<br>1=%{y}<br>2=%{z}<extra></extra>",
         "legendgroup": "pale",
         "marker": {
          "color": "#ab63fa",
          "symbol": "circle"
         },
         "mode": "markers",
         "name": "pale",
         "scene": "scene",
         "showlegend": true,
         "type": "scatter3d",
         "x": [
          -0.6488444805145264
         ],
         "y": [
          0.17998291552066803
         ],
         "z": [
          0.09648969769477844
         ]
        },
        {
         "hovertemplate": "color=love<br>0=%{x}<br>1=%{y}<br>2=%{z}<extra></extra>",
         "legendgroup": "love",
         "marker": {
          "color": "#FFA15A",
          "symbol": "circle"
         },
         "mode": "markers",
         "name": "love",
         "scene": "scene",
         "showlegend": true,
         "type": "scatter3d",
         "x": [
          0.7331399917602539
         ],
         "y": [
          0.48488545417785645
         ],
         "z": [
          0.18272419273853302
         ]
        },
        {
         "hovertemplate": "color=sat<br>0=%{x}<br>1=%{y}<br>2=%{z}<extra></extra>",
         "legendgroup": "sat",
         "marker": {
          "color": "#19d3f3",
          "symbol": "circle"
         },
         "mode": "markers",
         "name": "sat",
         "scene": "scene",
         "showlegend": true,
         "type": "scatter3d",
         "x": [
          -0.34940093755722046
         ],
         "y": [
          0.31750163435935974
         ],
         "z": [
          0.42781418561935425
         ]
        },
        {
         "hovertemplate": "color=bring<br>0=%{x}<br>1=%{y}<br>2=%{z}<extra></extra>",
         "legendgroup": "bring",
         "marker": {
          "color": "#FF6692",
          "symbol": "circle"
         },
         "mode": "markers",
         "name": "bring",
         "scene": "scene",
         "showlegend": true,
         "type": "scatter3d",
         "x": [
          0.44064635038375854
         ],
         "y": [
          0.5841917395591736
         ],
         "z": [
          0.4319058954715729
         ]
        },
        {
         "hovertemplate": "color=bed<br>0=%{x}<br>1=%{y}<br>2=%{z}<extra></extra>",
         "legendgroup": "bed",
         "marker": {
          "color": "#B6E880",
          "symbol": "circle"
         },
         "mode": "markers",
         "name": "bed",
         "scene": "scene",
         "showlegend": true,
         "type": "scatter3d",
         "x": [
          -0.11262905597686768
         ],
         "y": [
          0.6520936489105225
         ],
         "z": [
          0.34710416197776794
         ]
        },
        {
         "hovertemplate": "color=heart<br>0=%{x}<br>1=%{y}<br>2=%{z}<extra></extra>",
         "legendgroup": "heart",
         "marker": {
          "color": "#FF97FF",
          "symbol": "circle"
         },
         "mode": "markers",
         "name": "heart",
         "scene": "scene",
         "showlegend": true,
         "type": "scatter3d",
         "x": [
          -0.23438653349876404
         ],
         "y": [
          0.6109205484390259
         ],
         "z": [
          0.17307758331298828
         ]
        },
        {
         "hovertemplate": "color=horses<br>0=%{x}<br>1=%{y}<br>2=%{z}<extra></extra>",
         "legendgroup": "horses",
         "marker": {
          "color": "#FECB52",
          "symbol": "circle"
         },
         "mode": "markers",
         "name": "horses",
         "scene": "scene",
         "showlegend": true,
         "type": "scatter3d",
         "x": [
          -0.32573941349983215
         ],
         "y": [
          0.6334426999092102
         ],
         "z": [
          -0.13241292536258698
         ]
        },
        {
         "hovertemplate": "color=moment<br>0=%{x}<br>1=%{y}<br>2=%{z}<extra></extra>",
         "legendgroup": "moment",
         "marker": {
          "color": "#636efa",
          "symbol": "circle"
         },
         "mode": "markers",
         "name": "moment",
         "scene": "scene",
         "showlegend": true,
         "type": "scatter3d",
         "x": [
          -0.020832806825637817
         ],
         "y": [
          0.4363236725330353
         ],
         "z": [
          0.4540069103240967
         ]
        },
        {
         "hovertemplate": "color=close<br>0=%{x}<br>1=%{y}<br>2=%{z}<extra></extra>",
         "legendgroup": "close",
         "marker": {
          "color": "#EF553B",
          "symbol": "circle"
         },
         "mode": "markers",
         "name": "close",
         "scene": "scene",
         "showlegend": true,
         "type": "scatter3d",
         "x": [
          -0.26599010825157166
         ],
         "y": [
          0.37124526500701904
         ],
         "z": [
          0.32414597272872925
         ]
        },
        {
         "hovertemplate": "color=cut<br>0=%{x}<br>1=%{y}<br>2=%{z}<extra></extra>",
         "legendgroup": "cut",
         "marker": {
          "color": "#00cc96",
          "symbol": "circle"
         },
         "mode": "markers",
         "name": "cut",
         "scene": "scene",
         "showlegend": true,
         "type": "scatter3d",
         "x": [
          -0.16949160397052765
         ],
         "y": [
          0.4538692235946655
         ],
         "z": [
          0.5700670480728149
         ]
        },
        {
         "hovertemplate": "color=smile<br>0=%{x}<br>1=%{y}<br>2=%{z}<extra></extra>",
         "legendgroup": "smile",
         "marker": {
          "color": "#ab63fa",
          "symbol": "circle"
         },
         "mode": "markers",
         "name": "smile",
         "scene": "scene",
         "showlegend": true,
         "type": "scatter3d",
         "x": [
          0.03102208487689495
         ],
         "y": [
          0.07346654683351517
         ],
         "z": [
          0.5393324494361877
         ]
        },
        {
         "hovertemplate": "color=inside<br>0=%{x}<br>1=%{y}<br>2=%{z}<extra></extra>",
         "legendgroup": "inside",
         "marker": {
          "color": "#FFA15A",
          "symbol": "circle"
         },
         "mode": "markers",
         "name": "inside",
         "scene": "scene",
         "showlegend": true,
         "type": "scatter3d",
         "x": [
          -0.5763165950775146
         ],
         "y": [
          0.4056890606880188
         ],
         "z": [
          0.3119705617427826
         ]
        },
        {
         "hovertemplate": "color=dragon<br>0=%{x}<br>1=%{y}<br>2=%{z}<extra></extra>",
         "legendgroup": "dragon",
         "marker": {
          "color": "#19d3f3",
          "symbol": "circle"
         },
         "mode": "markers",
         "name": "dragon",
         "scene": "scene",
         "showlegend": true,
         "type": "scatter3d",
         "x": [
          -0.028482526540756226
         ],
         "y": [
          0.6457949280738831
         ],
         "z": [
          -0.21567277610301971
         ]
        },
        {
         "hovertemplate": "color=hot<br>0=%{x}<br>1=%{y}<br>2=%{z}<extra></extra>",
         "legendgroup": "hot",
         "marker": {
          "color": "#FF6692",
          "symbol": "circle"
         },
         "mode": "markers",
         "name": "hot",
         "scene": "scene",
         "showlegend": true,
         "type": "scatter3d",
         "x": [
          -0.3854334056377411
         ],
         "y": [
          0.30133256316185
         ],
         "z": [
          0.30124223232269287
         ]
        },
        {
         "hovertemplate": "color=brown<br>0=%{x}<br>1=%{y}<br>2=%{z}<extra></extra>",
         "legendgroup": "brown",
         "marker": {
          "color": "#B6E880",
          "symbol": "circle"
         },
         "mode": "markers",
         "name": "brown",
         "scene": "scene",
         "showlegend": true,
         "type": "scatter3d",
         "x": [
          -0.5221005082130432
         ],
         "y": [
          0.0349641889333725
         ],
         "z": [
          0.01221529021859169
         ]
        },
        {
         "hovertemplate": "color=four<br>0=%{x}<br>1=%{y}<br>2=%{z}<extra></extra>",
         "legendgroup": "four",
         "marker": {
          "color": "#FF97FF",
          "symbol": "circle"
         },
         "mode": "markers",
         "name": "four",
         "scene": "scene",
         "showlegend": true,
         "type": "scatter3d",
         "x": [
          -0.08553407341241837
         ],
         "y": [
          0.5157693028450012
         ],
         "z": [
          -0.3632875680923462
         ]
        },
        {
         "hovertemplate": "color=death<br>0=%{x}<br>1=%{y}<br>2=%{z}<extra></extra>",
         "legendgroup": "death",
         "marker": {
          "color": "#FECB52",
          "symbol": "circle"
         },
         "mode": "markers",
         "name": "death",
         "scene": "scene",
         "showlegend": true,
         "type": "scatter3d",
         "x": [
          0.33185842633247375
         ],
         "y": [
          0.7157129645347595
         ],
         "z": [
          -0.1481611728668213
         ]
        },
        {
         "hovertemplate": "color=silver<br>0=%{x}<br>1=%{y}<br>2=%{z}<extra></extra>",
         "legendgroup": "silver",
         "marker": {
          "color": "#636efa",
          "symbol": "circle"
         },
         "mode": "markers",
         "name": "silver",
         "scene": "scene",
         "showlegend": true,
         "type": "scatter3d",
         "x": [
          -0.43070071935653687
         ],
         "y": [
          0.22022439539432526
         ],
         "z": [
          -0.11322508752346039
         ]
        },
        {
         "hovertemplate": "color=open<br>0=%{x}<br>1=%{y}<br>2=%{z}<extra></extra>",
         "legendgroup": "open",
         "marker": {
          "color": "#EF553B",
          "symbol": "circle"
         },
         "mode": "markers",
         "name": "open",
         "scene": "scene",
         "showlegend": true,
         "type": "scatter3d",
         "x": [
          -0.41217151284217834
         ],
         "y": [
          0.4299260973930359
         ],
         "z": [
          0.36813655495643616
         ]
        },
        {
         "hovertemplate": "color=part<br>0=%{x}<br>1=%{y}<br>2=%{z}<extra></extra>",
         "legendgroup": "part",
         "marker": {
          "color": "#00cc96",
          "symbol": "circle"
         },
         "mode": "markers",
         "name": "part",
         "scene": "scene",
         "showlegend": true,
         "type": "scatter3d",
         "x": [
          0.39730724692344666
         ],
         "y": [
          0.7230342626571655
         ],
         "z": [
          -0.07827210426330566
         ]
        },
        {
         "hovertemplate": "color=thousand<br>0=%{x}<br>1=%{y}<br>2=%{z}<extra></extra>",
         "legendgroup": "thousand",
         "marker": {
          "color": "#ab63fa",
          "symbol": "circle"
         },
         "mode": "markers",
         "name": "thousand",
         "scene": "scene",
         "showlegend": true,
         "type": "scatter3d",
         "x": [
          0.05427734926342964
         ],
         "y": [
          0.6111479997634888
         ],
         "z": [
          -0.43364909291267395
         ]
        },
        {
         "hovertemplate": "color=nor<br>0=%{x}<br>1=%{y}<br>2=%{z}<extra></extra>",
         "legendgroup": "nor",
         "marker": {
          "color": "#FFA15A",
          "symbol": "circle"
         },
         "mode": "markers",
         "name": "nor",
         "scene": "scene",
         "showlegend": true,
         "type": "scatter3d",
         "x": [
          0.42921558022499084
         ],
         "y": [
          0.48735347390174866
         ],
         "z": [
          -0.0071446243673563
         ]
        },
        {
         "hovertemplate": "color=landing<br>0=%{x}<br>1=%{y}<br>2=%{z}<extra></extra>",
         "legendgroup": "landing",
         "marker": {
          "color": "#19d3f3",
          "symbol": "circle"
         },
         "mode": "markers",
         "name": "landing",
         "scene": "scene",
         "showlegend": true,
         "type": "scatter3d",
         "x": [
          0.19585642218589783
         ],
         "y": [
          0.6681467890739441
         ],
         "z": [
          -0.00886921864002943
         ]
        },
        {
         "hovertemplate": "color=above<br>0=%{x}<br>1=%{y}<br>2=%{z}<extra></extra>",
         "legendgroup": "above",
         "marker": {
          "color": "#FF6692",
          "symbol": "circle"
         },
         "mode": "markers",
         "name": "above",
         "scene": "scene",
         "showlegend": true,
         "type": "scatter3d",
         "x": [
          -0.5430298447608948
         ],
         "y": [
          0.42957428097724915
         ],
         "z": [
          0.02600097842514515
         ]
        },
        {
         "hovertemplate": "color=going<br>0=%{x}<br>1=%{y}<br>2=%{z}<extra></extra>",
         "legendgroup": "going",
         "marker": {
          "color": "#B6E880",
          "symbol": "circle"
         },
         "mode": "markers",
         "name": "going",
         "scene": "scene",
         "showlegend": true,
         "type": "scatter3d",
         "x": [
          0.16709746420383453
         ],
         "y": [
          0.5847789645195007
         ],
         "z": [
          0.2708249092102051
         ]
        },
        {
         "hovertemplate": "color=blue<br>0=%{x}<br>1=%{y}<br>2=%{z}<extra></extra>",
         "legendgroup": "blue",
         "marker": {
          "color": "#FF97FF",
          "symbol": "circle"
         },
         "mode": "markers",
         "name": "blue",
         "scene": "scene",
         "showlegend": true,
         "type": "scatter3d",
         "x": [
          -0.5133029222488403
         ],
         "y": [
          0.2111646682024002
         ],
         "z": [
          -0.09998906403779984
         ]
        },
        {
         "hovertemplate": "color=air<br>0=%{x}<br>1=%{y}<br>2=%{z}<extra></extra>",
         "legendgroup": "air",
         "marker": {
          "color": "#FECB52",
          "symbol": "circle"
         },
         "mode": "markers",
         "name": "air",
         "scene": "scene",
         "showlegend": true,
         "type": "scatter3d",
         "x": [
          -0.6870143413543701
         ],
         "y": [
          0.42323753237724304
         ],
         "z": [
          0.1394689679145813
         ]
        },
        {
         "hovertemplate": "color=please<br>0=%{x}<br>1=%{y}<br>2=%{z}<extra></extra>",
         "legendgroup": "please",
         "marker": {
          "color": "#636efa",
          "symbol": "circle"
         },
         "mode": "markers",
         "name": "please",
         "scene": "scene",
         "showlegend": true,
         "type": "scatter3d",
         "x": [
          0.6365752816200256
         ],
         "y": [
          0.3046127259731293
         ],
         "z": [
          0.4925515353679657
         ]
        },
        {
         "hovertemplate": "color=bastard<br>0=%{x}<br>1=%{y}<br>2=%{z}<extra></extra>",
         "legendgroup": "bastard",
         "marker": {
          "color": "#EF553B",
          "symbol": "circle"
         },
         "mode": "markers",
         "name": "bastard",
         "scene": "scene",
         "showlegend": true,
         "type": "scatter3d",
         "x": [
          0.6320715546607971
         ],
         "y": [
          0.41034403443336487
         ],
         "z": [
          -0.016176266595721245
         ]
        },
        {
         "hovertemplate": "color=laughed<br>0=%{x}<br>1=%{y}<br>2=%{z}<extra></extra>",
         "legendgroup": "laughed",
         "marker": {
          "color": "#00cc96",
          "symbol": "circle"
         },
         "mode": "markers",
         "name": "laughed",
         "scene": "scene",
         "showlegend": true,
         "type": "scatter3d",
         "x": [
          0.1983553171157837
         ],
         "y": [
          0.0915219783782959
         ],
         "z": [
          0.6564993858337402
         ]
        },
        {
         "hovertemplate": "color=uncle<br>0=%{x}<br>1=%{y}<br>2=%{z}<extra></extra>",
         "legendgroup": "uncle",
         "marker": {
          "color": "#ab63fa",
          "symbol": "circle"
         },
         "mode": "markers",
         "name": "uncle",
         "scene": "scene",
         "showlegend": true,
         "type": "scatter3d",
         "x": [
          0.5975804328918457
         ],
         "y": [
          0.4365633428096771
         ],
         "z": [
          0.139252170920372
         ]
        },
        {
         "hovertemplate": "color=rose<br>0=%{x}<br>1=%{y}<br>2=%{z}<extra></extra>",
         "legendgroup": "rose",
         "marker": {
          "color": "#FFA15A",
          "symbol": "circle"
         },
         "mode": "markers",
         "name": "rose",
         "scene": "scene",
         "showlegend": true,
         "type": "scatter3d",
         "x": [
          -0.5779227018356323
         ],
         "y": [
          0.29929280281066895
         ],
         "z": [
          0.269382506608963
         ]
        },
        {
         "hovertemplate": "color=river<br>0=%{x}<br>1=%{y}<br>2=%{z}<extra></extra>",
         "legendgroup": "river",
         "marker": {
          "color": "#19d3f3",
          "symbol": "circle"
         },
         "mode": "markers",
         "name": "river",
         "scene": "scene",
         "showlegend": true,
         "type": "scatter3d",
         "x": [
          -0.4182109534740448
         ],
         "y": [
          0.7532596588134766
         ],
         "z": [
          -0.2608872950077057
         ]
        },
        {
         "hovertemplate": "color=war<br>0=%{x}<br>1=%{y}<br>2=%{z}<extra></extra>",
         "legendgroup": "war",
         "marker": {
          "color": "#FF6692",
          "symbol": "circle"
         },
         "mode": "markers",
         "name": "war",
         "scene": "scene",
         "showlegend": true,
         "type": "scatter3d",
         "x": [
          0.4159887731075287
         ],
         "y": [
          0.7748326063156128
         ],
         "z": [
          -0.37100741267204285
         ]
        },
        {
         "hovertemplate": "color=fell<br>0=%{x}<br>1=%{y}<br>2=%{z}<extra></extra>",
         "legendgroup": "fell",
         "marker": {
          "color": "#B6E880",
          "symbol": "circle"
         },
         "mode": "markers",
         "name": "fell",
         "scene": "scene",
         "showlegend": true,
         "type": "scatter3d",
         "x": [
          -0.4774693250656128
         ],
         "y": [
          0.3251323401927948
         ],
         "z": [
          0.4926050901412964
         ]
        },
        {
         "hovertemplate": "color=wolf<br>0=%{x}<br>1=%{y}<br>2=%{z}<extra></extra>",
         "legendgroup": "wolf",
         "marker": {
          "color": "#FF97FF",
          "symbol": "circle"
         },
         "mode": "markers",
         "name": "wolf",
         "scene": "scene",
         "showlegend": true,
         "type": "scatter3d",
         "x": [
          -0.08426947891712189
         ],
         "y": [
          0.5239587426185608
         ],
         "z": [
          0.10751699656248093
         ]
        },
        {
         "hovertemplate": "color=sun<br>0=%{x}<br>1=%{y}<br>2=%{z}<extra></extra>",
         "legendgroup": "sun",
         "marker": {
          "color": "#FECB52",
          "symbol": "circle"
         },
         "mode": "markers",
         "name": "sun",
         "scene": "scene",
         "showlegend": true,
         "type": "scatter3d",
         "x": [
          -0.5133652091026306
         ],
         "y": [
          0.6428657174110413
         ],
         "z": [
          -0.05416972190141678
         ]
        },
        {
         "hovertemplate": "color=swords<br>0=%{x}<br>1=%{y}<br>2=%{z}<extra></extra>",
         "legendgroup": "swords",
         "marker": {
          "color": "#636efa",
          "symbol": "circle"
         },
         "mode": "markers",
         "name": "swords",
         "scene": "scene",
         "showlegend": true,
         "type": "scatter3d",
         "x": [
          0.02964421734213829
         ],
         "y": [
          0.6557660102844238
         ],
         "z": [
          -0.31287825107574463
         ]
        },
        {
         "hovertemplate": "color=golden<br>0=%{x}<br>1=%{y}<br>2=%{z}<extra></extra>",
         "legendgroup": "golden",
         "marker": {
          "color": "#EF553B",
          "symbol": "circle"
         },
         "mode": "markers",
         "name": "golden",
         "scene": "scene",
         "showlegend": true,
         "type": "scatter3d",
         "x": [
          -0.37741950154304504
         ],
         "y": [
          0.2748906910419464
         ],
         "z": [
          -0.17494037747383118
         ]
        },
        {
         "hovertemplate": "color=sleep<br>0=%{x}<br>1=%{y}<br>2=%{z}<extra></extra>",
         "legendgroup": "sleep",
         "marker": {
          "color": "#00cc96",
          "symbol": "circle"
         },
         "mode": "markers",
         "name": "sleep",
         "scene": "scene",
         "showlegend": true,
         "type": "scatter3d",
         "x": [
          0.0016280142590403557
         ],
         "y": [
          0.6022048592567444
         ],
         "z": [
          0.5095870494842529
         ]
        },
        {
         "hovertemplate": "color=without<br>0=%{x}<br>1=%{y}<br>2=%{z}<extra></extra>",
         "legendgroup": "without",
         "marker": {
          "color": "#ab63fa",
          "symbol": "circle"
         },
         "mode": "markers",
         "name": "without",
         "scene": "scene",
         "showlegend": true,
         "type": "scatter3d",
         "x": [
          0.5050285458564758
         ],
         "y": [
          0.5035326480865479
         ],
         "z": [
          0.14964190125465393
         ]
        },
        {
         "hovertemplate": "color=speak<br>0=%{x}<br>1=%{y}<br>2=%{z}<extra></extra>",
         "legendgroup": "speak",
         "marker": {
          "color": "#FFA15A",
          "symbol": "circle"
         },
         "mode": "markers",
         "name": "speak",
         "scene": "scene",
         "showlegend": true,
         "type": "scatter3d",
         "x": [
          0.5609568357467651
         ],
         "y": [
          0.6013778448104858
         ],
         "z": [
          0.2833777964115143
         ]
        },
        {
         "hovertemplate": "color=full<br>0=%{x}<br>1=%{y}<br>2=%{z}<extra></extra>",
         "legendgroup": "full",
         "marker": {
          "color": "#19d3f3",
          "symbol": "circle"
         },
         "mode": "markers",
         "name": "full",
         "scene": "scene",
         "showlegend": true,
         "type": "scatter3d",
         "x": [
          -0.26746928691864014
         ],
         "y": [
          0.3706081509590149
         ],
         "z": [
          -0.12245827168226242
         ]
        },
        {
         "hovertemplate": "color=certain<br>0=%{x}<br>1=%{y}<br>2=%{z}<extra></extra>",
         "legendgroup": "certain",
         "marker": {
          "color": "#FF6692",
          "symbol": "circle"
         },
         "mode": "markers",
         "name": "certain",
         "scene": "scene",
         "showlegend": true,
         "type": "scatter3d",
         "x": [
          0.44171735644340515
         ],
         "y": [
          0.49409791827201843
         ],
         "z": [
          0.0627107247710228
         ]
        },
        {
         "hovertemplate": "color=beyond<br>0=%{x}<br>1=%{y}<br>2=%{z}<extra></extra>",
         "legendgroup": "beyond",
         "marker": {
          "color": "#B6E880",
          "symbol": "circle"
         },
         "mode": "markers",
         "name": "beyond",
         "scene": "scene",
         "showlegend": true,
         "type": "scatter3d",
         "x": [
          -0.0006868319469504058
         ],
         "y": [
          0.6476867198944092
         ],
         "z": [
          -0.22182491421699524
         ]
        },
        {
         "hovertemplate": "color=feel<br>0=%{x}<br>1=%{y}<br>2=%{z}<extra></extra>",
         "legendgroup": "feel",
         "marker": {
          "color": "#FF97FF",
          "symbol": "circle"
         },
         "mode": "markers",
         "name": "feel",
         "scene": "scene",
         "showlegend": true,
         "type": "scatter3d",
         "x": [
          -0.12890300154685974
         ],
         "y": [
          0.41634634137153625
         ],
         "z": [
          0.5112931728363037
         ]
        },
        {
         "hovertemplate": "color=send<br>0=%{x}<br>1=%{y}<br>2=%{z}<extra></extra>",
         "legendgroup": "send",
         "marker": {
          "color": "#FECB52",
          "symbol": "circle"
         },
         "mode": "markers",
         "name": "send",
         "scene": "scene",
         "showlegend": true,
         "type": "scatter3d",
         "x": [
          0.44270122051239014
         ],
         "y": [
          0.607365071773529
         ],
         "z": [
          0.4109322428703308
         ]
        },
        {
         "hovertemplate": "color=fight<br>0=%{x}<br>1=%{y}<br>2=%{z}<extra></extra>",
         "legendgroup": "fight",
         "marker": {
          "color": "#636efa",
          "symbol": "circle"
         },
         "mode": "markers",
         "name": "fight",
         "scene": "scene",
         "showlegend": true,
         "type": "scatter3d",
         "x": [
          0.4221835136413574
         ],
         "y": [
          0.7392462491989136
         ],
         "z": [
          0.0731150284409523
         ]
        },
        {
         "hovertemplate": "color=got<br>0=%{x}<br>1=%{y}<br>2=%{z}<extra></extra>",
         "legendgroup": "got",
         "marker": {
          "color": "#EF553B",
          "symbol": "circle"
         },
         "mode": "markers",
         "name": "got",
         "scene": "scene",
         "showlegend": true,
         "type": "scatter3d",
         "x": [
          0.09254610538482666
         ],
         "y": [
          0.37923815846443176
         ],
         "z": [
          0.6245824694633484
         ]
        },
        {
         "hovertemplate": "color=tongue<br>0=%{x}<br>1=%{y}<br>2=%{z}<extra></extra>",
         "legendgroup": "tongue",
         "marker": {
          "color": "#00cc96",
          "symbol": "circle"
         },
         "mode": "markers",
         "name": "tongue",
         "scene": "scene",
         "showlegend": true,
         "type": "scatter3d",
         "x": [
          0.07936660200357437
         ],
         "y": [
          0.4916103482246399
         ],
         "z": [
          0.26049214601516724
         ]
        },
        {
         "hovertemplate": "color=set<br>0=%{x}<br>1=%{y}<br>2=%{z}<extra></extra>",
         "legendgroup": "set",
         "marker": {
          "color": "#ab63fa",
          "symbol": "circle"
         },
         "mode": "markers",
         "name": "set",
         "scene": "scene",
         "showlegend": true,
         "type": "scatter3d",
         "x": [
          -0.26958224177360535
         ],
         "y": [
          0.5507349967956543
         ],
         "z": [
          0.27752119302749634
         ]
        },
        {
         "hovertemplate": "color=rode<br>0=%{x}<br>1=%{y}<br>2=%{z}<extra></extra>",
         "legendgroup": "rode",
         "marker": {
          "color": "#FFA15A",
          "symbol": "circle"
         },
         "mode": "markers",
         "name": "rode",
         "scene": "scene",
         "showlegend": true,
         "type": "scatter3d",
         "x": [
          -0.2397613227367401
         ],
         "y": [
          0.44980305433273315
         ],
         "z": [
          0.3072860836982727
         ]
        },
        {
         "hovertemplate": "color=thick<br>0=%{x}<br>1=%{y}<br>2=%{z}<extra></extra>",
         "legendgroup": "thick",
         "marker": {
          "color": "#19d3f3",
          "symbol": "circle"
         },
         "mode": "markers",
         "name": "thick",
         "scene": "scene",
         "showlegend": true,
         "type": "scatter3d",
         "x": [
          -0.6623812913894653
         ],
         "y": [
          0.13231678307056427
         ],
         "z": [
          0.05290542542934418
         ]
        },
        {
         "hovertemplate": "color=captain<br>0=%{x}<br>1=%{y}<br>2=%{z}<extra></extra>",
         "legendgroup": "captain",
         "marker": {
          "color": "#FF6692",
          "symbol": "circle"
         },
         "mode": "markers",
         "name": "captain",
         "scene": "scene",
         "showlegend": true,
         "type": "scatter3d",
         "x": [
          0.3547917604446411
         ],
         "y": [
          0.357879102230072
         ],
         "z": [
          -0.11108865588903427
         ]
        },
        {
         "hovertemplate": "color=throat<br>0=%{x}<br>1=%{y}<br>2=%{z}<extra></extra>",
         "legendgroup": "throat",
         "marker": {
          "color": "#B6E880",
          "symbol": "circle"
         },
         "mode": "markers",
         "name": "throat",
         "scene": "scene",
         "showlegend": true,
         "type": "scatter3d",
         "x": [
          -0.38513708114624023
         ],
         "y": [
          0.33261406421661377
         ],
         "z": [
          0.5981152653694153
         ]
        },
        {
         "hovertemplate": "color=fool<br>0=%{x}<br>1=%{y}<br>2=%{z}<extra></extra>",
         "legendgroup": "fool",
         "marker": {
          "color": "#FF97FF",
          "symbol": "circle"
         },
         "mode": "markers",
         "name": "fool",
         "scene": "scene",
         "showlegend": true,
         "type": "scatter3d",
         "x": [
          0.5060070157051086
         ],
         "y": [
          0.29100900888442993
         ],
         "z": [
          0.12977032363414764
         ]
        },
        {
         "hovertemplate": "color=renly<br>0=%{x}<br>1=%{y}<br>2=%{z}<extra></extra>",
         "legendgroup": "renly",
         "marker": {
          "color": "#FECB52",
          "symbol": "circle"
         },
         "mode": "markers",
         "name": "renly",
         "scene": "scene",
         "showlegend": true,
         "type": "scatter3d",
         "x": [
          0.4452393651008606
         ],
         "y": [
          0.4100371301174164
         ],
         "z": [
          -0.05735669657588005
         ]
        },
        {
         "hovertemplate": "color=legs<br>0=%{x}<br>1=%{y}<br>2=%{z}<extra></extra>",
         "legendgroup": "legs",
         "marker": {
          "color": "#636efa",
          "symbol": "circle"
         },
         "mode": "markers",
         "name": "legs",
         "scene": "scene",
         "showlegend": true,
         "type": "scatter3d",
         "x": [
          -0.5366799235343933
         ],
         "y": [
          0.39184918999671936
         ],
         "z": [
          0.3538780212402344
         ]
        },
        {
         "hovertemplate": "color=deep<br>0=%{x}<br>1=%{y}<br>2=%{z}<extra></extra>",
         "legendgroup": "deep",
         "marker": {
          "color": "#EF553B",
          "symbol": "circle"
         },
         "mode": "markers",
         "name": "deep",
         "scene": "scene",
         "showlegend": true,
         "type": "scatter3d",
         "x": [
          -0.7193791270256042
         ],
         "y": [
          0.28323817253112793
         ],
         "z": [
          0.02118087001144886
         ]
        },
        {
         "hovertemplate": "color=world<br>0=%{x}<br>1=%{y}<br>2=%{z}<extra></extra>",
         "legendgroup": "world",
         "marker": {
          "color": "#00cc96",
          "symbol": "circle"
         },
         "mode": "markers",
         "name": "world",
         "scene": "scene",
         "showlegend": true,
         "type": "scatter3d",
         "x": [
          -0.05859418585896492
         ],
         "y": [
          0.8214882612228394
         ],
         "z": [
          -0.22495602071285248
         ]
        },
        {
         "hovertemplate": "color=call<br>0=%{x}<br>1=%{y}<br>2=%{z}<extra></extra>",
         "legendgroup": "call",
         "marker": {
          "color": "#ab63fa",
          "symbol": "circle"
         },
         "mode": "markers",
         "name": "call",
         "scene": "scene",
         "showlegend": true,
         "type": "scatter3d",
         "x": [
          0.5058663487434387
         ],
         "y": [
          0.47398969531059265
         ],
         "z": [
          0.4213288128376007
         ]
        },
        {
         "hovertemplate": "color=trees<br>0=%{x}<br>1=%{y}<br>2=%{z}<extra></extra>",
         "legendgroup": "trees",
         "marker": {
          "color": "#FFA15A",
          "symbol": "circle"
         },
         "mode": "markers",
         "name": "trees",
         "scene": "scene",
         "showlegend": true,
         "type": "scatter3d",
         "x": [
          -0.6244725584983826
         ],
         "y": [
          0.5682947635650635
         ],
         "z": [
          -0.23167093098163605
         ]
        },
        {
         "hovertemplate": "color=won<br>0=%{x}<br>1=%{y}<br>2=%{z}<extra></extra>",
         "legendgroup": "won",
         "marker": {
          "color": "#19d3f3",
          "symbol": "circle"
         },
         "mode": "markers",
         "name": "won",
         "scene": "scene",
         "showlegend": true,
         "type": "scatter3d",
         "x": [
          0.603522002696991
         ],
         "y": [
          0.5424605011940002
         ],
         "z": [
          0.1992603838443756
         ]
        },
        {
         "hovertemplate": "color=rock<br>0=%{x}<br>1=%{y}<br>2=%{z}<extra></extra>",
         "legendgroup": "rock",
         "marker": {
          "color": "#FF6692",
          "symbol": "circle"
         },
         "mode": "markers",
         "name": "rock",
         "scene": "scene",
         "showlegend": true,
         "type": "scatter3d",
         "x": [
          -0.14777451753616333
         ],
         "y": [
          0.6069322824478149
         ],
         "z": [
          -0.1530093103647232
         ]
        },
        {
         "hovertemplate": "color=honor<br>0=%{x}<br>1=%{y}<br>2=%{z}<extra></extra>",
         "legendgroup": "honor",
         "marker": {
          "color": "#B6E880",
          "symbol": "circle"
         },
         "mode": "markers",
         "name": "honor",
         "scene": "scene",
         "showlegend": true,
         "type": "scatter3d",
         "x": [
          0.5957122445106506
         ],
         "y": [
          0.6267955303192139
         ],
         "z": [
          -0.18201595544815063
         ]
        },
        {
         "hovertemplate": "color=tall<br>0=%{x}<br>1=%{y}<br>2=%{z}<extra></extra>",
         "legendgroup": "tall",
         "marker": {
          "color": "#FF97FF",
          "symbol": "circle"
         },
         "mode": "markers",
         "name": "tall",
         "scene": "scene",
         "showlegend": true,
         "type": "scatter3d",
         "x": [
          -0.41964593529701233
         ],
         "y": [
          0.21075773239135742
         ],
         "z": [
          -0.1015835627913475
         ]
        },
        {
         "hovertemplate": "color=table<br>0=%{x}<br>1=%{y}<br>2=%{z}<extra></extra>",
         "legendgroup": "table",
         "marker": {
          "color": "#FECB52",
          "symbol": "circle"
         },
         "mode": "markers",
         "name": "table",
         "scene": "scene",
         "showlegend": true,
         "type": "scatter3d",
         "x": [
          -0.42456892132759094
         ],
         "y": [
          0.43483036756515503
         ],
         "z": [
          0.19804053008556366
         ]
        },
        {
         "hovertemplate": "color=pulled<br>0=%{x}<br>1=%{y}<br>2=%{z}<extra></extra>",
         "legendgroup": "pulled",
         "marker": {
          "color": "#636efa",
          "symbol": "circle"
         },
         "mode": "markers",
         "name": "pulled",
         "scene": "scene",
         "showlegend": true,
         "type": "scatter3d",
         "x": [
          -0.5086430907249451
         ],
         "y": [
          0.21237978339195251
         ],
         "z": [
          0.6505797505378723
         ]
        },
        {
         "hovertemplate": "color=broken<br>0=%{x}<br>1=%{y}<br>2=%{z}<extra></extra>",
         "legendgroup": "broken",
         "marker": {
          "color": "#EF553B",
          "symbol": "circle"
         },
         "mode": "markers",
         "name": "broken",
         "scene": "scene",
         "showlegend": true,
         "type": "scatter3d",
         "x": [
          -0.6782330870628357
         ],
         "y": [
          0.38249707221984863
         ],
         "z": [
          0.011803538538515568
         ]
        },
        {
         "hovertemplate": "color=steps<br>0=%{x}<br>1=%{y}<br>2=%{z}<extra></extra>",
         "legendgroup": "steps",
         "marker": {
          "color": "#00cc96",
          "symbol": "circle"
         },
         "mode": "markers",
         "name": "steps",
         "scene": "scene",
         "showlegend": true,
         "type": "scatter3d",
         "x": [
          -0.5667074918746948
         ],
         "y": [
          0.5707062482833862
         ],
         "z": [
          0.18007300794124603
         ]
        },
        {
         "hovertemplate": "color=things<br>0=%{x}<br>1=%{y}<br>2=%{z}<extra></extra>",
         "legendgroup": "things",
         "marker": {
          "color": "#ab63fa",
          "symbol": "circle"
         },
         "mode": "markers",
         "name": "things",
         "scene": "scene",
         "showlegend": true,
         "type": "scatter3d",
         "x": [
          0.23871423304080963
         ],
         "y": [
          0.5892773270606995
         ],
         "z": [
          -0.1630399078130722
         ]
        },
        {
         "hovertemplate": "color=women<br>0=%{x}<br>1=%{y}<br>2=%{z}<extra></extra>",
         "legendgroup": "women",
         "marker": {
          "color": "#FFA15A",
          "symbol": "circle"
         },
         "mode": "markers",
         "name": "women",
         "scene": "scene",
         "showlegend": true,
         "type": "scatter3d",
         "x": [
          0.12640750408172607
         ],
         "y": [
          0.5683785080909729
         ],
         "z": [
          -0.39775094389915466
         ]
        },
        {
         "hovertemplate": "color=next<br>0=%{x}<br>1=%{y}<br>2=%{z}<extra></extra>",
         "legendgroup": "next",
         "marker": {
          "color": "#19d3f3",
          "symbol": "circle"
         },
         "mode": "markers",
         "name": "next",
         "scene": "scene",
         "showlegend": true,
         "type": "scatter3d",
         "x": [
          0.0599248893558979
         ],
         "y": [
          0.5752307176589966
         ],
         "z": [
          0.29127228260040283
         ]
        },
        {
         "hovertemplate": "color=heavy<br>0=%{x}<br>1=%{y}<br>2=%{z}<extra></extra>",
         "legendgroup": "heavy",
         "marker": {
          "color": "#FF6692",
          "symbol": "circle"
         },
         "mode": "markers",
         "name": "heavy",
         "scene": "scene",
         "showlegend": true,
         "type": "scatter3d",
         "x": [
          -0.6776126027107239
         ],
         "y": [
          0.13672369718551636
         ],
         "z": [
          0.08494144678115845
         ]
        },
        {
         "hovertemplate": "color=burned<br>0=%{x}<br>1=%{y}<br>2=%{z}<extra></extra>",
         "legendgroup": "burned",
         "marker": {
          "color": "#B6E880",
          "symbol": "circle"
         },
         "mode": "markers",
         "name": "burned",
         "scene": "scene",
         "showlegend": true,
         "type": "scatter3d",
         "x": [
          -0.38165009021759033
         ],
         "y": [
          0.544151782989502
         ],
         "z": [
          -0.03766113519668579
         ]
        },
        {
         "hovertemplate": "color=oh<br>0=%{x}<br>1=%{y}<br>2=%{z}<extra></extra>",
         "legendgroup": "oh",
         "marker": {
          "color": "#FF97FF",
          "symbol": "circle"
         },
         "mode": "markers",
         "name": "oh",
         "scene": "scene",
         "showlegend": true,
         "type": "scatter3d",
         "x": [
          0.7356904745101929
         ],
         "y": [
          0.17291024327278137
         ],
         "z": [
          0.1456848531961441
         ]
        },
        {
         "hovertemplate": "color=toward<br>0=%{x}<br>1=%{y}<br>2=%{z}<extra></extra>",
         "legendgroup": "toward",
         "marker": {
          "color": "#FECB52",
          "symbol": "circle"
         },
         "mode": "markers",
         "name": "toward",
         "scene": "scene",
         "showlegend": true,
         "type": "scatter3d",
         "x": [
          -0.4844028055667877
         ],
         "y": [
          0.354873925447464
         ],
         "z": [
          0.3770878314971924
         ]
        },
        {
         "hovertemplate": "color=together<br>0=%{x}<br>1=%{y}<br>2=%{z}<extra></extra>",
         "legendgroup": "together",
         "marker": {
          "color": "#636efa",
          "symbol": "circle"
         },
         "mode": "markers",
         "name": "together",
         "scene": "scene",
         "showlegend": true,
         "type": "scatter3d",
         "x": [
          -0.3593299984931946
         ],
         "y": [
          0.4582400918006897
         ],
         "z": [
          0.06222502514719963
         ]
        },
        {
         "hovertemplate": "color=given<br>0=%{x}<br>1=%{y}<br>2=%{z}<extra></extra>",
         "legendgroup": "given",
         "marker": {
          "color": "#EF553B",
          "symbol": "circle"
         },
         "mode": "markers",
         "name": "given",
         "scene": "scene",
         "showlegend": true,
         "type": "scatter3d",
         "x": [
          0.37962138652801514
         ],
         "y": [
          0.4594423174858093
         ],
         "z": [
          0.38151422142982483
         ]
        },
        {
         "hovertemplate": "color=skin<br>0=%{x}<br>1=%{y}<br>2=%{z}<extra></extra>",
         "legendgroup": "skin",
         "marker": {
          "color": "#00cc96",
          "symbol": "circle"
         },
         "mode": "markers",
         "name": "skin",
         "scene": "scene",
         "showlegend": true,
         "type": "scatter3d",
         "x": [
          -0.5570065975189209
         ],
         "y": [
          0.2359473705291748
         ],
         "z": [
          0.3414323925971985
         ]
        },
        {
         "hovertemplate": "color=mormont<br>0=%{x}<br>1=%{y}<br>2=%{z}<extra></extra>",
         "legendgroup": "mormont",
         "marker": {
          "color": "#ab63fa",
          "symbol": "circle"
         },
         "mode": "markers",
         "name": "mormont",
         "scene": "scene",
         "showlegend": true,
         "type": "scatter3d",
         "x": [
          0.060642022639513016
         ],
         "y": [
          0.13722816109657288
         ],
         "z": [
          0.13688874244689941
         ]
        },
        {
         "hovertemplate": "color=hodor<br>0=%{x}<br>1=%{y}<br>2=%{z}<extra></extra>",
         "legendgroup": "hodor",
         "marker": {
          "color": "#FFA15A",
          "symbol": "circle"
         },
         "mode": "markers",
         "name": "hodor",
         "scene": "scene",
         "showlegend": true,
         "type": "scatter3d",
         "x": [
          -0.2944127321243286
         ],
         "y": [
          0.1521628499031067
         ],
         "z": [
          0.5312938690185547
         ]
        },
        {
         "hovertemplate": "color=since<br>0=%{x}<br>1=%{y}<br>2=%{z}<extra></extra>",
         "legendgroup": "since",
         "marker": {
          "color": "#19d3f3",
          "symbol": "circle"
         },
         "mode": "markers",
         "name": "since",
         "scene": "scene",
         "showlegend": true,
         "type": "scatter3d",
         "x": [
          0.2831191420555115
         ],
         "y": [
          0.5037705302238464
         ],
         "z": [
          0.05531258136034012
         ]
        },
        {
         "hovertemplate": "color=moved<br>0=%{x}<br>1=%{y}<br>2=%{z}<extra></extra>",
         "legendgroup": "moved",
         "marker": {
          "color": "#FF6692",
          "symbol": "circle"
         },
         "mode": "markers",
         "name": "moved",
         "scene": "scene",
         "showlegend": true,
         "type": "scatter3d",
         "x": [
          -0.41748037934303284
         ],
         "y": [
          0.33256375789642334
         ],
         "z": [
          0.5916417837142944
         ]
        },
        {
         "hovertemplate": "color=smiled<br>0=%{x}<br>1=%{y}<br>2=%{z}<extra></extra>",
         "legendgroup": "smiled",
         "marker": {
          "color": "#B6E880",
          "symbol": "circle"
         },
         "mode": "markers",
         "name": "smiled",
         "scene": "scene",
         "showlegend": true,
         "type": "scatter3d",
         "x": [
          0.057417090982198715
         ],
         "y": [
          -0.008651722222566605
         ],
         "z": [
          0.6715654730796814
         ]
        },
        {
         "hovertemplate": "color=alone<br>0=%{x}<br>1=%{y}<br>2=%{z}<extra></extra>",
         "legendgroup": "alone",
         "marker": {
          "color": "#FF97FF",
          "symbol": "circle"
         },
         "mode": "markers",
         "name": "alone",
         "scene": "scene",
         "showlegend": true,
         "type": "scatter3d",
         "x": [
          0.11076606810092926
         ],
         "y": [
          0.6382274031639099
         ],
         "z": [
          0.18122722208499908
         ]
        },
        {
         "hovertemplate": "color=raised<br>0=%{x}<br>1=%{y}<br>2=%{z}<extra></extra>",
         "legendgroup": "raised",
         "marker": {
          "color": "#FECB52",
          "symbol": "circle"
         },
         "mode": "markers",
         "name": "raised",
         "scene": "scene",
         "showlegend": true,
         "type": "scatter3d",
         "x": [
          -0.24749594926834106
         ],
         "y": [
          0.2757759094238281
         ],
         "z": [
          0.41751477122306824
         ]
        },
        {
         "hovertemplate": "color=ask<br>0=%{x}<br>1=%{y}<br>2=%{z}<extra></extra>",
         "legendgroup": "ask",
         "marker": {
          "color": "#636efa",
          "symbol": "circle"
         },
         "mode": "markers",
         "name": "ask",
         "scene": "scene",
         "showlegend": true,
         "type": "scatter3d",
         "x": [
          0.7148634791374207
         ],
         "y": [
          0.5098035931587219
         ],
         "z": [
          0.3718821108341217
         ]
        },
        {
         "hovertemplate": "color=ride<br>0=%{x}<br>1=%{y}<br>2=%{z}<extra></extra>",
         "legendgroup": "ride",
         "marker": {
          "color": "#EF553B",
          "symbol": "circle"
         },
         "mode": "markers",
         "name": "ride",
         "scene": "scene",
         "showlegend": true,
         "type": "scatter3d",
         "x": [
          0.1625058650970459
         ],
         "y": [
          0.7743816375732422
         ],
         "z": [
          0.1604243963956833
         ]
        },
        {
         "hovertemplate": "color=hope<br>0=%{x}<br>1=%{y}<br>2=%{z}<extra></extra>",
         "legendgroup": "hope",
         "marker": {
          "color": "#00cc96",
          "symbol": "circle"
         },
         "mode": "markers",
         "name": "hope",
         "scene": "scene",
         "showlegend": true,
         "type": "scatter3d",
         "x": [
          0.6130473017692566
         ],
         "y": [
          0.6735008358955383
         ],
         "z": [
          0.2008795589208603
         ]
        },
        {
         "hovertemplate": "color=eye<br>0=%{x}<br>1=%{y}<br>2=%{z}<extra></extra>",
         "legendgroup": "eye",
         "marker": {
          "color": "#ab63fa",
          "symbol": "circle"
         },
         "mode": "markers",
         "name": "eye",
         "scene": "scene",
         "showlegend": true,
         "type": "scatter3d",
         "x": [
          -0.24749372899532318
         ],
         "y": [
          0.5724266767501831
         ],
         "z": [
          0.14155778288841248
         ]
        },
        {
         "hovertemplate": "color=reached<br>0=%{x}<br>1=%{y}<br>2=%{z}<extra></extra>",
         "legendgroup": "reached",
         "marker": {
          "color": "#FFA15A",
          "symbol": "circle"
         },
         "mode": "markers",
         "name": "reached",
         "scene": "scene",
         "showlegend": true,
         "type": "scatter3d",
         "x": [
          -0.3087879717350006
         ],
         "y": [
          0.4755994379520416
         ],
         "z": [
          0.5416774749755859
         ]
        },
        {
         "hovertemplate": "color=soft<br>0=%{x}<br>1=%{y}<br>2=%{z}<extra></extra>",
         "legendgroup": "soft",
         "marker": {
          "color": "#19d3f3",
          "symbol": "circle"
         },
         "mode": "markers",
         "name": "soft",
         "scene": "scene",
         "showlegend": true,
         "type": "scatter3d",
         "x": [
          -0.5772109031677246
         ],
         "y": [
          0.06274931877851486
         ],
         "z": [
          0.28592461347579956
         ]
        },
        {
         "hovertemplate": "color=second<br>0=%{x}<br>1=%{y}<br>2=%{z}<extra></extra>",
         "legendgroup": "second",
         "marker": {
          "color": "#FF6692",
          "symbol": "circle"
         },
         "mode": "markers",
         "name": "second",
         "scene": "scene",
         "showlegend": true,
         "type": "scatter3d",
         "x": [
          0.04728717729449272
         ],
         "y": [
          0.4052528738975525
         ],
         "z": [
          -0.04799087718129158
         ]
        },
        {
         "hovertemplate": "color=remember<br>0=%{x}<br>1=%{y}<br>2=%{z}<extra></extra>",
         "legendgroup": "remember",
         "marker": {
          "color": "#B6E880",
          "symbol": "circle"
         },
         "mode": "markers",
         "name": "remember",
         "scene": "scene",
         "showlegend": true,
         "type": "scatter3d",
         "x": [
          0.4641045331954956
         ],
         "y": [
          0.4671995937824249
         ],
         "z": [
          0.38783571124076843
         ]
        },
        {
         "hovertemplate": "color=ve<br>0=%{x}<br>1=%{y}<br>2=%{z}<extra></extra>",
         "legendgroup": "ve",
         "marker": {
          "color": "#FF97FF",
          "symbol": "circle"
         },
         "mode": "markers",
         "name": "ve",
         "scene": "scene",
         "showlegend": true,
         "type": "scatter3d",
         "x": [
          0.4788452088832855
         ],
         "y": [
          0.4734686613082886
         ],
         "z": [
          -0.00453390134498477
         ]
        },
        {
         "hovertemplate": "color=remembered<br>0=%{x}<br>1=%{y}<br>2=%{z}<extra></extra>",
         "legendgroup": "remembered",
         "marker": {
          "color": "#FECB52",
          "symbol": "circle"
         },
         "mode": "markers",
         "name": "remembered",
         "scene": "scene",
         "showlegend": true,
         "type": "scatter3d",
         "x": [
          0.1461297571659088
         ],
         "y": [
          0.2940055727958679
         ],
         "z": [
          0.5045956373214722
         ]
        },
        {
         "hovertemplate": "color=coming<br>0=%{x}<br>1=%{y}<br>2=%{z}<extra></extra>",
         "legendgroup": "coming",
         "marker": {
          "color": "#636efa",
          "symbol": "circle"
         },
         "mode": "markers",
         "name": "coming",
         "scene": "scene",
         "showlegend": true,
         "type": "scatter3d",
         "x": [
          -0.062360044568777084
         ],
         "y": [
          0.682269275188446
         ],
         "z": [
          0.08470343798398972
         ]
        },
        {
         "hovertemplate": "color=dwarf<br>0=%{x}<br>1=%{y}<br>2=%{z}<extra></extra>",
         "legendgroup": "dwarf",
         "marker": {
          "color": "#EF553B",
          "symbol": "circle"
         },
         "mode": "markers",
         "name": "dwarf",
         "scene": "scene",
         "showlegend": true,
         "type": "scatter3d",
         "x": [
          0.2959785759449005
         ],
         "y": [
          0.30769023299217224
         ],
         "z": [
          0.2950849235057831
         ]
        },
        {
         "hovertemplate": "color=meant<br>0=%{x}<br>1=%{y}<br>2=%{z}<extra></extra>",
         "legendgroup": "meant",
         "marker": {
          "color": "#00cc96",
          "symbol": "circle"
         },
         "mode": "markers",
         "name": "meant",
         "scene": "scene",
         "showlegend": true,
         "type": "scatter3d",
         "x": [
          0.577502429485321
         ],
         "y": [
          0.4668150842189789
         ],
         "z": [
          0.36930784583091736
         ]
        },
        {
         "hovertemplate": "color=hold<br>0=%{x}<br>1=%{y}<br>2=%{z}<extra></extra>",
         "legendgroup": "hold",
         "marker": {
          "color": "#ab63fa",
          "symbol": "circle"
         },
         "mode": "markers",
         "name": "hold",
         "scene": "scene",
         "showlegend": true,
         "type": "scatter3d",
         "x": [
          0.319124698638916
         ],
         "y": [
          0.5660063028335571
         ],
         "z": [
          0.3286339342594147
         ]
        },
        {
         "hovertemplate": "color=cannot<br>0=%{x}<br>1=%{y}<br>2=%{z}<extra></extra>",
         "legendgroup": "cannot",
         "marker": {
          "color": "#FFA15A",
          "symbol": "circle"
         },
         "mode": "markers",
         "name": "cannot",
         "scene": "scene",
         "showlegend": true,
         "type": "scatter3d",
         "x": [
          0.5603856444358826
         ],
         "y": [
          0.4591880142688751
         ],
         "z": [
          0.10926396399736404
         ]
        },
        {
         "hovertemplate": "color=ten<br>0=%{x}<br>1=%{y}<br>2=%{z}<extra></extra>",
         "legendgroup": "ten",
         "marker": {
          "color": "#19d3f3",
          "symbol": "circle"
         },
         "mode": "markers",
         "name": "ten",
         "scene": "scene",
         "showlegend": true,
         "type": "scatter3d",
         "x": [
          0.15644188225269318
         ],
         "y": [
          0.47582027316093445
         ],
         "z": [
          -0.3221006691455841
         ]
        },
        {
         "hovertemplate": "color=morning<br>0=%{x}<br>1=%{y}<br>2=%{z}<extra></extra>",
         "legendgroup": "morning",
         "marker": {
          "color": "#FF6692",
          "symbol": "circle"
         },
         "mode": "markers",
         "name": "morning",
         "scene": "scene",
         "showlegend": true,
         "type": "scatter3d",
         "x": [
          -0.24358199536800385
         ],
         "y": [
          0.591992974281311
         ],
         "z": [
          0.1095627024769783
         ]
        },
        {
         "hovertemplate": "color=teeth<br>0=%{x}<br>1=%{y}<br>2=%{z}<extra></extra>",
         "legendgroup": "teeth",
         "marker": {
          "color": "#B6E880",
          "symbol": "circle"
         },
         "mode": "markers",
         "name": "teeth",
         "scene": "scene",
         "showlegend": true,
         "type": "scatter3d",
         "x": [
          -0.5275059342384338
         ],
         "y": [
          0.2675735056400299
         ],
         "z": [
          0.3807664215564728
         ]
        },
        {
         "hovertemplate": "color=frey<br>0=%{x}<br>1=%{y}<br>2=%{z}<extra></extra>",
         "legendgroup": "frey",
         "marker": {
          "color": "#FF97FF",
          "symbol": "circle"
         },
         "mode": "markers",
         "name": "frey",
         "scene": "scene",
         "showlegend": true,
         "type": "scatter3d",
         "x": [
          0.41060566902160645
         ],
         "y": [
          0.22668634355068207
         ],
         "z": [
          -0.13310506939888
         ]
        },
        {
         "hovertemplate": "color=else<br>0=%{x}<br>1=%{y}<br>2=%{z}<extra></extra>",
         "legendgroup": "else",
         "marker": {
          "color": "#FECB52",
          "symbol": "circle"
         },
         "mode": "markers",
         "name": "else",
         "scene": "scene",
         "showlegend": true,
         "type": "scatter3d",
         "x": [
          0.46260279417037964
         ],
         "y": [
          0.44056257605552673
         ],
         "z": [
          0.22446033358573914
         ]
        },
        {
         "hovertemplate": "color=throne<br>0=%{x}<br>1=%{y}<br>2=%{z}<extra></extra>",
         "legendgroup": "throne",
         "marker": {
          "color": "#636efa",
          "symbol": "circle"
         },
         "mode": "markers",
         "name": "throne",
         "scene": "scene",
         "showlegend": true,
         "type": "scatter3d",
         "x": [
          0.16611431539058685
         ],
         "y": [
          0.59577476978302
         ],
         "z": [
          -0.01354824285954237
         ]
        },
        {
         "hovertemplate": "color=someone<br>0=%{x}<br>1=%{y}<br>2=%{z}<extra></extra>",
         "legendgroup": "someone",
         "marker": {
          "color": "#EF553B",
          "symbol": "circle"
         },
         "mode": "markers",
         "name": "someone",
         "scene": "scene",
         "showlegend": true,
         "type": "scatter3d",
         "x": [
          0.26126718521118164
         ],
         "y": [
          0.47423455119132996
         ],
         "z": [
          0.24436259269714355
         ]
        },
        {
         "hovertemplate": "color=command<br>0=%{x}<br>1=%{y}<br>2=%{z}<extra></extra>",
         "legendgroup": "command",
         "marker": {
          "color": "#00cc96",
          "symbol": "circle"
         },
         "mode": "markers",
         "name": "command",
         "scene": "scene",
         "showlegend": true,
         "type": "scatter3d",
         "x": [
          0.4658764898777008
         ],
         "y": [
          0.6168145537376404
         ],
         "z": [
          0.005612954031676054
         ]
        },
        {
         "hovertemplate": "color=which<br>0=%{x}<br>1=%{y}<br>2=%{z}<extra></extra>",
         "legendgroup": "which",
         "marker": {
          "color": "#ab63fa",
          "symbol": "circle"
         },
         "mode": "markers",
         "name": "which",
         "scene": "scene",
         "showlegend": true,
         "type": "scatter3d",
         "x": [
          0.33999699354171753
         ],
         "y": [
          0.5380701422691345
         ],
         "z": [
          -0.17441938817501068
         ]
        },
        {
         "hovertemplate": "color=fat<br>0=%{x}<br>1=%{y}<br>2=%{z}<extra></extra>",
         "legendgroup": "fat",
         "marker": {
          "color": "#FFA15A",
          "symbol": "circle"
         },
         "mode": "markers",
         "name": "fat",
         "scene": "scene",
         "showlegend": true,
         "type": "scatter3d",
         "x": [
          -0.02910418063402176
         ],
         "y": [
          0.02744319848716259
         ],
         "z": [
          0.18237122893333435
         ]
        },
        {
         "hovertemplate": "color=truth<br>0=%{x}<br>1=%{y}<br>2=%{z}<extra></extra>",
         "legendgroup": "truth",
         "marker": {
          "color": "#19d3f3",
          "symbol": "circle"
         },
         "mode": "markers",
         "name": "truth",
         "scene": "scene",
         "showlegend": true,
         "type": "scatter3d",
         "x": [
          0.48489466309547424
         ],
         "y": [
          0.5002979040145874
         ],
         "z": [
          -0.12477654963731766
         ]
        },
        {
         "hovertemplate": "color=ground<br>0=%{x}<br>1=%{y}<br>2=%{z}<extra></extra>",
         "legendgroup": "ground",
         "marker": {
          "color": "#FF6692",
          "symbol": "circle"
         },
         "mode": "markers",
         "name": "ground",
         "scene": "scene",
         "showlegend": true,
         "type": "scatter3d",
         "x": [
          -0.7249240279197693
         ],
         "y": [
          0.47830766439437866
         ],
         "z": [
          0.19887708127498627
         ]
        },
        {
         "hovertemplate": "color=doubt<br>0=%{x}<br>1=%{y}<br>2=%{z}<extra></extra>",
         "legendgroup": "doubt",
         "marker": {
          "color": "#B6E880",
          "symbol": "circle"
         },
         "mode": "markers",
         "name": "doubt",
         "scene": "scene",
         "showlegend": true,
         "type": "scatter3d",
         "x": [
          0.5267714858055115
         ],
         "y": [
          0.5092978477478027
         ],
         "z": [
          0.11601468175649643
         ]
        },
        {
         "hovertemplate": "color=outside<br>0=%{x}<br>1=%{y}<br>2=%{z}<extra></extra>",
         "legendgroup": "outside",
         "marker": {
          "color": "#FF97FF",
          "symbol": "circle"
         },
         "mode": "markers",
         "name": "outside",
         "scene": "scene",
         "showlegend": true,
         "type": "scatter3d",
         "x": [
          -0.385713130235672
         ],
         "y": [
          0.4836083650588989
         ],
         "z": [
          -0.008204327896237373
         ]
        },
        {
         "hovertemplate": "color=cup<br>0=%{x}<br>1=%{y}<br>2=%{z}<extra></extra>",
         "legendgroup": "cup",
         "marker": {
          "color": "#FECB52",
          "symbol": "circle"
         },
         "mode": "markers",
         "name": "cup",
         "scene": "scene",
         "showlegend": true,
         "type": "scatter3d",
         "x": [
          -0.15476003289222717
         ],
         "y": [
          0.2732849717140198
         ],
         "z": [
          0.4398476183414459
         ]
        },
        {
         "hovertemplate": "color=known<br>0=%{x}<br>1=%{y}<br>2=%{z}<extra></extra>",
         "legendgroup": "known",
         "marker": {
          "color": "#636efa",
          "symbol": "circle"
         },
         "mode": "markers",
         "name": "known",
         "scene": "scene",
         "showlegend": true,
         "type": "scatter3d",
         "x": [
          0.43051719665527344
         ],
         "y": [
          0.45346149802207947
         ],
         "z": [
          0.19195684790611267
         ]
        },
        {
         "hovertemplate": "color=wore<br>0=%{x}<br>1=%{y}<br>2=%{z}<extra></extra>",
         "legendgroup": "wore",
         "marker": {
          "color": "#EF553B",
          "symbol": "circle"
         },
         "mode": "markers",
         "name": "wore",
         "scene": "scene",
         "showlegend": true,
         "type": "scatter3d",
         "x": [
          -0.29553163051605225
         ],
         "y": [
          0.13606148958206177
         ],
         "z": [
          0.08610425889492035
         ]
        },
        {
         "hovertemplate": "color=ran<br>0=%{x}<br>1=%{y}<br>2=%{z}<extra></extra>",
         "legendgroup": "ran",
         "marker": {
          "color": "#00cc96",
          "symbol": "circle"
         },
         "mode": "markers",
         "name": "ran",
         "scene": "scene",
         "showlegend": true,
         "type": "scatter3d",
         "x": [
          -0.5440424084663391
         ],
         "y": [
          0.3127758204936981
         ],
         "z": [
          0.5201574563980103
         ]
        },
        {
         "hovertemplate": "color=gate<br>0=%{x}<br>1=%{y}<br>2=%{z}<extra></extra>",
         "legendgroup": "gate",
         "marker": {
          "color": "#ab63fa",
          "symbol": "circle"
         },
         "mode": "markers",
         "name": "gate",
         "scene": "scene",
         "showlegend": true,
         "type": "scatter3d",
         "x": [
          -0.38265544176101685
         ],
         "y": [
          0.715846836566925
         ],
         "z": [
          -0.05680324509739876
         ]
        },
        {
         "hovertemplate": "color=room<br>0=%{x}<br>1=%{y}<br>2=%{z}<extra></extra>",
         "legendgroup": "room",
         "marker": {
          "color": "#FFA15A",
          "symbol": "circle"
         },
         "mode": "markers",
         "name": "room",
         "scene": "scene",
         "showlegend": true,
         "type": "scatter3d",
         "x": [
          -0.48930248618125916
         ],
         "y": [
          0.6250054836273193
         ],
         "z": [
          0.03956253454089165
         ]
        },
        {
         "hovertemplate": "color=held<br>0=%{x}<br>1=%{y}<br>2=%{z}<extra></extra>",
         "legendgroup": "held",
         "marker": {
          "color": "#19d3f3",
          "symbol": "circle"
         },
         "mode": "markers",
         "name": "held",
         "scene": "scene",
         "showlegend": true,
         "type": "scatter3d",
         "x": [
          -0.15015004575252533
         ],
         "y": [
          0.21859388053417206
         ],
         "z": [
          0.5929323434829712
         ]
        },
        {
         "hovertemplate": "color=jorah<br>0=%{x}<br>1=%{y}<br>2=%{z}<extra></extra>",
         "legendgroup": "jorah",
         "marker": {
          "color": "#FF6692",
          "symbol": "circle"
         },
         "mode": "markers",
         "name": "jorah",
         "scene": "scene",
         "showlegend": true,
         "type": "scatter3d",
         "x": [
          0.08867347985506058
         ],
         "y": [
          0.2415248602628708
         ],
         "z": [
          0.3382963240146637
         ]
        },
        {
         "hovertemplate": "color=wed<br>0=%{x}<br>1=%{y}<br>2=%{z}<extra></extra>",
         "legendgroup": "wed",
         "marker": {
          "color": "#B6E880",
          "symbol": "circle"
         },
         "mode": "markers",
         "name": "wed",
         "scene": "scene",
         "showlegend": true,
         "type": "scatter3d",
         "x": [
          0.7409287095069885
         ],
         "y": [
          0.45391756296157837
         ],
         "z": [
          0.20781832933425903
         ]
        },
        {
         "hovertemplate": "color=ships<br>0=%{x}<br>1=%{y}<br>2=%{z}<extra></extra>",
         "legendgroup": "ships",
         "marker": {
          "color": "#FF97FF",
          "symbol": "circle"
         },
         "mode": "markers",
         "name": "ships",
         "scene": "scene",
         "showlegend": true,
         "type": "scatter3d",
         "x": [
          0.013592150062322617
         ],
         "y": [
          0.7861814498901367
         ],
         "z": [
          -0.4607592225074768
         ]
        },
        {
         "hovertemplate": "color=closed<br>0=%{x}<br>1=%{y}<br>2=%{z}<extra></extra>",
         "legendgroup": "closed",
         "marker": {
          "color": "#FECB52",
          "symbol": "circle"
         },
         "mode": "markers",
         "name": "closed",
         "scene": "scene",
         "showlegend": true,
         "type": "scatter3d",
         "x": [
          -0.4175238609313965
         ],
         "y": [
          0.2616676986217499
         ],
         "z": [
          0.4389357566833496
         ]
        },
        {
         "hovertemplate": "color=commander<br>0=%{x}<br>1=%{y}<br>2=%{z}<extra></extra>",
         "legendgroup": "commander",
         "marker": {
          "color": "#636efa",
          "symbol": "circle"
         },
         "mode": "markers",
         "name": "commander",
         "scene": "scene",
         "showlegend": true,
         "type": "scatter3d",
         "x": [
          0.37016454339027405
         ],
         "y": [
          0.4110947251319885
         ],
         "z": [
          -0.19177855551242828
         ]
        },
        {
         "hovertemplate": "color=home<br>0=%{x}<br>1=%{y}<br>2=%{z}<extra></extra>",
         "legendgroup": "home",
         "marker": {
          "color": "#EF553B",
          "symbol": "circle"
         },
         "mode": "markers",
         "name": "home",
         "scene": "scene",
         "showlegend": true,
         "type": "scatter3d",
         "x": [
          0.3223114013671875
         ],
         "y": [
          0.6907264590263367
         ],
         "z": [
          0.0719321221113205
         ]
        },
        {
         "hovertemplate": "color=matter<br>0=%{x}<br>1=%{y}<br>2=%{z}<extra></extra>",
         "legendgroup": "matter",
         "marker": {
          "color": "#00cc96",
          "symbol": "circle"
         },
         "mode": "markers",
         "name": "matter",
         "scene": "scene",
         "showlegend": true,
         "type": "scatter3d",
         "x": [
          0.4348859488964081
         ],
         "y": [
          0.4409838914871216
         ],
         "z": [
          0.20997698605060577
         ]
        },
        {
         "hovertemplate": "color=south<br>0=%{x}<br>1=%{y}<br>2=%{z}<extra></extra>",
         "legendgroup": "south",
         "marker": {
          "color": "#ab63fa",
          "symbol": "circle"
         },
         "mode": "markers",
         "name": "south",
         "scene": "scene",
         "showlegend": true,
         "type": "scatter3d",
         "x": [
          -0.08905262500047684
         ],
         "y": [
          0.789000928401947
         ],
         "z": [
          -0.2655545175075531
         ]
        },
        {
         "hovertemplate": "color=sky<br>0=%{x}<br>1=%{y}<br>2=%{z}<extra></extra>",
         "legendgroup": "sky",
         "marker": {
          "color": "#FFA15A",
          "symbol": "circle"
         },
         "mode": "markers",
         "name": "sky",
         "scene": "scene",
         "showlegend": true,
         "type": "scatter3d",
         "x": [
          -0.6503958702087402
         ],
         "y": [
          0.5219535827636719
         ],
         "z": [
          -0.06951430439949036
         ]
        },
        {
         "hovertemplate": "color=wood<br>0=%{x}<br>1=%{y}<br>2=%{z}<extra></extra>",
         "legendgroup": "wood",
         "marker": {
          "color": "#19d3f3",
          "symbol": "circle"
         },
         "mode": "markers",
         "name": "wood",
         "scene": "scene",
         "showlegend": true,
         "type": "scatter3d",
         "x": [
          -0.720086932182312
         ],
         "y": [
          0.5092484354972839
         ],
         "z": [
          -0.19070583581924438
         ]
        },
        {
         "hovertemplate": "color=storm<br>0=%{x}<br>1=%{y}<br>2=%{z}<extra></extra>",
         "legendgroup": "storm",
         "marker": {
          "color": "#FF6692",
          "symbol": "circle"
         },
         "mode": "markers",
         "name": "storm",
         "scene": "scene",
         "showlegend": true,
         "type": "scatter3d",
         "x": [
          0.08388293534517288
         ],
         "y": [
          0.6301252245903015
         ],
         "z": [
          -0.2867516279220581
         ]
        },
        {
         "hovertemplate": "color=ill<br>0=%{x}<br>1=%{y}<br>2=%{z}<extra></extra>",
         "legendgroup": "ill",
         "marker": {
          "color": "#B6E880",
          "symbol": "circle"
         },
         "mode": "markers",
         "name": "ill",
         "scene": "scene",
         "showlegend": true,
         "type": "scatter3d",
         "x": [
          0.5174612402915955
         ],
         "y": [
          0.33479124307632446
         ],
         "z": [
          0.256368488073349
         ]
        },
        {
         "hovertemplate": "color=dozen<br>0=%{x}<br>1=%{y}<br>2=%{z}<extra></extra>",
         "legendgroup": "dozen",
         "marker": {
          "color": "#FF97FF",
          "symbol": "circle"
         },
         "mode": "markers",
         "name": "dozen",
         "scene": "scene",
         "showlegend": true,
         "type": "scatter3d",
         "x": [
          -0.32330453395843506
         ],
         "y": [
          0.4722404479980469
         ],
         "z": [
          -0.30092015862464905
         ]
        },
        {
         "hovertemplate": "color=people<br>0=%{x}<br>1=%{y}<br>2=%{z}<extra></extra>",
         "legendgroup": "people",
         "marker": {
          "color": "#FECB52",
          "symbol": "circle"
         },
         "mode": "markers",
         "name": "people",
         "scene": "scene",
         "showlegend": true,
         "type": "scatter3d",
         "x": [
          0.29081612825393677
         ],
         "y": [
          0.7474629282951355
         ],
         "z": [
          -0.29360246658325195
         ]
        },
        {
         "hovertemplate": "color=neck<br>0=%{x}<br>1=%{y}<br>2=%{z}<extra></extra>",
         "legendgroup": "neck",
         "marker": {
          "color": "#636efa",
          "symbol": "circle"
         },
         "mode": "markers",
         "name": "neck",
         "scene": "scene",
         "showlegend": true,
         "type": "scatter3d",
         "x": [
          -0.5863493084907532
         ],
         "y": [
          0.338451087474823
         ],
         "z": [
          0.3155858814716339
         ]
        },
        {
         "hovertemplate": "color=food<br>0=%{x}<br>1=%{y}<br>2=%{z}<extra></extra>",
         "legendgroup": "food",
         "marker": {
          "color": "#EF553B",
          "symbol": "circle"
         },
         "mode": "markers",
         "name": "food",
         "scene": "scene",
         "showlegend": true,
         "type": "scatter3d",
         "x": [
          -0.006654147058725357
         ],
         "y": [
          0.6240605115890503
         ],
         "z": [
          -0.07084129005670547
         ]
        },
        {
         "hovertemplate": "color=instead<br>0=%{x}<br>1=%{y}<br>2=%{z}<extra></extra>",
         "legendgroup": "instead",
         "marker": {
          "color": "#00cc96",
          "symbol": "circle"
         },
         "mode": "markers",
         "name": "instead",
         "scene": "scene",
         "showlegend": true,
         "type": "scatter3d",
         "x": [
          -0.06660319864749908
         ],
         "y": [
          0.39307281374931335
         ],
         "z": [
          0.28881630301475525
         ]
        },
        {
         "hovertemplate": "color=near<br>0=%{x}<br>1=%{y}<br>2=%{z}<extra></extra>",
         "legendgroup": "near",
         "marker": {
          "color": "#ab63fa",
          "symbol": "circle"
         },
         "mode": "markers",
         "name": "near",
         "scene": "scene",
         "showlegend": true,
         "type": "scatter3d",
         "x": [
          -0.12212274223566055
         ],
         "y": [
          0.456270694732666
         ],
         "z": [
          -0.12611496448516846
         ]
        },
        {
         "hovertemplate": "color=talk<br>0=%{x}<br>1=%{y}<br>2=%{z}<extra></extra>",
         "legendgroup": "talk",
         "marker": {
          "color": "#FFA15A",
          "symbol": "circle"
         },
         "mode": "markers",
         "name": "talk",
         "scene": "scene",
         "showlegend": true,
         "type": "scatter3d",
         "x": [
          0.4702587127685547
         ],
         "y": [
          0.6238942742347717
         ],
         "z": [
          0.26488733291625977
         ]
        },
        {
         "hovertemplate": "color=turn<br>0=%{x}<br>1=%{y}<br>2=%{z}<extra></extra>",
         "legendgroup": "turn",
         "marker": {
          "color": "#19d3f3",
          "symbol": "circle"
         },
         "mode": "markers",
         "name": "turn",
         "scene": "scene",
         "showlegend": true,
         "type": "scatter3d",
         "x": [
          0.02730390429496765
         ],
         "y": [
          0.7322817444801331
         ],
         "z": [
          0.3625319004058838
         ]
        },
        {
         "hovertemplate": "color=none<br>0=%{x}<br>1=%{y}<br>2=%{z}<extra></extra>",
         "legendgroup": "none",
         "marker": {
          "color": "#FF6692",
          "symbol": "circle"
         },
         "mode": "markers",
         "name": "none",
         "scene": "scene",
         "showlegend": true,
         "type": "scatter3d",
         "x": [
          0.43762046098709106
         ],
         "y": [
          0.5724233388900757
         ],
         "z": [
          -0.10225481539964676
         ]
        },
        {
         "hovertemplate": "color=riverrun<br>0=%{x}<br>1=%{y}<br>2=%{z}<extra></extra>",
         "legendgroup": "riverrun",
         "marker": {
          "color": "#B6E880",
          "symbol": "circle"
         },
         "mode": "markers",
         "name": "riverrun",
         "scene": "scene",
         "showlegend": true,
         "type": "scatter3d",
         "x": [
          0.33087319135665894
         ],
         "y": [
          0.60933518409729
         ],
         "z": [
          -0.11187279224395752
         ]
        },
        {
         "hovertemplate": "color=walder<br>0=%{x}<br>1=%{y}<br>2=%{z}<extra></extra>",
         "legendgroup": "walder",
         "marker": {
          "color": "#FF97FF",
          "symbol": "circle"
         },
         "mode": "markers",
         "name": "walder",
         "scene": "scene",
         "showlegend": true,
         "type": "scatter3d",
         "x": [
          0.330805242061615
         ],
         "y": [
          0.22657638788223267
         ],
         "z": [
          -0.14318302273750305
         ]
        },
        {
         "hovertemplate": "color=below<br>0=%{x}<br>1=%{y}<br>2=%{z}<extra></extra>",
         "legendgroup": "below",
         "marker": {
          "color": "#FECB52",
          "symbol": "circle"
         },
         "mode": "markers",
         "name": "below",
         "scene": "scene",
         "showlegend": true,
         "type": "scatter3d",
         "x": [
          -0.6366020441055298
         ],
         "y": [
          0.5244002938270569
         ],
         "z": [
          -0.00755908340215683
         ]
        },
        {
         "hovertemplate": "color=shadow<br>0=%{x}<br>1=%{y}<br>2=%{z}<extra></extra>",
         "legendgroup": "shadow",
         "marker": {
          "color": "#636efa",
          "symbol": "circle"
         },
         "mode": "markers",
         "name": "shadow",
         "scene": "scene",
         "showlegend": true,
         "type": "scatter3d",
         "x": [
          -0.482915461063385
         ],
         "y": [
          0.6276405453681946
         ],
         "z": [
          -0.1756153404712677
         ]
        },
        {
         "hovertemplate": "color=lips<br>0=%{x}<br>1=%{y}<br>2=%{z}<extra></extra>",
         "legendgroup": "lips",
         "marker": {
          "color": "#EF553B",
          "symbol": "circle"
         },
         "mode": "markers",
         "name": "lips",
         "scene": "scene",
         "showlegend": true,
         "type": "scatter3d",
         "x": [
          -0.34992021322250366
         ],
         "y": [
          0.1904742270708084
         ],
         "z": [
          0.5351289510726929
         ]
        },
        {
         "hovertemplate": "color=watched<br>0=%{x}<br>1=%{y}<br>2=%{z}<extra></extra>",
         "legendgroup": "watched",
         "marker": {
          "color": "#00cc96",
          "symbol": "circle"
         },
         "mode": "markers",
         "name": "watched",
         "scene": "scene",
         "showlegend": true,
         "type": "scatter3d",
         "x": [
          -0.2110462188720703
         ],
         "y": [
          0.3282337486743927
         ],
         "z": [
          0.5806013345718384
         ]
        },
        {
         "hovertemplate": "color=leather<br>0=%{x}<br>1=%{y}<br>2=%{z}<extra></extra>",
         "legendgroup": "leather",
         "marker": {
          "color": "#ab63fa",
          "symbol": "circle"
         },
         "mode": "markers",
         "name": "leather",
         "scene": "scene",
         "showlegend": true,
         "type": "scatter3d",
         "x": [
          -0.6624397039413452
         ],
         "y": [
          0.14420296251773834
         ],
         "z": [
          -0.004928893875330687
         ]
        },
        {
         "hovertemplate": "color=times<br>0=%{x}<br>1=%{y}<br>2=%{z}<extra></extra>",
         "legendgroup": "times",
         "marker": {
          "color": "#FFA15A",
          "symbol": "circle"
         },
         "mode": "markers",
         "name": "times",
         "scene": "scene",
         "showlegend": true,
         "type": "scatter3d",
         "x": [
          0.2279891073703766
         ],
         "y": [
          0.6447364091873169
         ],
         "z": [
          -0.12715975940227509
         ]
        },
        {
         "hovertemplate": "color=summer<br>0=%{x}<br>1=%{y}<br>2=%{z}<extra></extra>",
         "legendgroup": "summer",
         "marker": {
          "color": "#19d3f3",
          "symbol": "circle"
         },
         "mode": "markers",
         "name": "summer",
         "scene": "scene",
         "showlegend": true,
         "type": "scatter3d",
         "x": [
          -0.2791976034641266
         ],
         "y": [
          0.47584399580955505
         ],
         "z": [
          -0.22887104749679565
         ]
        },
        {
         "hovertemplate": "color=moon<br>0=%{x}<br>1=%{y}<br>2=%{z}<extra></extra>",
         "legendgroup": "moon",
         "marker": {
          "color": "#FF6692",
          "symbol": "circle"
         },
         "mode": "markers",
         "name": "moon",
         "scene": "scene",
         "showlegend": true,
         "type": "scatter3d",
         "x": [
          -0.4025944173336029
         ],
         "y": [
          0.49006131291389465
         ],
         "z": [
          -0.12914913892745972
         ]
        },
        {
         "hovertemplate": "color=varys<br>0=%{x}<br>1=%{y}<br>2=%{z}<extra></extra>",
         "legendgroup": "varys",
         "marker": {
          "color": "#B6E880",
          "symbol": "circle"
         },
         "mode": "markers",
         "name": "varys",
         "scene": "scene",
         "showlegend": true,
         "type": "scatter3d",
         "x": [
          0.4824836850166321
         ],
         "y": [
          0.10131076723337173
         ],
         "z": [
          0.10841027647256851
         ]
        },
        {
         "hovertemplate": "color=shoulder<br>0=%{x}<br>1=%{y}<br>2=%{z}<extra></extra>",
         "legendgroup": "shoulder",
         "marker": {
          "color": "#FF97FF",
          "symbol": "circle"
         },
         "mode": "markers",
         "name": "shoulder",
         "scene": "scene",
         "showlegend": true,
         "type": "scatter3d",
         "x": [
          -0.5207907557487488
         ],
         "y": [
          0.2696569859981537
         ],
         "z": [
          0.47527968883514404
         ]
        },
        {
         "hovertemplate": "color=warm<br>0=%{x}<br>1=%{y}<br>2=%{z}<extra></extra>",
         "legendgroup": "warm",
         "marker": {
          "color": "#FECB52",
          "symbol": "circle"
         },
         "mode": "markers",
         "name": "warm",
         "scene": "scene",
         "showlegend": true,
         "type": "scatter3d",
         "x": [
          -0.40606868267059326
         ],
         "y": [
          0.32942336797714233
         ],
         "z": [
          0.262539267539978
         ]
        }
       ],
       "layout": {
        "legend": {
         "title": {
          "text": "color"
         },
         "tracegroupgap": 0
        },
        "margin": {
         "t": 60
        },
        "scene": {
         "domain": {
          "x": [
           0,
           1
          ],
          "y": [
           0,
           1
          ]
         },
         "xaxis": {
          "title": {
           "text": "0"
          }
         },
         "yaxis": {
          "title": {
           "text": "1"
          }
         },
         "zaxis": {
          "title": {
           "text": "2"
          }
         }
        },
        "template": {
         "data": {
          "bar": [
           {
            "error_x": {
             "color": "#2a3f5f"
            },
            "error_y": {
             "color": "#2a3f5f"
            },
            "marker": {
             "line": {
              "color": "#E5ECF6",
              "width": 0.5
             },
             "pattern": {
              "fillmode": "overlay",
              "size": 10,
              "solidity": 0.2
             }
            },
            "type": "bar"
           }
          ],
          "barpolar": [
           {
            "marker": {
             "line": {
              "color": "#E5ECF6",
              "width": 0.5
             },
             "pattern": {
              "fillmode": "overlay",
              "size": 10,
              "solidity": 0.2
             }
            },
            "type": "barpolar"
           }
          ],
          "carpet": [
           {
            "aaxis": {
             "endlinecolor": "#2a3f5f",
             "gridcolor": "white",
             "linecolor": "white",
             "minorgridcolor": "white",
             "startlinecolor": "#2a3f5f"
            },
            "baxis": {
             "endlinecolor": "#2a3f5f",
             "gridcolor": "white",
             "linecolor": "white",
             "minorgridcolor": "white",
             "startlinecolor": "#2a3f5f"
            },
            "type": "carpet"
           }
          ],
          "choropleth": [
           {
            "colorbar": {
             "outlinewidth": 0,
             "ticks": ""
            },
            "type": "choropleth"
           }
          ],
          "contour": [
           {
            "colorbar": {
             "outlinewidth": 0,
             "ticks": ""
            },
            "colorscale": [
             [
              0,
              "#0d0887"
             ],
             [
              0.1111111111111111,
              "#46039f"
             ],
             [
              0.2222222222222222,
              "#7201a8"
             ],
             [
              0.3333333333333333,
              "#9c179e"
             ],
             [
              0.4444444444444444,
              "#bd3786"
             ],
             [
              0.5555555555555556,
              "#d8576b"
             ],
             [
              0.6666666666666666,
              "#ed7953"
             ],
             [
              0.7777777777777778,
              "#fb9f3a"
             ],
             [
              0.8888888888888888,
              "#fdca26"
             ],
             [
              1,
              "#f0f921"
             ]
            ],
            "type": "contour"
           }
          ],
          "contourcarpet": [
           {
            "colorbar": {
             "outlinewidth": 0,
             "ticks": ""
            },
            "type": "contourcarpet"
           }
          ],
          "heatmap": [
           {
            "colorbar": {
             "outlinewidth": 0,
             "ticks": ""
            },
            "colorscale": [
             [
              0,
              "#0d0887"
             ],
             [
              0.1111111111111111,
              "#46039f"
             ],
             [
              0.2222222222222222,
              "#7201a8"
             ],
             [
              0.3333333333333333,
              "#9c179e"
             ],
             [
              0.4444444444444444,
              "#bd3786"
             ],
             [
              0.5555555555555556,
              "#d8576b"
             ],
             [
              0.6666666666666666,
              "#ed7953"
             ],
             [
              0.7777777777777778,
              "#fb9f3a"
             ],
             [
              0.8888888888888888,
              "#fdca26"
             ],
             [
              1,
              "#f0f921"
             ]
            ],
            "type": "heatmap"
           }
          ],
          "heatmapgl": [
           {
            "colorbar": {
             "outlinewidth": 0,
             "ticks": ""
            },
            "colorscale": [
             [
              0,
              "#0d0887"
             ],
             [
              0.1111111111111111,
              "#46039f"
             ],
             [
              0.2222222222222222,
              "#7201a8"
             ],
             [
              0.3333333333333333,
              "#9c179e"
             ],
             [
              0.4444444444444444,
              "#bd3786"
             ],
             [
              0.5555555555555556,
              "#d8576b"
             ],
             [
              0.6666666666666666,
              "#ed7953"
             ],
             [
              0.7777777777777778,
              "#fb9f3a"
             ],
             [
              0.8888888888888888,
              "#fdca26"
             ],
             [
              1,
              "#f0f921"
             ]
            ],
            "type": "heatmapgl"
           }
          ],
          "histogram": [
           {
            "marker": {
             "pattern": {
              "fillmode": "overlay",
              "size": 10,
              "solidity": 0.2
             }
            },
            "type": "histogram"
           }
          ],
          "histogram2d": [
           {
            "colorbar": {
             "outlinewidth": 0,
             "ticks": ""
            },
            "colorscale": [
             [
              0,
              "#0d0887"
             ],
             [
              0.1111111111111111,
              "#46039f"
             ],
             [
              0.2222222222222222,
              "#7201a8"
             ],
             [
              0.3333333333333333,
              "#9c179e"
             ],
             [
              0.4444444444444444,
              "#bd3786"
             ],
             [
              0.5555555555555556,
              "#d8576b"
             ],
             [
              0.6666666666666666,
              "#ed7953"
             ],
             [
              0.7777777777777778,
              "#fb9f3a"
             ],
             [
              0.8888888888888888,
              "#fdca26"
             ],
             [
              1,
              "#f0f921"
             ]
            ],
            "type": "histogram2d"
           }
          ],
          "histogram2dcontour": [
           {
            "colorbar": {
             "outlinewidth": 0,
             "ticks": ""
            },
            "colorscale": [
             [
              0,
              "#0d0887"
             ],
             [
              0.1111111111111111,
              "#46039f"
             ],
             [
              0.2222222222222222,
              "#7201a8"
             ],
             [
              0.3333333333333333,
              "#9c179e"
             ],
             [
              0.4444444444444444,
              "#bd3786"
             ],
             [
              0.5555555555555556,
              "#d8576b"
             ],
             [
              0.6666666666666666,
              "#ed7953"
             ],
             [
              0.7777777777777778,
              "#fb9f3a"
             ],
             [
              0.8888888888888888,
              "#fdca26"
             ],
             [
              1,
              "#f0f921"
             ]
            ],
            "type": "histogram2dcontour"
           }
          ],
          "mesh3d": [
           {
            "colorbar": {
             "outlinewidth": 0,
             "ticks": ""
            },
            "type": "mesh3d"
           }
          ],
          "parcoords": [
           {
            "line": {
             "colorbar": {
              "outlinewidth": 0,
              "ticks": ""
             }
            },
            "type": "parcoords"
           }
          ],
          "pie": [
           {
            "automargin": true,
            "type": "pie"
           }
          ],
          "scatter": [
           {
            "fillpattern": {
             "fillmode": "overlay",
             "size": 10,
             "solidity": 0.2
            },
            "type": "scatter"
           }
          ],
          "scatter3d": [
           {
            "line": {
             "colorbar": {
              "outlinewidth": 0,
              "ticks": ""
             }
            },
            "marker": {
             "colorbar": {
              "outlinewidth": 0,
              "ticks": ""
             }
            },
            "type": "scatter3d"
           }
          ],
          "scattercarpet": [
           {
            "marker": {
             "colorbar": {
              "outlinewidth": 0,
              "ticks": ""
             }
            },
            "type": "scattercarpet"
           }
          ],
          "scattergeo": [
           {
            "marker": {
             "colorbar": {
              "outlinewidth": 0,
              "ticks": ""
             }
            },
            "type": "scattergeo"
           }
          ],
          "scattergl": [
           {
            "marker": {
             "colorbar": {
              "outlinewidth": 0,
              "ticks": ""
             }
            },
            "type": "scattergl"
           }
          ],
          "scattermapbox": [
           {
            "marker": {
             "colorbar": {
              "outlinewidth": 0,
              "ticks": ""
             }
            },
            "type": "scattermapbox"
           }
          ],
          "scatterpolar": [
           {
            "marker": {
             "colorbar": {
              "outlinewidth": 0,
              "ticks": ""
             }
            },
            "type": "scatterpolar"
           }
          ],
          "scatterpolargl": [
           {
            "marker": {
             "colorbar": {
              "outlinewidth": 0,
              "ticks": ""
             }
            },
            "type": "scatterpolargl"
           }
          ],
          "scatterternary": [
           {
            "marker": {
             "colorbar": {
              "outlinewidth": 0,
              "ticks": ""
             }
            },
            "type": "scatterternary"
           }
          ],
          "surface": [
           {
            "colorbar": {
             "outlinewidth": 0,
             "ticks": ""
            },
            "colorscale": [
             [
              0,
              "#0d0887"
             ],
             [
              0.1111111111111111,
              "#46039f"
             ],
             [
              0.2222222222222222,
              "#7201a8"
             ],
             [
              0.3333333333333333,
              "#9c179e"
             ],
             [
              0.4444444444444444,
              "#bd3786"
             ],
             [
              0.5555555555555556,
              "#d8576b"
             ],
             [
              0.6666666666666666,
              "#ed7953"
             ],
             [
              0.7777777777777778,
              "#fb9f3a"
             ],
             [
              0.8888888888888888,
              "#fdca26"
             ],
             [
              1,
              "#f0f921"
             ]
            ],
            "type": "surface"
           }
          ],
          "table": [
           {
            "cells": {
             "fill": {
              "color": "#EBF0F8"
             },
             "line": {
              "color": "white"
             }
            },
            "header": {
             "fill": {
              "color": "#C8D4E3"
             },
             "line": {
              "color": "white"
             }
            },
            "type": "table"
           }
          ]
         },
         "layout": {
          "annotationdefaults": {
           "arrowcolor": "#2a3f5f",
           "arrowhead": 0,
           "arrowwidth": 1
          },
          "autotypenumbers": "strict",
          "coloraxis": {
           "colorbar": {
            "outlinewidth": 0,
            "ticks": ""
           }
          },
          "colorscale": {
           "diverging": [
            [
             0,
             "#8e0152"
            ],
            [
             0.1,
             "#c51b7d"
            ],
            [
             0.2,
             "#de77ae"
            ],
            [
             0.3,
             "#f1b6da"
            ],
            [
             0.4,
             "#fde0ef"
            ],
            [
             0.5,
             "#f7f7f7"
            ],
            [
             0.6,
             "#e6f5d0"
            ],
            [
             0.7,
             "#b8e186"
            ],
            [
             0.8,
             "#7fbc41"
            ],
            [
             0.9,
             "#4d9221"
            ],
            [
             1,
             "#276419"
            ]
           ],
           "sequential": [
            [
             0,
             "#0d0887"
            ],
            [
             0.1111111111111111,
             "#46039f"
            ],
            [
             0.2222222222222222,
             "#7201a8"
            ],
            [
             0.3333333333333333,
             "#9c179e"
            ],
            [
             0.4444444444444444,
             "#bd3786"
            ],
            [
             0.5555555555555556,
             "#d8576b"
            ],
            [
             0.6666666666666666,
             "#ed7953"
            ],
            [
             0.7777777777777778,
             "#fb9f3a"
            ],
            [
             0.8888888888888888,
             "#fdca26"
            ],
            [
             1,
             "#f0f921"
            ]
           ],
           "sequentialminus": [
            [
             0,
             "#0d0887"
            ],
            [
             0.1111111111111111,
             "#46039f"
            ],
            [
             0.2222222222222222,
             "#7201a8"
            ],
            [
             0.3333333333333333,
             "#9c179e"
            ],
            [
             0.4444444444444444,
             "#bd3786"
            ],
            [
             0.5555555555555556,
             "#d8576b"
            ],
            [
             0.6666666666666666,
             "#ed7953"
            ],
            [
             0.7777777777777778,
             "#fb9f3a"
            ],
            [
             0.8888888888888888,
             "#fdca26"
            ],
            [
             1,
             "#f0f921"
            ]
           ]
          },
          "colorway": [
           "#636efa",
           "#EF553B",
           "#00cc96",
           "#ab63fa",
           "#FFA15A",
           "#19d3f3",
           "#FF6692",
           "#B6E880",
           "#FF97FF",
           "#FECB52"
          ],
          "font": {
           "color": "#2a3f5f"
          },
          "geo": {
           "bgcolor": "white",
           "lakecolor": "white",
           "landcolor": "#E5ECF6",
           "showlakes": true,
           "showland": true,
           "subunitcolor": "white"
          },
          "hoverlabel": {
           "align": "left"
          },
          "hovermode": "closest",
          "mapbox": {
           "style": "light"
          },
          "paper_bgcolor": "white",
          "plot_bgcolor": "#E5ECF6",
          "polar": {
           "angularaxis": {
            "gridcolor": "white",
            "linecolor": "white",
            "ticks": ""
           },
           "bgcolor": "#E5ECF6",
           "radialaxis": {
            "gridcolor": "white",
            "linecolor": "white",
            "ticks": ""
           }
          },
          "scene": {
           "xaxis": {
            "backgroundcolor": "#E5ECF6",
            "gridcolor": "white",
            "gridwidth": 2,
            "linecolor": "white",
            "showbackground": true,
            "ticks": "",
            "zerolinecolor": "white"
           },
           "yaxis": {
            "backgroundcolor": "#E5ECF6",
            "gridcolor": "white",
            "gridwidth": 2,
            "linecolor": "white",
            "showbackground": true,
            "ticks": "",
            "zerolinecolor": "white"
           },
           "zaxis": {
            "backgroundcolor": "#E5ECF6",
            "gridcolor": "white",
            "gridwidth": 2,
            "linecolor": "white",
            "showbackground": true,
            "ticks": "",
            "zerolinecolor": "white"
           }
          },
          "shapedefaults": {
           "line": {
            "color": "#2a3f5f"
           }
          },
          "ternary": {
           "aaxis": {
            "gridcolor": "white",
            "linecolor": "white",
            "ticks": ""
           },
           "baxis": {
            "gridcolor": "white",
            "linecolor": "white",
            "ticks": ""
           },
           "bgcolor": "#E5ECF6",
           "caxis": {
            "gridcolor": "white",
            "linecolor": "white",
            "ticks": ""
           }
          },
          "title": {
           "x": 0.05
          },
          "xaxis": {
           "automargin": true,
           "gridcolor": "white",
           "linecolor": "white",
           "ticks": "",
           "title": {
            "standoff": 15
           },
           "zerolinecolor": "white",
           "zerolinewidth": 2
          },
          "yaxis": {
           "automargin": true,
           "gridcolor": "white",
           "linecolor": "white",
           "ticks": "",
           "title": {
            "standoff": 15
           },
           "zerolinecolor": "white",
           "zerolinewidth": 2
          }
         }
        }
       }
      }
     },
     "metadata": {},
     "output_type": "display_data"
    }
   ],
   "source": [
    "import plotly.express as px\n",
    "fig = px.scatter_3d(X[:500],x=0,y=1,z=2,color=y[:500])\n",
    "fig.show()"
   ]
  },
  {
   "cell_type": "code",
   "execution_count": null,
   "metadata": {},
   "outputs": [],
   "source": []
  }
 ],
 "metadata": {
  "kernelspec": {
   "display_name": "base",
   "language": "python",
   "name": "python3"
  },
  "language_info": {
   "codemirror_mode": {
    "name": "ipython",
    "version": 3
   },
   "file_extension": ".py",
   "mimetype": "text/x-python",
   "name": "python",
   "nbconvert_exporter": "python",
   "pygments_lexer": "ipython3",
   "version": "3.11.4"
  },
  "orig_nbformat": 4
 },
 "nbformat": 4,
 "nbformat_minor": 2
}
